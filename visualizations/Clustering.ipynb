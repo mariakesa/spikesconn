{
 "cells": [
  {
   "cell_type": "code",
   "execution_count": 1,
   "id": "0740da91",
   "metadata": {},
   "outputs": [],
   "source": [
    "import numpy as np\n",
    "from sklearn.cluster import AgglomerativeClustering\n",
    "import matplotlib.pyplot as plt"
   ]
  },
  {
   "cell_type": "code",
   "execution_count": 2,
   "id": "f9014b6a",
   "metadata": {},
   "outputs": [],
   "source": [
    "dat=np.load('psth_prototypes_arr_z.npy')"
   ]
  },
  {
   "cell_type": "code",
   "execution_count": 42,
   "id": "153d011b",
   "metadata": {},
   "outputs": [],
   "source": [
    "dat_lst=[]\n",
    "\n",
    "for j in range(0,10):\n",
    "    for i in range(0,10):\n",
    "        dat_lst.append(list(dat[j,i,:]))\n",
    "        \n",
    "dat_lst=np.array(dat_lst)\n",
    "#print(dat_lst.shape)"
   ]
  },
  {
   "cell_type": "code",
   "execution_count": 6,
   "id": "f946af4c",
   "metadata": {},
   "outputs": [
    {
     "data": {
      "text/plain": [
       "(10, 10, 26)"
      ]
     },
     "execution_count": 6,
     "metadata": {},
     "output_type": "execute_result"
    }
   ],
   "source": [
    "dat.shape"
   ]
  },
  {
   "cell_type": "code",
   "execution_count": 34,
   "id": "296e8129",
   "metadata": {},
   "outputs": [],
   "source": [
    "cl=AgglomerativeClustering(n_clusters=10).fit(dat_lst)"
   ]
  },
  {
   "cell_type": "code",
   "execution_count": 15,
   "id": "9d081551",
   "metadata": {},
   "outputs": [
    {
     "data": {
      "text/plain": [
       "{'affinity': 'euclidean',\n",
       " 'compute_distances': False,\n",
       " 'compute_full_tree': 'auto',\n",
       " 'connectivity': None,\n",
       " 'distance_threshold': None,\n",
       " 'linkage': 'ward',\n",
       " 'memory': None,\n",
       " 'n_clusters': 10}"
      ]
     },
     "execution_count": 15,
     "metadata": {},
     "output_type": "execute_result"
    }
   ],
   "source": [
    "cl.get_params()"
   ]
  },
  {
   "cell_type": "code",
   "execution_count": 16,
   "id": "b4d8b209",
   "metadata": {},
   "outputs": [],
   "source": [
    "from scipy.cluster.hierarchy import dendrogram"
   ]
  },
  {
   "cell_type": "code",
   "execution_count": 31,
   "id": "8abcdb40",
   "metadata": {
    "scrolled": false
   },
   "outputs": [
    {
     "ename": "ValueError",
     "evalue": "Exactly one of n_clusters and distance_threshold has to be set, and the other needs to be None.",
     "output_type": "error",
     "traceback": [
      "\u001b[0;31m---------------------------------------------------------------------------\u001b[0m",
      "\u001b[0;31mValueError\u001b[0m                                Traceback (most recent call last)",
      "\u001b[0;32m/tmp/ipykernel_9548/3404884597.py\u001b[0m in \u001b[0;36m<module>\u001b[0;34m\u001b[0m\n\u001b[1;32m     34\u001b[0m \u001b[0mmodel\u001b[0m \u001b[0;34m=\u001b[0m \u001b[0mAgglomerativeClustering\u001b[0m\u001b[0;34m(\u001b[0m\u001b[0mdistance_threshold\u001b[0m\u001b[0;34m=\u001b[0m\u001b[0;36m0\u001b[0m\u001b[0;34m,\u001b[0m \u001b[0mn_clusters\u001b[0m\u001b[0;34m=\u001b[0m\u001b[0;36m10\u001b[0m\u001b[0;34m)\u001b[0m\u001b[0;34m\u001b[0m\u001b[0;34m\u001b[0m\u001b[0m\n\u001b[1;32m     35\u001b[0m \u001b[0;34m\u001b[0m\u001b[0m\n\u001b[0;32m---> 36\u001b[0;31m \u001b[0mmodel\u001b[0m \u001b[0;34m=\u001b[0m \u001b[0mmodel\u001b[0m\u001b[0;34m.\u001b[0m\u001b[0mfit\u001b[0m\u001b[0;34m(\u001b[0m\u001b[0mX\u001b[0m\u001b[0;34m)\u001b[0m\u001b[0;34m\u001b[0m\u001b[0;34m\u001b[0m\u001b[0m\n\u001b[0m\u001b[1;32m     37\u001b[0m \u001b[0mplt\u001b[0m\u001b[0;34m.\u001b[0m\u001b[0mtitle\u001b[0m\u001b[0;34m(\u001b[0m\u001b[0;34m\"Hierarchical Clustering Dendrogram\"\u001b[0m\u001b[0;34m)\u001b[0m\u001b[0;34m\u001b[0m\u001b[0;34m\u001b[0m\u001b[0m\n\u001b[1;32m     38\u001b[0m \u001b[0;31m# plot the top three levels of the dendrogram\u001b[0m\u001b[0;34m\u001b[0m\u001b[0;34m\u001b[0m\u001b[0m\n",
      "\u001b[0;32m~/anaconda3/lib/python3.9/site-packages/sklearn/cluster/_agglomerative.py\u001b[0m in \u001b[0;36mfit\u001b[0;34m(self, X, y)\u001b[0m\n\u001b[1;32m    916\u001b[0m         \"\"\"\n\u001b[1;32m    917\u001b[0m         \u001b[0mX\u001b[0m \u001b[0;34m=\u001b[0m \u001b[0mself\u001b[0m\u001b[0;34m.\u001b[0m\u001b[0m_validate_data\u001b[0m\u001b[0;34m(\u001b[0m\u001b[0mX\u001b[0m\u001b[0;34m,\u001b[0m \u001b[0mensure_min_samples\u001b[0m\u001b[0;34m=\u001b[0m\u001b[0;36m2\u001b[0m\u001b[0;34m,\u001b[0m \u001b[0mestimator\u001b[0m\u001b[0;34m=\u001b[0m\u001b[0mself\u001b[0m\u001b[0;34m)\u001b[0m\u001b[0;34m\u001b[0m\u001b[0;34m\u001b[0m\u001b[0m\n\u001b[0;32m--> 918\u001b[0;31m         \u001b[0;32mreturn\u001b[0m \u001b[0mself\u001b[0m\u001b[0;34m.\u001b[0m\u001b[0m_fit\u001b[0m\u001b[0;34m(\u001b[0m\u001b[0mX\u001b[0m\u001b[0;34m)\u001b[0m\u001b[0;34m\u001b[0m\u001b[0;34m\u001b[0m\u001b[0m\n\u001b[0m\u001b[1;32m    919\u001b[0m \u001b[0;34m\u001b[0m\u001b[0m\n\u001b[1;32m    920\u001b[0m     \u001b[0;32mdef\u001b[0m \u001b[0m_fit\u001b[0m\u001b[0;34m(\u001b[0m\u001b[0mself\u001b[0m\u001b[0;34m,\u001b[0m \u001b[0mX\u001b[0m\u001b[0;34m)\u001b[0m\u001b[0;34m:\u001b[0m\u001b[0;34m\u001b[0m\u001b[0;34m\u001b[0m\u001b[0m\n",
      "\u001b[0;32m~/anaconda3/lib/python3.9/site-packages/sklearn/cluster/_agglomerative.py\u001b[0m in \u001b[0;36m_fit\u001b[0;34m(self, X)\u001b[0m\n\u001b[1;32m    941\u001b[0m \u001b[0;34m\u001b[0m\u001b[0m\n\u001b[1;32m    942\u001b[0m         \u001b[0;32mif\u001b[0m \u001b[0;32mnot\u001b[0m \u001b[0;34m(\u001b[0m\u001b[0;34m(\u001b[0m\u001b[0mself\u001b[0m\u001b[0;34m.\u001b[0m\u001b[0mn_clusters\u001b[0m \u001b[0;32mis\u001b[0m \u001b[0;32mNone\u001b[0m\u001b[0;34m)\u001b[0m \u001b[0;34m^\u001b[0m \u001b[0;34m(\u001b[0m\u001b[0mself\u001b[0m\u001b[0;34m.\u001b[0m\u001b[0mdistance_threshold\u001b[0m \u001b[0;32mis\u001b[0m \u001b[0;32mNone\u001b[0m\u001b[0;34m)\u001b[0m\u001b[0;34m)\u001b[0m\u001b[0;34m:\u001b[0m\u001b[0;34m\u001b[0m\u001b[0;34m\u001b[0m\u001b[0m\n\u001b[0;32m--> 943\u001b[0;31m             raise ValueError(\n\u001b[0m\u001b[1;32m    944\u001b[0m                 \u001b[0;34m\"Exactly one of n_clusters and \"\u001b[0m\u001b[0;34m\u001b[0m\u001b[0;34m\u001b[0m\u001b[0m\n\u001b[1;32m    945\u001b[0m                 \u001b[0;34m\"distance_threshold has to be set, and the other \"\u001b[0m\u001b[0;34m\u001b[0m\u001b[0;34m\u001b[0m\u001b[0m\n",
      "\u001b[0;31mValueError\u001b[0m: Exactly one of n_clusters and distance_threshold has to be set, and the other needs to be None."
     ]
    }
   ],
   "source": [
    "from scipy.cluster.hierarchy import dendrogram\n",
    "from sklearn.datasets import load_iris\n",
    "from sklearn.cluster import AgglomerativeClustering\n",
    "\n",
    "\n",
    "def plot_dendrogram(model, **kwargs):\n",
    "    # Create linkage matrix and then plot the dendrogram\n",
    "\n",
    "    # create the counts of samples under each node\n",
    "    counts = np.zeros(model.children_.shape[0])\n",
    "    n_samples = len(model.labels_)\n",
    "    for i, merge in enumerate(model.children_):\n",
    "        current_count = 0\n",
    "        for child_idx in merge:\n",
    "            if child_idx < n_samples:\n",
    "                current_count += 1  # leaf node\n",
    "            else:\n",
    "                current_count += counts[child_idx - n_samples]\n",
    "        counts[i] = current_count\n",
    "\n",
    "    linkage_matrix = np.column_stack(\n",
    "        [model.children_, model.distances_, counts]\n",
    "    ).astype(float)\n",
    "    \n",
    "    print(linkage_matrix.shape)\n",
    "\n",
    "    # Plot the corresponding dendrogram\n",
    "    dendrogram(linkage_matrix, **kwargs)\n",
    "\n",
    "\n",
    "X = dat_lst\n",
    "\n",
    "# setting distance_threshold=0 ensures we compute the full tree.\n",
    "model = AgglomerativeClustering(distance_threshold=0, n_clusters=10)\n",
    "\n",
    "model = model.fit(X)\n",
    "plt.title(\"Hierarchical Clustering Dendrogram\")\n",
    "# plot the top three levels of the dendrogram\n",
    "plot_dendrogram(model, truncate_mode=\"level\", p=3)\n",
    "plt.xlabel(\"Number of points in node (or index of point if no parenthesis).\")\n",
    "plt.show()"
   ]
  },
  {
   "cell_type": "code",
   "execution_count": 54,
   "id": "03c0b152",
   "metadata": {},
   "outputs": [
    {
     "name": "stdout",
     "output_type": "stream",
     "text": [
      "(100, 26)\n"
     ]
    }
   ],
   "source": [
    "print(dat_lst.shape)"
   ]
  },
  {
   "cell_type": "code",
   "execution_count": 106,
   "id": "a73ed5a6",
   "metadata": {},
   "outputs": [
    {
     "data": {
      "image/png": "[encoded data removed]",
      "text/plain": [
       "<Figure size 640x480 with 1 Axes>"
      ]
     },
     "metadata": {},
     "output_type": "display_data"
    }
   ],
   "source": [
    "clusters=cl.labels_\n",
    "inds=np.where(cl.labels_==6)\n",
    "for j in inds:\n",
    "    plt.plot(np.arange(-0.5,2.1,0.1),dat_lst[j,:].T)\n",
    "    plt.show()"
   ]
  },
  {
   "cell_type": "code",
   "execution_count": null,
   "id": "259550fc",
   "metadata": {},
   "outputs": [],
   "source": []
  },
  {
   "cell_type": "code",
   "execution_count": 29,
   "id": "66fb1482",
   "metadata": {
    "scrolled": true
   },
   "outputs": [
    {
     "data": {
      "text/plain": [
       "array([87, 86, 58, 88, 97, 55, 85, 57, 89, 93, 60, 95, 82, 28, 79, 54, 99,\n",
       "       56, 67, 59, 78, 53, 76, 52, 50, 81, 73, 43, 91, 92, 96, 27, 72, 77,\n",
       "       64, 83, 65, 51, 90, 25, 98, 63, 45, 44, 69, 70, 61, 66, 13, 62, 94,\n",
       "       30, 84, 75, 80, 74, 29, 39, 68, 71, 21, 49, 48, 37, 14, 31, 35, 41,\n",
       "       36, 38, 34, 18, 47, 46, 32, 23, 26, 33, 16, 40, 19, 24, 22, 10, 42,\n",
       "       20, 17, 12, 15,  9, 11,  8,  7,  3,  4,  6,  1,  5,  2,  0])"
      ]
     },
     "execution_count": 29,
     "metadata": {},
     "output_type": "execute_result"
    }
   ],
   "source": [
    "model.labels_"
   ]
  },
  {
   "cell_type": "code",
   "execution_count": 37,
   "id": "b4b80fa4",
   "metadata": {},
   "outputs": [
    {
     "name": "stdout",
     "output_type": "stream",
     "text": [
      "100\n"
     ]
    }
   ],
   "source": [
    "print(len(dat_lst))"
   ]
  },
  {
   "cell_type": "code",
   "execution_count": 41,
   "id": "db033e74",
   "metadata": {},
   "outputs": [
    {
     "data": {
      "application/vnd.plotly.v1+json": {
       "config": {
        "plotlyServerURL": "https://plot.ly"
       },
       "data": [
        {
         "hoverinfo": "y+name",
         "line": {
          "width": 0.5
         },
         "marker": {
          "color": "rgb(0,116,217)"
         },
         "mode": "lines",
         "name": "Col Cluster 0",
         "type": "scatter",
         "x": [
          5,
          5,
          107.890625,
          107.890625
         ],
         "xaxis": "x3",
         "y": [
          0,
          1.727034734585987,
          1.727034734585987,
          1.3184347847229398
         ],
         "yaxis": "y3"
        },
        {
         "hoverinfo": "y+name",
         "line": {
          "width": 0.5
         },
         "marker": {
          "color": "rgb(0,116,217)"
         },
         "mode": "lines",
         "name": "Col Cluster 1",
         "type": "scatter",
         "x": [
          15,
          15,
          30,
          30
         ],
         "xaxis": "x3",
         "y": [
          0,
          0.4857125523356192,
          0.4857125523356192,
          0.38249079450840967
         ],
         "yaxis": "y3"
        },
        {
         "hoverinfo": "y+name",
         "line": {
          "width": 0.5
         },
         "marker": {
          "color": "rgb(0,116,217)"
         },
         "mode": "lines",
         "name": "Col Cluster 2",
         "type": "scatter",
         "x": [
          22.5,
          22.5,
          60,
          60
         ],
         "xaxis": "x3",
         "y": [
          0.4857125523356192,
          0.6591679840526011,
          0.6591679840526011,
          0.6189257617474035
         ],
         "yaxis": "y3"
        },
        {
         "hoverinfo": "y+name",
         "line": {
          "width": 0.5
         },
         "marker": {
          "color": "rgb(0,116,217)"
         },
         "mode": "lines",
         "name": "Col Cluster 3",
         "type": "scatter",
         "x": [
          25,
          25,
          35,
          35
         ],
         "xaxis": "x3",
         "y": [
          0,
          0.38249079450840967,
          0.38249079450840967,
          0
         ],
         "yaxis": "y3"
        },
        {
         "hoverinfo": "y+name",
         "line": {
          "width": 0.5
         },
         "marker": {
          "color": "rgb(0,116,217)"
         },
         "mode": "lines",
         "name": "Col Cluster 4",
         "type": "scatter",
         "x": [
          41.25,
          41.25,
          174.53125,
          174.53125
         ],
         "xaxis": "x3",
         "y": [
          0.6591679840526011,
          1.3184347847229398,
          1.3184347847229398,
          1.0948054363497142
         ],
         "yaxis": "y3"
        },
        {
         "hoverinfo": "y+name",
         "line": {
          "width": 0.5
         },
         "marker": {
          "color": "rgb(0,116,217)"
         },
         "mode": "lines",
         "name": "Col Cluster 5",
         "type": "scatter",
         "x": [
          45,
          45,
          75,
          75
         ],
         "xaxis": "x3",
         "y": [
          0,
          0.6189257617474035,
          0.6189257617474035,
          0.49508875744467035
         ],
         "yaxis": "y3"
        },
        {
         "hoverinfo": "y+name",
         "line": {
          "width": 0.5
         },
         "marker": {
          "color": "rgb(0,116,217)"
         },
         "mode": "lines",
         "name": "Col Cluster 6",
         "type": "scatter",
         "x": [
          55,
          55,
          65,
          65
         ],
         "xaxis": "x3",
         "y": [
          0,
          0.3013388213195323,
          0.3013388213195323,
          0
         ],
         "yaxis": "y3"
        },
        {
         "hoverinfo": "y+name",
         "line": {
          "width": 0.5
         },
         "marker": {
          "color": "rgb(0,116,217)"
         },
         "mode": "lines",
         "name": "Col Cluster 7",
         "type": "scatter",
         "x": [
          60,
          60,
          90,
          90
         ],
         "xaxis": "x3",
         "y": [
          0.3013388213195323,
          0.49508875744467035,
          0.49508875744467035,
          0.3419912603302087
         ],
         "yaxis": "y3"
        },
        {
         "hoverinfo": "y+name",
         "line": {
          "width": 0.5
         },
         "marker": {
          "color": "rgb(0,116,217)"
         },
         "mode": "lines",
         "name": "Col Cluster 8",
         "type": "scatter",
         "x": [
          75,
          75,
          85,
          85
         ],
         "xaxis": "x3",
         "y": [
          0,
          0.2512749709638351,
          0.2512749709638351,
          0
         ],
         "yaxis": "y3"
        },
        {
         "hoverinfo": "y+name",
         "line": {
          "width": 0.5
         },
         "marker": {
          "color": "rgb(0,116,217)"
         },
         "mode": "lines",
         "name": "Col Cluster 9",
         "type": "scatter",
         "x": [
          80,
          80,
          100,
          100
         ],
         "xaxis": "x3",
         "y": [
          0.2512749709638351,
          0.3419912603302087,
          0.3419912603302087,
          0.28985460314467576
         ],
         "yaxis": "y3"
        },
        {
         "hoverinfo": "y+name",
         "line": {
          "width": 0.5
         },
         "marker": {
          "color": "rgb(0,116,217)"
         },
         "mode": "lines",
         "name": "Col Cluster 10",
         "type": "scatter",
         "x": [
          95,
          95,
          105,
          105
         ],
         "xaxis": "x3",
         "y": [
          0,
          0.28985460314467576,
          0.28985460314467576,
          0
         ],
         "yaxis": "y3"
        },
        {
         "hoverinfo": "y+name",
         "line": {
          "width": 0.5
         },
         "marker": {
          "color": "rgb(0,116,217)"
         },
         "mode": "lines",
         "name": "Col Cluster 11",
         "type": "scatter",
         "x": [
          115,
          115,
          125,
          125
         ],
         "xaxis": "x3",
         "y": [
          0,
          0.5653736675979898,
          0.5653736675979898,
          0
         ],
         "yaxis": "y3"
        },
        {
         "hoverinfo": "y+name",
         "line": {
          "width": 0.5
         },
         "marker": {
          "color": "rgb(0,116,217)"
         },
         "mode": "lines",
         "name": "Col Cluster 12",
         "type": "scatter",
         "x": [
          120,
          120,
          144.375,
          144.375
         ],
         "xaxis": "x3",
         "y": [
          0.5653736675979898,
          0.7919208948775466,
          0.7919208948775466,
          0.6694625219613086
         ],
         "yaxis": "y3"
        },
        {
         "hoverinfo": "y+name",
         "line": {
          "width": 0.5
         },
         "marker": {
          "color": "rgb(0,116,217)"
         },
         "mode": "lines",
         "name": "Col Cluster 13",
         "type": "scatter",
         "x": [
          132.1875,
          132.1875,
          216.875,
          216.875
         ],
         "xaxis": "x3",
         "y": [
          0.7919208948775466,
          1.0948054363497142,
          1.0948054363497142,
          0.8122435009726945
         ],
         "yaxis": "y3"
        },
        {
         "hoverinfo": "y+name",
         "line": {
          "width": 0.5
         },
         "marker": {
          "color": "rgb(0,116,217)"
         },
         "mode": "lines",
         "name": "Col Cluster 14",
         "type": "scatter",
         "x": [
          135,
          135,
          153.75,
          153.75
         ],
         "xaxis": "x3",
         "y": [
          0,
          0.6694625219613086,
          0.6694625219613086,
          0.639317214769341
         ],
         "yaxis": "y3"
        },
        {
         "hoverinfo": "y+name",
         "line": {
          "width": 0.5
         },
         "marker": {
          "color": "rgb(0,116,217)"
         },
         "mode": "lines",
         "name": "Col Cluster 15",
         "type": "scatter",
         "x": [
          145,
          145,
          162.5,
          162.5
         ],
         "xaxis": "x3",
         "y": [
          0,
          0.639317214769341,
          0.639317214769341,
          0.28785626201016107
         ],
         "yaxis": "y3"
        },
        {
         "hoverinfo": "y+name",
         "line": {
          "width": 0.5
         },
         "marker": {
          "color": "rgb(0,116,217)"
         },
         "mode": "lines",
         "name": "Col Cluster 16",
         "type": "scatter",
         "x": [
          155,
          155,
          170,
          170
         ],
         "xaxis": "x3",
         "y": [
          0,
          0.28785626201016107,
          0.28785626201016107,
          0.25339819154643334
         ],
         "yaxis": "y3"
        },
        {
         "hoverinfo": "y+name",
         "line": {
          "width": 0.5
         },
         "marker": {
          "color": "rgb(0,116,217)"
         },
         "mode": "lines",
         "name": "Col Cluster 17",
         "type": "scatter",
         "x": [
          165,
          165,
          175,
          175
         ],
         "xaxis": "x3",
         "y": [
          0,
          0.25339819154643334,
          0.25339819154643334,
          0
         ],
         "yaxis": "y3"
        },
        {
         "hoverinfo": "y+name",
         "line": {
          "width": 0.5
         },
         "marker": {
          "color": "rgb(0,116,217)"
         },
         "mode": "lines",
         "name": "Col Cluster 18",
         "type": "scatter",
         "x": [
          185,
          185,
          195,
          195
         ],
         "xaxis": "x3",
         "y": [
          0,
          0.43714134605771027,
          0.43714134605771027,
          0
         ],
         "yaxis": "y3"
        },
        {
         "hoverinfo": "y+name",
         "line": {
          "width": 0.5
         },
         "marker": {
          "color": "rgb(0,116,217)"
         },
         "mode": "lines",
         "name": "Col Cluster 19",
         "type": "scatter",
         "x": [
          190,
          190,
          210,
          210
         ],
         "xaxis": "x3",
         "y": [
          0.43714134605771027,
          0.6494986069699935,
          0.6494986069699935,
          0.5310091471450782
         ],
         "yaxis": "y3"
        },
        {
         "hoverinfo": "y+name",
         "line": {
          "width": 0.5
         },
         "marker": {
          "color": "rgb(0,116,217)"
         },
         "mode": "lines",
         "name": "Col Cluster 20",
         "type": "scatter",
         "x": [
          200,
          200,
          233.75,
          233.75
         ],
         "xaxis": "x3",
         "y": [
          0.6494986069699935,
          0.8122435009726945,
          0.8122435009726945,
          0.6611090176327403
         ],
         "yaxis": "y3"
        },
        {
         "hoverinfo": "y+name",
         "line": {
          "width": 0.5
         },
         "marker": {
          "color": "rgb(0,116,217)"
         },
         "mode": "lines",
         "name": "Col Cluster 21",
         "type": "scatter",
         "x": [
          205,
          205,
          215,
          215
         ],
         "xaxis": "x3",
         "y": [
          0,
          0.5310091471450782,
          0.5310091471450782,
          0
         ],
         "yaxis": "y3"
        },
        {
         "hoverinfo": "y+name",
         "line": {
          "width": 0.5
         },
         "marker": {
          "color": "rgb(0,116,217)"
         },
         "mode": "lines",
         "name": "Col Cluster 22",
         "type": "scatter",
         "x": [
          225,
          225,
          242.5,
          242.5
         ],
         "xaxis": "x3",
         "y": [
          0,
          0.6611090176327403,
          0.6611090176327403,
          0.36910366676393
         ],
         "yaxis": "y3"
        },
        {
         "hoverinfo": "y+name",
         "line": {
          "width": 0.5
         },
         "marker": {
          "color": "rgb(0,116,217)"
         },
         "mode": "lines",
         "name": "Col Cluster 23",
         "type": "scatter",
         "x": [
          235,
          235,
          250,
          250
         ],
         "xaxis": "x3",
         "y": [
          0,
          0.36910366676393,
          0.36910366676393,
          0.3518595120200046
         ],
         "yaxis": "y3"
        },
        {
         "hoverinfo": "y+name",
         "line": {
          "width": 0.5
         },
         "marker": {
          "color": "rgb(0,116,217)"
         },
         "mode": "lines",
         "name": "Col Cluster 24",
         "type": "scatter",
         "x": [
          245,
          245,
          255,
          255
         ],
         "xaxis": "x3",
         "y": [
          0,
          0.3518595120200046,
          0.3518595120200046,
          0
         ],
         "yaxis": "y3"
        },
        {
         "hoverinfo": "x+name",
         "line": {
          "width": 0.5
         },
         "marker": {
          "color": "rgb(0,116,217)"
         },
         "mode": "lines",
         "name": "Row Cluster 0",
         "type": "scatter",
         "x": [
          0,
          -0.09077409539228005,
          -0.09077409539228005,
          0
         ],
         "xaxis": "x9",
         "y": [
          15,
          15,
          25,
          25
         ],
         "yaxis": "y9"
        },
        {
         "hoverinfo": "x+name",
         "line": {
          "width": 0.5
         },
         "marker": {
          "color": "rgb(0,116,217)"
         },
         "mode": "lines",
         "name": "Row Cluster 1",
         "type": "scatter",
         "x": [
          0,
          -0.12661104546368052,
          -0.12661104546368052,
          0
         ],
         "xaxis": "x9",
         "y": [
          985,
          985,
          995,
          995
         ],
         "yaxis": "y9"
        },
        {
         "hoverinfo": "x+name",
         "line": {
          "width": 0.5
         },
         "marker": {
          "color": "rgb(0,116,217)"
         },
         "mode": "lines",
         "name": "Row Cluster 2",
         "type": "scatter",
         "x": [
          -0.10164771656003695,
          -0.20036375264334363,
          -0.20036375264334363,
          -0.12661104546368052
         ],
         "xaxis": "x9",
         "y": [
          970,
          970,
          990,
          990
         ],
         "yaxis": "y9"
        },
        {
         "hoverinfo": "x+name",
         "line": {
          "width": 0.5
         },
         "marker": {
          "color": "rgb(0,116,217)"
         },
         "mode": "lines",
         "name": "Row Cluster 3",
         "type": "scatter",
         "x": [
          0,
          -0.10164771656003695,
          -0.10164771656003695,
          0
         ],
         "xaxis": "x9",
         "y": [
          965,
          965,
          975,
          975
         ],
         "yaxis": "y9"
        },
        {
         "hoverinfo": "x+name",
         "line": {
          "width": 0.5
         },
         "marker": {
          "color": "rgb(0,116,217)"
         },
         "mode": "lines",
         "name": "Row Cluster 4",
         "type": "scatter",
         "x": [
          -0.08583222336888967,
          -0.3260643233518229,
          -0.3260643233518229,
          -0.20036375264334363
         ],
         "xaxis": "x9",
         "y": [
          950,
          950,
          980,
          980
         ],
         "yaxis": "y9"
        },
        {
         "hoverinfo": "x+name",
         "line": {
          "width": 0.5
         },
         "marker": {
          "color": "rgb(0,116,217)"
         },
         "mode": "lines",
         "name": "Row Cluster 5",
         "type": "scatter",
         "x": [
          0,
          -0.08583222336888967,
          -0.08583222336888967,
          0
         ],
         "xaxis": "x9",
         "y": [
          945,
          945,
          955,
          955
         ],
         "yaxis": "y9"
        },
        {
         "hoverinfo": "x+name",
         "line": {
          "width": 0.5
         },
         "marker": {
          "color": "rgb(0,116,217)"
         },
         "mode": "lines",
         "name": "Row Cluster 6",
         "type": "scatter",
         "x": [
          0,
          -0.1173371430058255,
          -0.1173371430058255,
          0
         ],
         "xaxis": "x9",
         "y": [
          925,
          925,
          935,
          935
         ],
         "yaxis": "y9"
        },
        {
         "hoverinfo": "x+name",
         "line": {
          "width": 0.5
         },
         "marker": {
          "color": "rgb(0,116,217)"
         },
         "mode": "lines",
         "name": "Row Cluster 7",
         "type": "scatter",
         "x": [
          -0.1886974815671882,
          -0.5077787252095208,
          -0.5077787252095208,
          -0.3260643233518229
         ],
         "xaxis": "x9",
         "y": [
          920,
          920,
          965,
          965
         ],
         "yaxis": "y9"
        },
        {
         "hoverinfo": "x+name",
         "line": {
          "width": 0.5
         },
         "marker": {
          "color": "rgb(0,116,217)"
         },
         "mode": "lines",
         "name": "Row Cluster 8",
         "type": "scatter",
         "x": [
          -0.07733538308452466,
          -0.1886974815671882,
          -0.1886974815671882,
          -0.1173371430058255
         ],
         "xaxis": "x9",
         "y": [
          910,
          910,
          930,
          930
         ],
         "yaxis": "y9"
        },
        {
         "hoverinfo": "x+name",
         "line": {
          "width": 0.5
         },
         "marker": {
          "color": "rgb(0,116,217)"
         },
         "mode": "lines",
         "name": "Row Cluster 9",
         "type": "scatter",
         "x": [
          0,
          -0.07733538308452466,
          -0.07733538308452466,
          0
         ],
         "xaxis": "x9",
         "y": [
          905,
          905,
          915,
          915
         ],
         "yaxis": "y9"
        },
        {
         "hoverinfo": "x+name",
         "line": {
          "width": 0.5
         },
         "marker": {
          "color": "rgb(0,116,217)"
         },
         "mode": "lines",
         "name": "Row Cluster 10",
         "type": "scatter",
         "x": [
          0,
          -0.12724524177689114,
          -0.12724524177689114,
          0
         ],
         "xaxis": "x9",
         "y": [
          885,
          885,
          895,
          895
         ],
         "yaxis": "y9"
        },
        {
         "hoverinfo": "x+name",
         "line": {
          "width": 0.5
         },
         "marker": {
          "color": "rgb(0,116,217)"
         },
         "mode": "lines",
         "name": "Row Cluster 11",
         "type": "scatter",
         "x": [
          0,
          -0.17699795237058674,
          -0.17699795237058674,
          -0.12724524177689114
         ],
         "xaxis": "x9",
         "y": [
          875,
          875,
          890,
          890
         ],
         "yaxis": "y9"
        },
        {
         "hoverinfo": "x+name",
         "line": {
          "width": 0.5
         },
         "marker": {
          "color": "rgb(0,116,217)"
         },
         "mode": "lines",
         "name": "Row Cluster 12",
         "type": "scatter",
         "x": [
          -0.10547458896614047,
          -0.27654688466436544,
          -0.27654688466436544,
          -0.17699795237058674
         ],
         "xaxis": "x9",
         "y": [
          860,
          860,
          882.5,
          882.5
         ],
         "yaxis": "y9"
        },
        {
         "hoverinfo": "x+name",
         "line": {
          "width": 0.5
         },
         "marker": {
          "color": "rgb(0,116,217)"
         },
         "mode": "lines",
         "name": "Row Cluster 13",
         "type": "scatter",
         "x": [
          0,
          -0.10547458896614047,
          -0.10547458896614047,
          0
         ],
         "xaxis": "x9",
         "y": [
          855,
          855,
          865,
          865
         ],
         "yaxis": "y9"
        },
        {
         "hoverinfo": "x+name",
         "line": {
          "width": 0.5
         },
         "marker": {
          "color": "rgb(0,116,217)"
         },
         "mode": "lines",
         "name": "Row Cluster 14",
         "type": "scatter",
         "x": [
          -0.4118524671665938,
          -0.5846538092128849,
          -0.5846538092128849,
          -0.5077787252095208
         ],
         "xaxis": "x9",
         "y": [
          850.625,
          850.625,
          942.5,
          942.5
         ],
         "yaxis": "y9"
        },
        {
         "hoverinfo": "x+name",
         "line": {
          "width": 0.5
         },
         "marker": {
          "color": "rgb(0,116,217)"
         },
         "mode": "lines",
         "name": "Row Cluster 15",
         "type": "scatter",
         "x": [
          0,
          -0.10532571194453196,
          -0.10532571194453196,
          0
         ],
         "xaxis": "x9",
         "y": [
          835,
          835,
          845,
          845
         ],
         "yaxis": "y9"
        },
        {
         "hoverinfo": "x+name",
         "line": {
          "width": 0.5
         },
         "marker": {
          "color": "rgb(0,116,217)"
         },
         "mode": "lines",
         "name": "Row Cluster 16",
         "type": "scatter",
         "x": [
          -0.19200712340923148,
          -0.4118524671665938,
          -0.4118524671665938,
          -0.27654688466436544
         ],
         "xaxis": "x9",
         "y": [
          830,
          830,
          871.25,
          871.25
         ],
         "yaxis": "y9"
        },
        {
         "hoverinfo": "x+name",
         "line": {
          "width": 0.5
         },
         "marker": {
          "color": "rgb(0,116,217)"
         },
         "mode": "lines",
         "name": "Row Cluster 17",
         "type": "scatter",
         "x": [
          -0.09686531088599172,
          -0.19200712340923148,
          -0.19200712340923148,
          -0.10532571194453196
         ],
         "xaxis": "x9",
         "y": [
          820,
          820,
          840,
          840
         ],
         "yaxis": "y9"
        },
        {
         "hoverinfo": "x+name",
         "line": {
          "width": 0.5
         },
         "marker": {
          "color": "rgb(0,116,217)"
         },
         "mode": "lines",
         "name": "Row Cluster 18",
         "type": "scatter",
         "x": [
          0,
          -0.09686531088599172,
          -0.09686531088599172,
          0
         ],
         "xaxis": "x9",
         "y": [
          815,
          815,
          825,
          825
         ],
         "yaxis": "y9"
        },
        {
         "hoverinfo": "x+name",
         "line": {
          "width": 0.5
         },
         "marker": {
          "color": "rgb(0,116,217)"
         },
         "mode": "lines",
         "name": "Row Cluster 19",
         "type": "scatter",
         "x": [
          0,
          -0.16078120712218247,
          -0.16078120712218247,
          0
         ],
         "xaxis": "x9",
         "y": [
          795,
          795,
          805,
          805
         ],
         "yaxis": "y9"
        },
        {
         "hoverinfo": "x+name",
         "line": {
          "width": 0.5
         },
         "marker": {
          "color": "rgb(0,116,217)"
         },
         "mode": "lines",
         "name": "Row Cluster 20",
         "type": "scatter",
         "x": [
          -0.12470833408229808,
          -0.2678023433458544,
          -0.2678023433458544,
          -0.16078120712218247
         ],
         "xaxis": "x9",
         "y": [
          780,
          780,
          800,
          800
         ],
         "yaxis": "y9"
        },
        {
         "hoverinfo": "x+name",
         "line": {
          "width": 0.5
         },
         "marker": {
          "color": "rgb(0,116,217)"
         },
         "mode": "lines",
         "name": "Row Cluster 21",
         "type": "scatter",
         "x": [
          0,
          -0.12470833408229808,
          -0.12470833408229808,
          0
         ],
         "xaxis": "x9",
         "y": [
          775,
          775,
          785,
          785
         ],
         "yaxis": "y9"
        },
        {
         "hoverinfo": "x+name",
         "line": {
          "width": 0.5
         },
         "marker": {
          "color": "rgb(0,116,217)"
         },
         "mode": "lines",
         "name": "Row Cluster 22",
         "type": "scatter",
         "x": [
          -0.4703407433190354,
          -0.714729468940475,
          -0.714729468940475,
          -0.5846538092128849
         ],
         "xaxis": "x9",
         "y": [
          770,
          770,
          896.5625,
          896.5625
         ],
         "yaxis": "y9"
        },
        {
         "hoverinfo": "x+name",
         "line": {
          "width": 0.5
         },
         "marker": {
          "color": "rgb(0,116,217)"
         },
         "mode": "lines",
         "name": "Row Cluster 23",
         "type": "scatter",
         "x": [
          0,
          -0.17787055857712955,
          -0.17787055857712955,
          0
         ],
         "xaxis": "x9",
         "y": [
          755,
          755,
          765,
          765
         ],
         "yaxis": "y9"
        },
        {
         "hoverinfo": "x+name",
         "line": {
          "width": 0.5
         },
         "marker": {
          "color": "rgb(0,116,217)"
         },
         "mode": "lines",
         "name": "Row Cluster 24",
         "type": "scatter",
         "x": [
          -0.2541055491561725,
          -0.4703407433190354,
          -0.4703407433190354,
          -0.2678023433458544
         ],
         "xaxis": "x9",
         "y": [
          750,
          750,
          790,
          790
         ],
         "yaxis": "y9"
        },
        {
         "hoverinfo": "x+name",
         "line": {
          "width": 0.5
         },
         "marker": {
          "color": "rgb(0,116,217)"
         },
         "mode": "lines",
         "name": "Row Cluster 25",
         "type": "scatter",
         "x": [
          -0.11266487605481859,
          -0.2541055491561725,
          -0.2541055491561725,
          -0.17787055857712955
         ],
         "xaxis": "x9",
         "y": [
          740,
          740,
          760,
          760
         ],
         "yaxis": "y9"
        },
        {
         "hoverinfo": "x+name",
         "line": {
          "width": 0.5
         },
         "marker": {
          "color": "rgb(0,116,217)"
         },
         "mode": "lines",
         "name": "Row Cluster 26",
         "type": "scatter",
         "x": [
          0,
          -0.11266487605481859,
          -0.11266487605481859,
          0
         ],
         "xaxis": "x9",
         "y": [
          735,
          735,
          745,
          745
         ],
         "yaxis": "y9"
        },
        {
         "hoverinfo": "x+name",
         "line": {
          "width": 0.5
         },
         "marker": {
          "color": "rgb(0,116,217)"
         },
         "mode": "lines",
         "name": "Row Cluster 27",
         "type": "scatter",
         "x": [
          0,
          -0.15209042333808226,
          -0.15209042333808226,
          0
         ],
         "xaxis": "x9",
         "y": [
          715,
          715,
          725,
          725
         ],
         "yaxis": "y9"
        },
        {
         "hoverinfo": "x+name",
         "line": {
          "width": 0.5
         },
         "marker": {
          "color": "rgb(0,116,217)"
         },
         "mode": "lines",
         "name": "Row Cluster 28",
         "type": "scatter",
         "x": [
          -0.15027685772480254,
          -0.21387425397349719,
          -0.21387425397349719,
          -0.15209042333808226
         ],
         "xaxis": "x9",
         "y": [
          700,
          700,
          720,
          720
         ],
         "yaxis": "y9"
        },
        {
         "hoverinfo": "x+name",
         "line": {
          "width": 0.5
         },
         "marker": {
          "color": "rgb(0,116,217)"
         },
         "mode": "lines",
         "name": "Row Cluster 29",
         "type": "scatter",
         "x": [
          0,
          -0.15027685772480254,
          -0.15027685772480254,
          0
         ],
         "xaxis": "x9",
         "y": [
          695,
          695,
          705,
          705
         ],
         "yaxis": "y9"
        },
        {
         "hoverinfo": "x+name",
         "line": {
          "width": 0.5
         },
         "marker": {
          "color": "rgb(0,116,217)"
         },
         "mode": "lines",
         "name": "Row Cluster 30",
         "type": "scatter",
         "x": [
          -0.1511380446539979,
          -0.42724348529121053,
          -0.42724348529121053,
          -0.21387425397349719
         ],
         "xaxis": "x9",
         "y": [
          680,
          680,
          710,
          710
         ],
         "yaxis": "y9"
        },
        {
         "hoverinfo": "x+name",
         "line": {
          "width": 0.5
         },
         "marker": {
          "color": "rgb(0,116,217)"
         },
         "mode": "lines",
         "name": "Row Cluster 31",
         "type": "scatter",
         "x": [
          0,
          -0.1511380446539979,
          -0.1511380446539979,
          0
         ],
         "xaxis": "x9",
         "y": [
          675,
          675,
          685,
          685
         ],
         "yaxis": "y9"
        },
        {
         "hoverinfo": "x+name",
         "line": {
          "width": 0.5
         },
         "marker": {
          "color": "rgb(0,116,217)"
         },
         "mode": "lines",
         "name": "Row Cluster 32",
         "type": "scatter",
         "x": [
          -0.5101460730078531,
          -0.8013523863823804,
          -0.8013523863823804,
          -0.714729468940475
         ],
         "xaxis": "x9",
         "y": [
          672.5,
          672.5,
          833.28125,
          833.28125
         ],
         "yaxis": "y9"
        },
        {
         "hoverinfo": "x+name",
         "line": {
          "width": 0.5
         },
         "marker": {
          "color": "rgb(0,116,217)"
         },
         "mode": "lines",
         "name": "Row Cluster 33",
         "type": "scatter",
         "x": [
          0,
          -0.16183765963181948,
          -0.16183765963181948,
          0
         ],
         "xaxis": "x9",
         "y": [
          655,
          655,
          665,
          665
         ],
         "yaxis": "y9"
        },
        {
         "hoverinfo": "x+name",
         "line": {
          "width": 0.5
         },
         "marker": {
          "color": "rgb(0,116,217)"
         },
         "mode": "lines",
         "name": "Row Cluster 34",
         "type": "scatter",
         "x": [
          -0.28348721702925345,
          -0.5101460730078531,
          -0.5101460730078531,
          -0.42724348529121053
         ],
         "xaxis": "x9",
         "y": [
          650,
          650,
          695,
          695
         ],
         "yaxis": "y9"
        },
        {
         "hoverinfo": "x+name",
         "line": {
          "width": 0.5
         },
         "marker": {
          "color": "rgb(0,116,217)"
         },
         "mode": "lines",
         "name": "Row Cluster 35",
         "type": "scatter",
         "x": [
          -0.12308722073731779,
          -0.28348721702925345,
          -0.28348721702925345,
          -0.16183765963181948
         ],
         "xaxis": "x9",
         "y": [
          640,
          640,
          660,
          660
         ],
         "yaxis": "y9"
        },
        {
         "hoverinfo": "x+name",
         "line": {
          "width": 0.5
         },
         "marker": {
          "color": "rgb(0,116,217)"
         },
         "mode": "lines",
         "name": "Row Cluster 36",
         "type": "scatter",
         "x": [
          0,
          -0.12308722073731779,
          -0.12308722073731779,
          0
         ],
         "xaxis": "x9",
         "y": [
          635,
          635,
          645,
          645
         ],
         "yaxis": "y9"
        },
        {
         "hoverinfo": "x+name",
         "line": {
          "width": 0.5
         },
         "marker": {
          "color": "rgb(0,116,217)"
         },
         "mode": "lines",
         "name": "Row Cluster 37",
         "type": "scatter",
         "x": [
          0,
          -0.07164931554529676,
          -0.07164931554529676,
          0
         ],
         "xaxis": "x9",
         "y": [
          615,
          615,
          625,
          625
         ],
         "yaxis": "y9"
        },
        {
         "hoverinfo": "x+name",
         "line": {
          "width": 0.5
         },
         "marker": {
          "color": "rgb(0,116,217)"
         },
         "mode": "lines",
         "name": "Row Cluster 38",
         "type": "scatter",
         "x": [
          -0.07155915742670281,
          -0.14330500738307808,
          -0.14330500738307808,
          -0.07164931554529676
         ],
         "xaxis": "x9",
         "y": [
          600,
          600,
          620,
          620
         ],
         "yaxis": "y9"
        },
        {
         "hoverinfo": "x+name",
         "line": {
          "width": 0.5
         },
         "marker": {
          "color": "rgb(0,116,217)"
         },
         "mode": "lines",
         "name": "Row Cluster 39",
         "type": "scatter",
         "x": [
          0,
          -0.07155915742670281,
          -0.07155915742670281,
          0
         ],
         "xaxis": "x9",
         "y": [
          595,
          595,
          605,
          605
         ],
         "yaxis": "y9"
        },
        {
         "hoverinfo": "x+name",
         "line": {
          "width": 0.5
         },
         "marker": {
          "color": "rgb(0,116,217)"
         },
         "mode": "lines",
         "name": "Row Cluster 40",
         "type": "scatter",
         "x": [
          0,
          -0.0872432240893118,
          -0.0872432240893118,
          0
         ],
         "xaxis": "x9",
         "y": [
          575,
          575,
          585,
          585
         ],
         "yaxis": "y9"
        },
        {
         "hoverinfo": "x+name",
         "line": {
          "width": 0.5
         },
         "marker": {
          "color": "rgb(0,116,217)"
         },
         "mode": "lines",
         "name": "Row Cluster 41",
         "type": "scatter",
         "x": [
          -0.11462936023637661,
          -0.28328983460669205,
          -0.28328983460669205,
          -0.14330500738307808
         ],
         "xaxis": "x9",
         "y": [
          570,
          570,
          610,
          610
         ],
         "yaxis": "y9"
        },
        {
         "hoverinfo": "x+name",
         "line": {
          "width": 0.5
         },
         "marker": {
          "color": "rgb(0,116,217)"
         },
         "mode": "lines",
         "name": "Row Cluster 42",
         "type": "scatter",
         "x": [
          -0.05866989854260532,
          -0.11462936023637661,
          -0.11462936023637661,
          -0.0872432240893118
         ],
         "xaxis": "x9",
         "y": [
          560,
          560,
          580,
          580
         ],
         "yaxis": "y9"
        },
        {
         "hoverinfo": "x+name",
         "line": {
          "width": 0.5
         },
         "marker": {
          "color": "rgb(0,116,217)"
         },
         "mode": "lines",
         "name": "Row Cluster 43",
         "type": "scatter",
         "x": [
          0,
          -0.05866989854260532,
          -0.05866989854260532,
          0
         ],
         "xaxis": "x9",
         "y": [
          555,
          555,
          565,
          565
         ],
         "yaxis": "y9"
        },
        {
         "hoverinfo": "x+name",
         "line": {
          "width": 0.5
         },
         "marker": {
          "color": "rgb(0,116,217)"
         },
         "mode": "lines",
         "name": "Row Cluster 44",
         "type": "scatter",
         "x": [
          0,
          -0.07802315929362558,
          -0.07802315929362558,
          0
         ],
         "xaxis": "x9",
         "y": [
          535,
          535,
          545,
          545
         ],
         "yaxis": "y9"
        },
        {
         "hoverinfo": "x+name",
         "line": {
          "width": 0.5
         },
         "marker": {
          "color": "rgb(0,116,217)"
         },
         "mode": "lines",
         "name": "Row Cluster 45",
         "type": "scatter",
         "x": [
          0,
          -0.1396920514911824,
          -0.1396920514911824,
          -0.07802315929362558
         ],
         "xaxis": "x9",
         "y": [
          525,
          525,
          540,
          540
         ],
         "yaxis": "y9"
        },
        {
         "hoverinfo": "x+name",
         "line": {
          "width": 0.5
         },
         "marker": {
          "color": "rgb(0,116,217)"
         },
         "mode": "lines",
         "name": "Row Cluster 46",
         "type": "scatter",
         "x": [
          -0.1962834305389887,
          -0.36901353766647677,
          -0.36901353766647677,
          -0.28328983460669205
         ],
         "xaxis": "x9",
         "y": [
          517.5,
          517.5,
          590,
          590
         ],
         "yaxis": "y9"
        },
        {
         "hoverinfo": "x+name",
         "line": {
          "width": 0.5
         },
         "marker": {
          "color": "rgb(0,116,217)"
         },
         "mode": "lines",
         "name": "Row Cluster 47",
         "type": "scatter",
         "x": [
          0,
          -0.07098706403770517,
          -0.07098706403770517,
          0
         ],
         "xaxis": "x9",
         "y": [
          505,
          505,
          515,
          515
         ],
         "yaxis": "y9"
        },
        {
         "hoverinfo": "x+name",
         "line": {
          "width": 0.5
         },
         "marker": {
          "color": "rgb(0,116,217)"
         },
         "mode": "lines",
         "name": "Row Cluster 48",
         "type": "scatter",
         "x": [
          -0.13696840468100543,
          -0.1962834305389887,
          -0.1962834305389887,
          -0.1396920514911824
         ],
         "xaxis": "x9",
         "y": [
          502.5,
          502.5,
          532.5,
          532.5
         ],
         "yaxis": "y9"
        },
        {
         "hoverinfo": "x+name",
         "line": {
          "width": 0.5
         },
         "marker": {
          "color": "rgb(0,116,217)"
         },
         "mode": "lines",
         "name": "Row Cluster 49",
         "type": "scatter",
         "x": [
          0,
          -0.13696840468100543,
          -0.13696840468100543,
          -0.07098706403770517
         ],
         "xaxis": "x9",
         "y": [
          495,
          495,
          510,
          510
         ],
         "yaxis": "y9"
        },
        {
         "hoverinfo": "x+name",
         "line": {
          "width": 0.5
         },
         "marker": {
          "color": "rgb(0,116,217)"
         },
         "mode": "lines",
         "name": "Row Cluster 50",
         "type": "scatter",
         "x": [
          0,
          -0.13533708997616162,
          -0.13533708997616162,
          0
         ],
         "xaxis": "x9",
         "y": [
          475,
          475,
          485,
          485
         ],
         "yaxis": "y9"
        },
        {
         "hoverinfo": "x+name",
         "line": {
          "width": 0.5
         },
         "marker": {
          "color": "rgb(0,116,217)"
         },
         "mode": "lines",
         "name": "Row Cluster 51",
         "type": "scatter",
         "x": [
          -0.3228383881545758,
          -0.606994293233855,
          -0.606994293233855,
          -0.36901353766647677
         ],
         "xaxis": "x9",
         "y": [
          470,
          470,
          553.75,
          553.75
         ],
         "yaxis": "y9"
        },
        {
         "hoverinfo": "x+name",
         "line": {
          "width": 0.5
         },
         "marker": {
          "color": "rgb(0,116,217)"
         },
         "mode": "lines",
         "name": "Row Cluster 52",
         "type": "scatter",
         "x": [
          -0.1263578308258492,
          -0.3228383881545758,
          -0.3228383881545758,
          -0.13533708997616162
         ],
         "xaxis": "x9",
         "y": [
          460,
          460,
          480,
          480
         ],
         "yaxis": "y9"
        },
        {
         "hoverinfo": "x+name",
         "line": {
          "width": 0.5
         },
         "marker": {
          "color": "rgb(0,116,217)"
         },
         "mode": "lines",
         "name": "Row Cluster 53",
         "type": "scatter",
         "x": [
          0,
          -0.1263578308258492,
          -0.1263578308258492,
          0
         ],
         "xaxis": "x9",
         "y": [
          455,
          455,
          465,
          465
         ],
         "yaxis": "y9"
        },
        {
         "hoverinfo": "x+name",
         "line": {
          "width": 0.5
         },
         "marker": {
          "color": "rgb(0,116,217)"
         },
         "mode": "lines",
         "name": "Row Cluster 54",
         "type": "scatter",
         "x": [
          0,
          -0.09793497239113043,
          -0.09793497239113043,
          0
         ],
         "xaxis": "x9",
         "y": [
          435,
          435,
          445,
          445
         ],
         "yaxis": "y9"
        },
        {
         "hoverinfo": "x+name",
         "line": {
          "width": 0.5
         },
         "marker": {
          "color": "rgb(0,116,217)"
         },
         "mode": "lines",
         "name": "Row Cluster 55",
         "type": "scatter",
         "x": [
          -0.08092492982117187,
          -0.1453608229711624,
          -0.1453608229711624,
          -0.09793497239113043
         ],
         "xaxis": "x9",
         "y": [
          420,
          420,
          440,
          440
         ],
         "yaxis": "y9"
        },
        {
         "hoverinfo": "x+name",
         "line": {
          "width": 0.5
         },
         "marker": {
          "color": "rgb(0,116,217)"
         },
         "mode": "lines",
         "name": "Row Cluster 56",
         "type": "scatter",
         "x": [
          0,
          -0.08092492982117187,
          -0.08092492982117187,
          0
         ],
         "xaxis": "x9",
         "y": [
          415,
          415,
          425,
          425
         ],
         "yaxis": "y9"
        },
        {
         "hoverinfo": "x+name",
         "line": {
          "width": 0.5
         },
         "marker": {
          "color": "rgb(0,116,217)"
         },
         "mode": "lines",
         "name": "Row Cluster 57",
         "type": "scatter",
         "x": [
          0,
          -0.18529353991270234,
          -0.18529353991270234,
          -0.1453608229711624
         ],
         "xaxis": "x9",
         "y": [
          405,
          405,
          430,
          430
         ],
         "yaxis": "y9"
        },
        {
         "hoverinfo": "x+name",
         "line": {
          "width": 0.5
         },
         "marker": {
          "color": "rgb(0,116,217)"
         },
         "mode": "lines",
         "name": "Row Cluster 58",
         "type": "scatter",
         "x": [
          -0.12266103831135888,
          -0.2336861263210257,
          -0.2336861263210257,
          -0.18529353991270234
         ],
         "xaxis": "x9",
         "y": [
          390,
          390,
          417.5,
          417.5
         ],
         "yaxis": "y9"
        },
        {
         "hoverinfo": "x+name",
         "line": {
          "width": 0.5
         },
         "marker": {
          "color": "rgb(0,116,217)"
         },
         "mode": "lines",
         "name": "Row Cluster 59",
         "type": "scatter",
         "x": [
          0,
          -0.12266103831135888,
          -0.12266103831135888,
          0
         ],
         "xaxis": "x9",
         "y": [
          385,
          385,
          395,
          395
         ],
         "yaxis": "y9"
        },
        {
         "hoverinfo": "x+name",
         "line": {
          "width": 0.5
         },
         "marker": {
          "color": "rgb(0,116,217)"
         },
         "mode": "lines",
         "name": "Row Cluster 60",
         "type": "scatter",
         "x": [
          -0.6658317550536806,
          -0.93387164226298,
          -0.93387164226298,
          -0.8013523863823804
         ],
         "xaxis": "x9",
         "y": [
          384.638671875,
          384.638671875,
          752.890625,
          752.890625
         ],
         "yaxis": "y9"
        },
        {
         "hoverinfo": "x+name",
         "line": {
          "width": 0.5
         },
         "marker": {
          "color": "rgb(0,116,217)"
         },
         "mode": "lines",
         "name": "Row Cluster 61",
         "type": "scatter",
         "x": [
          0,
          -0.12091087132125927,
          -0.12091087132125927,
          0
         ],
         "xaxis": "x9",
         "y": [
          365,
          365,
          375,
          375
         ],
         "yaxis": "y9"
        },
        {
         "hoverinfo": "x+name",
         "line": {
          "width": 0.5
         },
         "marker": {
          "color": "rgb(0,116,217)"
         },
         "mode": "lines",
         "name": "Row Cluster 62",
         "type": "scatter",
         "x": [
          -0.16437669776948488,
          -0.35971100033543285,
          -0.35971100033543285,
          -0.2336861263210257
         ],
         "xaxis": "x9",
         "y": [
          362.5,
          362.5,
          403.75,
          403.75
         ],
         "yaxis": "y9"
        },
        {
         "hoverinfo": "x+name",
         "line": {
          "width": 0.5
         },
         "marker": {
          "color": "rgb(0,116,217)"
         },
         "mode": "lines",
         "name": "Row Cluster 63",
         "type": "scatter",
         "x": [
          0,
          -0.16437669776948488,
          -0.16437669776948488,
          -0.12091087132125927
         ],
         "xaxis": "x9",
         "y": [
          355,
          355,
          370,
          370
         ],
         "yaxis": "y9"
        },
        {
         "hoverinfo": "x+name",
         "line": {
          "width": 0.5
         },
         "marker": {
          "color": "rgb(0,116,217)"
         },
         "mode": "lines",
         "name": "Row Cluster 64",
         "type": "scatter",
         "x": [
          0,
          -0.13497759256235642,
          -0.13497759256235642,
          0
         ],
         "xaxis": "x9",
         "y": [
          335,
          335,
          345,
          345
         ],
         "yaxis": "y9"
        },
        {
         "hoverinfo": "x+name",
         "line": {
          "width": 0.5
         },
         "marker": {
          "color": "rgb(0,116,217)"
         },
         "mode": "lines",
         "name": "Row Cluster 65",
         "type": "scatter",
         "x": [
          -0.1758906349763421,
          -0.4087062521705214,
          -0.4087062521705214,
          -0.35971100033543285
         ],
         "xaxis": "x9",
         "y": [
          332.5,
          332.5,
          383.125,
          383.125
         ],
         "yaxis": "y9"
        },
        {
         "hoverinfo": "x+name",
         "line": {
          "width": 0.5
         },
         "marker": {
          "color": "rgb(0,116,217)"
         },
         "mode": "lines",
         "name": "Row Cluster 66",
         "type": "scatter",
         "x": [
          0,
          -0.1758906349763421,
          -0.1758906349763421,
          -0.13497759256235642
         ],
         "xaxis": "x9",
         "y": [
          325,
          325,
          340,
          340
         ],
         "yaxis": "y9"
        },
        {
         "hoverinfo": "x+name",
         "line": {
          "width": 0.5
         },
         "marker": {
          "color": "rgb(0,116,217)"
         },
         "mode": "lines",
         "name": "Row Cluster 67",
         "type": "scatter",
         "x": [
          0,
          -0.1094195182264559,
          -0.1094195182264559,
          0
         ],
         "xaxis": "x9",
         "y": [
          305,
          305,
          315,
          315
         ],
         "yaxis": "y9"
        },
        {
         "hoverinfo": "x+name",
         "line": {
          "width": 0.5
         },
         "marker": {
          "color": "rgb(0,116,217)"
         },
         "mode": "lines",
         "name": "Row Cluster 68",
         "type": "scatter",
         "x": [
          -0.07310206340376259,
          -0.16099943383780713,
          -0.16099943383780713,
          -0.1094195182264559
         ],
         "xaxis": "x9",
         "y": [
          290,
          290,
          310,
          310
         ],
         "yaxis": "y9"
        },
        {
         "hoverinfo": "x+name",
         "line": {
          "width": 0.5
         },
         "marker": {
          "color": "rgb(0,116,217)"
         },
         "mode": "lines",
         "name": "Row Cluster 69",
         "type": "scatter",
         "x": [
          0,
          -0.07310206340376259,
          -0.07310206340376259,
          0
         ],
         "xaxis": "x9",
         "y": [
          285,
          285,
          295,
          295
         ],
         "yaxis": "y9"
        },
        {
         "hoverinfo": "x+name",
         "line": {
          "width": 0.5
         },
         "marker": {
          "color": "rgb(0,116,217)"
         },
         "mode": "lines",
         "name": "Row Cluster 70",
         "type": "scatter",
         "x": [
          0,
          -0.06727801799056232,
          -0.06727801799056232,
          0
         ],
         "xaxis": "x9",
         "y": [
          265,
          265,
          275,
          275
         ],
         "yaxis": "y9"
        },
        {
         "hoverinfo": "x+name",
         "line": {
          "width": 0.5
         },
         "marker": {
          "color": "rgb(0,116,217)"
         },
         "mode": "lines",
         "name": "Row Cluster 71",
         "type": "scatter",
         "x": [
          -0.11624739669892678,
          -0.23311207034002077,
          -0.23311207034002077,
          -0.16099943383780713
         ],
         "xaxis": "x9",
         "y": [
          260,
          260,
          300,
          300
         ],
         "yaxis": "y9"
        },
        {
         "hoverinfo": "x+name",
         "line": {
          "width": 0.5
         },
         "marker": {
          "color": "rgb(0,116,217)"
         },
         "mode": "lines",
         "name": "Row Cluster 72",
         "type": "scatter",
         "x": [
          -0.5154530293333378,
          -0.6658317550536806,
          -0.6658317550536806,
          -0.606994293233855
         ],
         "xaxis": "x9",
         "y": [
          257.40234375,
          257.40234375,
          511.875,
          511.875
         ],
         "yaxis": "y9"
        },
        {
         "hoverinfo": "x+name",
         "line": {
          "width": 0.5
         },
         "marker": {
          "color": "rgb(0,116,217)"
         },
         "mode": "lines",
         "name": "Row Cluster 73",
         "type": "scatter",
         "x": [
          -0.06166131664517,
          -0.11624739669892678,
          -0.11624739669892678,
          -0.06727801799056232
         ],
         "xaxis": "x9",
         "y": [
          250,
          250,
          270,
          270
         ],
         "yaxis": "y9"
        },
        {
         "hoverinfo": "x+name",
         "line": {
          "width": 0.5
         },
         "marker": {
          "color": "rgb(0,116,217)"
         },
         "mode": "lines",
         "name": "Row Cluster 74",
         "type": "scatter",
         "x": [
          0,
          -0.06166131664517,
          -0.06166131664517,
          0
         ],
         "xaxis": "x9",
         "y": [
          245,
          245,
          255,
          255
         ],
         "yaxis": "y9"
        },
        {
         "hoverinfo": "x+name",
         "line": {
          "width": 0.5
         },
         "marker": {
          "color": "rgb(0,116,217)"
         },
         "mode": "lines",
         "name": "Row Cluster 75",
         "type": "scatter",
         "x": [
          0,
          -0.07844353566289441,
          -0.07844353566289441,
          0
         ],
         "xaxis": "x9",
         "y": [
          225,
          225,
          235,
          235
         ],
         "yaxis": "y9"
        },
        {
         "hoverinfo": "x+name",
         "line": {
          "width": 0.5
         },
         "marker": {
          "color": "rgb(0,116,217)"
         },
         "mode": "lines",
         "name": "Row Cluster 76",
         "type": "scatter",
         "x": [
          -0.09134965749274634,
          -0.36624941216107504,
          -0.36624941216107504,
          -0.23311207034002077
         ],
         "xaxis": "x9",
         "y": [
          222.5,
          222.5,
          280,
          280
         ],
         "yaxis": "y9"
        },
        {
         "hoverinfo": "x+name",
         "line": {
          "width": 0.5
         },
         "marker": {
          "color": "rgb(0,116,217)"
         },
         "mode": "lines",
         "name": "Row Cluster 77",
         "type": "scatter",
         "x": [
          0,
          -0.09134965749274634,
          -0.09134965749274634,
          -0.07844353566289441
         ],
         "xaxis": "x9",
         "y": [
          215,
          215,
          230,
          230
         ],
         "yaxis": "y9"
        },
        {
         "hoverinfo": "x+name",
         "line": {
          "width": 0.5
         },
         "marker": {
          "color": "rgb(0,116,217)"
         },
         "mode": "lines",
         "name": "Row Cluster 78",
         "type": "scatter",
         "x": [
          0,
          -0.046297872277319047,
          -0.046297872277319047,
          0
         ],
         "xaxis": "x9",
         "y": [
          195,
          195,
          205,
          205
         ],
         "yaxis": "y9"
        },
        {
         "hoverinfo": "x+name",
         "line": {
          "width": 0.5
         },
         "marker": {
          "color": "rgb(0,116,217)"
         },
         "mode": "lines",
         "name": "Row Cluster 79",
         "type": "scatter",
         "x": [
          0,
          -0.06613503245878748,
          -0.06613503245878748,
          -0.046297872277319047
         ],
         "xaxis": "x9",
         "y": [
          185,
          185,
          200,
          200
         ],
         "yaxis": "y9"
        },
        {
         "hoverinfo": "x+name",
         "line": {
          "width": 0.5
         },
         "marker": {
          "color": "rgb(0,116,217)"
         },
         "mode": "lines",
         "name": "Row Cluster 80",
         "type": "scatter",
         "x": [
          0,
          -0.1079071002975815,
          -0.1079071002975815,
          -0.06613503245878748
         ],
         "xaxis": "x9",
         "y": [
          175,
          175,
          192.5,
          192.5
         ],
         "yaxis": "y9"
        },
        {
         "hoverinfo": "x+name",
         "line": {
          "width": 0.5
         },
         "marker": {
          "color": "rgb(0,116,217)"
         },
         "mode": "lines",
         "name": "Row Cluster 81",
         "type": "scatter",
         "x": [
          0,
          -0.12796686426089837,
          -0.12796686426089837,
          -0.1079071002975815
         ],
         "xaxis": "x9",
         "y": [
          165,
          165,
          183.75,
          183.75
         ],
         "yaxis": "y9"
        },
        {
         "hoverinfo": "x+name",
         "line": {
          "width": 0.5
         },
         "marker": {
          "color": "rgb(0,116,217)"
         },
         "mode": "lines",
         "name": "Row Cluster 82",
         "type": "scatter",
         "x": [
          -0.3842293065092425,
          -0.5154530293333378,
          -0.5154530293333378,
          -0.4087062521705214
         ],
         "xaxis": "x9",
         "y": [
          156.9921875,
          156.9921875,
          357.8125,
          357.8125
         ],
         "yaxis": "y9"
        },
        {
         "hoverinfo": "x+name",
         "line": {
          "width": 0.5
         },
         "marker": {
          "color": "rgb(0,116,217)"
         },
         "mode": "lines",
         "name": "Row Cluster 83",
         "type": "scatter",
         "x": [
          0,
          -0.055945342207249345,
          -0.055945342207249345,
          0
         ],
         "xaxis": "x9",
         "y": [
          145,
          145,
          155,
          155
         ],
         "yaxis": "y9"
        },
        {
         "hoverinfo": "x+name",
         "line": {
          "width": 0.5
         },
         "marker": {
          "color": "rgb(0,116,217)"
         },
         "mode": "lines",
         "name": "Row Cluster 84",
         "type": "scatter",
         "x": [
          -0.09791986062481316,
          -0.19593061887155916,
          -0.19593061887155916,
          -0.12796686426089837
         ],
         "xaxis": "x9",
         "y": [
          140,
          140,
          174.375,
          174.375
         ],
         "yaxis": "y9"
        },
        {
         "hoverinfo": "x+name",
         "line": {
          "width": 0.5
         },
         "marker": {
          "color": "rgb(0,116,217)"
         },
         "mode": "lines",
         "name": "Row Cluster 85",
         "type": "scatter",
         "x": [
          -0.054273017678353574,
          -0.09791986062481316,
          -0.09791986062481316,
          -0.055945342207249345
         ],
         "xaxis": "x9",
         "y": [
          130,
          130,
          150,
          150
         ],
         "yaxis": "y9"
        },
        {
         "hoverinfo": "x+name",
         "line": {
          "width": 0.5
         },
         "marker": {
          "color": "rgb(0,116,217)"
         },
         "mode": "lines",
         "name": "Row Cluster 86",
         "type": "scatter",
         "x": [
          0,
          -0.054273017678353574,
          -0.054273017678353574,
          0
         ],
         "xaxis": "x9",
         "y": [
          125,
          125,
          135,
          135
         ],
         "yaxis": "y9"
        },
        {
         "hoverinfo": "x+name",
         "line": {
          "width": 0.5
         },
         "marker": {
          "color": "rgb(0,116,217)"
         },
         "mode": "lines",
         "name": "Row Cluster 87",
         "type": "scatter",
         "x": [
          0,
          -0.07034716615139089,
          -0.07034716615139089,
          0
         ],
         "xaxis": "x9",
         "y": [
          105,
          105,
          115,
          115
         ],
         "yaxis": "y9"
        },
        {
         "hoverinfo": "x+name",
         "line": {
          "width": 0.5
         },
         "marker": {
          "color": "rgb(0,116,217)"
         },
         "mode": "lines",
         "name": "Row Cluster 88",
         "type": "scatter",
         "x": [
          -0.06425684747675028,
          -0.10485864345263514,
          -0.10485864345263514,
          -0.07034716615139089
         ],
         "xaxis": "x9",
         "y": [
          90,
          90,
          110,
          110
         ],
         "yaxis": "y9"
        },
        {
         "hoverinfo": "x+name",
         "line": {
          "width": 0.5
         },
         "marker": {
          "color": "rgb(0,116,217)"
         },
         "mode": "lines",
         "name": "Row Cluster 89",
         "type": "scatter",
         "x": [
          0,
          -0.06425684747675028,
          -0.06425684747675028,
          0
         ],
         "xaxis": "x9",
         "y": [
          85,
          85,
          95,
          95
         ],
         "yaxis": "y9"
        },
        {
         "hoverinfo": "x+name",
         "line": {
          "width": 0.5
         },
         "marker": {
          "color": "rgb(0,116,217)"
         },
         "mode": "lines",
         "name": "Row Cluster 90",
         "type": "scatter",
         "x": [
          0,
          -0.13574385270147513,
          -0.13574385270147513,
          -0.10485864345263514
         ],
         "xaxis": "x9",
         "y": [
          75,
          75,
          100,
          100
         ],
         "yaxis": "y9"
        },
        {
         "hoverinfo": "x+name",
         "line": {
          "width": 0.5
         },
         "marker": {
          "color": "rgb(0,116,217)"
         },
         "mode": "lines",
         "name": "Row Cluster 91",
         "type": "scatter",
         "x": [
          -0.16895550397779938,
          -0.24832488492098093,
          -0.24832488492098093,
          -0.19593061887155916
         ],
         "xaxis": "x9",
         "y": [
          68.75,
          68.75,
          157.1875,
          157.1875
         ],
         "yaxis": "y9"
        },
        {
         "hoverinfo": "x+name",
         "line": {
          "width": 0.5
         },
         "marker": {
          "color": "rgb(0,116,217)"
         },
         "mode": "lines",
         "name": "Row Cluster 92",
         "type": "scatter",
         "x": [
          -0.29209471776509577,
          -0.3842293065092425,
          -0.3842293065092425,
          -0.36624941216107504
         ],
         "xaxis": "x9",
         "y": [
          62.734375,
          62.734375,
          251.25,
          251.25
         ],
         "yaxis": "y9"
        },
        {
         "hoverinfo": "x+name",
         "line": {
          "width": 0.5
         },
         "marker": {
          "color": "rgb(0,116,217)"
         },
         "mode": "lines",
         "name": "Row Cluster 93",
         "type": "scatter",
         "x": [
          0,
          -0.06053584862552566,
          -0.06053584862552566,
          0
         ],
         "xaxis": "x9",
         "y": [
          55,
          55,
          65,
          65
         ],
         "yaxis": "y9"
        },
        {
         "hoverinfo": "x+name",
         "line": {
          "width": 0.5
         },
         "marker": {
          "color": "rgb(0,116,217)"
         },
         "mode": "lines",
         "name": "Row Cluster 94",
         "type": "scatter",
         "x": [
          -0.07855691559548106,
          -0.16895550397779938,
          -0.16895550397779938,
          -0.13574385270147513
         ],
         "xaxis": "x9",
         "y": [
          50,
          50,
          87.5,
          87.5
         ],
         "yaxis": "y9"
        },
        {
         "hoverinfo": "x+name",
         "line": {
          "width": 0.5
         },
         "marker": {
          "color": "rgb(0,116,217)"
         },
         "mode": "lines",
         "name": "Row Cluster 95",
         "type": "scatter",
         "x": [
          -0.051306160783007336,
          -0.07855691559548106,
          -0.07855691559548106,
          -0.06053584862552566
         ],
         "xaxis": "x9",
         "y": [
          40,
          40,
          60,
          60
         ],
         "yaxis": "y9"
        },
        {
         "hoverinfo": "x+name",
         "line": {
          "width": 0.5
         },
         "marker": {
          "color": "rgb(0,116,217)"
         },
         "mode": "lines",
         "name": "Row Cluster 96",
         "type": "scatter",
         "x": [
          0,
          -0.051306160783007336,
          -0.051306160783007336,
          0
         ],
         "xaxis": "x9",
         "y": [
          35,
          35,
          45,
          45
         ],
         "yaxis": "y9"
        },
        {
         "hoverinfo": "x+name",
         "line": {
          "width": 0.5
         },
         "marker": {
          "color": "rgb(0,116,217)"
         },
         "mode": "lines",
         "name": "Row Cluster 97",
         "type": "scatter",
         "x": [
          -0.10378159382066952,
          -0.29209471776509577,
          -0.29209471776509577,
          -0.24832488492098093
         ],
         "xaxis": "x9",
         "y": [
          12.5,
          12.5,
          112.96875,
          112.96875
         ],
         "yaxis": "y9"
        },
        {
         "hoverinfo": "x+name",
         "line": {
          "width": 0.5
         },
         "marker": {
          "color": "rgb(0,116,217)"
         },
         "mode": "lines",
         "name": "Row Cluster 98",
         "type": "scatter",
         "x": [
          0,
          -0.10378159382066952,
          -0.10378159382066952,
          -0.09077409539228005
         ],
         "xaxis": "x9",
         "y": [
          5,
          5,
          20,
          20
         ],
         "yaxis": "y9"
        },
        {
         "colorbar": {
          "xpad": 100
         },
         "colorscale": [
          [
           0,
           "rgb(84,48,5)"
          ],
          [
           0.5,
           "rgb(246,232,195)"
          ],
          [
           1,
           "rgb(0,60,48)"
          ]
         ],
         "type": "heatmap",
         "x": [
          5,
          15,
          25,
          35,
          45,
          55,
          65,
          75,
          85,
          95,
          105,
          115,
          125,
          135,
          145,
          155,
          165,
          175,
          185,
          195,
          205,
          215,
          225,
          235,
          245,
          255
         ],
         "xaxis": "x11",
         "y": [
          5,
          15,
          25,
          35,
          45,
          55,
          65,
          75,
          85,
          95,
          105,
          115,
          125,
          135,
          145,
          155,
          165,
          175,
          185,
          195,
          205,
          215,
          225,
          235,
          245,
          255,
          265,
          275,
          285,
          295,
          305,
          315,
          325,
          335,
          345,
          355,
          365,
          375,
          385,
          395,
          405,
          415,
          425,
          435,
          445,
          455,
          465,
          475,
          485,
          495,
          505,
          515,
          525,
          535,
          545,
          555,
          565,
          575,
          585,
          595,
          605,
          615,
          625,
          635,
          645,
          655,
          665,
          675,
          685,
          695,
          705,
          715,
          725,
          735,
          745,
          755,
          765,
          775,
          785,
          795,
          805,
          815,
          825,
          835,
          845,
          855,
          865,
          875,
          885,
          895,
          905,
          915,
          925,
          935,
          945,
          955,
          965,
          975,
          985,
          995
         ],
         "yaxis": "y11",
         "z": [
          [
           0.08632903213923426,
           0.06748638036445631,
           0.01979368743531193,
           0.024747957644215612,
           0.04097428010488746,
           0.028451887342567844,
           0.03179598497020858,
           0.015831485304955567,
           -0.013611345333337577,
           0.007608630901101976,
           -0.03156506264700874,
           0.03973315623325424,
           0.10668819854228229,
           0.07302107948268544,
           0.09888594094053946,
           0.0031826304392659766,
           0.0250351681633334,
           0.02718609446196224,
           0.0033160080480061638,
           0.05103645260932976,
           0.004005430284242967,
           0.002606510124499334,
           0.01004489167894676,
           -0.027252594477418984,
           -0.02311995669354855,
           -0.06636475204533428
          ],
          [
           0.0698253564101641,
           0.08686994030596348,
           0.07984406540926228,
           0.016515571732404727,
           0.07888573294623069,
           0.03031133872530936,
           0.040289551822172004,
           0.015238928662604678,
           -0.011350189979729697,
           0.015860999517140234,
           -0.013932372273025823,
           0.010230996449592716,
           0.08702042883768638,
           0.06041128153619357,
           0.06720576304804357,
           0.0006727241732502331,
           0.0312670851681939,
           0.03170396953437771,
           -0.014180551882592707,
           0.037958002141730285,
           0.0052265766550373405,
           0.009196209540823064,
           0.011143308465172502,
           -0.029499695553827476,
           -0.019356189126330053,
           -0.05084361599218662
          ],
          [
           0.06407099937916888,
           0.11307044279138617,
           0.04236364291963313,
           -0.0029091611148239493,
           0.07597026936583598,
           0.0005754918136530174,
           0.04328503874705933,
           -0.015124553377309252,
           -0.0259906836469994,
           0.009175782102863878,
           -0.04047114830809184,
           0.016039201430536276,
           0.10616281062797295,
           0.047363629672372426,
           0.06610811042126358,
           -0.006327726836022063,
           0.020114186389359495,
           0.02270860508984579,
           -0.003427542236550507,
           0.03554267215368456,
           0.0016930936446022948,
           -0.012740339294148723,
           -0.005763615742851724,
           -0.02476161373928973,
           -0.03563462079273273,
           -0.0814527014275585
          ],
          [
           0.02999839752678851,
           0.05225511728834287,
           0.044915257765823474,
           0.06722587913304548,
           0.051981096983225616,
           0.062383170008393746,
           0.08691312107550159,
           0.0831676993246536,
           0.051153073679733735,
           0.05509300521401017,
           0.0778472848561737,
           0.02163164222378,
           0.051885048624039476,
           0.02744813992797912,
           0.048908054154437,
           0.0032285408477361055,
           0.016016826035030518,
           0.02425328204371316,
           0.024054249874276984,
           0.02704008998219687,
           0.016356663239558505,
           0.02632776000287332,
           0.021696429669281203,
           0.019554829786384342,
           0.014814600481193596,
           0.0011312734912915512
          ],
          [
           0.04472948590571438,
           0.05589091426356366,
           0.0629489040989819,
           0.0552059964813893,
           0.04755283526856585,
           0.04984800258841551,
           0.06567856679596612,
           0.07524757938137225,
           0.043237193596829815,
           0.05061887324985284,
           0.07133525783611272,
           0.013565569198905197,
           0.05203167959786259,
           0.03383329476851171,
           0.04896192493617549,
           0.0014691292148702184,
           0.03303207084294557,
           0.03198337212829594,
           0.008188943495869822,
           0.03845900905486213,
           0.026561105067832103,
           0.033232281439452976,
           0.019558364043315374,
           0.013913502607916017,
           0.008430992942100785,
           0.008035951140143882
          ],
          [
           0.04614283725201537,
           0.045062516206036685,
           0.035775642946495045,
           0.07114124746262945,
           0.038774852836796714,
           0.030202025305441804,
           0.075496120692855,
           0.07770140244460866,
           0.044444499199310566,
           0.05326895302555085,
           0.07177756863163309,
           0.03011435677841187,
           0.05897438784240888,
           0.014851143015342128,
           0.06956154275909576,
           -0.0069827786375309675,
           0.02078540956759306,
           0.00952627654352406,
           0.03437954525311315,
           0.029377797177970677,
           0.02227859525935616,
           0.028677030142839732,
           0.015575757627069808,
           0.035796017186290274,
           0.018915805016482545,
           0.010845962248566376
          ],
          [
           0.05357874571853943,
           0.047018337451224995,
           0.0594400530272603,
           0.05994497298250215,
           0.038189339327783706,
           0.02768672303729297,
           0.06564045418397108,
           0.06323553072706697,
           0.0394053395094901,
           0.05105168328103463,
           0.04456558268000449,
           0.04146826960107991,
           0.05700378980660853,
           0.034800836789907474,
           0.06179774762020915,
           0.0018225260186087722,
           0.023683138129108133,
           0.019997120591193657,
           0.025617590685385078,
           0.034902324956068265,
           0.037794194378850676,
           0.039331094728088545,
           0.03075067331599024,
           0.019285176442577406,
           0.014855717180544764,
           0.019134977082456484
          ],
          [
           0.05233093386816881,
           0.05282865779713758,
           0.0865105952046075,
           0.05238146313736003,
           0.06466156230363795,
           0.07751672755257183,
           0.05223187971095178,
           0.0590490086946619,
           0.013187563478595177,
           0.039088717949066265,
           0.031928767055130564,
           0.008514660989207945,
           0.055468803582638365,
           0.05142701508601849,
           0.03934911140266423,
           0.00840808127270834,
           0.0487118842310493,
           0.0411023165761521,
           -0.017964499750557528,
           0.04062918054530196,
           0.011072099891225623,
           0.036036777642396794,
           0.005919362372347969,
           -0.031940491659007766,
           -0.007006238606106607,
           -0.014756693121820819
          ],
          [
           0.06567191700443997,
           0.05873458974133894,
           0.0912028813480863,
           0.033402859947617214,
           0.03946948961636687,
           0.04615253571046185,
           0.04203669784527059,
           0.051747943528418466,
           0.018971410650137716,
           0.04262722869701294,
           0.037127495928883286,
           0.01767881385818651,
           0.06649286251429215,
           0.052429710540211255,
           0.05337790080412522,
           -0.0017508842052145202,
           0.04265313460572004,
           0.04610152299331291,
           0.0005703447394908578,
           0.051513604917887396,
           0.029229866008203403,
           0.0330960749742015,
           0.0290585771630974,
           -0.014574098790373774,
           0.0021835415334591213,
           4.82527058975335e-05
          ],
          [
           0.0651724745945278,
           0.05650873496134082,
           0.07902309530232732,
           0.04617458954477832,
           0.029363869515207475,
           0.034357501724374434,
           0.05568449772076797,
           0.034171032125039524,
           0.018480830818075583,
           0.041311162660684436,
           0.026901220915328206,
           0.058166175087875915,
           0.06358335038317295,
           0.04963129864124699,
           0.0638364011699597,
           0.006559057597076867,
           0.025169916019798483,
           0.03297947478650673,
           0.007979502808692501,
           0.04322162616870642,
           0.03134864450334196,
           0.03933358124607203,
           0.03471238282360631,
           0.0030606265318839643,
           0.0059191474825991686,
           0.011602775140729937
          ],
          [
           0.08196594466627433,
           0.05394505731245103,
           0.0762089895201424,
           0.030508097332971745,
           0.04688003755244466,
           0.050186468932213624,
           0.03474984899624023,
           0.03149198858517285,
           -0.0026282728038888037,
           0.025268046799878208,
           0.00399903637556448,
           0.031906800664266904,
           0.08247181678340221,
           0.06401419632785693,
           0.08033932798215132,
           -0.0008686707469175992,
           0.03155589973688527,
           0.03922035052778333,
           -0.003858441256939321,
           0.0482005814865841,
           0.019530374775048903,
           0.025276762141679232,
           0.024023246812747867,
           -0.026050735211787315,
           -0.0030318027754208388,
           -0.030459324619957193
          ],
          [
           0.08144315956622272,
           0.037132375910814475,
           0.05399542828222306,
           0.04519769302897522,
           0.024955471835605925,
           0.04581773440531381,
           0.041728808427091674,
           0.03461227899780672,
           0.004217214070778158,
           0.02326186183553633,
           0.00016531499392358207,
           0.06295784658358414,
           0.07501384729311511,
           0.07287985418101425,
           0.09374626167512456,
           0.012071275804867554,
           0.013907630494387146,
           0.029463641040130467,
           0.01732467208719679,
           0.05069235982902673,
           0.02383923198412366,
           0.027861673531617337,
           0.033184530884528274,
           -0.0018484570947543133,
           0.008525790988829579,
           -0.0164204449188049
          ],
          [
           0.04766615768124305,
           0.05889234859352363,
           0.05216090691679748,
           0.058939026953110735,
           0.020410418379297773,
           0.02009049738146554,
           0.056515858793494106,
           0.02304261883791503,
           0.036197678998917626,
           0.03849022547616482,
           0.02501232976194312,
           0.08357505506116669,
           0.05915906148003752,
           0.032572201578277005,
           0.06934431290026113,
           0.02565696007415974,
           0.00870882613667981,
           0.01957077120682213,
           0.03493753692731727,
           0.04172745237826994,
           0.03700543139969795,
           0.0418186957915718,
           0.04268358095971514,
           0.0368602265688297,
           0.015892634316184623,
           0.03301642820447018
          ],
          [
           0.0585028657601315,
           0.04410595813775567,
           0.034014935313471495,
           0.050808974948760854,
           0.009659318181305943,
           0.027717846676448527,
           0.03605920050601047,
           0.024412023775427616,
           0.024539211459875726,
           0.02436438822950554,
           0.012954288262212676,
           0.08423755953980697,
           0.06265794374895794,
           0.05180037428177536,
           0.07994810076773726,
           0.03717250698074534,
           0.02003627940292571,
           0.031602452544076676,
           0.03282676778041335,
           0.04504585425939317,
           0.036173452141073564,
           0.035757508055341586,
           0.0411705643080337,
           0.042153753609775524,
           0.019276644177500746,
           0.021017983596454348
          ],
          [
           0.037804333967781045,
           0.05017003833508449,
           0.036784929135535244,
           0.05773406625843697,
           0.024216836460348806,
           0.02425520454323088,
           0.03805811041068838,
           0.013735136512048052,
           0.0339987035574551,
           0.0306377077103564,
           0.023354116576806278,
           0.06807526190149041,
           0.06092014198960921,
           0.026194178673409563,
           0.06184846612404421,
           0.038976079834461025,
           0.02687587606905309,
           0.02830381629848555,
           0.04684942713702345,
           0.04560331298248824,
           0.043072850832809984,
           0.04949940467986666,
           0.053133414085719505,
           0.05390423655432086,
           0.027437422089335584,
           0.05361608250550792
          ],
          [
           0.04848014285313049,
           0.03471019816146545,
           0.02453933669157979,
           0.04386947041336789,
           0.008525881734432611,
           0.01909620585354954,
           0.016598321590672288,
           0.009969635916405456,
           0.025880768952966926,
           0.021332532647078323,
           0.0226691483418629,
           0.06896961305925342,
           0.055745953052378866,
           0.037752960074206615,
           0.057168732312177645,
           0.060808599482322534,
           0.04653408948107893,
           0.04091227337659745,
           0.04449397712373096,
           0.049647981472705494,
           0.03989215095570345,
           0.053121585302311064,
           0.05618789133292085,
           0.06792819003132602,
           0.03597618201742486,
           0.051373298930247446
          ],
          [
           0.03826877976165502,
           0.045723565877772376,
           0.02153111583302811,
           0.03544790994473246,
           0.0090104871615804,
           0.023635440639882044,
           0.04596499060789572,
           -0.007753356444595294,
           0.02206964547219431,
           0.046930866411936306,
           0.028283593616015124,
           0.03231656443090297,
           0.015912262118322973,
           -0.01197466616714321,
           0.07158278037461147,
           0.000698323209753493,
           0.002246460990837501,
           -0.004409754144233391,
           0.06986697197291494,
           0.021710697834797787,
           0.08414586213034822,
           0.04675302478650173,
           0.06797417267089248,
           0.050552518801069035,
           -0.00029636530296250907,
           0.055017595029582644
          ],
          [
           0.07243057098357578,
           0.042730981537490775,
           0.040440715746874856,
           0.051120335875124656,
           -0.0057953781935749515,
           -0.008773142699949582,
           0.057194527576800575,
           0.02143366112663911,
           0.012059898370141098,
           0.057087310496604066,
           0.05667563954651425,
           0.05486409807543338,
           0.0355869027266667,
           -0.0349604527310069,
           0.08788382191092894,
           -0.039983158120439566,
           0.008346076252808254,
           -0.02785076149728359,
           0.07460382677804714,
           0.006427539915745684,
           0.08204527374394943,
           0.0683107202178784,
           0.029088658379805787,
           0.03675300130466683,
           -0.008401348673388154,
           0.03090902180541466
          ],
          [
           0.07143946503757376,
           0.040417993257966495,
           0.0468025873911726,
           0.05980238258215473,
           0.020130694071563288,
           -0.011801168547355773,
           0.06671347933514993,
           0.04895078852792137,
           0.030414919296850057,
           0.05253290124868851,
           0.057261918350170526,
           0.044954869115981094,
           0.06181744460715086,
           -0.01475832289002213,
           0.08096617256971511,
           -0.030140060468288682,
           0.012148264717657203,
           -0.014178633832513748,
           0.05998714180585385,
           0.027451779577804675,
           0.05806328275376127,
           0.05500141847816681,
           0.022249918519440526,
           0.036980421239262484,
           0.01175366573232492,
           0.019762340024684633
          ],
          [
           0.056918654224168475,
           0.048217779597912236,
           0.051677163792957365,
           0.0719200540978259,
           0.01988556973950928,
           -0.002886660454390816,
           0.06641622776052652,
           0.03469347752343299,
           0.03579733484568676,
           0.04877989535048696,
           0.03847957952796799,
           0.07148457504467026,
           0.06537495258830095,
           0.009171846494864438,
           0.07845023549472352,
           -0.008412670897328306,
           0.004429876308171987,
           -0.00447309236032703,
           0.04751880853332466,
           0.03186452100164233,
           0.040290438291566005,
           0.05077253703899215,
           0.03170213431498323,
           0.03021998929821279,
           0.015370156819315944,
           0.02138661403335443
          ],
          [
           0.05500281679790217,
           0.05294446392270061,
           0.05113191376145565,
           0.05738986446115807,
           0.013252753852336902,
           0.0035576649465338672,
           0.0606471058125099,
           0.01899863958961867,
           0.025915435938235226,
           0.045956962490075665,
           0.03465834951128832,
           0.06730067441575491,
           0.05760360835373124,
           -0.005414699909535997,
           0.07515411752308859,
           -0.004448745403489024,
           0.009429698683337123,
           -0.0031017933197304837,
           0.05968203932637883,
           0.029881233678752978,
           0.05749085389702582,
           0.058810150461338695,
           0.03755411827137611,
           0.04100880817357472,
           0.007241420784735136,
           0.04002857159251591
          ],
          [
           0.03026602939243417,
           0.0421358833728491,
           -0.01183194997698575,
           0.009898901229309337,
           -0.0035544454440095963,
           0.049207856199066535,
           0.01976588823579778,
           -0.044659823166518356,
           -0.00663275916305528,
           0.059210031220991166,
           0.012052139827925856,
           0.015244466101899806,
           -0.021663800638959285,
           -0.01723122218576012,
           0.07247213176298603,
           -0.01111381561842073,
           -0.019219342514671084,
           -0.03100599421353735,
           0.06852945530515658,
           -0.0018595303660012275,
           0.10770209003942566,
           0.03068250055310856,
           0.08439205936865679,
           0.05579454832411471,
           -0.021776597832578848,
           0.06832394877948084
          ],
          [
           0.041521844944390235,
           0.03992849366391171,
           -0.0005123179544298806,
           0.018185888094464198,
           -0.03361453109225422,
           0.03551570946271765,
           0.044369867853662204,
           -0.01845129813150337,
           -0.006469165681636968,
           0.08128385887571568,
           0.025753732281403124,
           0.027236199400856892,
           -0.019148138552788074,
           -0.03584550720831797,
           0.09070461688773912,
           -0.040497314531309114,
           -0.027009216577795703,
           -0.051284439578763386,
           0.06714384979608204,
           -0.011829924398539998,
           0.1227357796343907,
           0.05588413932252412,
           0.0546714590835983,
           0.03599692199715748,
           -0.038600526109814695,
           0.051802911054507794
          ],
          [
           0.024530263192600765,
           0.03593429996557729,
           -0.025469103449780428,
           0.013309410042918357,
           -0.037469014952948576,
           0.05069548118123113,
           0.02049965346611507,
           -0.05073927784794187,
           -0.013097692698007146,
           0.08955685372602487,
           0.019229796016072664,
           0.008901308961868637,
           -0.04876550636041993,
           -0.027959653254548328,
           0.0939924031883477,
           -0.035808199579305616,
           -0.04361973074949885,
           -0.06038134878807898,
           0.061378875434696306,
           -0.021810545882728016,
           0.1388214273144815,
           0.03476494035743258,
           0.06905874734873071,
           0.04985636550848663,
           -0.04564137140542415,
           0.06717506370104084
          ],
          [
           0.04204050629067119,
           0.042602542231588963,
           0.025552613162815846,
           0.02997336051099936,
           0.03805489082652169,
           0.023335213765883656,
           0.03228196072467321,
           0.004090266738122461,
           0.03072852144508681,
           0.019689292135434966,
           0.007904847031755258,
           0.03314812397704403,
           0.05977690135335656,
           0.02052995945104613,
           0.05492125254586744,
           0.042933675773586005,
           0.029090848224829685,
           0.03653497313422141,
           0.05787611726819558,
           0.056370484495835815,
           0.046706319743167996,
           0.04502048013853266,
           0.07566693726050824,
           0.0635886524385457,
           0.03918810196643016,
           0.06716789996238284
          ],
          [
           0.03547725995876144,
           0.03603814243184414,
           0.010150086622882748,
           0.011581170397489154,
           0.03254063417707387,
           0.024365162986253297,
           0.033838053986078365,
           -0.017173562758596606,
           0.013779377719904506,
           0.015297886349009665,
           0.0011480922525186066,
           0.02358135849080073,
           0.03424354431387003,
           0.013711189367783927,
           0.045818768991643444,
           0.03474476888083908,
           0.03481781877069742,
           0.02940001221021854,
           0.06622638328155064,
           0.038316532633116795,
           0.060352617649221424,
           0.03769587508523345,
           0.09901191865371584,
           0.07266952715126229,
           0.04313238569770278,
           0.0673850713619712
          ],
          [
           0.04421357401564888,
           0.03362077320872062,
           0.008086787363215803,
           0.025485233509347532,
           0.011732494843714997,
           0.001800242687639203,
           0.0070996867396879715,
           -0.00014956149694453358,
           0.011089982204111393,
           0.012458812593980823,
           0.005681419741506627,
           0.0355249603840215,
           0.05988395372253741,
           0.04020578158003235,
           0.039381732012766846,
           0.05951673355854828,
           0.06259764890773437,
           0.047147343257430724,
           0.06040707922169969,
           0.048975925915313634,
           0.04558412366257633,
           0.05508838376534908,
           0.07480880688630256,
           0.07874337579119917,
           0.051711765483198446,
           0.07717657155385454
          ],
          [
           0.04478799263442468,
           0.024179540668017807,
           -0.008690570039381507,
           0.005396603798344002,
           0.014842826063752756,
           -0.013808518338421838,
           0.002389593198498685,
           -0.024183446392844782,
           0.00355978988621386,
           -0.005804685287384009,
           -0.016754146374806933,
           0.019868314695951322,
           0.062126172788176115,
           0.035841186550863435,
           0.029034228939962214,
           0.04674723988201368,
           0.06809821805787963,
           0.0486107744049786,
           0.07709313904918055,
           0.05228905668023892,
           0.04510147166658646,
           0.05147800198389069,
           0.093604240494809,
           0.08244642179251266,
           0.07384465150692002,
           0.0937248923532272
          ],
          [
           0.05342525263394743,
           0.02132448995026351,
           -0.012740104501996502,
           0.007432407075248393,
           -0.024435648706975316,
           -0.03858801077626324,
           -0.024838021813259226,
           -0.01695377239886245,
           -0.010637107341761154,
           -0.005421027361055958,
           -0.012778719949836731,
           0.02520361720861028,
           0.05314562893724009,
           0.05965385376406185,
           0.0335741369544682,
           0.07530169373221943,
           0.08554341653422659,
           0.057839468904257174,
           0.07203932541732602,
           0.04926904594616305,
           0.0463706540608424,
           0.05943768744896369,
           0.08490572199678334,
           0.08621135766157673,
           0.06011674767326819,
           0.0860828074676927
          ],
          [
           0.039429662975414864,
           0.00910455036452501,
           -0.030532465250198176,
           -0.005765954326393069,
           -0.027976933479082547,
           -0.05616352502699527,
           -0.03451462799333152,
           -0.029620799772909018,
           -0.024171599052422915,
           -0.0246416013180924,
           -0.03300218455099774,
           -0.00043664901776491183,
           0.05869412759462758,
           0.04719650787237317,
           0.021789272464019627,
           0.06847490701759174,
           0.09057283342512557,
           0.05965458913770666,
           0.09261195318296278,
           0.04102342587347499,
           0.04551280410779451,
           0.06423993167131822,
           0.09163018184376259,
           0.09668551119096455,
           0.08471845817407164,
           0.11134441482239049
          ],
          [
           0.06729554277948632,
           0.03172126206045783,
           -0.008973176636920127,
           0.023687211465713898,
           -0.02820365295672561,
           -0.022787493371312695,
           -0.017840982028603763,
           -0.01074605507827342,
           0.007778468141705686,
           0.002656016575486392,
           -0.0066829709088686295,
           0.05333327369836591,
           0.046470631442177,
           0.07678891491463247,
           0.07733805636218402,
           0.08270285561482105,
           0.06236458866149486,
           0.048331511727734894,
           0.04290716480876486,
           0.04787861493138276,
           0.043163816199975974,
           0.040803248210927706,
           0.060224397824768405,
           0.07618057651026983,
           0.0312070162603236,
           0.0533153516364874
          ],
          [
           0.07852364567061473,
           0.028061982402754537,
           -0.04121752594071876,
           -0.0069737298426887084,
           -0.0616882089296487,
           -0.060316560111611225,
           -0.04420438043234563,
           -0.042037785013472134,
           -0.013658437367732174,
           -0.03577154747712688,
           -0.038267052529734724,
           0.024538062446422926,
           0.04402767566413007,
           0.09412173581157349,
           0.09851610379737485,
           0.10309364067798782,
           0.07577778903192287,
           0.05835032602864562,
           0.04165154736173604,
           0.05999686002100327,
           0.04388244263731253,
           0.05114595338333791,
           0.061236872417854554,
           0.06710719282335945,
           0.021865840957381838,
           0.05633031671454389
          ],
          [
           0.05586745905101928,
           0.11793762820166392,
           -0.021639472356723505,
           -0.003348451397922586,
           0.05203988719585059,
           -0.07315193675838964,
           0.008591909408784126,
           -0.09452908819427375,
           -0.05199540899649471,
           -0.03618274635001502,
           -0.053410432230881974,
           0.0022668551402738046,
           0.07038834238684435,
           -0.0063949603675063915,
           -0.0054215407179724895,
           -0.04170299249193948,
           -0.01580004024899767,
           -0.05354686082623106,
           -0.05067466215485801,
           -0.05379024325003927,
           0.033965099582834,
           0.006928393555439033,
           -0.06731158357025482,
           -0.04713518294235797,
           -0.08370176531746708,
           -0.12289625444623171
          ],
          [
           0.06510263827730034,
           0.14588936234705863,
           0.03487009384263556,
           -0.006990731882995843,
           0.10091959032312625,
           -0.03803501889602215,
           0.010980174337962056,
           -0.054855435185907464,
           -0.036699590378150085,
           -0.020450203292304847,
           -0.04307200317945624,
           -0.012168983343524287,
           0.10664428580638197,
           0.03733924052551865,
           0.03700758333801191,
           -0.02138984997301313,
           -0.0010308528226788682,
           -0.0167343172380863,
           -0.03622940127961066,
           -0.018072554595148005,
           0.02833588668845466,
           -0.024715702443404014,
           -0.029018316842939,
           -0.027628337703833147,
           -0.057888939214614285,
           -0.10130398125617109
          ],
          [
           0.1145836089745152,
           0.11574241568860838,
           -0.029394485768245826,
           -0.025700140255063605,
           0.059660789941155895,
           -0.03848169944881266,
           -0.002605660255776465,
           -0.054373824534534126,
           -0.04267191575301252,
           0.007794992335398487,
           -0.05609406969883905,
           0.021729228041506732,
           0.06476019547274867,
           0.037023149616161904,
           0.06254954438392696,
           -0.008522058794240894,
           0.02335463254374162,
           -0.010946511909217554,
           -0.022819413215532963,
           0.01895074435679192,
           -0.0008037317553106493,
           -0.018126983151787346,
           -0.03795925707699263,
           -0.00899650430406479,
           -0.07230322971125239,
           -0.10929848115548785
          ],
          [
           0.230233052428088,
           -0.05169084811884102,
           -0.08437449540310585,
           -0.07557183973368037,
           -0.05544666669434213,
           -0.06399523136626091,
           -0.06257255385377301,
           -0.07920182406846171,
           -0.08996271175726823,
           -0.07286102769573091,
           -0.08643692449952967,
           0.027025602845999752,
           0.12617135335199514,
           0.07897247096015944,
           0.15491909045541807,
           0.06188893354925637,
           0.045718596508097314,
           0.029350170494200717,
           -0.01406098232206654,
           0.04517370769967105,
           0.009985971516746933,
           0.023575288337941175,
           -0.007872360746916801,
           -0.01916174572029905,
           -0.056212118859591945,
           -0.07064029035444298
          ],
          [
           0.21010009103926558,
           -0.007387490079672682,
           -0.06717529593086333,
           -0.04704179083933094,
           0.004067445152560467,
           -0.03324922814244907,
           -0.026977877634287037,
           -0.06787977826380309,
           -0.05752984917360983,
           -0.016957697367124575,
           -0.05819287866045075,
           0.0824453743374988,
           0.09509084098113588,
           0.049008905983717016,
           0.11943342203666452,
           0.04125600581681499,
           0.026589384485750794,
           -0.007614991284396133,
           -0.033861445361541384,
           0.013486189546204785,
           -0.012929991974441002,
           -0.009699069727782145,
           -0.014041337951168686,
           -0.02425040551753252,
           -0.07919727074168241,
           -0.08755379162530767
          ],
          [
           0.2589866095969581,
           -0.046777162404100875,
           -0.07825595282533017,
           -0.07252995542027842,
           -0.01926002195603338,
           -0.032522747071464825,
           -0.021978351134515822,
           -0.08311492189224433,
           -0.09157983247978282,
           -0.05434963390354482,
           -0.0794840642188473,
           0.07829147438623296,
           0.10914258466701204,
           0.0797981278956642,
           0.08095176510542795,
           0.027210823646471205,
           -0.011413480224587824,
           -0.0013241572516621836,
           -0.03665664866990599,
           -0.00431020777433283,
           -0.005230533395307602,
           -0.007364424392431401,
           -0.027689349966764615,
           -0.05254965271035085,
           -0.09239465487767962,
           -0.1023109400212657
          ],
          [
           0.18600079870847902,
           -0.005876885148035055,
           -0.0654514744058924,
           -0.03426223031057242,
           -0.031890493859165106,
           -0.04727550518649366,
           -0.031192179672367662,
           -0.06340857209825397,
           -0.04761861282693293,
           -0.022376098746765383,
           -0.05666588006479012,
           0.04876348515522955,
           0.09718762756975075,
           0.06986762125462737,
           0.17382933342742457,
           0.0642286374021444,
           0.039484687834400956,
           0.011231227897163937,
           -0.012868639853769709,
           0.020321254523042398,
           0.002715127078458085,
           -0.0027233942540836886,
           -0.004849889185923051,
           0.013747967907659836,
           -0.03401967208792242,
           -0.02974112312604059
          ],
          [
           0.1321058850906866,
           0.005563412066824064,
           -0.06861585274312935,
           -0.04492907815403892,
           -0.06278326934280729,
           -0.06893537022885443,
           -0.053034171343238526,
           -0.05965324566106983,
           -0.05309377338190929,
           -0.053600699288872,
           -0.06692055474389731,
           0.014317803721184685,
           0.08458472181350854,
           0.07938276709592526,
           0.17765225239390847,
           0.07921528116116527,
           0.06781517867282708,
           0.03933110479080998,
           0.0129564919721947,
           0.05003862109458676,
           0.02584981722063845,
           0.028351329859381436,
           0.016593592270261387,
           0.029687568593418007,
           -0.009744154060722321,
           0.0054750242260782345
          ],
          [
           0.14918290122878775,
           0.044119635410228286,
           -0.035804648846659945,
           -0.004887300027442032,
           0.0234100147676006,
           -0.0020819343960351844,
           -0.005217272462616412,
           -0.017671733628181557,
           -0.02013720010295164,
           0.007514765807871138,
           -0.0400407744744202,
           0.05670273359184544,
           0.08733069771833424,
           0.059910573730703104,
           0.1209679390215776,
           0.02901232633488271,
           0.04325133777444226,
           0.0024995496809344375,
           -0.01643670539857922,
           0.031120277552252246,
           -0.0236772700081663,
           0.002435673820581269,
           -0.015248730599011079,
           -0.014814920217364747,
           -0.051617114431918604,
           -0.06570609677586595
          ],
          [
           0.09966888339727603,
           0.03185922686799919,
           -0.00278638918646687,
           0.02742733832106828,
           0.004635317430573244,
           0.02217660717956632,
           0.0070367777262319575,
           0.015059415235732648,
           -0.0035479456049994362,
           0.00214892406559819,
           -0.026426521547361137,
           0.06339925477100822,
           0.08763830545308163,
           0.09231312224812174,
           0.12772448955180177,
           0.02271034735902555,
           0.016766134236820468,
           0.023545924411034536,
           0.01444167012781078,
           0.04884788616414243,
           0.015602621431000385,
           0.011259094122658353,
           0.02218333488131763,
           0.007338916859061018,
           0.019232688018883448,
           -0.028575835583684595
          ],
          [
           0.09571269809606364,
           0.03140527135201168,
           -0.00016185653859229765,
           0.02677219862331498,
           -0.012824282719550911,
           0.010598634160309733,
           -0.0007291524909314451,
           0.004274055084388523,
           0.007403236898708837,
           -0.00653484229278703,
           -0.020034884549399223,
           0.06528671200660774,
           0.06082298570231934,
           0.09391012379410094,
           0.12263598048177038,
           0.04974982870548175,
           0.027978527933167574,
           0.034600266495138504,
           0.026937191373919034,
           0.04883613457352631,
           0.025842122783722804,
           0.019589434692334373,
           0.03700570337207082,
           0.041772395978916604,
           0.013155854462875566,
           0.018019950364556503
          ],
          [
           0.14519553722045492,
           0.022426537617055903,
           -0.0346886501707831,
           0.010802850154049082,
           -0.015266017276967636,
           -0.0076465352666150455,
           -0.012046902274665872,
           -0.016199242716045503,
           -0.00620521070971064,
           -0.019787459856445505,
           -0.03721505358776096,
           0.05891991538323388,
           0.08686163182144338,
           0.09359851802890357,
           0.15731355642739814,
           0.04786082916096601,
           0.03607798416414609,
           0.008609359009251943,
           -0.002705864270033248,
           0.03112087554867049,
           0.0038845146629470917,
           0.011235475642799003,
           0.007461096077382295,
           0.01676533175595124,
           -0.018405755344014507,
           -0.014334152424859026
          ],
          [
           0.1262545432860246,
           0.028269217497026378,
           -0.035647317239883694,
           0.0027500633391034646,
           -0.03484957979206742,
           -0.031331759625151084,
           -0.023210081886253897,
           -0.03261009332356135,
           -0.005887207544819473,
           -0.020987586677432057,
           -0.039545553505043296,
           0.05179519947985131,
           0.05573353093749728,
           0.10964842363704042,
           0.13182207363567655,
           0.07214421858904899,
           0.047426292948259424,
           0.026686384947299496,
           0.018765594357392612,
           0.046809860877521065,
           0.021407825198372588,
           0.022131354314635948,
           0.029944237918853644,
           0.04595338875885194,
           0.00020903199586608245,
           0.03013946666493081
          ],
          [
           -0.030449052790571682,
           -0.013134122060632164,
           0.10741660729899777,
           0.05846874736406471,
           -0.01133202180661877,
           -0.1136297760720015,
           -0.08064872837934692,
           -0.13134335703774686,
           -0.09041125250877419,
           -0.06744169870612676,
           -0.02951796950385234,
           -0.05497496783404597,
           0.05667758441455692,
           -0.10324091998223711,
           -0.0971125262169097,
           -0.09349854434859686,
           -0.04228031811193406,
           -0.07184808380491071,
           -0.12306808221280105,
           -0.13452234374745825,
           0.0078070708928527355,
           0.12359063323128672,
           -0.10278837174190839,
           -0.11927808307886023,
           -0.11180637065992924,
           -0.12895658514138178
          ],
          [
           0.0032182638318387635,
           0.03330884873863227,
           0.08413619566838682,
           0.03718950801631529,
           0.010420466483172741,
           -0.10818112024890852,
           -0.048174928371156625,
           -0.12098070698667895,
           -0.0755082972865666,
           -0.05377789731905473,
           -0.03175965564159859,
           -0.028058645881731945,
           0.05540349076756637,
           -0.05716139980056428,
           -0.061713109701697536,
           -0.06431837253896167,
           -0.026943346272381763,
           -0.07883687515840963,
           -0.10086291959976407,
           -0.11405073244389825,
           0.02727376802212017,
           0.0788634933217954,
           -0.08753369455700134,
           -0.0937437947159409,
           -0.09810148418269493,
           -0.12941618891198262
          ],
          [
           0.02147562902840816,
           0.039603826281090077,
           0.09659623378049234,
           0.007432122724970597,
           0.07705823481415217,
           -0.055342770475723696,
           -0.05107922410496604,
           -0.1016714631046403,
           -0.06708263716318806,
           -0.04539101333618796,
           -0.00015671323691252015,
           -0.03264955172993883,
           0.09930891610588582,
           -0.05908935024364306,
           -0.08439178816251977,
           -0.04496398102463471,
           -0.025465882927234035,
           -0.049630509289906685,
           -0.09804405646041608,
           -0.1100723133253567,
           0.046745500379201055,
           0.04345599238186221,
           -0.05316858430425235,
           -0.10452258099259074,
           -0.08971887715050889,
           -0.11719495372817701
          ],
          [
           0.04004171860850139,
           0.07517833416974218,
           0.06484757739171193,
           -0.00018426568088031337,
           0.11635069939052828,
           -0.03429250213275174,
           -0.005818977605750231,
           -0.07576192692448827,
           -0.05465780691333082,
           -0.04345869920158202,
           -0.012837731724752693,
           -0.012500811690710573,
           0.10280001104301512,
           -0.006997012093748284,
           -0.03665954191302198,
           -0.007724371561956878,
           -0.013796929880368708,
           -0.037904148860259085,
           -0.0702243850181662,
           -0.08367352364297716,
           0.04996896547121102,
           0.01680777904462674,
           -0.03775077046259062,
           -0.08077759225667716,
           -0.0680962868615338,
           -0.10807602022192533
          ],
          [
           0.028314055326392723,
           0.08208949443530614,
           0.048020920484923346,
           0.004761270563595904,
           0.14413053083221417,
           0.06112154729589184,
           0.05996624353906363,
           0.014586733573755228,
           -0.006230168954494603,
           -0.01789063664756102,
           -0.004679218461361462,
           -1.4330158113362579e-05,
           0.1043986780245903,
           0.06446677939537379,
           0.01637165061213522,
           0.024965121170782006,
           0.023718074082453244,
           0.009915666974694398,
           -0.0376157643304722,
           -0.010703055598951239,
           0.02069543273813612,
           -0.007566593705711805,
           -0.014534894752802258,
           -0.04958029356342386,
           -0.03473387370117839,
           -0.07266476703991005
          ],
          [
           0.022782674296709576,
           0.04949422125410119,
           0.033740050648003284,
           -0.019051897077968005,
           0.1999456855798446,
           0.0858324041680627,
           0.04590828402687083,
           -0.0028233994762520698,
           -0.01933300191044479,
           -0.021184451563084045,
           0.008808240623207647,
           0.002585622424894629,
           0.11308504840447581,
           -0.0021365869490994893,
           -0.04331399708758578,
           0.01577790019002223,
           0.0002165353355859101,
           -0.004271161150236347,
           -0.051559496880615965,
           -0.055365134653159426,
           0.04270612519515998,
           0.0016539518438077327,
           -0.01448311196598373,
           -0.07150690266636496,
           -0.046575914178589625,
           -0.07529569339417326
          ],
          [
           0.03439458503270856,
           0.06112014915282185,
           0.031090353860128622,
           -0.017055762372435335,
           0.19658975474592794,
           0.0712534744454402,
           0.058531167603346285,
           0.008254348929398775,
           -0.02216075232284781,
           -0.02456307862965801,
           0.004664511478991884,
           0.0033340145549939915,
           0.0929081303966397,
           0.041989230690358065,
           -0.024849826185684487,
           0.03957842380494159,
           0.015582738704847804,
           -0.006587102791909966,
           -0.048906734490160864,
           -0.03704092342595876,
           0.03980968715696839,
           -0.008309964656239177,
           -0.014356173362381597,
           -0.05554396854636967,
           -0.043986220855084246,
           -0.07555111049913202
          ],
          [
           0.02481227550372289,
           0.03164633768195771,
           0.03534543629399428,
           0.006132789158529245,
           0.1951527340215728,
           0.13712972198293383,
           0.09629998120196892,
           0.04468501118417467,
           0.04176596812250155,
           0.041099136190987484,
           0.017360575324885275,
           0.02408381609564203,
           0.06128365334405564,
           -0.005934985742488047,
           -0.040554156390727736,
           -0.005313075419982188,
           0.004650460288870867,
           -0.01043871005472144,
           -0.03235415663114993,
           -0.026043892443342195,
           0.0066734898893923145,
           -0.01684498844890059,
           -0.010819777299518496,
           -0.04684331656154235,
           -0.04619488268204604,
           -0.04489544889942616
          ],
          [
           0.01395342339162492,
           0.027483990277547526,
           0.038216185480797665,
           0.02047410006930131,
           0.17911864483372936,
           0.1444703360733482,
           0.09391290726701929,
           0.06191140524637459,
           0.025590758955253617,
           0.0180264564759737,
           0.021336723249291645,
           0.012093524167172215,
           0.05550868200843559,
           0.0416168493398259,
           -0.02642174089542483,
           0.024484217363788835,
           0.015835640636206044,
           0.006352907443446798,
           -0.034219026592217136,
           -0.012666098672521053,
           0.009307294939354283,
           -0.0018145212507363062,
           -0.01573131665553343,
           -0.05028474783574885,
           -0.0389783751961289,
           -0.041031487600159566
          ],
          [
           0.011607226607102006,
           0.04550078424548351,
           0.05504051461737133,
           0.043765491079111374,
           0.14085521055764733,
           0.1213434275432213,
           0.08285072933769491,
           0.07306941573291104,
           0.020775251844522974,
           0.015894180771550304,
           0.02830368364111488,
           -0.0005594354792531342,
           0.06193827587562717,
           0.06351252737147406,
           0.0019497780631668737,
           0.030246300275506982,
           0.033123560593990936,
           0.022945126271581434,
           -0.03633763343014479,
           0.005808106233360505,
           -0.0005312392799123877,
           -0.001132733602904279,
           -0.016521786911962794,
           -0.04478812521686201,
           -0.0331510577366248,
           -0.044005941467080145
          ],
          [
           0.01632932272993992,
           0.052271781030358594,
           0.06342806009155016,
           0.09214837558383443,
           0.0628886063409218,
           0.0828718947600911,
           0.09599812552470963,
           0.07895808599968515,
           0.04854226988864313,
           0.06494225247568691,
           0.08065819368597829,
           0.037860293000816087,
           0.04304767813552404,
           0.017272727574348418,
           0.04418490678936288,
           0.003723729480763882,
           0.004724432453309307,
           0.013853506554930312,
           0.01024083846065707,
           0.010536686866866318,
           0.0025694365595113344,
           0.023536746087104626,
           0.00572126623162128,
           0.003101727416390254,
           -0.008565945737690678,
           -0.005954236874286228
          ],
          [
           0.026127067300497686,
           0.04942201507594643,
           0.0752295389445812,
           0.07965556580417119,
           0.06863898989266429,
           0.08370196203602223,
           0.0720798952296397,
           0.08696686065649217,
           0.040397644481557526,
           0.061751225187161696,
           0.0644427444475354,
           0.015098909777118696,
           0.03636820144806857,
           0.03160836643203005,
           0.0421510013927861,
           0.002949805633939512,
           0.026361842306316025,
           0.024248625887948516,
           0.002543203525203347,
           0.021474634195655734,
           0.008861398397777193,
           0.03774367614167368,
           0.010171230833203593,
           -0.010576893682372246,
           -0.009967754647132454,
           0.0014545564318540205
          ],
          [
           0.006156917580006888,
           0.039102109233759175,
           0.08067286360320125,
           0.0888430390838805,
           0.09283218743170477,
           0.09219290296956084,
           0.11056812956808082,
           0.09198574202034746,
           0.06731368303695942,
           0.0881823877045852,
           0.07522969323145165,
           0.0457908511282612,
           0.022647941347089612,
           0.004961586403838064,
           0.018809674392979148,
           -0.013760960733559008,
           -0.0114724182706952,
           -0.008143067864818526,
           -0.007909716939525274,
           -0.011063907602158168,
           -0.020175136570769053,
           0.010491151906887514,
           0.005715129911428918,
           -0.02823097237146001,
           -0.026933533120345896,
           -0.015835664989697018
          ],
          [
           0.0016345780653186925,
           0.03454808354918537,
           0.06492354024195104,
           0.0806966371068702,
           0.113223357780044,
           0.1209398568131787,
           0.09168805527093238,
           0.0924358878621093,
           0.037984328744756435,
           0.05484512433102412,
           0.05713837543577813,
           0.026789102165422435,
           0.029722485393005815,
           0.031066674957877488,
           0.018190374908117313,
           0.011707032084615127,
           0.014453364046116107,
           0.008447015191710816,
           -0.01882895957269301,
           0.0008366686405200108,
           -0.00821015655600571,
           0.018576767338839145,
           -0.006165230874062344,
           -0.03338298579100746,
           -0.022171063814144965,
           -0.01888985787895578
          ],
          [
           -0.0029612410471176742,
           0.0095305733748475,
           0.04127660469033215,
           0.05244258263495835,
           0.08297815414492035,
           0.13325825799768315,
           0.146113086908629,
           0.10472672390726201,
           0.12077353407633179,
           0.13531476712967955,
           0.019674223955969683,
           0.06096254721045977,
           -0.007881687098140633,
           -0.045918251433627696,
           -0.039348055228706394,
           -0.07065380046863984,
           -0.02893078450646616,
           -0.03908866044081016,
           -0.038453476880746476,
           -0.04014309291894254,
           -0.04364401471527457,
           -0.04879888296459929,
           0.0035810792902807587,
           -0.05649641918633884,
           -0.07325462312281414,
           -0.04861460375429966
          ],
          [
           0.003190717707879265,
           0.021702466988514885,
           0.05786919315007075,
           0.0648912356734343,
           0.08155283525276169,
           0.10891099302016582,
           0.12872631658328154,
           0.10430848154733341,
           0.10566924114435339,
           0.11700850380140204,
           0.04303694597254304,
           0.06911085993275654,
           0.002904005986811481,
           -0.025493623129379223,
           -0.013086327261764091,
           -0.05485752971410987,
           -0.02146139878795414,
           -0.0374894870616385,
           -0.03706490866001452,
           -0.029289601076779595,
           -0.033714208744336255,
           -0.03181782641509215,
           0.008094571564435216,
           -0.05369570558205233,
           -0.0582017273056685,
           -0.036819394892025084
          ],
          [
           0.00802202467602528,
           0.02115045260017645,
           0.03598959065268134,
           0.037236106502155336,
           0.12390389132675822,
           0.14272070854356095,
           0.12375952474676888,
           0.09184290042860252,
           0.10002044099194707,
           0.10037225499815883,
           0.021357260801348976,
           0.0478217632270235,
           0.011966662914765919,
           -0.023255551376240302,
           -0.03258975009744004,
           -0.049198685002363116,
           -0.010889096487912142,
           -0.027790600953586583,
           -0.0364058013230404,
           -0.03387778221396383,
           -0.02688517542612509,
           -0.031846578307262244,
           -0.007062492910044488,
           -0.050359433577582685,
           -0.05596063964521733,
           -0.04301210945594851
          ],
          [
           0.00995658751127787,
           0.02680940355672673,
           0.051353604769513755,
           0.04897771061149456,
           0.12498647925127376,
           0.13286708835090266,
           0.1126590770247255,
           0.09868513675543109,
           0.08053073481410317,
           0.07952703033883732,
           0.041353786524306824,
           0.039298401540891204,
           0.0207690903780898,
           0.00925604253615181,
           -0.014602403845358436,
           -0.0232074641852886,
           0.0012295183863805792,
           -0.02012541275720295,
           -0.034747339600030375,
           -0.015027832849735051,
           -0.020995253420871912,
           -0.016873147775829378,
           -0.00720840388070948,
           -0.04481723073496084,
           -0.04687053938872204,
           -0.03305050718950374
          ],
          [
           -0.13471198630837347,
           -0.11346267438267015,
           -0.08821286314907537,
           -0.016314322898686007,
           -0.13300904495526047,
           -0.11977789640071462,
           -0.119382577016116,
           -0.14315098130262294,
           -0.100202345563134,
           -0.14501794257314754,
           -0.08886921940803491,
           -0.12032283350180442,
           -0.1061940958244536,
           -0.14573954544224615,
           -0.13860221135062878,
           -0.1366744735135826,
           -0.11100966009161034,
           -0.07757234437565451,
           -0.1417364851968043,
           -0.1414821188163256,
           -0.09878099775615035,
           -0.03972814465678172,
           -0.0942629281772932,
           -0.13605050487312176,
           -0.07392402163234793,
           -0.03705773411408757
          ],
          [
           -0.0714199954093892,
           -0.0932304196648746,
           -0.10343965232381375,
           -0.03218082819596359,
           -0.12516055490635064,
           -0.1216554662979278,
           -0.08702611682065638,
           -0.1432422736478268,
           -0.10075554047141953,
           -0.12961248418233315,
           -0.08836021379479017,
           -0.076743259131084,
           -0.0904430622778738,
           -0.1262296158925211,
           -0.13279948808384534,
           -0.12746635240789522,
           -0.09760339114466468,
           -0.0911836026751994,
           -0.12542111820482857,
           -0.13512659980834743,
           -0.049007758492555356,
           -0.0369664803686611,
           -0.09199000578686264,
           -0.12414145154041482,
           -0.03104241269052513,
           -0.07041787677531396
          ],
          [
           -0.08785633603680479,
           -0.07006247455337591,
           0.040655811110822754,
           0.06372618653648066,
           -0.09542433124483995,
           -0.14111590858269146,
           -0.11581347573224932,
           -0.14713805198096802,
           -0.09879029424088767,
           -0.10449658864662525,
           -0.051684836474078275,
           -0.08996194146310622,
           -0.054533172918102085,
           -0.13063969178209328,
           -0.12317897391604542,
           -0.12997842297666992,
           -0.05898065141542559,
           -0.07124010137980266,
           -0.14127869059189066,
           -0.14273276870430146,
           -0.05158509613913011,
           0.06911969776891061,
           -0.1230531127210083,
           -0.12814785485643068,
           -0.10804258751798407,
           -0.08866112611565599
          ],
          [
           -0.03271326517275033,
           -0.06725601497993,
           -0.012867313712678713,
           0.0338937824020602,
           -0.0908313308660171,
           -0.11490164796222775,
           -0.06258864079078719,
           -0.1376077219571401,
           -0.0880446925027331,
           -0.09589027509716933,
           -0.05937914564568221,
           -0.029734126002305142,
           -0.03706693549822555,
           -0.10889570819098414,
           -0.11483872816193644,
           -0.09281756576394212,
           -0.058537438832784186,
           -0.08330452251389509,
           -0.10462513137331442,
           -0.12986790104025503,
           -0.0034242074194130723,
           0.06735724164618931,
           -0.12307876792472756,
           -0.1194808195891417,
           -0.041229934711852795,
           -0.12235465497407631
          ],
          [
           0.10734899684030985,
           -0.09853565841912876,
           -0.13949519540782845,
           -0.08341470406482139,
           -0.11587266909930433,
           -0.07221468967377452,
           -0.05479782407250375,
           -0.12610376756489028,
           -0.11069737579818947,
           -0.11184931503138426,
           -0.13740334150484337,
           -0.02958998161681624,
           -0.07698590622208344,
           0.08019977284769608,
           -0.10354710318089648,
           -0.11668566838376011,
           -0.08371831386155612,
           -0.10850558538727686,
           -0.10581125524893348,
           -0.10159084263537976,
           0.04425410899192919,
           -0.08254463202936109,
           0.03511046513362026,
           -0.08366490242060853,
           -0.07599176898109954,
           -0.1225761903515188
          ],
          [
           0.06377848135863481,
           -0.14307132648354445,
           -0.14592174515456915,
           -0.09670845481576927,
           -0.14099217664457797,
           -0.04205349291455629,
           -0.06919901576922932,
           -0.1203581138756723,
           -0.09409050673449212,
           -0.12840345130964967,
           -0.14699935392094687,
           -0.1086474764248905,
           -0.10089843842411268,
           0.1327118233223178,
           -0.12236828340298865,
           -0.12553272262714574,
           -0.09389676676987697,
           -0.12021351858292048,
           -0.11914020955006482,
           -0.09933938834944095,
           -0.01674343458735497,
           -0.09454889212635086,
           0.06323320056024873,
           -0.08625740494443557,
           -0.10778952469813996,
           -0.10804938100633416
          ],
          [
           -0.13534079316589434,
           -0.1497615012772139,
           -0.148456179919544,
           -0.0402328904519231,
           -0.15046428535215742,
           -0.032240861556470296,
           -0.10006934809006576,
           -0.12634542422436393,
           -0.1115187779673728,
           -0.15038359013301844,
           -0.14900722025066093,
           -0.13949271351115602,
           -0.15001096576410883,
           -0.13239321274149954,
           -0.10918356543879157,
           -0.10235756497854781,
           -0.1442272646864633,
           -0.13749889476790333,
           -0.10901399771560645,
           -0.12584651461246232,
           -0.023936493246042884,
           -0.13170499855064266,
           0.20834248533278765,
           -0.14119271890412236,
           -0.13259565693623937,
           -0.08984698719454642
          ],
          [
           -0.06718567323933905,
           -0.14978035646909973,
           -0.14969680259406015,
           -0.06466947377327886,
           -0.1500681321459796,
           -0.05780020433618496,
           -0.09975418626582974,
           -0.12507318068967352,
           -0.10803982792036307,
           -0.14865284854885502,
           -0.1495247321631541,
           -0.1312711375285501,
           -0.1471947788266819,
           -0.023188265589410867,
           -0.12088737279990998,
           -0.1106723806995645,
           -0.13469009343231225,
           -0.14053972627453554,
           -0.120730242431982,
           -0.12376108243907352,
           -0.029273314249838908,
           -0.121150165665628,
           0.1597827942907894,
           -0.10173768440086114,
           -0.1264554994550772,
           -0.10112929769619418
          ],
          [
           -0.131768886137959,
           -0.12330320930183136,
           -0.12696691332772667,
           -0.03811071364989463,
           -0.14937084557181726,
           -0.08056916634661647,
           -0.11105805561676765,
           -0.1316536887497151,
           -0.10095332626176376,
           -0.1455815123781891,
           -0.1017352967527355,
           -0.13206150839204173,
           -0.14139630004020004,
           -0.1418909914634468,
           -0.1252335454470221,
           -0.11274430316240822,
           -0.13376121198450375,
           -0.10135867807486643,
           -0.12445280879216279,
           -0.1298986821760192,
           -0.04133014708704695,
           -0.11532765728516883,
           0.08020309696719927,
           -0.13981110910490832,
           -0.11445434030265042,
           -0.06387156521460127
          ],
          [
           -0.05155889786703671,
           -0.132656634554158,
           -0.1454868813177525,
           -0.057619791866504844,
           -0.14279931654685707,
           -0.06760711970892631,
           -0.07796790383527599,
           -0.12988670026449592,
           -0.11418271076405725,
           -0.1399531516969866,
           -0.14508692353390273,
           -0.10295141932182403,
           -0.13003352225639725,
           -0.08758271361702928,
           -0.13392577339139455,
           -0.10962325666928317,
           -0.12150259195738687,
           -0.11543897645753293,
           -0.12583655691629747,
           -0.12599526599687869,
           -0.004770370958264963,
           -0.1120492334344487,
           0.05961060241634694,
           -0.11623807550120595,
           -0.050373022749106586,
           -0.10487207754450062
          ],
          [
           0.1949585214206242,
           0.026163664043923784,
           -0.0905503997234013,
           -0.04186797439111764,
           0.006620965727821143,
           -0.035650568695891796,
           -0.0036975294828171523,
           -0.0928302573889242,
           -0.07700176604278534,
           -0.04371598109623366,
           -0.07236704390200423,
           0.09480923184767778,
           0.019790086873665708,
           0.008887874433162302,
           0.006253200249329877,
           -0.02328247040889181,
           -0.03211766055083343,
           -0.044515904836452444,
           -0.0558147172009999,
           -0.028757184790039733,
           0.04115575383723452,
           -0.00945901696450921,
           -0.058827052999129215,
           -0.06200503383429817,
           -0.0970327996713291,
           -0.12936060224854476
          ],
          [
           0.23495499706477602,
           -0.04231278029540153,
           -0.09657160580485831,
           -0.06319682882756522,
           -0.0315734028216397,
           -0.041818113955281566,
           -0.00992632595237497,
           -0.0985198763258994,
           -0.09356853641118702,
           -0.0637600736825183,
           -0.08888007055665836,
           0.09473388273531583,
           0.03550837061493789,
           0.04867769507302794,
           -0.009344822665428687,
           -0.03319269768589339,
           -0.02939841596158886,
           -0.05356128846584815,
           -0.05958153906019116,
           -0.04791463404974963,
           0.04076619418509736,
           -0.023494261313191128,
           -0.040755267368409384,
           -0.07643254368717758,
           -0.09229860415699212,
           -0.12950321439982632
          ],
          [
           0.08585581113791996,
           0.030603070828349455,
           -0.06622199967380062,
           0.011757954725477582,
           -0.01807167743583979,
           -0.08897140294620423,
           -0.0014033872268904568,
           -0.11714526177654733,
           -0.07262812371392423,
           -0.06886372565645386,
           -0.07046682023342925,
           0.04789275447824934,
           -0.010116673151164074,
           -0.05581712297263121,
           -0.05614344738458847,
           -0.06490422054581957,
           -0.0400877514069795,
           -0.07505504534090768,
           -0.08071635357508138,
           -0.07627496766847927,
           0.05007100952150814,
           0.009436605331236442,
           -0.09308876957742324,
           -0.0730822348911163,
           -0.07157704761906525,
           -0.13221893846627553
          ],
          [
           0.1234292214465435,
           -0.05500941405697954,
           -0.12353769169598347,
           -0.038070579408974334,
           -0.07199420221184012,
           -0.07048488482759313,
           -0.010949856000823849,
           -0.12612632628941936,
           -0.10407770054250386,
           -0.10132826109711712,
           -0.10148512486923908,
           0.04215209444264273,
           -0.029124407256626295,
           -0.039801933915217746,
           -0.08267078235223756,
           -0.09744964462860428,
           -0.0623773734817005,
           -0.081950451402643,
           -0.09470911560207204,
           -0.09688969897614516,
           0.038161631699439924,
           -0.03329824327126164,
           -0.06048827628651515,
           -0.11218455359945415,
           -0.02095174663827959,
           -0.13133541294853796
          ],
          [
           0.33289478550801765,
           -0.08968091550783275,
           -0.10324629084058592,
           -0.10146521194190926,
           -0.0732899901258242,
           -0.054518113902622956,
           -0.056933458473045165,
           -0.09161499118261329,
           -0.09086261057382947,
           -0.09113624255740368,
           -0.10331008975634023,
           0.026208573031138133,
           0.07372515546535069,
           0.0915610106028413,
           0.039479023640374034,
           -0.01443065753198669,
           -0.01315571554884254,
           0.017528937334781974,
           -0.05383973793531406,
           0.0483284707712332,
           -0.014295833729733143,
           0.010419334238700867,
           -0.04088989590567285,
           -0.06755525323048865,
           -0.10057275973975673,
           -0.10885047518504773
          ],
          [
           0.3728903306978214,
           -0.11404876267872568,
           -0.11712812723299244,
           -0.12330095986766999,
           -0.11064735653129316,
           -0.05058346633309943,
           -0.06333935607050124,
           -0.0942550502297059,
           -0.08752707546061732,
           -0.10972890410348544,
           -0.11811631758900769,
           -0.026665579730799388,
           0.022348780170894783,
           0.11953930854126449,
           0.01369603570534561,
           -0.05270213297397944,
           -0.013381417155238301,
           -0.00025403956798716876,
           -0.07489874769386104,
           0.060838216681010776,
           -0.042056399820329896,
           0.007741750716759088,
           -0.06397221161043558,
           -0.06923774910357647,
           -0.0969143980603499,
           -0.10087662378944594
          ],
          [
           0.2507246715720008,
           -0.08926655678045906,
           -0.12432126263783877,
           -0.10612655997138078,
           -0.08378322245151443,
           -0.04675962187008244,
           -0.008513090910467619,
           -0.11315210033934066,
           -0.10522534082629123,
           -0.08468451415169687,
           -0.11933076046513316,
           0.031288891990927464,
           0.009391153894680482,
           0.12243285970959555,
           -0.04773998898911991,
           -0.08069116381740095,
           -0.04882878925606382,
           -0.058040563103757506,
           -0.07432238615547505,
           -0.060347350068793604,
           0.0029255061129307147,
           -0.040674619554905395,
           -0.02900884622034909,
           -0.07268691589007688,
           -0.09086961303666136,
           -0.13254774951521264
          ],
          [
           0.2721294605467896,
           -0.12497281863001236,
           -0.13043798439164028,
           -0.12753084529488057,
           -0.11710387108579093,
           -0.057807422117775356,
           -0.05737884209239229,
           -0.109913514511085,
           -0.09786316074207638,
           -0.10678413189846157,
           -0.13090162470037553,
           -0.053177051002710723,
           -0.02075829676221802,
           0.18983166791683448,
           -0.05656219021447961,
           -0.10032974171139897,
           -0.05654625638323056,
           -0.05354982458059175,
           -0.10090152174507687,
           -0.02526964333504006,
           -0.061373531287362684,
           -0.04545236731808701,
           -0.029149049211686748,
           -0.06613980450859407,
           -0.0977012328672269,
           -0.1311957961606757
          ],
          [
           0.224082654913559,
           -0.06705833924963879,
           -0.12500914885903752,
           -0.09257907196963908,
           -0.10248045525872199,
           -0.10388927549749104,
           -0.10939558786315969,
           -0.09605375646044136,
           -0.10190371660147077,
           -0.12221115954395326,
           -0.11035040685505074,
           -0.024791008491316407,
           0.07016081010150907,
           0.07576013255850869,
           0.15012032028969968,
           0.04620971989877176,
           0.08097479208429989,
           0.042882054159484206,
           0.04752542653076261,
           0.11465763434891835,
           0.054834705847435106,
           0.0801062315625701,
           0.016057826011788123,
           0.013640921943749856,
           -0.019312843968405546,
           -0.043072347132422445
          ],
          [
           0.27491312258923883,
           -0.08987535287200568,
           -0.12510048217747186,
           -0.09763609487099326,
           -0.11436024379513715,
           -0.10815776611700537,
           -0.12450352027398284,
           -0.1045511008520617,
           -0.09852174538267996,
           -0.1307446876149121,
           -0.10961621330662377,
           -0.039394718225484224,
           0.024640586898655115,
           0.07909047718381387,
           0.10963760951154738,
           0.03558413381897568,
           0.09047620038980331,
           0.022130919261896587,
           0.04507497042242822,
           0.13551337414045378,
           0.04563679589987682,
           0.08561788697530465,
           0.022843217429060203,
           0.022551253556327228,
           -0.01643219321100381,
           -0.02186898503849169
          ],
          [
           0.30080680923601716,
           -0.08271003642196813,
           -0.11170466616856067,
           -0.09590277959433366,
           -0.09776278661952642,
           -0.06406529785034477,
           -0.09118618354438802,
           -0.09338135218346437,
           -0.09537317549968727,
           -0.11915900076354771,
           -0.10229603450361895,
           -0.004747634233150694,
           0.07642085460313136,
           0.09927947682416782,
           0.10838755054506011,
           0.0339144066998846,
           0.03343616354432069,
           0.05850010764349814,
           -0.007815038542894476,
           0.09279516008565677,
           0.022952118025473423,
           0.06557375007625646,
           -0.017271455580096573,
           -0.014450926303373496,
           -0.06169096010562651,
           -0.06517195431802379
          ],
          [
           0.3499490501998833,
           -0.0986912800995087,
           -0.11857130116012755,
           -0.10341098591956159,
           -0.11061484716785024,
           -0.09168223516980467,
           -0.11354380801915115,
           -0.09791808386519119,
           -0.08625585694485466,
           -0.13023389562087662,
           -0.10722335261678806,
           -0.018821279491421206,
           0.029695765533759216,
           0.06464843633782047,
           0.08311646749321083,
           0.014741625856352969,
           0.03984744544321736,
           0.028746734192733464,
           -0.009590797598565792,
           0.12177587036359122,
           0.0069951091997017545,
           0.06962694167770159,
           -0.019611254713062687,
           -0.017199124632276713,
           -0.061214761225164394,
           -0.06433304182009238
          ],
          [
           0.11915700635933812,
           -0.06687390886813743,
           -0.13689415378781594,
           -0.10170283295004079,
           -0.10847177277908913,
           -0.1312725193631301,
           -0.11724330920729006,
           -0.0920579114058874,
           -0.10591002536421584,
           -0.12450810007198482,
           -0.11744342006485664,
           -0.05841564243105564,
           0.04559122240156288,
           0.056669899870553125,
           0.12182202714251683,
           0.04760751927861201,
           0.11289597026929238,
           0.03499672509982543,
           0.09605270231146634,
           0.11656758013098117,
           0.09018420862274154,
           0.13034690509567348,
           0.05107873426611742,
           0.01804683841962776,
           0.031473707202919504,
           -0.011977423928659803
          ],
          [
           0.1754023885997557,
           -0.0943026165407382,
           -0.13859303487711758,
           -0.09788298302229029,
           -0.12367121427165874,
           -0.13526373355912005,
           -0.13070152194784745,
           -0.11659931788077872,
           -0.10154831506519985,
           -0.1334941492109346,
           -0.1233395688480099,
           -0.06753907684869316,
           -0.0008159719475026583,
           0.06414130851285008,
           0.09932231600366781,
           0.03379765275924429,
           0.07556505282047091,
           0.017216601249783414,
           0.11230049252597357,
           0.12659037289966663,
           0.06907612339269883,
           0.14035099413367152,
           0.05888437125034077,
           0.029075905595984275,
           0.030408044094447945,
           0.0033029223198898505
          ],
          [
           0.13379186017550132,
           -0.03207043719625648,
           -0.10434910596568794,
           -0.0772707485631543,
           -0.07729301891470539,
           -0.09220800487670208,
           -0.07727897458179803,
           -0.06874418741518151,
           -0.09246902459154686,
           -0.09083120802618386,
           -0.09596890187180213,
           -0.014114593891895816,
           0.11017062726398685,
           0.05776014784028377,
           0.16796162859289626,
           0.06524476370377602,
           0.09125911516773685,
           0.04126455345989555,
           0.03777743520125315,
           0.07847265201939405,
           0.057761106314797334,
           0.0632410029341072,
           0.016516770257448937,
           -0.0026725537160572632,
           -0.003140949451769709,
           -0.039230469153180056
          ],
          [
           0.04844393984716258,
           0.001719472428316604,
           -0.09011080907725558,
           -0.04300533378812614,
           -0.08587012635808725,
           -0.10556686017256833,
           -0.0770313807082554,
           -0.054090657544181214,
           -0.05645284455972087,
           -0.07283492958049154,
           -0.07582605194718033,
           -0.01939778269663328,
           0.06342488029594648,
           0.0610851351931502,
           0.11577119464020569,
           0.1221130798838071,
           0.09687893109472206,
           0.06340921372252409,
           0.05461652741894393,
           0.0690224471969191,
           0.05913564516783959,
           0.07748084949994846,
           0.056588015867656466,
           0.0478082894696312,
           0.03238323956022923,
           0.02660541306618741
          ],
          [
           0.07704933540549577,
           -0.026060633152887258,
           -0.11420766813023042,
           -0.08111030083494344,
           -0.09614362092950206,
           -0.12009694831671976,
           -0.1011937323042541,
           -0.07862810007714152,
           -0.08988502606739238,
           -0.10384158949013111,
           -0.0949567116034192,
           -0.032785643423506886,
           0.07713816452846348,
           0.05250992385428854,
           0.13561160884388063,
           0.0696093816538052,
           0.11902957233186501,
           0.05686249378377509,
           0.06717177038087843,
           0.1126478044214278,
           0.08056884912953285,
           0.09987736334481545,
           0.04935168021526787,
           0.023472281975605136,
           0.04460640346311745,
           0.000517013385282955
          ],
          [
           0.04702962277391934,
           -0.13033840486043113,
           -0.14270413555765005,
           -0.10766286133266181,
           -0.13921228361109686,
           -0.1477677339761639,
           -0.1429256242638922,
           -0.14140747642906246,
           -0.11748756344083919,
           -0.13372780639286602,
           -0.14118966876298844,
           -0.11533209087061065,
           -0.06665799038582675,
           0.03715828160876544,
           0.04784244468414922,
           -0.051326156814181026,
           -0.021752663872981304,
           -0.002311832872685382,
           0.21687276255109195,
           0.13335083979861717,
           0.11595953720400537,
           0.2123210557659876,
           0.07273147350814502,
           0.07734372334010259,
           0.07398696591378995,
           0.06136822365251832
          ],
          [
           0.02551727117121541,
           -0.14464789509318793,
           -0.14653831818732224,
           -0.11847920925726518,
           -0.14665479851651375,
           -0.14981664001433517,
           -0.1471326703700447,
           -0.14749571560627375,
           -0.1257054951583711,
           -0.1357921867501575,
           -0.1479108668059947,
           -0.1316840378132694,
           -0.08689730746392871,
           0.039180590896671474,
           0.016729565609412522,
           -0.07120321270191259,
           -0.04824933529772506,
           -0.01576003675858989,
           0.23789369534111054,
           0.14005078475695887,
           0.11182139119089896,
           0.23286002404566347,
           0.06987905623847293,
           0.09128296691996582,
           0.09039126435412265,
           0.08638370799872835
          ],
          [
           0.04165769058233046,
           -0.10961256716725937,
           -0.14284874192025335,
           -0.11449489430863505,
           -0.13413885184428573,
           -0.1434647008169194,
           -0.13655819206759864,
           -0.12530402179949804,
           -0.10690116210798603,
           -0.13359949745920713,
           -0.13505377204456737,
           -0.10039533787939707,
           -0.03002319164647871,
           0.03899454948717729,
           0.06388879731566116,
           -0.005572863121741517,
           0.05053851845056401,
           0.03186649425343549,
           0.17253889960043567,
           0.12938580102327307,
           0.08332494813841249,
           0.19724263209867177,
           0.08702688241287992,
           0.04576129491550332,
           0.09689999476859415,
           0.05295249816236278
          ],
          [
           0.03605813508725131,
           -0.13895584162121555,
           -0.14505582805795636,
           -0.12589028464234903,
           -0.14555568053349777,
           -0.1471721351399637,
           -0.1482281136155438,
           -0.14531457433124523,
           -0.10714337851327776,
           -0.13847601775229518,
           -0.1444391740076866,
           -0.12744527148462287,
           -0.07372964723612128,
           0.04115532826450169,
           0.027648696604725187,
           -0.021027494162104754,
           0.008055983703475655,
           0.028794304981632934,
           0.20871682353723342,
           0.12106751142994082,
           0.06139168987889726,
           0.21473119150102205,
           0.12090256885509143,
           0.07494128464668892,
           0.10458094644178201,
           0.0943321021256669
          ],
          [
           0.04516699858214643,
           -0.016681951936813932,
           -0.05794115464114362,
           -0.018302822882289183,
           -0.06949133073857836,
           -0.09087570602835138,
           -0.07280678842769735,
           -0.05075342836833638,
           -0.04382148873089099,
           -0.045112350345738,
           -0.05208057453056804,
           -0.007771259532260766,
           0.02058916994488111,
           0.063833670260284,
           0.035113893552411235,
           0.1362535927167179,
           0.09885653259077015,
           0.07690422733322452,
           0.06672738226793515,
           0.0547104848067404,
           0.04462120415407664,
           0.05927162628657598,
           0.08491426030040927,
           0.08280912855806724,
           0.05218105723058605,
           0.11215199841866014
          ],
          [
           0.03238712558130433,
           -0.04380233059605684,
           -0.05296905163372481,
           -0.03920920525799003,
           -0.060014301271061846,
           -0.09259514117454762,
           -0.07344361117209754,
           -0.057170886813476915,
           -0.055292058292042784,
           -0.05419089391944672,
           -0.058085648977258264,
           -0.03128761907778624,
           0.019116725439755067,
           0.03212720374126482,
           0.007636404018315862,
           0.12431589517087605,
           0.10930624321942806,
           0.07572418728172225,
           0.09168035984740044,
           0.04113847683944408,
           0.028953327537420248,
           0.05587920212562131,
           0.09003383454644814,
           0.08798575239013914,
           0.08798629699557475,
           0.13773824093806725
          ],
          [
           0.03945039632238376,
           -0.06276883235037801,
           -0.09843793937326886,
           -0.07393688611857108,
           -0.10788125089281919,
           -0.11938119463969392,
           -0.11194818835947817,
           -0.08667274828618017,
           -0.0834120320194164,
           -0.09465930399796647,
           -0.092315346986152,
           -0.04705249951119117,
           0.008641865595335946,
           0.02658325484104404,
           0.04702979578529415,
           0.14954235059693782,
           0.12061006757313625,
           0.09192780084487415,
           0.08071681268672545,
           0.07418529680697941,
           0.03444966699727928,
           0.09160152449621109,
           0.09418179748298985,
           0.05361099072278824,
           0.073244494739267,
           0.0995551488339208
          ],
          [
           0.0390006567399884,
           -0.09988880990079031,
           -0.09808523348350337,
           -0.08987983409669853,
           -0.10889987716519613,
           -0.12326059253440935,
           -0.1229489957564487,
           -0.10337176038609627,
           -0.08123682891860419,
           -0.10234083703345245,
           -0.1033254064935628,
           -0.07479382312964138,
           -0.02467353382455234,
           0.02438487419170951,
           0.013842629006112939,
           0.14477716407900848,
           0.12252302127407844,
           0.0904957494425705,
           0.11100823795738712,
           0.05499463291592796,
           0.005040891494865002,
           0.09754735885770646,
           0.12304335724367155,
           0.05595954313332102,
           0.10352403266830501,
           0.13336888234834116
          ],
          [
           0.03312827144107228,
           -0.08450371459176534,
           -0.12932507503591847,
           -0.10536928389218644,
           -0.12123044855290371,
           -0.13430161437552954,
           -0.12509422273180146,
           -0.09703675568231551,
           -0.09000829188540799,
           -0.12007682528599455,
           -0.11689531045715185,
           -0.07197891355978624,
           0.00627276890121134,
           0.027505158525672813,
           0.06703776544515275,
           0.0988287760036606,
           0.1265722746309969,
           0.08080622910931409,
           0.1093406109017584,
           0.09205413828658623,
           0.04178483917912321,
           0.1412051865642835,
           0.12145237427870365,
           0.02364954867181368,
           0.09518457302406694,
           0.07545541267155076
          ],
          [
           0.0423595109156818,
           -0.1220922509354822,
           -0.12642049168622763,
           -0.11991597546998575,
           -0.13363713830962853,
           -0.1383071628995467,
           -0.14031424836689674,
           -0.12584562522587128,
           -0.08178835547892718,
           -0.12670914849160744,
           -0.12745967428702454,
           -0.10770365533086129,
           -0.04528116550413705,
           0.03662469628558537,
           0.031068585094423784,
           0.09329158759624312,
           0.1166980519921838,
           0.07816522530893849,
           0.1378236198301609,
           0.07751758689784286,
           -0.00025987586445361255,
           0.16194076448576522,
           0.16513840111436273,
           0.02528828677119138,
           0.120785923043561,
           0.11575951938362555
          ]
         ]
        }
       ],
       "layout": {
        "height": 800,
        "hovermode": "closest",
        "legend": {
         "x": 0.7,
         "y": 0.7
        },
        "paper_bgcolor": "rgba(0,0,0,0)",
        "plot_bgcolor": "rgba(0,0,0,0)",
        "showlegend": false,
        "template": {
         "data": {
          "bar": [
           {
            "error_x": {
             "color": "#2a3f5f"
            },
            "error_y": {
             "color": "#2a3f5f"
            },
            "marker": {
             "line": {
              "color": "#E5ECF6",
              "width": 0.5
             },
             "pattern": {
              "fillmode": "overlay",
              "size": 10,
              "solidity": 0.2
             }
            },
            "type": "bar"
           }
          ],
          "barpolar": [
           {
            "marker": {
             "line": {
              "color": "#E5ECF6",
              "width": 0.5
             },
             "pattern": {
              "fillmode": "overlay",
              "size": 10,
              "solidity": 0.2
             }
            },
            "type": "barpolar"
           }
          ],
          "carpet": [
           {
            "aaxis": {
             "endlinecolor": "#2a3f5f",
             "gridcolor": "white",
             "linecolor": "white",
             "minorgridcolor": "white",
             "startlinecolor": "#2a3f5f"
            },
            "baxis": {
             "endlinecolor": "#2a3f5f",
             "gridcolor": "white",
             "linecolor": "white",
             "minorgridcolor": "white",
             "startlinecolor": "#2a3f5f"
            },
            "type": "carpet"
           }
          ],
          "choropleth": [
           {
            "colorbar": {
             "outlinewidth": 0,
             "ticks": ""
            },
            "type": "choropleth"
           }
          ],
          "contour": [
           {
            "colorbar": {
             "outlinewidth": 0,
             "ticks": ""
            },
            "colorscale": [
             [
              0,
              "#0d0887"
             ],
             [
              0.1111111111111111,
              "#46039f"
             ],
             [
              0.2222222222222222,
              "#7201a8"
             ],
             [
              0.3333333333333333,
              "#9c179e"
             ],
             [
              0.4444444444444444,
              "#bd3786"
             ],
             [
              0.5555555555555556,
              "#d8576b"
             ],
             [
              0.6666666666666666,
              "#ed7953"
             ],
             [
              0.7777777777777778,
              "#fb9f3a"
             ],
             [
              0.8888888888888888,
              "#fdca26"
             ],
             [
              1,
              "#f0f921"
             ]
            ],
            "type": "contour"
           }
          ],
          "contourcarpet": [
           {
            "colorbar": {
             "outlinewidth": 0,
             "ticks": ""
            },
            "type": "contourcarpet"
           }
          ],
          "heatmap": [
           {
            "colorbar": {
             "outlinewidth": 0,
             "ticks": ""
            },
            "colorscale": [
             [
              0,
              "#0d0887"
             ],
             [
              0.1111111111111111,
              "#46039f"
             ],
             [
              0.2222222222222222,
              "#7201a8"
             ],
             [
              0.3333333333333333,
              "#9c179e"
             ],
             [
              0.4444444444444444,
              "#bd3786"
             ],
             [
              0.5555555555555556,
              "#d8576b"
             ],
             [
              0.6666666666666666,
              "#ed7953"
             ],
             [
              0.7777777777777778,
              "#fb9f3a"
             ],
             [
              0.8888888888888888,
              "#fdca26"
             ],
             [
              1,
              "#f0f921"
             ]
            ],
            "type": "heatmap"
           }
          ],
          "heatmapgl": [
           {
            "colorbar": {
             "outlinewidth": 0,
             "ticks": ""
            },
            "colorscale": [
             [
              0,
              "#0d0887"
             ],
             [
              0.1111111111111111,
              "#46039f"
             ],
             [
              0.2222222222222222,
              "#7201a8"
             ],
             [
              0.3333333333333333,
              "#9c179e"
             ],
             [
              0.4444444444444444,
              "#bd3786"
             ],
             [
              0.5555555555555556,
              "#d8576b"
             ],
             [
              0.6666666666666666,
              "#ed7953"
             ],
             [
              0.7777777777777778,
              "#fb9f3a"
             ],
             [
              0.8888888888888888,
              "#fdca26"
             ],
             [
              1,
              "#f0f921"
             ]
            ],
            "type": "heatmapgl"
           }
          ],
          "histogram": [
           {
            "marker": {
             "pattern": {
              "fillmode": "overlay",
              "size": 10,
              "solidity": 0.2
             }
            },
            "type": "histogram"
           }
          ],
          "histogram2d": [
           {
            "colorbar": {
             "outlinewidth": 0,
             "ticks": ""
            },
            "colorscale": [
             [
              0,
              "#0d0887"
             ],
             [
              0.1111111111111111,
              "#46039f"
             ],
             [
              0.2222222222222222,
              "#7201a8"
             ],
             [
              0.3333333333333333,
              "#9c179e"
             ],
             [
              0.4444444444444444,
              "#bd3786"
             ],
             [
              0.5555555555555556,
              "#d8576b"
             ],
             [
              0.6666666666666666,
              "#ed7953"
             ],
             [
              0.7777777777777778,
              "#fb9f3a"
             ],
             [
              0.8888888888888888,
              "#fdca26"
             ],
             [
              1,
              "#f0f921"
             ]
            ],
            "type": "histogram2d"
           }
          ],
          "histogram2dcontour": [
           {
            "colorbar": {
             "outlinewidth": 0,
             "ticks": ""
            },
            "colorscale": [
             [
              0,
              "#0d0887"
             ],
             [
              0.1111111111111111,
              "#46039f"
             ],
             [
              0.2222222222222222,
              "#7201a8"
             ],
             [
              0.3333333333333333,
              "#9c179e"
             ],
             [
              0.4444444444444444,
              "#bd3786"
             ],
             [
              0.5555555555555556,
              "#d8576b"
             ],
             [
              0.6666666666666666,
              "#ed7953"
             ],
             [
              0.7777777777777778,
              "#fb9f3a"
             ],
             [
              0.8888888888888888,
              "#fdca26"
             ],
             [
              1,
              "#f0f921"
             ]
            ],
            "type": "histogram2dcontour"
           }
          ],
          "mesh3d": [
           {
            "colorbar": {
             "outlinewidth": 0,
             "ticks": ""
            },
            "type": "mesh3d"
           }
          ],
          "parcoords": [
           {
            "line": {
             "colorbar": {
              "outlinewidth": 0,
              "ticks": ""
             }
            },
            "type": "parcoords"
           }
          ],
          "pie": [
           {
            "automargin": true,
            "type": "pie"
           }
          ],
          "scatter": [
           {
            "fillpattern": {
             "fillmode": "overlay",
             "size": 10,
             "solidity": 0.2
            },
            "type": "scatter"
           }
          ],
          "scatter3d": [
           {
            "line": {
             "colorbar": {
              "outlinewidth": 0,
              "ticks": ""
             }
            },
            "marker": {
             "colorbar": {
              "outlinewidth": 0,
              "ticks": ""
             }
            },
            "type": "scatter3d"
           }
          ],
          "scattercarpet": [
           {
            "marker": {
             "colorbar": {
              "outlinewidth": 0,
              "ticks": ""
             }
            },
            "type": "scattercarpet"
           }
          ],
          "scattergeo": [
           {
            "marker": {
             "colorbar": {
              "outlinewidth": 0,
              "ticks": ""
             }
            },
            "type": "scattergeo"
           }
          ],
          "scattergl": [
           {
            "marker": {
             "colorbar": {
              "outlinewidth": 0,
              "ticks": ""
             }
            },
            "type": "scattergl"
           }
          ],
          "scattermapbox": [
           {
            "marker": {
             "colorbar": {
              "outlinewidth": 0,
              "ticks": ""
             }
            },
            "type": "scattermapbox"
           }
          ],
          "scatterpolar": [
           {
            "marker": {
             "colorbar": {
              "outlinewidth": 0,
              "ticks": ""
             }
            },
            "type": "scatterpolar"
           }
          ],
          "scatterpolargl": [
           {
            "marker": {
             "colorbar": {
              "outlinewidth": 0,
              "ticks": ""
             }
            },
            "type": "scatterpolargl"
           }
          ],
          "scatterternary": [
           {
            "marker": {
             "colorbar": {
              "outlinewidth": 0,
              "ticks": ""
             }
            },
            "type": "scatterternary"
           }
          ],
          "surface": [
           {
            "colorbar": {
             "outlinewidth": 0,
             "ticks": ""
            },
            "colorscale": [
             [
              0,
              "#0d0887"
             ],
             [
              0.1111111111111111,
              "#46039f"
             ],
             [
              0.2222222222222222,
              "#7201a8"
             ],
             [
              0.3333333333333333,
              "#9c179e"
             ],
             [
              0.4444444444444444,
              "#bd3786"
             ],
             [
              0.5555555555555556,
              "#d8576b"
             ],
             [
              0.6666666666666666,
              "#ed7953"
             ],
             [
              0.7777777777777778,
              "#fb9f3a"
             ],
             [
              0.8888888888888888,
              "#fdca26"
             ],
             [
              1,
              "#f0f921"
             ]
            ],
            "type": "surface"
           }
          ],
          "table": [
           {
            "cells": {
             "fill": {
              "color": "#EBF0F8"
             },
             "line": {
              "color": "white"
             }
            },
            "header": {
             "fill": {
              "color": "#C8D4E3"
             },
             "line": {
              "color": "white"
             }
            },
            "type": "table"
           }
          ]
         },
         "layout": {
          "annotationdefaults": {
           "arrowcolor": "#2a3f5f",
           "arrowhead": 0,
           "arrowwidth": 1
          },
          "autotypenumbers": "strict",
          "coloraxis": {
           "colorbar": {
            "outlinewidth": 0,
            "ticks": ""
           }
          },
          "colorscale": {
           "diverging": [
            [
             0,
             "#8e0152"
            ],
            [
             0.1,
             "#c51b7d"
            ],
            [
             0.2,
             "#de77ae"
            ],
            [
             0.3,
             "#f1b6da"
            ],
            [
             0.4,
             "#fde0ef"
            ],
            [
             0.5,
             "#f7f7f7"
            ],
            [
             0.6,
             "#e6f5d0"
            ],
            [
             0.7,
             "#b8e186"
            ],
            [
             0.8,
             "#7fbc41"
            ],
            [
             0.9,
             "#4d9221"
            ],
            [
             1,
             "#276419"
            ]
           ],
           "sequential": [
            [
             0,
             "#0d0887"
            ],
            [
             0.1111111111111111,
             "#46039f"
            ],
            [
             0.2222222222222222,
             "#7201a8"
            ],
            [
             0.3333333333333333,
             "#9c179e"
            ],
            [
             0.4444444444444444,
             "#bd3786"
            ],
            [
             0.5555555555555556,
             "#d8576b"
            ],
            [
             0.6666666666666666,
             "#ed7953"
            ],
            [
             0.7777777777777778,
             "#fb9f3a"
            ],
            [
             0.8888888888888888,
             "#fdca26"
            ],
            [
             1,
             "#f0f921"
            ]
           ],
           "sequentialminus": [
            [
             0,
             "#0d0887"
            ],
            [
             0.1111111111111111,
             "#46039f"
            ],
            [
             0.2222222222222222,
             "#7201a8"
            ],
            [
             0.3333333333333333,
             "#9c179e"
            ],
            [
             0.4444444444444444,
             "#bd3786"
            ],
            [
             0.5555555555555556,
             "#d8576b"
            ],
            [
             0.6666666666666666,
             "#ed7953"
            ],
            [
             0.7777777777777778,
             "#fb9f3a"
            ],
            [
             0.8888888888888888,
             "#fdca26"
            ],
            [
             1,
             "#f0f921"
            ]
           ]
          },
          "colorway": [
           "#636efa",
           "#EF553B",
           "#00cc96",
           "#ab63fa",
           "#FFA15A",
           "#19d3f3",
           "#FF6692",
           "#B6E880",
           "#FF97FF",
           "#FECB52"
          ],
          "font": {
           "color": "#2a3f5f"
          },
          "geo": {
           "bgcolor": "white",
           "lakecolor": "white",
           "landcolor": "#E5ECF6",
           "showlakes": true,
           "showland": true,
           "subunitcolor": "white"
          },
          "hoverlabel": {
           "align": "left"
          },
          "hovermode": "closest",
          "mapbox": {
           "style": "light"
          },
          "paper_bgcolor": "white",
          "plot_bgcolor": "#E5ECF6",
          "polar": {
           "angularaxis": {
            "gridcolor": "white",
            "linecolor": "white",
            "ticks": ""
           },
           "bgcolor": "#E5ECF6",
           "radialaxis": {
            "gridcolor": "white",
            "linecolor": "white",
            "ticks": ""
           }
          },
          "scene": {
           "xaxis": {
            "backgroundcolor": "#E5ECF6",
            "gridcolor": "white",
            "gridwidth": 2,
            "linecolor": "white",
            "showbackground": true,
            "ticks": "",
            "zerolinecolor": "white"
           },
           "yaxis": {
            "backgroundcolor": "#E5ECF6",
            "gridcolor": "white",
            "gridwidth": 2,
            "linecolor": "white",
            "showbackground": true,
            "ticks": "",
            "zerolinecolor": "white"
           },
           "zaxis": {
            "backgroundcolor": "#E5ECF6",
            "gridcolor": "white",
            "gridwidth": 2,
            "linecolor": "white",
            "showbackground": true,
            "ticks": "",
            "zerolinecolor": "white"
           }
          },
          "shapedefaults": {
           "line": {
            "color": "#2a3f5f"
           }
          },
          "ternary": {
           "aaxis": {
            "gridcolor": "white",
            "linecolor": "white",
            "ticks": ""
           },
           "baxis": {
            "gridcolor": "white",
            "linecolor": "white",
            "ticks": ""
           },
           "bgcolor": "#E5ECF6",
           "caxis": {
            "gridcolor": "white",
            "linecolor": "white",
            "ticks": ""
           }
          },
          "title": {
           "x": 0.05
          },
          "xaxis": {
           "automargin": true,
           "gridcolor": "white",
           "linecolor": "white",
           "ticks": "",
           "title": {
            "standoff": 15
           },
           "zerolinecolor": "white",
           "zerolinewidth": 2
          },
          "yaxis": {
           "automargin": true,
           "gridcolor": "white",
           "linecolor": "white",
           "ticks": "",
           "title": {
            "standoff": 15
           },
           "zerolinecolor": "white",
           "zerolinewidth": 2
          }
         }
        },
        "width": 700,
        "xaxis": {
         "anchor": "y",
         "domain": [
          0,
          0.95
         ],
         "fixedrange": false,
         "mirror": false,
         "showgrid": false,
         "showline": false,
         "showticklabels": false,
         "type": "linear",
         "zeroline": false
        },
        "xaxis10": {
         "anchor": "y10",
         "domain": [
          0.15833333333333333,
          0.15833333333333333
         ],
         "fixedrange": false,
         "mirror": false,
         "showgrid": false,
         "showline": false,
         "showticklabels": false,
         "type": "linear",
         "zeroline": false
        },
        "xaxis11": {
         "anchor": "y11",
         "domain": [
          0.15833333333333333,
          0.95
         ],
         "fixedrange": false,
         "mirror": false,
         "range": [
          0,
          260
         ],
         "showgrid": false,
         "showline": false,
         "showticklabels": true,
         "side": "bottom",
         "tickmode": "array",
         "tickvals": [
          5,
          15,
          25,
          35,
          45,
          55,
          65,
          75,
          85,
          95,
          105,
          115,
          125,
          135,
          145,
          155,
          165,
          175,
          185,
          195,
          205,
          215,
          225,
          235,
          245,
          255
         ],
         "type": "linear",
         "zeroline": false
        },
        "xaxis12": {
         "anchor": "y12",
         "domain": [
          0.95,
          1
         ],
         "fixedrange": false,
         "mirror": false,
         "range": [
          -5,
          1
         ],
         "showgrid": false,
         "showline": false,
         "showticklabels": false,
         "type": "linear",
         "zeroline": false
        },
        "xaxis13": {
         "anchor": "y13",
         "domain": [
          0,
          0.2
         ]
        },
        "xaxis14": {
         "anchor": "y14",
         "domain": [
          0.2,
          0.4
         ]
        },
        "xaxis15": {
         "anchor": "y15",
         "domain": [
          0.15833333333333333,
          0.95
         ],
         "fixedrange": false,
         "mirror": false,
         "range": [
          5,
          255
         ],
         "scaleanchor": "x11",
         "scaleratio": 1,
         "showgrid": false,
         "showline": false,
         "showticklabels": false,
         "type": "linear",
         "zeroline": false
        },
        "xaxis16": {
         "anchor": "y16",
         "domain": [
          0.8,
          1
         ]
        },
        "xaxis2": {
         "anchor": "y2",
         "domain": [
          0.2,
          0.4
         ]
        },
        "xaxis3": {
         "anchor": "y9",
         "domain": [
          0.15833333333333333,
          0.95
         ],
         "fixedrange": false,
         "mirror": false,
         "scaleanchor": "x11",
         "showgrid": false,
         "showline": false,
         "showticklabels": false,
         "type": "linear",
         "zeroline": false
        },
        "xaxis4": {
         "anchor": "y4",
         "domain": [
          0.8,
          1
         ]
        },
        "xaxis5": {
         "anchor": "y5",
         "domain": [
          0,
          0.95
         ],
         "fixedrange": false,
         "mirror": false,
         "showgrid": false,
         "showline": false,
         "showticklabels": false,
         "type": "linear",
         "zeroline": false
        },
        "xaxis6": {
         "anchor": "y6",
         "domain": [
          0.2,
          0.4
         ],
         "fixedrange": false,
         "mirror": false,
         "showgrid": false,
         "showline": false,
         "showticklabels": false,
         "type": "linear",
         "zeroline": false
        },
        "xaxis7": {
         "anchor": "y9",
         "domain": [
          0.15833333333333333,
          0.95
         ],
         "fixedrange": false,
         "mirror": false,
         "showgrid": false,
         "showline": false,
         "showticklabels": false,
         "type": "linear",
         "zeroline": false
        },
        "xaxis8": {
         "anchor": "y8",
         "domain": [
          0.8,
          1
         ]
        },
        "xaxis9": {
         "anchor": "y9",
         "domain": [
          0,
          0.15833333333333333
         ],
         "fixedrange": false,
         "mirror": false,
         "showgrid": false,
         "showline": false,
         "showticklabels": false,
         "type": "linear",
         "zeroline": false
        },
        "yaxis": {
         "anchor": "x",
         "domain": [
          0.8416666666666667,
          1
         ],
         "fixedrange": false,
         "mirror": false,
         "showgrid": false,
         "showline": false,
         "showticklabels": false,
         "type": "linear",
         "zeroline": false
        },
        "yaxis10": {
         "anchor": "x10",
         "domain": [
          0,
          0.8416666666666667
         ],
         "fixedrange": false,
         "mirror": false,
         "showgrid": false,
         "showline": false,
         "showticklabels": false,
         "type": "linear",
         "zeroline": false
        },
        "yaxis11": {
         "anchor": "x11",
         "domain": [
          0,
          0.8416666666666667
         ],
         "fixedrange": false,
         "mirror": false,
         "showgrid": false,
         "showline": false,
         "showticklabels": true,
         "side": "right",
         "tickmode": "array",
         "tickvals": [
          5,
          15,
          25,
          35,
          45,
          55,
          65,
          75,
          85,
          95,
          105,
          115,
          125,
          135,
          145,
          155,
          165,
          175,
          185,
          195,
          205,
          215,
          225,
          235,
          245,
          255,
          265,
          275,
          285,
          295,
          305,
          315,
          325,
          335,
          345,
          355,
          365,
          375,
          385,
          395,
          405,
          415,
          425,
          435,
          445,
          455,
          465,
          475,
          485,
          495,
          505,
          515,
          525,
          535,
          545,
          555,
          565,
          575,
          585,
          595,
          605,
          615,
          625,
          635,
          645,
          655,
          665,
          675,
          685,
          695,
          705,
          715,
          725,
          735,
          745,
          755,
          765,
          775,
          785,
          795,
          805,
          815,
          825,
          835,
          845,
          855,
          865,
          875,
          885,
          895,
          905,
          915,
          925,
          935,
          945,
          955,
          965,
          975,
          985,
          995
         ],
         "type": "linear",
         "zeroline": false
        },
        "yaxis12": {
         "anchor": "x12",
         "domain": [
          0,
          0.7916666666666666
         ],
         "fixedrange": false,
         "mirror": false,
         "range": [
          5,
          995
         ],
         "scaleanchor": "y11",
         "scaleratio": 1,
         "showgrid": false,
         "showline": false,
         "showticklabels": false,
         "type": "linear",
         "zeroline": false
        },
        "yaxis13": {
         "anchor": "x13",
         "domain": [
          0,
          0.2
         ]
        },
        "yaxis14": {
         "anchor": "x14",
         "domain": [
          0,
          0.2
         ]
        },
        "yaxis15": {
         "anchor": "x15",
         "domain": [
          0.7916666666666666,
          0.8416666666666667
         ],
         "fixedrange": false,
         "mirror": false,
         "range": [
          -0.5,
          0.5
         ],
         "showgrid": false,
         "showline": false,
         "showticklabels": false,
         "type": "linear",
         "zeroline": false
        },
        "yaxis16": {
         "anchor": "x16",
         "domain": [
          0,
          0.2
         ]
        },
        "yaxis2": {
         "anchor": "x2",
         "domain": [
          0.8,
          1
         ]
        },
        "yaxis3": {
         "anchor": "x3",
         "domain": [
          0.8416666666666667,
          1
         ],
         "fixedrange": false,
         "mirror": false,
         "range": [
          0,
          1.727034734585987
         ],
         "showgrid": false,
         "showline": false,
         "showticklabels": false,
         "type": "linear",
         "zeroline": false
        },
        "yaxis4": {
         "anchor": "x4",
         "domain": [
          0.8,
          1
         ]
        },
        "yaxis5": {
         "anchor": "x5",
         "domain": [
          0.8416666666666667,
          0.8416666666666667
         ],
         "fixedrange": false,
         "mirror": false,
         "showgrid": false,
         "showline": false,
         "showticklabels": false,
         "type": "linear",
         "zeroline": false
        },
        "yaxis6": {
         "anchor": "x6",
         "domain": [
          0.8416666666666667,
          0.8416666666666667
         ],
         "fixedrange": false,
         "mirror": false,
         "showgrid": false,
         "showline": false,
         "showticklabels": false,
         "type": "linear",
         "zeroline": false
        },
        "yaxis7": {
         "anchor": "x7",
         "domain": [
          0.8416666666666667,
          0.8416666666666667
         ],
         "fixedrange": false,
         "mirror": false,
         "showgrid": false,
         "showline": false,
         "showticklabels": false,
         "type": "linear",
         "zeroline": false
        },
        "yaxis8": {
         "anchor": "x8",
         "domain": [
          0.6000000000000001,
          0.8
         ]
        },
        "yaxis9": {
         "anchor": "x9",
         "domain": [
          0,
          0.8416666666666667
         ],
         "fixedrange": false,
         "mirror": false,
         "range": [
          5,
          995
         ],
         "scaleanchor": "y11",
         "showgrid": false,
         "showline": false,
         "showticklabels": false,
         "type": "linear",
         "zeroline": false
        }
       }
      },
      "text/html": [
       "<div>                            <div id=\"67828786-aca8-4097-ba9f-5d3e2ff94c25\" class=\"plotly-graph-div\" style=\"height:800px; width:700px;\"></div>            <script type=\"text/javascript\">                require([\"plotly\"], function(Plotly) {                    window.PLOTLYENV=window.PLOTLYENV || {};                                    if (document.getElementById(\"67828786-aca8-4097-ba9f-5d3e2ff94c25\")) {                    Plotly.newPlot(                        \"67828786-aca8-4097-ba9f-5d3e2ff94c25\",                        [{\"hoverinfo\":\"y+name\",\"line\":{\"width\":0.5},\"marker\":{\"color\":\"rgb(0,116,217)\"},\"mode\":\"lines\",\"name\":\"Col Cluster 0\",\"x\":[5.0,5.0,107.890625,107.890625],\"xaxis\":\"x3\",\"y\":[0.0,1.727034734585987,1.727034734585987,1.3184347847229398],\"yaxis\":\"y3\",\"type\":\"scatter\"},{\"hoverinfo\":\"y+name\",\"line\":{\"width\":0.5},\"marker\":{\"color\":\"rgb(0,116,217)\"},\"mode\":\"lines\",\"name\":\"Col Cluster 1\",\"x\":[15.0,15.0,30.0,30.0],\"xaxis\":\"x3\",\"y\":[0.0,0.4857125523356192,0.4857125523356192,0.38249079450840967],\"yaxis\":\"y3\",\"type\":\"scatter\"},{\"hoverinfo\":\"y+name\",\"line\":{\"width\":0.5},\"marker\":{\"color\":\"rgb(0,116,217)\"},\"mode\":\"lines\",\"name\":\"Col Cluster 2\",\"x\":[22.5,22.5,60.0,60.0],\"xaxis\":\"x3\",\"y\":[0.4857125523356192,0.6591679840526011,0.6591679840526011,0.6189257617474035],\"yaxis\":\"y3\",\"type\":\"scatter\"},{\"hoverinfo\":\"y+name\",\"line\":{\"width\":0.5},\"marker\":{\"color\":\"rgb(0,116,217)\"},\"mode\":\"lines\",\"name\":\"Col Cluster 3\",\"x\":[25.0,25.0,35.0,35.0],\"xaxis\":\"x3\",\"y\":[0.0,0.38249079450840967,0.38249079450840967,0.0],\"yaxis\":\"y3\",\"type\":\"scatter\"},{\"hoverinfo\":\"y+name\",\"line\":{\"width\":0.5},\"marker\":{\"color\":\"rgb(0,116,217)\"},\"mode\":\"lines\",\"name\":\"Col Cluster 4\",\"x\":[41.25,41.25,174.53125,174.53125],\"xaxis\":\"x3\",\"y\":[0.6591679840526011,1.3184347847229398,1.3184347847229398,1.0948054363497142],\"yaxis\":\"y3\",\"type\":\"scatter\"},{\"hoverinfo\":\"y+name\",\"line\":{\"width\":0.5},\"marker\":{\"color\":\"rgb(0,116,217)\"},\"mode\":\"lines\",\"name\":\"Col Cluster 5\",\"x\":[45.0,45.0,75.0,75.0],\"xaxis\":\"x3\",\"y\":[0.0,0.6189257617474035,0.6189257617474035,0.49508875744467035],\"yaxis\":\"y3\",\"type\":\"scatter\"},{\"hoverinfo\":\"y+name\",\"line\":{\"width\":0.5},\"marker\":{\"color\":\"rgb(0,116,217)\"},\"mode\":\"lines\",\"name\":\"Col Cluster 6\",\"x\":[55.0,55.0,65.0,65.0],\"xaxis\":\"x3\",\"y\":[0.0,0.3013388213195323,0.3013388213195323,0.0],\"yaxis\":\"y3\",\"type\":\"scatter\"},{\"hoverinfo\":\"y+name\",\"line\":{\"width\":0.5},\"marker\":{\"color\":\"rgb(0,116,217)\"},\"mode\":\"lines\",\"name\":\"Col Cluster 7\",\"x\":[60.0,60.0,90.0,90.0],\"xaxis\":\"x3\",\"y\":[0.3013388213195323,0.49508875744467035,0.49508875744467035,0.3419912603302087],\"yaxis\":\"y3\",\"type\":\"scatter\"},{\"hoverinfo\":\"y+name\",\"line\":{\"width\":0.5},\"marker\":{\"color\":\"rgb(0,116,217)\"},\"mode\":\"lines\",\"name\":\"Col Cluster 8\",\"x\":[75.0,75.0,85.0,85.0],\"xaxis\":\"x3\",\"y\":[0.0,0.2512749709638351,0.2512749709638351,0.0],\"yaxis\":\"y3\",\"type\":\"scatter\"},{\"hoverinfo\":\"y+name\",\"line\":{\"width\":0.5},\"marker\":{\"color\":\"rgb(0,116,217)\"},\"mode\":\"lines\",\"name\":\"Col Cluster 9\",\"x\":[80.0,80.0,100.0,100.0],\"xaxis\":\"x3\",\"y\":[0.2512749709638351,0.3419912603302087,0.3419912603302087,0.28985460314467576],\"yaxis\":\"y3\",\"type\":\"scatter\"},{\"hoverinfo\":\"y+name\",\"line\":{\"width\":0.5},\"marker\":{\"color\":\"rgb(0,116,217)\"},\"mode\":\"lines\",\"name\":\"Col Cluster 10\",\"x\":[95.0,95.0,105.0,105.0],\"xaxis\":\"x3\",\"y\":[0.0,0.28985460314467576,0.28985460314467576,0.0],\"yaxis\":\"y3\",\"type\":\"scatter\"},{\"hoverinfo\":\"y+name\",\"line\":{\"width\":0.5},\"marker\":{\"color\":\"rgb(0,116,217)\"},\"mode\":\"lines\",\"name\":\"Col Cluster 11\",\"x\":[115.0,115.0,125.0,125.0],\"xaxis\":\"x3\",\"y\":[0.0,0.5653736675979898,0.5653736675979898,0.0],\"yaxis\":\"y3\",\"type\":\"scatter\"},{\"hoverinfo\":\"y+name\",\"line\":{\"width\":0.5},\"marker\":{\"color\":\"rgb(0,116,217)\"},\"mode\":\"lines\",\"name\":\"Col Cluster 12\",\"x\":[120.0,120.0,144.375,144.375],\"xaxis\":\"x3\",\"y\":[0.5653736675979898,0.7919208948775466,0.7919208948775466,0.6694625219613086],\"yaxis\":\"y3\",\"type\":\"scatter\"},{\"hoverinfo\":\"y+name\",\"line\":{\"width\":0.5},\"marker\":{\"color\":\"rgb(0,116,217)\"},\"mode\":\"lines\",\"name\":\"Col Cluster 13\",\"x\":[132.1875,132.1875,216.875,216.875],\"xaxis\":\"x3\",\"y\":[0.7919208948775466,1.0948054363497142,1.0948054363497142,0.8122435009726945],\"yaxis\":\"y3\",\"type\":\"scatter\"},{\"hoverinfo\":\"y+name\",\"line\":{\"width\":0.5},\"marker\":{\"color\":\"rgb(0,116,217)\"},\"mode\":\"lines\",\"name\":\"Col Cluster 14\",\"x\":[135.0,135.0,153.75,153.75],\"xaxis\":\"x3\",\"y\":[0.0,0.6694625219613086,0.6694625219613086,0.639317214769341],\"yaxis\":\"y3\",\"type\":\"scatter\"},{\"hoverinfo\":\"y+name\",\"line\":{\"width\":0.5},\"marker\":{\"color\":\"rgb(0,116,217)\"},\"mode\":\"lines\",\"name\":\"Col Cluster 15\",\"x\":[145.0,145.0,162.5,162.5],\"xaxis\":\"x3\",\"y\":[0.0,0.639317214769341,0.639317214769341,0.28785626201016107],\"yaxis\":\"y3\",\"type\":\"scatter\"},{\"hoverinfo\":\"y+name\",\"line\":{\"width\":0.5},\"marker\":{\"color\":\"rgb(0,116,217)\"},\"mode\":\"lines\",\"name\":\"Col Cluster 16\",\"x\":[155.0,155.0,170.0,170.0],\"xaxis\":\"x3\",\"y\":[0.0,0.28785626201016107,0.28785626201016107,0.25339819154643334],\"yaxis\":\"y3\",\"type\":\"scatter\"},{\"hoverinfo\":\"y+name\",\"line\":{\"width\":0.5},\"marker\":{\"color\":\"rgb(0,116,217)\"},\"mode\":\"lines\",\"name\":\"Col Cluster 17\",\"x\":[165.0,165.0,175.0,175.0],\"xaxis\":\"x3\",\"y\":[0.0,0.25339819154643334,0.25339819154643334,0.0],\"yaxis\":\"y3\",\"type\":\"scatter\"},{\"hoverinfo\":\"y+name\",\"line\":{\"width\":0.5},\"marker\":{\"color\":\"rgb(0,116,217)\"},\"mode\":\"lines\",\"name\":\"Col Cluster 18\",\"x\":[185.0,185.0,195.0,195.0],\"xaxis\":\"x3\",\"y\":[0.0,0.43714134605771027,0.43714134605771027,0.0],\"yaxis\":\"y3\",\"type\":\"scatter\"},{\"hoverinfo\":\"y+name\",\"line\":{\"width\":0.5},\"marker\":{\"color\":\"rgb(0,116,217)\"},\"mode\":\"lines\",\"name\":\"Col Cluster 19\",\"x\":[190.0,190.0,210.0,210.0],\"xaxis\":\"x3\",\"y\":[0.43714134605771027,0.6494986069699935,0.6494986069699935,0.5310091471450782],\"yaxis\":\"y3\",\"type\":\"scatter\"},{\"hoverinfo\":\"y+name\",\"line\":{\"width\":0.5},\"marker\":{\"color\":\"rgb(0,116,217)\"},\"mode\":\"lines\",\"name\":\"Col Cluster 20\",\"x\":[200.0,200.0,233.75,233.75],\"xaxis\":\"x3\",\"y\":[0.6494986069699935,0.8122435009726945,0.8122435009726945,0.6611090176327403],\"yaxis\":\"y3\",\"type\":\"scatter\"},{\"hoverinfo\":\"y+name\",\"line\":{\"width\":0.5},\"marker\":{\"color\":\"rgb(0,116,217)\"},\"mode\":\"lines\",\"name\":\"Col Cluster 21\",\"x\":[205.0,205.0,215.0,215.0],\"xaxis\":\"x3\",\"y\":[0.0,0.5310091471450782,0.5310091471450782,0.0],\"yaxis\":\"y3\",\"type\":\"scatter\"},{\"hoverinfo\":\"y+name\",\"line\":{\"width\":0.5},\"marker\":{\"color\":\"rgb(0,116,217)\"},\"mode\":\"lines\",\"name\":\"Col Cluster 22\",\"x\":[225.0,225.0,242.5,242.5],\"xaxis\":\"x3\",\"y\":[0.0,0.6611090176327403,0.6611090176327403,0.36910366676393],\"yaxis\":\"y3\",\"type\":\"scatter\"},{\"hoverinfo\":\"y+name\",\"line\":{\"width\":0.5},\"marker\":{\"color\":\"rgb(0,116,217)\"},\"mode\":\"lines\",\"name\":\"Col Cluster 23\",\"x\":[235.0,235.0,250.0,250.0],\"xaxis\":\"x3\",\"y\":[0.0,0.36910366676393,0.36910366676393,0.3518595120200046],\"yaxis\":\"y3\",\"type\":\"scatter\"},{\"hoverinfo\":\"y+name\",\"line\":{\"width\":0.5},\"marker\":{\"color\":\"rgb(0,116,217)\"},\"mode\":\"lines\",\"name\":\"Col Cluster 24\",\"x\":[245.0,245.0,255.0,255.0],\"xaxis\":\"x3\",\"y\":[0.0,0.3518595120200046,0.3518595120200046,0.0],\"yaxis\":\"y3\",\"type\":\"scatter\"},{\"hoverinfo\":\"x+name\",\"line\":{\"width\":0.5},\"marker\":{\"color\":\"rgb(0,116,217)\"},\"mode\":\"lines\",\"name\":\"Row Cluster 0\",\"x\":[-0.0,-0.09077409539228005,-0.09077409539228005,-0.0],\"xaxis\":\"x9\",\"y\":[15.0,15.0,25.0,25.0],\"yaxis\":\"y9\",\"type\":\"scatter\"},{\"hoverinfo\":\"x+name\",\"line\":{\"width\":0.5},\"marker\":{\"color\":\"rgb(0,116,217)\"},\"mode\":\"lines\",\"name\":\"Row Cluster 1\",\"x\":[-0.0,-0.12661104546368052,-0.12661104546368052,-0.0],\"xaxis\":\"x9\",\"y\":[985.0,985.0,995.0,995.0],\"yaxis\":\"y9\",\"type\":\"scatter\"},{\"hoverinfo\":\"x+name\",\"line\":{\"width\":0.5},\"marker\":{\"color\":\"rgb(0,116,217)\"},\"mode\":\"lines\",\"name\":\"Row Cluster 2\",\"x\":[-0.10164771656003695,-0.20036375264334363,-0.20036375264334363,-0.12661104546368052],\"xaxis\":\"x9\",\"y\":[970.0,970.0,990.0,990.0],\"yaxis\":\"y9\",\"type\":\"scatter\"},{\"hoverinfo\":\"x+name\",\"line\":{\"width\":0.5},\"marker\":{\"color\":\"rgb(0,116,217)\"},\"mode\":\"lines\",\"name\":\"Row Cluster 3\",\"x\":[-0.0,-0.10164771656003695,-0.10164771656003695,-0.0],\"xaxis\":\"x9\",\"y\":[965.0,965.0,975.0,975.0],\"yaxis\":\"y9\",\"type\":\"scatter\"},{\"hoverinfo\":\"x+name\",\"line\":{\"width\":0.5},\"marker\":{\"color\":\"rgb(0,116,217)\"},\"mode\":\"lines\",\"name\":\"Row Cluster 4\",\"x\":[-0.08583222336888967,-0.3260643233518229,-0.3260643233518229,-0.20036375264334363],\"xaxis\":\"x9\",\"y\":[950.0,950.0,980.0,980.0],\"yaxis\":\"y9\",\"type\":\"scatter\"},{\"hoverinfo\":\"x+name\",\"line\":{\"width\":0.5},\"marker\":{\"color\":\"rgb(0,116,217)\"},\"mode\":\"lines\",\"name\":\"Row Cluster 5\",\"x\":[-0.0,-0.08583222336888967,-0.08583222336888967,-0.0],\"xaxis\":\"x9\",\"y\":[945.0,945.0,955.0,955.0],\"yaxis\":\"y9\",\"type\":\"scatter\"},{\"hoverinfo\":\"x+name\",\"line\":{\"width\":0.5},\"marker\":{\"color\":\"rgb(0,116,217)\"},\"mode\":\"lines\",\"name\":\"Row Cluster 6\",\"x\":[-0.0,-0.1173371430058255,-0.1173371430058255,-0.0],\"xaxis\":\"x9\",\"y\":[925.0,925.0,935.0,935.0],\"yaxis\":\"y9\",\"type\":\"scatter\"},{\"hoverinfo\":\"x+name\",\"line\":{\"width\":0.5},\"marker\":{\"color\":\"rgb(0,116,217)\"},\"mode\":\"lines\",\"name\":\"Row Cluster 7\",\"x\":[-0.1886974815671882,-0.5077787252095208,-0.5077787252095208,-0.3260643233518229],\"xaxis\":\"x9\",\"y\":[920.0,920.0,965.0,965.0],\"yaxis\":\"y9\",\"type\":\"scatter\"},{\"hoverinfo\":\"x+name\",\"line\":{\"width\":0.5},\"marker\":{\"color\":\"rgb(0,116,217)\"},\"mode\":\"lines\",\"name\":\"Row Cluster 8\",\"x\":[-0.07733538308452466,-0.1886974815671882,-0.1886974815671882,-0.1173371430058255],\"xaxis\":\"x9\",\"y\":[910.0,910.0,930.0,930.0],\"yaxis\":\"y9\",\"type\":\"scatter\"},{\"hoverinfo\":\"x+name\",\"line\":{\"width\":0.5},\"marker\":{\"color\":\"rgb(0,116,217)\"},\"mode\":\"lines\",\"name\":\"Row Cluster 9\",\"x\":[-0.0,-0.07733538308452466,-0.07733538308452466,-0.0],\"xaxis\":\"x9\",\"y\":[905.0,905.0,915.0,915.0],\"yaxis\":\"y9\",\"type\":\"scatter\"},{\"hoverinfo\":\"x+name\",\"line\":{\"width\":0.5},\"marker\":{\"color\":\"rgb(0,116,217)\"},\"mode\":\"lines\",\"name\":\"Row Cluster 10\",\"x\":[-0.0,-0.12724524177689114,-0.12724524177689114,-0.0],\"xaxis\":\"x9\",\"y\":[885.0,885.0,895.0,895.0],\"yaxis\":\"y9\",\"type\":\"scatter\"},{\"hoverinfo\":\"x+name\",\"line\":{\"width\":0.5},\"marker\":{\"color\":\"rgb(0,116,217)\"},\"mode\":\"lines\",\"name\":\"Row Cluster 11\",\"x\":[-0.0,-0.17699795237058674,-0.17699795237058674,-0.12724524177689114],\"xaxis\":\"x9\",\"y\":[875.0,875.0,890.0,890.0],\"yaxis\":\"y9\",\"type\":\"scatter\"},{\"hoverinfo\":\"x+name\",\"line\":{\"width\":0.5},\"marker\":{\"color\":\"rgb(0,116,217)\"},\"mode\":\"lines\",\"name\":\"Row Cluster 12\",\"x\":[-0.10547458896614047,-0.27654688466436544,-0.27654688466436544,-0.17699795237058674],\"xaxis\":\"x9\",\"y\":[860.0,860.0,882.5,882.5],\"yaxis\":\"y9\",\"type\":\"scatter\"},{\"hoverinfo\":\"x+name\",\"line\":{\"width\":0.5},\"marker\":{\"color\":\"rgb(0,116,217)\"},\"mode\":\"lines\",\"name\":\"Row Cluster 13\",\"x\":[-0.0,-0.10547458896614047,-0.10547458896614047,-0.0],\"xaxis\":\"x9\",\"y\":[855.0,855.0,865.0,865.0],\"yaxis\":\"y9\",\"type\":\"scatter\"},{\"hoverinfo\":\"x+name\",\"line\":{\"width\":0.5},\"marker\":{\"color\":\"rgb(0,116,217)\"},\"mode\":\"lines\",\"name\":\"Row Cluster 14\",\"x\":[-0.4118524671665938,-0.5846538092128849,-0.5846538092128849,-0.5077787252095208],\"xaxis\":\"x9\",\"y\":[850.625,850.625,942.5,942.5],\"yaxis\":\"y9\",\"type\":\"scatter\"},{\"hoverinfo\":\"x+name\",\"line\":{\"width\":0.5},\"marker\":{\"color\":\"rgb(0,116,217)\"},\"mode\":\"lines\",\"name\":\"Row Cluster 15\",\"x\":[-0.0,-0.10532571194453196,-0.10532571194453196,-0.0],\"xaxis\":\"x9\",\"y\":[835.0,835.0,845.0,845.0],\"yaxis\":\"y9\",\"type\":\"scatter\"},{\"hoverinfo\":\"x+name\",\"line\":{\"width\":0.5},\"marker\":{\"color\":\"rgb(0,116,217)\"},\"mode\":\"lines\",\"name\":\"Row Cluster 16\",\"x\":[-0.19200712340923148,-0.4118524671665938,-0.4118524671665938,-0.27654688466436544],\"xaxis\":\"x9\",\"y\":[830.0,830.0,871.25,871.25],\"yaxis\":\"y9\",\"type\":\"scatter\"},{\"hoverinfo\":\"x+name\",\"line\":{\"width\":0.5},\"marker\":{\"color\":\"rgb(0,116,217)\"},\"mode\":\"lines\",\"name\":\"Row Cluster 17\",\"x\":[-0.09686531088599172,-0.19200712340923148,-0.19200712340923148,-0.10532571194453196],\"xaxis\":\"x9\",\"y\":[820.0,820.0,840.0,840.0],\"yaxis\":\"y9\",\"type\":\"scatter\"},{\"hoverinfo\":\"x+name\",\"line\":{\"width\":0.5},\"marker\":{\"color\":\"rgb(0,116,217)\"},\"mode\":\"lines\",\"name\":\"Row Cluster 18\",\"x\":[-0.0,-0.09686531088599172,-0.09686531088599172,-0.0],\"xaxis\":\"x9\",\"y\":[815.0,815.0,825.0,825.0],\"yaxis\":\"y9\",\"type\":\"scatter\"},{\"hoverinfo\":\"x+name\",\"line\":{\"width\":0.5},\"marker\":{\"color\":\"rgb(0,116,217)\"},\"mode\":\"lines\",\"name\":\"Row Cluster 19\",\"x\":[-0.0,-0.16078120712218247,-0.16078120712218247,-0.0],\"xaxis\":\"x9\",\"y\":[795.0,795.0,805.0,805.0],\"yaxis\":\"y9\",\"type\":\"scatter\"},{\"hoverinfo\":\"x+name\",\"line\":{\"width\":0.5},\"marker\":{\"color\":\"rgb(0,116,217)\"},\"mode\":\"lines\",\"name\":\"Row Cluster 20\",\"x\":[-0.12470833408229808,-0.2678023433458544,-0.2678023433458544,-0.16078120712218247],\"xaxis\":\"x9\",\"y\":[780.0,780.0,800.0,800.0],\"yaxis\":\"y9\",\"type\":\"scatter\"},{\"hoverinfo\":\"x+name\",\"line\":{\"width\":0.5},\"marker\":{\"color\":\"rgb(0,116,217)\"},\"mode\":\"lines\",\"name\":\"Row Cluster 21\",\"x\":[-0.0,-0.12470833408229808,-0.12470833408229808,-0.0],\"xaxis\":\"x9\",\"y\":[775.0,775.0,785.0,785.0],\"yaxis\":\"y9\",\"type\":\"scatter\"},{\"hoverinfo\":\"x+name\",\"line\":{\"width\":0.5},\"marker\":{\"color\":\"rgb(0,116,217)\"},\"mode\":\"lines\",\"name\":\"Row Cluster 22\",\"x\":[-0.4703407433190354,-0.714729468940475,-0.714729468940475,-0.5846538092128849],\"xaxis\":\"x9\",\"y\":[770.0,770.0,896.5625,896.5625],\"yaxis\":\"y9\",\"type\":\"scatter\"},{\"hoverinfo\":\"x+name\",\"line\":{\"width\":0.5},\"marker\":{\"color\":\"rgb(0,116,217)\"},\"mode\":\"lines\",\"name\":\"Row Cluster 23\",\"x\":[-0.0,-0.17787055857712955,-0.17787055857712955,-0.0],\"xaxis\":\"x9\",\"y\":[755.0,755.0,765.0,765.0],\"yaxis\":\"y9\",\"type\":\"scatter\"},{\"hoverinfo\":\"x+name\",\"line\":{\"width\":0.5},\"marker\":{\"color\":\"rgb(0,116,217)\"},\"mode\":\"lines\",\"name\":\"Row Cluster 24\",\"x\":[-0.2541055491561725,-0.4703407433190354,-0.4703407433190354,-0.2678023433458544],\"xaxis\":\"x9\",\"y\":[750.0,750.0,790.0,790.0],\"yaxis\":\"y9\",\"type\":\"scatter\"},{\"hoverinfo\":\"x+name\",\"line\":{\"width\":0.5},\"marker\":{\"color\":\"rgb(0,116,217)\"},\"mode\":\"lines\",\"name\":\"Row Cluster 25\",\"x\":[-0.11266487605481859,-0.2541055491561725,-0.2541055491561725,-0.17787055857712955],\"xaxis\":\"x9\",\"y\":[740.0,740.0,760.0,760.0],\"yaxis\":\"y9\",\"type\":\"scatter\"},{\"hoverinfo\":\"x+name\",\"line\":{\"width\":0.5},\"marker\":{\"color\":\"rgb(0,116,217)\"},\"mode\":\"lines\",\"name\":\"Row Cluster 26\",\"x\":[-0.0,-0.11266487605481859,-0.11266487605481859,-0.0],\"xaxis\":\"x9\",\"y\":[735.0,735.0,745.0,745.0],\"yaxis\":\"y9\",\"type\":\"scatter\"},{\"hoverinfo\":\"x+name\",\"line\":{\"width\":0.5},\"marker\":{\"color\":\"rgb(0,116,217)\"},\"mode\":\"lines\",\"name\":\"Row Cluster 27\",\"x\":[-0.0,-0.15209042333808226,-0.15209042333808226,-0.0],\"xaxis\":\"x9\",\"y\":[715.0,715.0,725.0,725.0],\"yaxis\":\"y9\",\"type\":\"scatter\"},{\"hoverinfo\":\"x+name\",\"line\":{\"width\":0.5},\"marker\":{\"color\":\"rgb(0,116,217)\"},\"mode\":\"lines\",\"name\":\"Row Cluster 28\",\"x\":[-0.15027685772480254,-0.21387425397349719,-0.21387425397349719,-0.15209042333808226],\"xaxis\":\"x9\",\"y\":[700.0,700.0,720.0,720.0],\"yaxis\":\"y9\",\"type\":\"scatter\"},{\"hoverinfo\":\"x+name\",\"line\":{\"width\":0.5},\"marker\":{\"color\":\"rgb(0,116,217)\"},\"mode\":\"lines\",\"name\":\"Row Cluster 29\",\"x\":[-0.0,-0.15027685772480254,-0.15027685772480254,-0.0],\"xaxis\":\"x9\",\"y\":[695.0,695.0,705.0,705.0],\"yaxis\":\"y9\",\"type\":\"scatter\"},{\"hoverinfo\":\"x+name\",\"line\":{\"width\":0.5},\"marker\":{\"color\":\"rgb(0,116,217)\"},\"mode\":\"lines\",\"name\":\"Row Cluster 30\",\"x\":[-0.1511380446539979,-0.42724348529121053,-0.42724348529121053,-0.21387425397349719],\"xaxis\":\"x9\",\"y\":[680.0,680.0,710.0,710.0],\"yaxis\":\"y9\",\"type\":\"scatter\"},{\"hoverinfo\":\"x+name\",\"line\":{\"width\":0.5},\"marker\":{\"color\":\"rgb(0,116,217)\"},\"mode\":\"lines\",\"name\":\"Row Cluster 31\",\"x\":[-0.0,-0.1511380446539979,-0.1511380446539979,-0.0],\"xaxis\":\"x9\",\"y\":[675.0,675.0,685.0,685.0],\"yaxis\":\"y9\",\"type\":\"scatter\"},{\"hoverinfo\":\"x+name\",\"line\":{\"width\":0.5},\"marker\":{\"color\":\"rgb(0,116,217)\"},\"mode\":\"lines\",\"name\":\"Row Cluster 32\",\"x\":[-0.5101460730078531,-0.8013523863823804,-0.8013523863823804,-0.714729468940475],\"xaxis\":\"x9\",\"y\":[672.5,672.5,833.28125,833.28125],\"yaxis\":\"y9\",\"type\":\"scatter\"},{\"hoverinfo\":\"x+name\",\"line\":{\"width\":0.5},\"marker\":{\"color\":\"rgb(0,116,217)\"},\"mode\":\"lines\",\"name\":\"Row Cluster 33\",\"x\":[-0.0,-0.16183765963181948,-0.16183765963181948,-0.0],\"xaxis\":\"x9\",\"y\":[655.0,655.0,665.0,665.0],\"yaxis\":\"y9\",\"type\":\"scatter\"},{\"hoverinfo\":\"x+name\",\"line\":{\"width\":0.5},\"marker\":{\"color\":\"rgb(0,116,217)\"},\"mode\":\"lines\",\"name\":\"Row Cluster 34\",\"x\":[-0.28348721702925345,-0.5101460730078531,-0.5101460730078531,-0.42724348529121053],\"xaxis\":\"x9\",\"y\":[650.0,650.0,695.0,695.0],\"yaxis\":\"y9\",\"type\":\"scatter\"},{\"hoverinfo\":\"x+name\",\"line\":{\"width\":0.5},\"marker\":{\"color\":\"rgb(0,116,217)\"},\"mode\":\"lines\",\"name\":\"Row Cluster 35\",\"x\":[-0.12308722073731779,-0.28348721702925345,-0.28348721702925345,-0.16183765963181948],\"xaxis\":\"x9\",\"y\":[640.0,640.0,660.0,660.0],\"yaxis\":\"y9\",\"type\":\"scatter\"},{\"hoverinfo\":\"x+name\",\"line\":{\"width\":0.5},\"marker\":{\"color\":\"rgb(0,116,217)\"},\"mode\":\"lines\",\"name\":\"Row Cluster 36\",\"x\":[-0.0,-0.12308722073731779,-0.12308722073731779,-0.0],\"xaxis\":\"x9\",\"y\":[635.0,635.0,645.0,645.0],\"yaxis\":\"y9\",\"type\":\"scatter\"},{\"hoverinfo\":\"x+name\",\"line\":{\"width\":0.5},\"marker\":{\"color\":\"rgb(0,116,217)\"},\"mode\":\"lines\",\"name\":\"Row Cluster 37\",\"x\":[-0.0,-0.07164931554529676,-0.07164931554529676,-0.0],\"xaxis\":\"x9\",\"y\":[615.0,615.0,625.0,625.0],\"yaxis\":\"y9\",\"type\":\"scatter\"},{\"hoverinfo\":\"x+name\",\"line\":{\"width\":0.5},\"marker\":{\"color\":\"rgb(0,116,217)\"},\"mode\":\"lines\",\"name\":\"Row Cluster 38\",\"x\":[-0.07155915742670281,-0.14330500738307808,-0.14330500738307808,-0.07164931554529676],\"xaxis\":\"x9\",\"y\":[600.0,600.0,620.0,620.0],\"yaxis\":\"y9\",\"type\":\"scatter\"},{\"hoverinfo\":\"x+name\",\"line\":{\"width\":0.5},\"marker\":{\"color\":\"rgb(0,116,217)\"},\"mode\":\"lines\",\"name\":\"Row Cluster 39\",\"x\":[-0.0,-0.07155915742670281,-0.07155915742670281,-0.0],\"xaxis\":\"x9\",\"y\":[595.0,595.0,605.0,605.0],\"yaxis\":\"y9\",\"type\":\"scatter\"},{\"hoverinfo\":\"x+name\",\"line\":{\"width\":0.5},\"marker\":{\"color\":\"rgb(0,116,217)\"},\"mode\":\"lines\",\"name\":\"Row Cluster 40\",\"x\":[-0.0,-0.0872432240893118,-0.0872432240893118,-0.0],\"xaxis\":\"x9\",\"y\":[575.0,575.0,585.0,585.0],\"yaxis\":\"y9\",\"type\":\"scatter\"},{\"hoverinfo\":\"x+name\",\"line\":{\"width\":0.5},\"marker\":{\"color\":\"rgb(0,116,217)\"},\"mode\":\"lines\",\"name\":\"Row Cluster 41\",\"x\":[-0.11462936023637661,-0.28328983460669205,-0.28328983460669205,-0.14330500738307808],\"xaxis\":\"x9\",\"y\":[570.0,570.0,610.0,610.0],\"yaxis\":\"y9\",\"type\":\"scatter\"},{\"hoverinfo\":\"x+name\",\"line\":{\"width\":0.5},\"marker\":{\"color\":\"rgb(0,116,217)\"},\"mode\":\"lines\",\"name\":\"Row Cluster 42\",\"x\":[-0.05866989854260532,-0.11462936023637661,-0.11462936023637661,-0.0872432240893118],\"xaxis\":\"x9\",\"y\":[560.0,560.0,580.0,580.0],\"yaxis\":\"y9\",\"type\":\"scatter\"},{\"hoverinfo\":\"x+name\",\"line\":{\"width\":0.5},\"marker\":{\"color\":\"rgb(0,116,217)\"},\"mode\":\"lines\",\"name\":\"Row Cluster 43\",\"x\":[-0.0,-0.05866989854260532,-0.05866989854260532,-0.0],\"xaxis\":\"x9\",\"y\":[555.0,555.0,565.0,565.0],\"yaxis\":\"y9\",\"type\":\"scatter\"},{\"hoverinfo\":\"x+name\",\"line\":{\"width\":0.5},\"marker\":{\"color\":\"rgb(0,116,217)\"},\"mode\":\"lines\",\"name\":\"Row Cluster 44\",\"x\":[-0.0,-0.07802315929362558,-0.07802315929362558,-0.0],\"xaxis\":\"x9\",\"y\":[535.0,535.0,545.0,545.0],\"yaxis\":\"y9\",\"type\":\"scatter\"},{\"hoverinfo\":\"x+name\",\"line\":{\"width\":0.5},\"marker\":{\"color\":\"rgb(0,116,217)\"},\"mode\":\"lines\",\"name\":\"Row Cluster 45\",\"x\":[-0.0,-0.1396920514911824,-0.1396920514911824,-0.07802315929362558],\"xaxis\":\"x9\",\"y\":[525.0,525.0,540.0,540.0],\"yaxis\":\"y9\",\"type\":\"scatter\"},{\"hoverinfo\":\"x+name\",\"line\":{\"width\":0.5},\"marker\":{\"color\":\"rgb(0,116,217)\"},\"mode\":\"lines\",\"name\":\"Row Cluster 46\",\"x\":[-0.1962834305389887,-0.36901353766647677,-0.36901353766647677,-0.28328983460669205],\"xaxis\":\"x9\",\"y\":[517.5,517.5,590.0,590.0],\"yaxis\":\"y9\",\"type\":\"scatter\"},{\"hoverinfo\":\"x+name\",\"line\":{\"width\":0.5},\"marker\":{\"color\":\"rgb(0,116,217)\"},\"mode\":\"lines\",\"name\":\"Row Cluster 47\",\"x\":[-0.0,-0.07098706403770517,-0.07098706403770517,-0.0],\"xaxis\":\"x9\",\"y\":[505.0,505.0,515.0,515.0],\"yaxis\":\"y9\",\"type\":\"scatter\"},{\"hoverinfo\":\"x+name\",\"line\":{\"width\":0.5},\"marker\":{\"color\":\"rgb(0,116,217)\"},\"mode\":\"lines\",\"name\":\"Row Cluster 48\",\"x\":[-0.13696840468100543,-0.1962834305389887,-0.1962834305389887,-0.1396920514911824],\"xaxis\":\"x9\",\"y\":[502.5,502.5,532.5,532.5],\"yaxis\":\"y9\",\"type\":\"scatter\"},{\"hoverinfo\":\"x+name\",\"line\":{\"width\":0.5},\"marker\":{\"color\":\"rgb(0,116,217)\"},\"mode\":\"lines\",\"name\":\"Row Cluster 49\",\"x\":[-0.0,-0.13696840468100543,-0.13696840468100543,-0.07098706403770517],\"xaxis\":\"x9\",\"y\":[495.0,495.0,510.0,510.0],\"yaxis\":\"y9\",\"type\":\"scatter\"},{\"hoverinfo\":\"x+name\",\"line\":{\"width\":0.5},\"marker\":{\"color\":\"rgb(0,116,217)\"},\"mode\":\"lines\",\"name\":\"Row Cluster 50\",\"x\":[-0.0,-0.13533708997616162,-0.13533708997616162,-0.0],\"xaxis\":\"x9\",\"y\":[475.0,475.0,485.0,485.0],\"yaxis\":\"y9\",\"type\":\"scatter\"},{\"hoverinfo\":\"x+name\",\"line\":{\"width\":0.5},\"marker\":{\"color\":\"rgb(0,116,217)\"},\"mode\":\"lines\",\"name\":\"Row Cluster 51\",\"x\":[-0.3228383881545758,-0.606994293233855,-0.606994293233855,-0.36901353766647677],\"xaxis\":\"x9\",\"y\":[470.0,470.0,553.75,553.75],\"yaxis\":\"y9\",\"type\":\"scatter\"},{\"hoverinfo\":\"x+name\",\"line\":{\"width\":0.5},\"marker\":{\"color\":\"rgb(0,116,217)\"},\"mode\":\"lines\",\"name\":\"Row Cluster 52\",\"x\":[-0.1263578308258492,-0.3228383881545758,-0.3228383881545758,-0.13533708997616162],\"xaxis\":\"x9\",\"y\":[460.0,460.0,480.0,480.0],\"yaxis\":\"y9\",\"type\":\"scatter\"},{\"hoverinfo\":\"x+name\",\"line\":{\"width\":0.5},\"marker\":{\"color\":\"rgb(0,116,217)\"},\"mode\":\"lines\",\"name\":\"Row Cluster 53\",\"x\":[-0.0,-0.1263578308258492,-0.1263578308258492,-0.0],\"xaxis\":\"x9\",\"y\":[455.0,455.0,465.0,465.0],\"yaxis\":\"y9\",\"type\":\"scatter\"},{\"hoverinfo\":\"x+name\",\"line\":{\"width\":0.5},\"marker\":{\"color\":\"rgb(0,116,217)\"},\"mode\":\"lines\",\"name\":\"Row Cluster 54\",\"x\":[-0.0,-0.09793497239113043,-0.09793497239113043,-0.0],\"xaxis\":\"x9\",\"y\":[435.0,435.0,445.0,445.0],\"yaxis\":\"y9\",\"type\":\"scatter\"},{\"hoverinfo\":\"x+name\",\"line\":{\"width\":0.5},\"marker\":{\"color\":\"rgb(0,116,217)\"},\"mode\":\"lines\",\"name\":\"Row Cluster 55\",\"x\":[-0.08092492982117187,-0.1453608229711624,-0.1453608229711624,-0.09793497239113043],\"xaxis\":\"x9\",\"y\":[420.0,420.0,440.0,440.0],\"yaxis\":\"y9\",\"type\":\"scatter\"},{\"hoverinfo\":\"x+name\",\"line\":{\"width\":0.5},\"marker\":{\"color\":\"rgb(0,116,217)\"},\"mode\":\"lines\",\"name\":\"Row Cluster 56\",\"x\":[-0.0,-0.08092492982117187,-0.08092492982117187,-0.0],\"xaxis\":\"x9\",\"y\":[415.0,415.0,425.0,425.0],\"yaxis\":\"y9\",\"type\":\"scatter\"},{\"hoverinfo\":\"x+name\",\"line\":{\"width\":0.5},\"marker\":{\"color\":\"rgb(0,116,217)\"},\"mode\":\"lines\",\"name\":\"Row Cluster 57\",\"x\":[-0.0,-0.18529353991270234,-0.18529353991270234,-0.1453608229711624],\"xaxis\":\"x9\",\"y\":[405.0,405.0,430.0,430.0],\"yaxis\":\"y9\",\"type\":\"scatter\"},{\"hoverinfo\":\"x+name\",\"line\":{\"width\":0.5},\"marker\":{\"color\":\"rgb(0,116,217)\"},\"mode\":\"lines\",\"name\":\"Row Cluster 58\",\"x\":[-0.12266103831135888,-0.2336861263210257,-0.2336861263210257,-0.18529353991270234],\"xaxis\":\"x9\",\"y\":[390.0,390.0,417.5,417.5],\"yaxis\":\"y9\",\"type\":\"scatter\"},{\"hoverinfo\":\"x+name\",\"line\":{\"width\":0.5},\"marker\":{\"color\":\"rgb(0,116,217)\"},\"mode\":\"lines\",\"name\":\"Row Cluster 59\",\"x\":[-0.0,-0.12266103831135888,-0.12266103831135888,-0.0],\"xaxis\":\"x9\",\"y\":[385.0,385.0,395.0,395.0],\"yaxis\":\"y9\",\"type\":\"scatter\"},{\"hoverinfo\":\"x+name\",\"line\":{\"width\":0.5},\"marker\":{\"color\":\"rgb(0,116,217)\"},\"mode\":\"lines\",\"name\":\"Row Cluster 60\",\"x\":[-0.6658317550536806,-0.93387164226298,-0.93387164226298,-0.8013523863823804],\"xaxis\":\"x9\",\"y\":[384.638671875,384.638671875,752.890625,752.890625],\"yaxis\":\"y9\",\"type\":\"scatter\"},{\"hoverinfo\":\"x+name\",\"line\":{\"width\":0.5},\"marker\":{\"color\":\"rgb(0,116,217)\"},\"mode\":\"lines\",\"name\":\"Row Cluster 61\",\"x\":[-0.0,-0.12091087132125927,-0.12091087132125927,-0.0],\"xaxis\":\"x9\",\"y\":[365.0,365.0,375.0,375.0],\"yaxis\":\"y9\",\"type\":\"scatter\"},{\"hoverinfo\":\"x+name\",\"line\":{\"width\":0.5},\"marker\":{\"color\":\"rgb(0,116,217)\"},\"mode\":\"lines\",\"name\":\"Row Cluster 62\",\"x\":[-0.16437669776948488,-0.35971100033543285,-0.35971100033543285,-0.2336861263210257],\"xaxis\":\"x9\",\"y\":[362.5,362.5,403.75,403.75],\"yaxis\":\"y9\",\"type\":\"scatter\"},{\"hoverinfo\":\"x+name\",\"line\":{\"width\":0.5},\"marker\":{\"color\":\"rgb(0,116,217)\"},\"mode\":\"lines\",\"name\":\"Row Cluster 63\",\"x\":[-0.0,-0.16437669776948488,-0.16437669776948488,-0.12091087132125927],\"xaxis\":\"x9\",\"y\":[355.0,355.0,370.0,370.0],\"yaxis\":\"y9\",\"type\":\"scatter\"},{\"hoverinfo\":\"x+name\",\"line\":{\"width\":0.5},\"marker\":{\"color\":\"rgb(0,116,217)\"},\"mode\":\"lines\",\"name\":\"Row Cluster 64\",\"x\":[-0.0,-0.13497759256235642,-0.13497759256235642,-0.0],\"xaxis\":\"x9\",\"y\":[335.0,335.0,345.0,345.0],\"yaxis\":\"y9\",\"type\":\"scatter\"},{\"hoverinfo\":\"x+name\",\"line\":{\"width\":0.5},\"marker\":{\"color\":\"rgb(0,116,217)\"},\"mode\":\"lines\",\"name\":\"Row Cluster 65\",\"x\":[-0.1758906349763421,-0.4087062521705214,-0.4087062521705214,-0.35971100033543285],\"xaxis\":\"x9\",\"y\":[332.5,332.5,383.125,383.125],\"yaxis\":\"y9\",\"type\":\"scatter\"},{\"hoverinfo\":\"x+name\",\"line\":{\"width\":0.5},\"marker\":{\"color\":\"rgb(0,116,217)\"},\"mode\":\"lines\",\"name\":\"Row Cluster 66\",\"x\":[-0.0,-0.1758906349763421,-0.1758906349763421,-0.13497759256235642],\"xaxis\":\"x9\",\"y\":[325.0,325.0,340.0,340.0],\"yaxis\":\"y9\",\"type\":\"scatter\"},{\"hoverinfo\":\"x+name\",\"line\":{\"width\":0.5},\"marker\":{\"color\":\"rgb(0,116,217)\"},\"mode\":\"lines\",\"name\":\"Row Cluster 67\",\"x\":[-0.0,-0.1094195182264559,-0.1094195182264559,-0.0],\"xaxis\":\"x9\",\"y\":[305.0,305.0,315.0,315.0],\"yaxis\":\"y9\",\"type\":\"scatter\"},{\"hoverinfo\":\"x+name\",\"line\":{\"width\":0.5},\"marker\":{\"color\":\"rgb(0,116,217)\"},\"mode\":\"lines\",\"name\":\"Row Cluster 68\",\"x\":[-0.07310206340376259,-0.16099943383780713,-0.16099943383780713,-0.1094195182264559],\"xaxis\":\"x9\",\"y\":[290.0,290.0,310.0,310.0],\"yaxis\":\"y9\",\"type\":\"scatter\"},{\"hoverinfo\":\"x+name\",\"line\":{\"width\":0.5},\"marker\":{\"color\":\"rgb(0,116,217)\"},\"mode\":\"lines\",\"name\":\"Row Cluster 69\",\"x\":[-0.0,-0.07310206340376259,-0.07310206340376259,-0.0],\"xaxis\":\"x9\",\"y\":[285.0,285.0,295.0,295.0],\"yaxis\":\"y9\",\"type\":\"scatter\"},{\"hoverinfo\":\"x+name\",\"line\":{\"width\":0.5},\"marker\":{\"color\":\"rgb(0,116,217)\"},\"mode\":\"lines\",\"name\":\"Row Cluster 70\",\"x\":[-0.0,-0.06727801799056232,-0.06727801799056232,-0.0],\"xaxis\":\"x9\",\"y\":[265.0,265.0,275.0,275.0],\"yaxis\":\"y9\",\"type\":\"scatter\"},{\"hoverinfo\":\"x+name\",\"line\":{\"width\":0.5},\"marker\":{\"color\":\"rgb(0,116,217)\"},\"mode\":\"lines\",\"name\":\"Row Cluster 71\",\"x\":[-0.11624739669892678,-0.23311207034002077,-0.23311207034002077,-0.16099943383780713],\"xaxis\":\"x9\",\"y\":[260.0,260.0,300.0,300.0],\"yaxis\":\"y9\",\"type\":\"scatter\"},{\"hoverinfo\":\"x+name\",\"line\":{\"width\":0.5},\"marker\":{\"color\":\"rgb(0,116,217)\"},\"mode\":\"lines\",\"name\":\"Row Cluster 72\",\"x\":[-0.5154530293333378,-0.6658317550536806,-0.6658317550536806,-0.606994293233855],\"xaxis\":\"x9\",\"y\":[257.40234375,257.40234375,511.875,511.875],\"yaxis\":\"y9\",\"type\":\"scatter\"},{\"hoverinfo\":\"x+name\",\"line\":{\"width\":0.5},\"marker\":{\"color\":\"rgb(0,116,217)\"},\"mode\":\"lines\",\"name\":\"Row Cluster 73\",\"x\":[-0.06166131664517,-0.11624739669892678,-0.11624739669892678,-0.06727801799056232],\"xaxis\":\"x9\",\"y\":[250.0,250.0,270.0,270.0],\"yaxis\":\"y9\",\"type\":\"scatter\"},{\"hoverinfo\":\"x+name\",\"line\":{\"width\":0.5},\"marker\":{\"color\":\"rgb(0,116,217)\"},\"mode\":\"lines\",\"name\":\"Row Cluster 74\",\"x\":[-0.0,-0.06166131664517,-0.06166131664517,-0.0],\"xaxis\":\"x9\",\"y\":[245.0,245.0,255.0,255.0],\"yaxis\":\"y9\",\"type\":\"scatter\"},{\"hoverinfo\":\"x+name\",\"line\":{\"width\":0.5},\"marker\":{\"color\":\"rgb(0,116,217)\"},\"mode\":\"lines\",\"name\":\"Row Cluster 75\",\"x\":[-0.0,-0.07844353566289441,-0.07844353566289441,-0.0],\"xaxis\":\"x9\",\"y\":[225.0,225.0,235.0,235.0],\"yaxis\":\"y9\",\"type\":\"scatter\"},{\"hoverinfo\":\"x+name\",\"line\":{\"width\":0.5},\"marker\":{\"color\":\"rgb(0,116,217)\"},\"mode\":\"lines\",\"name\":\"Row Cluster 76\",\"x\":[-0.09134965749274634,-0.36624941216107504,-0.36624941216107504,-0.23311207034002077],\"xaxis\":\"x9\",\"y\":[222.5,222.5,280.0,280.0],\"yaxis\":\"y9\",\"type\":\"scatter\"},{\"hoverinfo\":\"x+name\",\"line\":{\"width\":0.5},\"marker\":{\"color\":\"rgb(0,116,217)\"},\"mode\":\"lines\",\"name\":\"Row Cluster 77\",\"x\":[-0.0,-0.09134965749274634,-0.09134965749274634,-0.07844353566289441],\"xaxis\":\"x9\",\"y\":[215.0,215.0,230.0,230.0],\"yaxis\":\"y9\",\"type\":\"scatter\"},{\"hoverinfo\":\"x+name\",\"line\":{\"width\":0.5},\"marker\":{\"color\":\"rgb(0,116,217)\"},\"mode\":\"lines\",\"name\":\"Row Cluster 78\",\"x\":[-0.0,-0.046297872277319047,-0.046297872277319047,-0.0],\"xaxis\":\"x9\",\"y\":[195.0,195.0,205.0,205.0],\"yaxis\":\"y9\",\"type\":\"scatter\"},{\"hoverinfo\":\"x+name\",\"line\":{\"width\":0.5},\"marker\":{\"color\":\"rgb(0,116,217)\"},\"mode\":\"lines\",\"name\":\"Row Cluster 79\",\"x\":[-0.0,-0.06613503245878748,-0.06613503245878748,-0.046297872277319047],\"xaxis\":\"x9\",\"y\":[185.0,185.0,200.0,200.0],\"yaxis\":\"y9\",\"type\":\"scatter\"},{\"hoverinfo\":\"x+name\",\"line\":{\"width\":0.5},\"marker\":{\"color\":\"rgb(0,116,217)\"},\"mode\":\"lines\",\"name\":\"Row Cluster 80\",\"x\":[-0.0,-0.1079071002975815,-0.1079071002975815,-0.06613503245878748],\"xaxis\":\"x9\",\"y\":[175.0,175.0,192.5,192.5],\"yaxis\":\"y9\",\"type\":\"scatter\"},{\"hoverinfo\":\"x+name\",\"line\":{\"width\":0.5},\"marker\":{\"color\":\"rgb(0,116,217)\"},\"mode\":\"lines\",\"name\":\"Row Cluster 81\",\"x\":[-0.0,-0.12796686426089837,-0.12796686426089837,-0.1079071002975815],\"xaxis\":\"x9\",\"y\":[165.0,165.0,183.75,183.75],\"yaxis\":\"y9\",\"type\":\"scatter\"},{\"hoverinfo\":\"x+name\",\"line\":{\"width\":0.5},\"marker\":{\"color\":\"rgb(0,116,217)\"},\"mode\":\"lines\",\"name\":\"Row Cluster 82\",\"x\":[-0.3842293065092425,-0.5154530293333378,-0.5154530293333378,-0.4087062521705214],\"xaxis\":\"x9\",\"y\":[156.9921875,156.9921875,357.8125,357.8125],\"yaxis\":\"y9\",\"type\":\"scatter\"},{\"hoverinfo\":\"x+name\",\"line\":{\"width\":0.5},\"marker\":{\"color\":\"rgb(0,116,217)\"},\"mode\":\"lines\",\"name\":\"Row Cluster 83\",\"x\":[-0.0,-0.055945342207249345,-0.055945342207249345,-0.0],\"xaxis\":\"x9\",\"y\":[145.0,145.0,155.0,155.0],\"yaxis\":\"y9\",\"type\":\"scatter\"},{\"hoverinfo\":\"x+name\",\"line\":{\"width\":0.5},\"marker\":{\"color\":\"rgb(0,116,217)\"},\"mode\":\"lines\",\"name\":\"Row Cluster 84\",\"x\":[-0.09791986062481316,-0.19593061887155916,-0.19593061887155916,-0.12796686426089837],\"xaxis\":\"x9\",\"y\":[140.0,140.0,174.375,174.375],\"yaxis\":\"y9\",\"type\":\"scatter\"},{\"hoverinfo\":\"x+name\",\"line\":{\"width\":0.5},\"marker\":{\"color\":\"rgb(0,116,217)\"},\"mode\":\"lines\",\"name\":\"Row Cluster 85\",\"x\":[-0.054273017678353574,-0.09791986062481316,-0.09791986062481316,-0.055945342207249345],\"xaxis\":\"x9\",\"y\":[130.0,130.0,150.0,150.0],\"yaxis\":\"y9\",\"type\":\"scatter\"},{\"hoverinfo\":\"x+name\",\"line\":{\"width\":0.5},\"marker\":{\"color\":\"rgb(0,116,217)\"},\"mode\":\"lines\",\"name\":\"Row Cluster 86\",\"x\":[-0.0,-0.054273017678353574,-0.054273017678353574,-0.0],\"xaxis\":\"x9\",\"y\":[125.0,125.0,135.0,135.0],\"yaxis\":\"y9\",\"type\":\"scatter\"},{\"hoverinfo\":\"x+name\",\"line\":{\"width\":0.5},\"marker\":{\"color\":\"rgb(0,116,217)\"},\"mode\":\"lines\",\"name\":\"Row Cluster 87\",\"x\":[-0.0,-0.07034716615139089,-0.07034716615139089,-0.0],\"xaxis\":\"x9\",\"y\":[105.0,105.0,115.0,115.0],\"yaxis\":\"y9\",\"type\":\"scatter\"},{\"hoverinfo\":\"x+name\",\"line\":{\"width\":0.5},\"marker\":{\"color\":\"rgb(0,116,217)\"},\"mode\":\"lines\",\"name\":\"Row Cluster 88\",\"x\":[-0.06425684747675028,-0.10485864345263514,-0.10485864345263514,-0.07034716615139089],\"xaxis\":\"x9\",\"y\":[90.0,90.0,110.0,110.0],\"yaxis\":\"y9\",\"type\":\"scatter\"},{\"hoverinfo\":\"x+name\",\"line\":{\"width\":0.5},\"marker\":{\"color\":\"rgb(0,116,217)\"},\"mode\":\"lines\",\"name\":\"Row Cluster 89\",\"x\":[-0.0,-0.06425684747675028,-0.06425684747675028,-0.0],\"xaxis\":\"x9\",\"y\":[85.0,85.0,95.0,95.0],\"yaxis\":\"y9\",\"type\":\"scatter\"},{\"hoverinfo\":\"x+name\",\"line\":{\"width\":0.5},\"marker\":{\"color\":\"rgb(0,116,217)\"},\"mode\":\"lines\",\"name\":\"Row Cluster 90\",\"x\":[-0.0,-0.13574385270147513,-0.13574385270147513,-0.10485864345263514],\"xaxis\":\"x9\",\"y\":[75.0,75.0,100.0,100.0],\"yaxis\":\"y9\",\"type\":\"scatter\"},{\"hoverinfo\":\"x+name\",\"line\":{\"width\":0.5},\"marker\":{\"color\":\"rgb(0,116,217)\"},\"mode\":\"lines\",\"name\":\"Row Cluster 91\",\"x\":[-0.16895550397779938,-0.24832488492098093,-0.24832488492098093,-0.19593061887155916],\"xaxis\":\"x9\",\"y\":[68.75,68.75,157.1875,157.1875],\"yaxis\":\"y9\",\"type\":\"scatter\"},{\"hoverinfo\":\"x+name\",\"line\":{\"width\":0.5},\"marker\":{\"color\":\"rgb(0,116,217)\"},\"mode\":\"lines\",\"name\":\"Row Cluster 92\",\"x\":[-0.29209471776509577,-0.3842293065092425,-0.3842293065092425,-0.36624941216107504],\"xaxis\":\"x9\",\"y\":[62.734375,62.734375,251.25,251.25],\"yaxis\":\"y9\",\"type\":\"scatter\"},{\"hoverinfo\":\"x+name\",\"line\":{\"width\":0.5},\"marker\":{\"color\":\"rgb(0,116,217)\"},\"mode\":\"lines\",\"name\":\"Row Cluster 93\",\"x\":[-0.0,-0.06053584862552566,-0.06053584862552566,-0.0],\"xaxis\":\"x9\",\"y\":[55.0,55.0,65.0,65.0],\"yaxis\":\"y9\",\"type\":\"scatter\"},{\"hoverinfo\":\"x+name\",\"line\":{\"width\":0.5},\"marker\":{\"color\":\"rgb(0,116,217)\"},\"mode\":\"lines\",\"name\":\"Row Cluster 94\",\"x\":[-0.07855691559548106,-0.16895550397779938,-0.16895550397779938,-0.13574385270147513],\"xaxis\":\"x9\",\"y\":[50.0,50.0,87.5,87.5],\"yaxis\":\"y9\",\"type\":\"scatter\"},{\"hoverinfo\":\"x+name\",\"line\":{\"width\":0.5},\"marker\":{\"color\":\"rgb(0,116,217)\"},\"mode\":\"lines\",\"name\":\"Row Cluster 95\",\"x\":[-0.051306160783007336,-0.07855691559548106,-0.07855691559548106,-0.06053584862552566],\"xaxis\":\"x9\",\"y\":[40.0,40.0,60.0,60.0],\"yaxis\":\"y9\",\"type\":\"scatter\"},{\"hoverinfo\":\"x+name\",\"line\":{\"width\":0.5},\"marker\":{\"color\":\"rgb(0,116,217)\"},\"mode\":\"lines\",\"name\":\"Row Cluster 96\",\"x\":[-0.0,-0.051306160783007336,-0.051306160783007336,-0.0],\"xaxis\":\"x9\",\"y\":[35.0,35.0,45.0,45.0],\"yaxis\":\"y9\",\"type\":\"scatter\"},{\"hoverinfo\":\"x+name\",\"line\":{\"width\":0.5},\"marker\":{\"color\":\"rgb(0,116,217)\"},\"mode\":\"lines\",\"name\":\"Row Cluster 97\",\"x\":[-0.10378159382066952,-0.29209471776509577,-0.29209471776509577,-0.24832488492098093],\"xaxis\":\"x9\",\"y\":[12.5,12.5,112.96875,112.96875],\"yaxis\":\"y9\",\"type\":\"scatter\"},{\"hoverinfo\":\"x+name\",\"line\":{\"width\":0.5},\"marker\":{\"color\":\"rgb(0,116,217)\"},\"mode\":\"lines\",\"name\":\"Row Cluster 98\",\"x\":[-0.0,-0.10378159382066952,-0.10378159382066952,-0.09077409539228005],\"xaxis\":\"x9\",\"y\":[5.0,5.0,20.0,20.0],\"yaxis\":\"y9\",\"type\":\"scatter\"},{\"colorbar\":{\"xpad\":100},\"colorscale\":[[0.0,\"rgb(84,48,5)\"],[0.5,\"rgb(246,232,195)\"],[1.0,\"rgb(0,60,48)\"]],\"x\":[5.0,15.0,25.0,35.0,45.0,55.0,65.0,75.0,85.0,95.0,105.0,115.0,125.0,135.0,145.0,155.0,165.0,175.0,185.0,195.0,205.0,215.0,225.0,235.0,245.0,255.0],\"xaxis\":\"x11\",\"y\":[5.0,15.0,25.0,35.0,45.0,55.0,65.0,75.0,85.0,95.0,105.0,115.0,125.0,135.0,145.0,155.0,165.0,175.0,185.0,195.0,205.0,215.0,225.0,235.0,245.0,255.0,265.0,275.0,285.0,295.0,305.0,315.0,325.0,335.0,345.0,355.0,365.0,375.0,385.0,395.0,405.0,415.0,425.0,435.0,445.0,455.0,465.0,475.0,485.0,495.0,505.0,515.0,525.0,535.0,545.0,555.0,565.0,575.0,585.0,595.0,605.0,615.0,625.0,635.0,645.0,655.0,665.0,675.0,685.0,695.0,705.0,715.0,725.0,735.0,745.0,755.0,765.0,775.0,785.0,795.0,805.0,815.0,825.0,835.0,845.0,855.0,865.0,875.0,885.0,895.0,905.0,915.0,925.0,935.0,945.0,955.0,965.0,975.0,985.0,995.0],\"yaxis\":\"y11\",\"z\":[[0.08632903213923426,0.06748638036445631,0.01979368743531193,0.024747957644215612,0.04097428010488746,0.028451887342567844,0.03179598497020858,0.015831485304955567,-0.013611345333337577,0.007608630901101976,-0.03156506264700874,0.03973315623325424,0.10668819854228229,0.07302107948268544,0.09888594094053946,0.0031826304392659766,0.0250351681633334,0.02718609446196224,0.0033160080480061638,0.05103645260932976,0.004005430284242967,0.002606510124499334,0.01004489167894676,-0.027252594477418984,-0.02311995669354855,-0.06636475204533428],[0.0698253564101641,0.08686994030596348,0.07984406540926228,0.016515571732404727,0.07888573294623069,0.03031133872530936,0.040289551822172004,0.015238928662604678,-0.011350189979729697,0.015860999517140234,-0.013932372273025823,0.010230996449592716,0.08702042883768638,0.06041128153619357,0.06720576304804357,0.0006727241732502331,0.0312670851681939,0.03170396953437771,-0.014180551882592707,0.037958002141730285,0.0052265766550373405,0.009196209540823064,0.011143308465172502,-0.029499695553827476,-0.019356189126330053,-0.05084361599218662],[0.06407099937916888,0.11307044279138617,0.04236364291963313,-0.0029091611148239493,0.07597026936583598,0.0005754918136530174,0.04328503874705933,-0.015124553377309252,-0.0259906836469994,0.009175782102863878,-0.04047114830809184,0.016039201430536276,0.10616281062797295,0.047363629672372426,0.06610811042126358,-0.006327726836022063,0.020114186389359495,0.02270860508984579,-0.003427542236550507,0.03554267215368456,0.0016930936446022948,-0.012740339294148723,-0.005763615742851724,-0.02476161373928973,-0.03563462079273273,-0.0814527014275585],[0.02999839752678851,0.05225511728834287,0.044915257765823474,0.06722587913304548,0.051981096983225616,0.062383170008393746,0.08691312107550159,0.0831676993246536,0.051153073679733735,0.05509300521401017,0.0778472848561737,0.02163164222378,0.051885048624039476,0.02744813992797912,0.048908054154437,0.0032285408477361055,0.016016826035030518,0.02425328204371316,0.024054249874276984,0.02704008998219687,0.016356663239558505,0.02632776000287332,0.021696429669281203,0.019554829786384342,0.014814600481193596,0.0011312734912915512],[0.04472948590571438,0.05589091426356366,0.0629489040989819,0.0552059964813893,0.04755283526856585,0.04984800258841551,0.06567856679596612,0.07524757938137225,0.043237193596829815,0.05061887324985284,0.07133525783611272,0.013565569198905197,0.05203167959786259,0.03383329476851171,0.04896192493617549,0.0014691292148702184,0.03303207084294557,0.03198337212829594,0.008188943495869822,0.03845900905486213,0.026561105067832103,0.033232281439452976,0.019558364043315374,0.013913502607916017,0.008430992942100785,0.008035951140143882],[0.04614283725201537,0.045062516206036685,0.035775642946495045,0.07114124746262945,0.038774852836796714,0.030202025305441804,0.075496120692855,0.07770140244460866,0.044444499199310566,0.05326895302555085,0.07177756863163309,0.03011435677841187,0.05897438784240888,0.014851143015342128,0.06956154275909576,-0.0069827786375309675,0.02078540956759306,0.00952627654352406,0.03437954525311315,0.029377797177970677,0.02227859525935616,0.028677030142839732,0.015575757627069808,0.035796017186290274,0.018915805016482545,0.010845962248566376],[0.05357874571853943,0.047018337451224995,0.0594400530272603,0.05994497298250215,0.038189339327783706,0.02768672303729297,0.06564045418397108,0.06323553072706697,0.0394053395094901,0.05105168328103463,0.04456558268000449,0.04146826960107991,0.05700378980660853,0.034800836789907474,0.06179774762020915,0.0018225260186087722,0.023683138129108133,0.019997120591193657,0.025617590685385078,0.034902324956068265,0.037794194378850676,0.039331094728088545,0.03075067331599024,0.019285176442577406,0.014855717180544764,0.019134977082456484],[0.05233093386816881,0.05282865779713758,0.0865105952046075,0.05238146313736003,0.06466156230363795,0.07751672755257183,0.05223187971095178,0.0590490086946619,0.013187563478595177,0.039088717949066265,0.031928767055130564,0.008514660989207945,0.055468803582638365,0.05142701508601849,0.03934911140266423,0.00840808127270834,0.0487118842310493,0.0411023165761521,-0.017964499750557528,0.04062918054530196,0.011072099891225623,0.036036777642396794,0.005919362372347969,-0.031940491659007766,-0.007006238606106607,-0.014756693121820819],[0.06567191700443997,0.05873458974133894,0.0912028813480863,0.033402859947617214,0.03946948961636687,0.04615253571046185,0.04203669784527059,0.051747943528418466,0.018971410650137716,0.04262722869701294,0.037127495928883286,0.01767881385818651,0.06649286251429215,0.052429710540211255,0.05337790080412522,-0.0017508842052145202,0.04265313460572004,0.04610152299331291,0.0005703447394908578,0.051513604917887396,0.029229866008203403,0.0330960749742015,0.0290585771630974,-0.014574098790373774,0.0021835415334591213,4.82527058975335e-05],[0.0651724745945278,0.05650873496134082,0.07902309530232732,0.04617458954477832,0.029363869515207475,0.034357501724374434,0.05568449772076797,0.034171032125039524,0.018480830818075583,0.041311162660684436,0.026901220915328206,0.058166175087875915,0.06358335038317295,0.04963129864124699,0.0638364011699597,0.006559057597076867,0.025169916019798483,0.03297947478650673,0.007979502808692501,0.04322162616870642,0.03134864450334196,0.03933358124607203,0.03471238282360631,0.0030606265318839643,0.0059191474825991686,0.011602775140729937],[0.08196594466627433,0.05394505731245103,0.0762089895201424,0.030508097332971745,0.04688003755244466,0.050186468932213624,0.03474984899624023,0.03149198858517285,-0.0026282728038888037,0.025268046799878208,0.00399903637556448,0.031906800664266904,0.08247181678340221,0.06401419632785693,0.08033932798215132,-0.0008686707469175992,0.03155589973688527,0.03922035052778333,-0.003858441256939321,0.0482005814865841,0.019530374775048903,0.025276762141679232,0.024023246812747867,-0.026050735211787315,-0.0030318027754208388,-0.030459324619957193],[0.08144315956622272,0.037132375910814475,0.05399542828222306,0.04519769302897522,0.024955471835605925,0.04581773440531381,0.041728808427091674,0.03461227899780672,0.004217214070778158,0.02326186183553633,0.00016531499392358207,0.06295784658358414,0.07501384729311511,0.07287985418101425,0.09374626167512456,0.012071275804867554,0.013907630494387146,0.029463641040130467,0.01732467208719679,0.05069235982902673,0.02383923198412366,0.027861673531617337,0.033184530884528274,-0.0018484570947543133,0.008525790988829579,-0.0164204449188049],[0.04766615768124305,0.05889234859352363,0.05216090691679748,0.058939026953110735,0.020410418379297773,0.02009049738146554,0.056515858793494106,0.02304261883791503,0.036197678998917626,0.03849022547616482,0.02501232976194312,0.08357505506116669,0.05915906148003752,0.032572201578277005,0.06934431290026113,0.02565696007415974,0.00870882613667981,0.01957077120682213,0.03493753692731727,0.04172745237826994,0.03700543139969795,0.0418186957915718,0.04268358095971514,0.0368602265688297,0.015892634316184623,0.03301642820447018],[0.0585028657601315,0.04410595813775567,0.034014935313471495,0.050808974948760854,0.009659318181305943,0.027717846676448527,0.03605920050601047,0.024412023775427616,0.024539211459875726,0.02436438822950554,0.012954288262212676,0.08423755953980697,0.06265794374895794,0.05180037428177536,0.07994810076773726,0.03717250698074534,0.02003627940292571,0.031602452544076676,0.03282676778041335,0.04504585425939317,0.036173452141073564,0.035757508055341586,0.0411705643080337,0.042153753609775524,0.019276644177500746,0.021017983596454348],[0.037804333967781045,0.05017003833508449,0.036784929135535244,0.05773406625843697,0.024216836460348806,0.02425520454323088,0.03805811041068838,0.013735136512048052,0.0339987035574551,0.0306377077103564,0.023354116576806278,0.06807526190149041,0.06092014198960921,0.026194178673409563,0.06184846612404421,0.038976079834461025,0.02687587606905309,0.02830381629848555,0.04684942713702345,0.04560331298248824,0.043072850832809984,0.04949940467986666,0.053133414085719505,0.05390423655432086,0.027437422089335584,0.05361608250550792],[0.04848014285313049,0.03471019816146545,0.02453933669157979,0.04386947041336789,0.008525881734432611,0.01909620585354954,0.016598321590672288,0.009969635916405456,0.025880768952966926,0.021332532647078323,0.0226691483418629,0.06896961305925342,0.055745953052378866,0.037752960074206615,0.057168732312177645,0.060808599482322534,0.04653408948107893,0.04091227337659745,0.04449397712373096,0.049647981472705494,0.03989215095570345,0.053121585302311064,0.05618789133292085,0.06792819003132602,0.03597618201742486,0.051373298930247446],[0.03826877976165502,0.045723565877772376,0.02153111583302811,0.03544790994473246,0.0090104871615804,0.023635440639882044,0.04596499060789572,-0.007753356444595294,0.02206964547219431,0.046930866411936306,0.028283593616015124,0.03231656443090297,0.015912262118322973,-0.01197466616714321,0.07158278037461147,0.000698323209753493,0.002246460990837501,-0.004409754144233391,0.06986697197291494,0.021710697834797787,0.08414586213034822,0.04675302478650173,0.06797417267089248,0.050552518801069035,-0.00029636530296250907,0.055017595029582644],[0.07243057098357578,0.042730981537490775,0.040440715746874856,0.051120335875124656,-0.0057953781935749515,-0.008773142699949582,0.057194527576800575,0.02143366112663911,0.012059898370141098,0.057087310496604066,0.05667563954651425,0.05486409807543338,0.0355869027266667,-0.0349604527310069,0.08788382191092894,-0.039983158120439566,0.008346076252808254,-0.02785076149728359,0.07460382677804714,0.006427539915745684,0.08204527374394943,0.0683107202178784,0.029088658379805787,0.03675300130466683,-0.008401348673388154,0.03090902180541466],[0.07143946503757376,0.040417993257966495,0.0468025873911726,0.05980238258215473,0.020130694071563288,-0.011801168547355773,0.06671347933514993,0.04895078852792137,0.030414919296850057,0.05253290124868851,0.057261918350170526,0.044954869115981094,0.06181744460715086,-0.01475832289002213,0.08096617256971511,-0.030140060468288682,0.012148264717657203,-0.014178633832513748,0.05998714180585385,0.027451779577804675,0.05806328275376127,0.05500141847816681,0.022249918519440526,0.036980421239262484,0.01175366573232492,0.019762340024684633],[0.056918654224168475,0.048217779597912236,0.051677163792957365,0.0719200540978259,0.01988556973950928,-0.002886660454390816,0.06641622776052652,0.03469347752343299,0.03579733484568676,0.04877989535048696,0.03847957952796799,0.07148457504467026,0.06537495258830095,0.009171846494864438,0.07845023549472352,-0.008412670897328306,0.004429876308171987,-0.00447309236032703,0.04751880853332466,0.03186452100164233,0.040290438291566005,0.05077253703899215,0.03170213431498323,0.03021998929821279,0.015370156819315944,0.02138661403335443],[0.05500281679790217,0.05294446392270061,0.05113191376145565,0.05738986446115807,0.013252753852336902,0.0035576649465338672,0.0606471058125099,0.01899863958961867,0.025915435938235226,0.045956962490075665,0.03465834951128832,0.06730067441575491,0.05760360835373124,-0.005414699909535997,0.07515411752308859,-0.004448745403489024,0.009429698683337123,-0.0031017933197304837,0.05968203932637883,0.029881233678752978,0.05749085389702582,0.058810150461338695,0.03755411827137611,0.04100880817357472,0.007241420784735136,0.04002857159251591],[0.03026602939243417,0.0421358833728491,-0.01183194997698575,0.009898901229309337,-0.0035544454440095963,0.049207856199066535,0.01976588823579778,-0.044659823166518356,-0.00663275916305528,0.059210031220991166,0.012052139827925856,0.015244466101899806,-0.021663800638959285,-0.01723122218576012,0.07247213176298603,-0.01111381561842073,-0.019219342514671084,-0.03100599421353735,0.06852945530515658,-0.0018595303660012275,0.10770209003942566,0.03068250055310856,0.08439205936865679,0.05579454832411471,-0.021776597832578848,0.06832394877948084],[0.041521844944390235,0.03992849366391171,-0.0005123179544298806,0.018185888094464198,-0.03361453109225422,0.03551570946271765,0.044369867853662204,-0.01845129813150337,-0.006469165681636968,0.08128385887571568,0.025753732281403124,0.027236199400856892,-0.019148138552788074,-0.03584550720831797,0.09070461688773912,-0.040497314531309114,-0.027009216577795703,-0.051284439578763386,0.06714384979608204,-0.011829924398539998,0.1227357796343907,0.05588413932252412,0.0546714590835983,0.03599692199715748,-0.038600526109814695,0.051802911054507794],[0.024530263192600765,0.03593429996557729,-0.025469103449780428,0.013309410042918357,-0.037469014952948576,0.05069548118123113,0.02049965346611507,-0.05073927784794187,-0.013097692698007146,0.08955685372602487,0.019229796016072664,0.008901308961868637,-0.04876550636041993,-0.027959653254548328,0.0939924031883477,-0.035808199579305616,-0.04361973074949885,-0.06038134878807898,0.061378875434696306,-0.021810545882728016,0.1388214273144815,0.03476494035743258,0.06905874734873071,0.04985636550848663,-0.04564137140542415,0.06717506370104084],[0.04204050629067119,0.042602542231588963,0.025552613162815846,0.02997336051099936,0.03805489082652169,0.023335213765883656,0.03228196072467321,0.004090266738122461,0.03072852144508681,0.019689292135434966,0.007904847031755258,0.03314812397704403,0.05977690135335656,0.02052995945104613,0.05492125254586744,0.042933675773586005,0.029090848224829685,0.03653497313422141,0.05787611726819558,0.056370484495835815,0.046706319743167996,0.04502048013853266,0.07566693726050824,0.0635886524385457,0.03918810196643016,0.06716789996238284],[0.03547725995876144,0.03603814243184414,0.010150086622882748,0.011581170397489154,0.03254063417707387,0.024365162986253297,0.033838053986078365,-0.017173562758596606,0.013779377719904506,0.015297886349009665,0.0011480922525186066,0.02358135849080073,0.03424354431387003,0.013711189367783927,0.045818768991643444,0.03474476888083908,0.03481781877069742,0.02940001221021854,0.06622638328155064,0.038316532633116795,0.060352617649221424,0.03769587508523345,0.09901191865371584,0.07266952715126229,0.04313238569770278,0.0673850713619712],[0.04421357401564888,0.03362077320872062,0.008086787363215803,0.025485233509347532,0.011732494843714997,0.001800242687639203,0.0070996867396879715,-0.00014956149694453358,0.011089982204111393,0.012458812593980823,0.005681419741506627,0.0355249603840215,0.05988395372253741,0.04020578158003235,0.039381732012766846,0.05951673355854828,0.06259764890773437,0.047147343257430724,0.06040707922169969,0.048975925915313634,0.04558412366257633,0.05508838376534908,0.07480880688630256,0.07874337579119917,0.051711765483198446,0.07717657155385454],[0.04478799263442468,0.024179540668017807,-0.008690570039381507,0.005396603798344002,0.014842826063752756,-0.013808518338421838,0.002389593198498685,-0.024183446392844782,0.00355978988621386,-0.005804685287384009,-0.016754146374806933,0.019868314695951322,0.062126172788176115,0.035841186550863435,0.029034228939962214,0.04674723988201368,0.06809821805787963,0.0486107744049786,0.07709313904918055,0.05228905668023892,0.04510147166658646,0.05147800198389069,0.093604240494809,0.08244642179251266,0.07384465150692002,0.0937248923532272],[0.05342525263394743,0.02132448995026351,-0.012740104501996502,0.007432407075248393,-0.024435648706975316,-0.03858801077626324,-0.024838021813259226,-0.01695377239886245,-0.010637107341761154,-0.005421027361055958,-0.012778719949836731,0.02520361720861028,0.05314562893724009,0.05965385376406185,0.0335741369544682,0.07530169373221943,0.08554341653422659,0.057839468904257174,0.07203932541732602,0.04926904594616305,0.0463706540608424,0.05943768744896369,0.08490572199678334,0.08621135766157673,0.06011674767326819,0.0860828074676927],[0.039429662975414864,0.00910455036452501,-0.030532465250198176,-0.005765954326393069,-0.027976933479082547,-0.05616352502699527,-0.03451462799333152,-0.029620799772909018,-0.024171599052422915,-0.0246416013180924,-0.03300218455099774,-0.00043664901776491183,0.05869412759462758,0.04719650787237317,0.021789272464019627,0.06847490701759174,0.09057283342512557,0.05965458913770666,0.09261195318296278,0.04102342587347499,0.04551280410779451,0.06423993167131822,0.09163018184376259,0.09668551119096455,0.08471845817407164,0.11134441482239049],[0.06729554277948632,0.03172126206045783,-0.008973176636920127,0.023687211465713898,-0.02820365295672561,-0.022787493371312695,-0.017840982028603763,-0.01074605507827342,0.007778468141705686,0.002656016575486392,-0.0066829709088686295,0.05333327369836591,0.046470631442177,0.07678891491463247,0.07733805636218402,0.08270285561482105,0.06236458866149486,0.048331511727734894,0.04290716480876486,0.04787861493138276,0.043163816199975974,0.040803248210927706,0.060224397824768405,0.07618057651026983,0.0312070162603236,0.0533153516364874],[0.07852364567061473,0.028061982402754537,-0.04121752594071876,-0.0069737298426887084,-0.0616882089296487,-0.060316560111611225,-0.04420438043234563,-0.042037785013472134,-0.013658437367732174,-0.03577154747712688,-0.038267052529734724,0.024538062446422926,0.04402767566413007,0.09412173581157349,0.09851610379737485,0.10309364067798782,0.07577778903192287,0.05835032602864562,0.04165154736173604,0.05999686002100327,0.04388244263731253,0.05114595338333791,0.061236872417854554,0.06710719282335945,0.021865840957381838,0.05633031671454389],[0.05586745905101928,0.11793762820166392,-0.021639472356723505,-0.003348451397922586,0.05203988719585059,-0.07315193675838964,0.008591909408784126,-0.09452908819427375,-0.05199540899649471,-0.03618274635001502,-0.053410432230881974,0.0022668551402738046,0.07038834238684435,-0.0063949603675063915,-0.0054215407179724895,-0.04170299249193948,-0.01580004024899767,-0.05354686082623106,-0.05067466215485801,-0.05379024325003927,0.033965099582834,0.006928393555439033,-0.06731158357025482,-0.04713518294235797,-0.08370176531746708,-0.12289625444623171],[0.06510263827730034,0.14588936234705863,0.03487009384263556,-0.006990731882995843,0.10091959032312625,-0.03803501889602215,0.010980174337962056,-0.054855435185907464,-0.036699590378150085,-0.020450203292304847,-0.04307200317945624,-0.012168983343524287,0.10664428580638197,0.03733924052551865,0.03700758333801191,-0.02138984997301313,-0.0010308528226788682,-0.0167343172380863,-0.03622940127961066,-0.018072554595148005,0.02833588668845466,-0.024715702443404014,-0.029018316842939,-0.027628337703833147,-0.057888939214614285,-0.10130398125617109],[0.1145836089745152,0.11574241568860838,-0.029394485768245826,-0.025700140255063605,0.059660789941155895,-0.03848169944881266,-0.002605660255776465,-0.054373824534534126,-0.04267191575301252,0.007794992335398487,-0.05609406969883905,0.021729228041506732,0.06476019547274867,0.037023149616161904,0.06254954438392696,-0.008522058794240894,0.02335463254374162,-0.010946511909217554,-0.022819413215532963,0.01895074435679192,-0.0008037317553106493,-0.018126983151787346,-0.03795925707699263,-0.00899650430406479,-0.07230322971125239,-0.10929848115548785],[0.230233052428088,-0.05169084811884102,-0.08437449540310585,-0.07557183973368037,-0.05544666669434213,-0.06399523136626091,-0.06257255385377301,-0.07920182406846171,-0.08996271175726823,-0.07286102769573091,-0.08643692449952967,0.027025602845999752,0.12617135335199514,0.07897247096015944,0.15491909045541807,0.06188893354925637,0.045718596508097314,0.029350170494200717,-0.01406098232206654,0.04517370769967105,0.009985971516746933,0.023575288337941175,-0.007872360746916801,-0.01916174572029905,-0.056212118859591945,-0.07064029035444298],[0.21010009103926558,-0.007387490079672682,-0.06717529593086333,-0.04704179083933094,0.004067445152560467,-0.03324922814244907,-0.026977877634287037,-0.06787977826380309,-0.05752984917360983,-0.016957697367124575,-0.05819287866045075,0.0824453743374988,0.09509084098113588,0.049008905983717016,0.11943342203666452,0.04125600581681499,0.026589384485750794,-0.007614991284396133,-0.033861445361541384,0.013486189546204785,-0.012929991974441002,-0.009699069727782145,-0.014041337951168686,-0.02425040551753252,-0.07919727074168241,-0.08755379162530767],[0.2589866095969581,-0.046777162404100875,-0.07825595282533017,-0.07252995542027842,-0.01926002195603338,-0.032522747071464825,-0.021978351134515822,-0.08311492189224433,-0.09157983247978282,-0.05434963390354482,-0.0794840642188473,0.07829147438623296,0.10914258466701204,0.0797981278956642,0.08095176510542795,0.027210823646471205,-0.011413480224587824,-0.0013241572516621836,-0.03665664866990599,-0.00431020777433283,-0.005230533395307602,-0.007364424392431401,-0.027689349966764615,-0.05254965271035085,-0.09239465487767962,-0.1023109400212657],[0.18600079870847902,-0.005876885148035055,-0.0654514744058924,-0.03426223031057242,-0.031890493859165106,-0.04727550518649366,-0.031192179672367662,-0.06340857209825397,-0.04761861282693293,-0.022376098746765383,-0.05666588006479012,0.04876348515522955,0.09718762756975075,0.06986762125462737,0.17382933342742457,0.0642286374021444,0.039484687834400956,0.011231227897163937,-0.012868639853769709,0.020321254523042398,0.002715127078458085,-0.0027233942540836886,-0.004849889185923051,0.013747967907659836,-0.03401967208792242,-0.02974112312604059],[0.1321058850906866,0.005563412066824064,-0.06861585274312935,-0.04492907815403892,-0.06278326934280729,-0.06893537022885443,-0.053034171343238526,-0.05965324566106983,-0.05309377338190929,-0.053600699288872,-0.06692055474389731,0.014317803721184685,0.08458472181350854,0.07938276709592526,0.17765225239390847,0.07921528116116527,0.06781517867282708,0.03933110479080998,0.0129564919721947,0.05003862109458676,0.02584981722063845,0.028351329859381436,0.016593592270261387,0.029687568593418007,-0.009744154060722321,0.0054750242260782345],[0.14918290122878775,0.044119635410228286,-0.035804648846659945,-0.004887300027442032,0.0234100147676006,-0.0020819343960351844,-0.005217272462616412,-0.017671733628181557,-0.02013720010295164,0.007514765807871138,-0.0400407744744202,0.05670273359184544,0.08733069771833424,0.059910573730703104,0.1209679390215776,0.02901232633488271,0.04325133777444226,0.0024995496809344375,-0.01643670539857922,0.031120277552252246,-0.0236772700081663,0.002435673820581269,-0.015248730599011079,-0.014814920217364747,-0.051617114431918604,-0.06570609677586595],[0.09966888339727603,0.03185922686799919,-0.00278638918646687,0.02742733832106828,0.004635317430573244,0.02217660717956632,0.0070367777262319575,0.015059415235732648,-0.0035479456049994362,0.00214892406559819,-0.026426521547361137,0.06339925477100822,0.08763830545308163,0.09231312224812174,0.12772448955180177,0.02271034735902555,0.016766134236820468,0.023545924411034536,0.01444167012781078,0.04884788616414243,0.015602621431000385,0.011259094122658353,0.02218333488131763,0.007338916859061018,0.019232688018883448,-0.028575835583684595],[0.09571269809606364,0.03140527135201168,-0.00016185653859229765,0.02677219862331498,-0.012824282719550911,0.010598634160309733,-0.0007291524909314451,0.004274055084388523,0.007403236898708837,-0.00653484229278703,-0.020034884549399223,0.06528671200660774,0.06082298570231934,0.09391012379410094,0.12263598048177038,0.04974982870548175,0.027978527933167574,0.034600266495138504,0.026937191373919034,0.04883613457352631,0.025842122783722804,0.019589434692334373,0.03700570337207082,0.041772395978916604,0.013155854462875566,0.018019950364556503],[0.14519553722045492,0.022426537617055903,-0.0346886501707831,0.010802850154049082,-0.015266017276967636,-0.0076465352666150455,-0.012046902274665872,-0.016199242716045503,-0.00620521070971064,-0.019787459856445505,-0.03721505358776096,0.05891991538323388,0.08686163182144338,0.09359851802890357,0.15731355642739814,0.04786082916096601,0.03607798416414609,0.008609359009251943,-0.002705864270033248,0.03112087554867049,0.0038845146629470917,0.011235475642799003,0.007461096077382295,0.01676533175595124,-0.018405755344014507,-0.014334152424859026],[0.1262545432860246,0.028269217497026378,-0.035647317239883694,0.0027500633391034646,-0.03484957979206742,-0.031331759625151084,-0.023210081886253897,-0.03261009332356135,-0.005887207544819473,-0.020987586677432057,-0.039545553505043296,0.05179519947985131,0.05573353093749728,0.10964842363704042,0.13182207363567655,0.07214421858904899,0.047426292948259424,0.026686384947299496,0.018765594357392612,0.046809860877521065,0.021407825198372588,0.022131354314635948,0.029944237918853644,0.04595338875885194,0.00020903199586608245,0.03013946666493081],[-0.030449052790571682,-0.013134122060632164,0.10741660729899777,0.05846874736406471,-0.01133202180661877,-0.1136297760720015,-0.08064872837934692,-0.13134335703774686,-0.09041125250877419,-0.06744169870612676,-0.02951796950385234,-0.05497496783404597,0.05667758441455692,-0.10324091998223711,-0.0971125262169097,-0.09349854434859686,-0.04228031811193406,-0.07184808380491071,-0.12306808221280105,-0.13452234374745825,0.0078070708928527355,0.12359063323128672,-0.10278837174190839,-0.11927808307886023,-0.11180637065992924,-0.12895658514138178],[0.0032182638318387635,0.03330884873863227,0.08413619566838682,0.03718950801631529,0.010420466483172741,-0.10818112024890852,-0.048174928371156625,-0.12098070698667895,-0.0755082972865666,-0.05377789731905473,-0.03175965564159859,-0.028058645881731945,0.05540349076756637,-0.05716139980056428,-0.061713109701697536,-0.06431837253896167,-0.026943346272381763,-0.07883687515840963,-0.10086291959976407,-0.11405073244389825,0.02727376802212017,0.0788634933217954,-0.08753369455700134,-0.0937437947159409,-0.09810148418269493,-0.12941618891198262],[0.02147562902840816,0.039603826281090077,0.09659623378049234,0.007432122724970597,0.07705823481415217,-0.055342770475723696,-0.05107922410496604,-0.1016714631046403,-0.06708263716318806,-0.04539101333618796,-0.00015671323691252015,-0.03264955172993883,0.09930891610588582,-0.05908935024364306,-0.08439178816251977,-0.04496398102463471,-0.025465882927234035,-0.049630509289906685,-0.09804405646041608,-0.1100723133253567,0.046745500379201055,0.04345599238186221,-0.05316858430425235,-0.10452258099259074,-0.08971887715050889,-0.11719495372817701],[0.04004171860850139,0.07517833416974218,0.06484757739171193,-0.00018426568088031337,0.11635069939052828,-0.03429250213275174,-0.005818977605750231,-0.07576192692448827,-0.05465780691333082,-0.04345869920158202,-0.012837731724752693,-0.012500811690710573,0.10280001104301512,-0.006997012093748284,-0.03665954191302198,-0.007724371561956878,-0.013796929880368708,-0.037904148860259085,-0.0702243850181662,-0.08367352364297716,0.04996896547121102,0.01680777904462674,-0.03775077046259062,-0.08077759225667716,-0.0680962868615338,-0.10807602022192533],[0.028314055326392723,0.08208949443530614,0.048020920484923346,0.004761270563595904,0.14413053083221417,0.06112154729589184,0.05996624353906363,0.014586733573755228,-0.006230168954494603,-0.01789063664756102,-0.004679218461361462,-1.4330158113362579e-05,0.1043986780245903,0.06446677939537379,0.01637165061213522,0.024965121170782006,0.023718074082453244,0.009915666974694398,-0.0376157643304722,-0.010703055598951239,0.02069543273813612,-0.007566593705711805,-0.014534894752802258,-0.04958029356342386,-0.03473387370117839,-0.07266476703991005],[0.022782674296709576,0.04949422125410119,0.033740050648003284,-0.019051897077968005,0.1999456855798446,0.0858324041680627,0.04590828402687083,-0.0028233994762520698,-0.01933300191044479,-0.021184451563084045,0.008808240623207647,0.002585622424894629,0.11308504840447581,-0.0021365869490994893,-0.04331399708758578,0.01577790019002223,0.0002165353355859101,-0.004271161150236347,-0.051559496880615965,-0.055365134653159426,0.04270612519515998,0.0016539518438077327,-0.01448311196598373,-0.07150690266636496,-0.046575914178589625,-0.07529569339417326],[0.03439458503270856,0.06112014915282185,0.031090353860128622,-0.017055762372435335,0.19658975474592794,0.0712534744454402,0.058531167603346285,0.008254348929398775,-0.02216075232284781,-0.02456307862965801,0.004664511478991884,0.0033340145549939915,0.0929081303966397,0.041989230690358065,-0.024849826185684487,0.03957842380494159,0.015582738704847804,-0.006587102791909966,-0.048906734490160864,-0.03704092342595876,0.03980968715696839,-0.008309964656239177,-0.014356173362381597,-0.05554396854636967,-0.043986220855084246,-0.07555111049913202],[0.02481227550372289,0.03164633768195771,0.03534543629399428,0.006132789158529245,0.1951527340215728,0.13712972198293383,0.09629998120196892,0.04468501118417467,0.04176596812250155,0.041099136190987484,0.017360575324885275,0.02408381609564203,0.06128365334405564,-0.005934985742488047,-0.040554156390727736,-0.005313075419982188,0.004650460288870867,-0.01043871005472144,-0.03235415663114993,-0.026043892443342195,0.0066734898893923145,-0.01684498844890059,-0.010819777299518496,-0.04684331656154235,-0.04619488268204604,-0.04489544889942616],[0.01395342339162492,0.027483990277547526,0.038216185480797665,0.02047410006930131,0.17911864483372936,0.1444703360733482,0.09391290726701929,0.06191140524637459,0.025590758955253617,0.0180264564759737,0.021336723249291645,0.012093524167172215,0.05550868200843559,0.0416168493398259,-0.02642174089542483,0.024484217363788835,0.015835640636206044,0.006352907443446798,-0.034219026592217136,-0.012666098672521053,0.009307294939354283,-0.0018145212507363062,-0.01573131665553343,-0.05028474783574885,-0.0389783751961289,-0.041031487600159566],[0.011607226607102006,0.04550078424548351,0.05504051461737133,0.043765491079111374,0.14085521055764733,0.1213434275432213,0.08285072933769491,0.07306941573291104,0.020775251844522974,0.015894180771550304,0.02830368364111488,-0.0005594354792531342,0.06193827587562717,0.06351252737147406,0.0019497780631668737,0.030246300275506982,0.033123560593990936,0.022945126271581434,-0.03633763343014479,0.005808106233360505,-0.0005312392799123877,-0.001132733602904279,-0.016521786911962794,-0.04478812521686201,-0.0331510577366248,-0.044005941467080145],[0.01632932272993992,0.052271781030358594,0.06342806009155016,0.09214837558383443,0.0628886063409218,0.0828718947600911,0.09599812552470963,0.07895808599968515,0.04854226988864313,0.06494225247568691,0.08065819368597829,0.037860293000816087,0.04304767813552404,0.017272727574348418,0.04418490678936288,0.003723729480763882,0.004724432453309307,0.013853506554930312,0.01024083846065707,0.010536686866866318,0.0025694365595113344,0.023536746087104626,0.00572126623162128,0.003101727416390254,-0.008565945737690678,-0.005954236874286228],[0.026127067300497686,0.04942201507594643,0.0752295389445812,0.07965556580417119,0.06863898989266429,0.08370196203602223,0.0720798952296397,0.08696686065649217,0.040397644481557526,0.061751225187161696,0.0644427444475354,0.015098909777118696,0.03636820144806857,0.03160836643203005,0.0421510013927861,0.002949805633939512,0.026361842306316025,0.024248625887948516,0.002543203525203347,0.021474634195655734,0.008861398397777193,0.03774367614167368,0.010171230833203593,-0.010576893682372246,-0.009967754647132454,0.0014545564318540205],[0.006156917580006888,0.039102109233759175,0.08067286360320125,0.0888430390838805,0.09283218743170477,0.09219290296956084,0.11056812956808082,0.09198574202034746,0.06731368303695942,0.0881823877045852,0.07522969323145165,0.0457908511282612,0.022647941347089612,0.004961586403838064,0.018809674392979148,-0.013760960733559008,-0.0114724182706952,-0.008143067864818526,-0.007909716939525274,-0.011063907602158168,-0.020175136570769053,0.010491151906887514,0.005715129911428918,-0.02823097237146001,-0.026933533120345896,-0.015835664989697018],[0.0016345780653186925,0.03454808354918537,0.06492354024195104,0.0806966371068702,0.113223357780044,0.1209398568131787,0.09168805527093238,0.0924358878621093,0.037984328744756435,0.05484512433102412,0.05713837543577813,0.026789102165422435,0.029722485393005815,0.031066674957877488,0.018190374908117313,0.011707032084615127,0.014453364046116107,0.008447015191710816,-0.01882895957269301,0.0008366686405200108,-0.00821015655600571,0.018576767338839145,-0.006165230874062344,-0.03338298579100746,-0.022171063814144965,-0.01888985787895578],[-0.0029612410471176742,0.0095305733748475,0.04127660469033215,0.05244258263495835,0.08297815414492035,0.13325825799768315,0.146113086908629,0.10472672390726201,0.12077353407633179,0.13531476712967955,0.019674223955969683,0.06096254721045977,-0.007881687098140633,-0.045918251433627696,-0.039348055228706394,-0.07065380046863984,-0.02893078450646616,-0.03908866044081016,-0.038453476880746476,-0.04014309291894254,-0.04364401471527457,-0.04879888296459929,0.0035810792902807587,-0.05649641918633884,-0.07325462312281414,-0.04861460375429966],[0.003190717707879265,0.021702466988514885,0.05786919315007075,0.0648912356734343,0.08155283525276169,0.10891099302016582,0.12872631658328154,0.10430848154733341,0.10566924114435339,0.11700850380140204,0.04303694597254304,0.06911085993275654,0.002904005986811481,-0.025493623129379223,-0.013086327261764091,-0.05485752971410987,-0.02146139878795414,-0.0374894870616385,-0.03706490866001452,-0.029289601076779595,-0.033714208744336255,-0.03181782641509215,0.008094571564435216,-0.05369570558205233,-0.0582017273056685,-0.036819394892025084],[0.00802202467602528,0.02115045260017645,0.03598959065268134,0.037236106502155336,0.12390389132675822,0.14272070854356095,0.12375952474676888,0.09184290042860252,0.10002044099194707,0.10037225499815883,0.021357260801348976,0.0478217632270235,0.011966662914765919,-0.023255551376240302,-0.03258975009744004,-0.049198685002363116,-0.010889096487912142,-0.027790600953586583,-0.0364058013230404,-0.03387778221396383,-0.02688517542612509,-0.031846578307262244,-0.007062492910044488,-0.050359433577582685,-0.05596063964521733,-0.04301210945594851],[0.00995658751127787,0.02680940355672673,0.051353604769513755,0.04897771061149456,0.12498647925127376,0.13286708835090266,0.1126590770247255,0.09868513675543109,0.08053073481410317,0.07952703033883732,0.041353786524306824,0.039298401540891204,0.0207690903780898,0.00925604253615181,-0.014602403845358436,-0.0232074641852886,0.0012295183863805792,-0.02012541275720295,-0.034747339600030375,-0.015027832849735051,-0.020995253420871912,-0.016873147775829378,-0.00720840388070948,-0.04481723073496084,-0.04687053938872204,-0.03305050718950374],[-0.13471198630837347,-0.11346267438267015,-0.08821286314907537,-0.016314322898686007,-0.13300904495526047,-0.11977789640071462,-0.119382577016116,-0.14315098130262294,-0.100202345563134,-0.14501794257314754,-0.08886921940803491,-0.12032283350180442,-0.1061940958244536,-0.14573954544224615,-0.13860221135062878,-0.1366744735135826,-0.11100966009161034,-0.07757234437565451,-0.1417364851968043,-0.1414821188163256,-0.09878099775615035,-0.03972814465678172,-0.0942629281772932,-0.13605050487312176,-0.07392402163234793,-0.03705773411408757],[-0.0714199954093892,-0.0932304196648746,-0.10343965232381375,-0.03218082819596359,-0.12516055490635064,-0.1216554662979278,-0.08702611682065638,-0.1432422736478268,-0.10075554047141953,-0.12961248418233315,-0.08836021379479017,-0.076743259131084,-0.0904430622778738,-0.1262296158925211,-0.13279948808384534,-0.12746635240789522,-0.09760339114466468,-0.0911836026751994,-0.12542111820482857,-0.13512659980834743,-0.049007758492555356,-0.0369664803686611,-0.09199000578686264,-0.12414145154041482,-0.03104241269052513,-0.07041787677531396],[-0.08785633603680479,-0.07006247455337591,0.040655811110822754,0.06372618653648066,-0.09542433124483995,-0.14111590858269146,-0.11581347573224932,-0.14713805198096802,-0.09879029424088767,-0.10449658864662525,-0.051684836474078275,-0.08996194146310622,-0.054533172918102085,-0.13063969178209328,-0.12317897391604542,-0.12997842297666992,-0.05898065141542559,-0.07124010137980266,-0.14127869059189066,-0.14273276870430146,-0.05158509613913011,0.06911969776891061,-0.1230531127210083,-0.12814785485643068,-0.10804258751798407,-0.08866112611565599],[-0.03271326517275033,-0.06725601497993,-0.012867313712678713,0.0338937824020602,-0.0908313308660171,-0.11490164796222775,-0.06258864079078719,-0.1376077219571401,-0.0880446925027331,-0.09589027509716933,-0.05937914564568221,-0.029734126002305142,-0.03706693549822555,-0.10889570819098414,-0.11483872816193644,-0.09281756576394212,-0.058537438832784186,-0.08330452251389509,-0.10462513137331442,-0.12986790104025503,-0.0034242074194130723,0.06735724164618931,-0.12307876792472756,-0.1194808195891417,-0.041229934711852795,-0.12235465497407631],[0.10734899684030985,-0.09853565841912876,-0.13949519540782845,-0.08341470406482139,-0.11587266909930433,-0.07221468967377452,-0.05479782407250375,-0.12610376756489028,-0.11069737579818947,-0.11184931503138426,-0.13740334150484337,-0.02958998161681624,-0.07698590622208344,0.08019977284769608,-0.10354710318089648,-0.11668566838376011,-0.08371831386155612,-0.10850558538727686,-0.10581125524893348,-0.10159084263537976,0.04425410899192919,-0.08254463202936109,0.03511046513362026,-0.08366490242060853,-0.07599176898109954,-0.1225761903515188],[0.06377848135863481,-0.14307132648354445,-0.14592174515456915,-0.09670845481576927,-0.14099217664457797,-0.04205349291455629,-0.06919901576922932,-0.1203581138756723,-0.09409050673449212,-0.12840345130964967,-0.14699935392094687,-0.1086474764248905,-0.10089843842411268,0.1327118233223178,-0.12236828340298865,-0.12553272262714574,-0.09389676676987697,-0.12021351858292048,-0.11914020955006482,-0.09933938834944095,-0.01674343458735497,-0.09454889212635086,0.06323320056024873,-0.08625740494443557,-0.10778952469813996,-0.10804938100633416],[-0.13534079316589434,-0.1497615012772139,-0.148456179919544,-0.0402328904519231,-0.15046428535215742,-0.032240861556470296,-0.10006934809006576,-0.12634542422436393,-0.1115187779673728,-0.15038359013301844,-0.14900722025066093,-0.13949271351115602,-0.15001096576410883,-0.13239321274149954,-0.10918356543879157,-0.10235756497854781,-0.1442272646864633,-0.13749889476790333,-0.10901399771560645,-0.12584651461246232,-0.023936493246042884,-0.13170499855064266,0.20834248533278765,-0.14119271890412236,-0.13259565693623937,-0.08984698719454642],[-0.06718567323933905,-0.14978035646909973,-0.14969680259406015,-0.06466947377327886,-0.1500681321459796,-0.05780020433618496,-0.09975418626582974,-0.12507318068967352,-0.10803982792036307,-0.14865284854885502,-0.1495247321631541,-0.1312711375285501,-0.1471947788266819,-0.023188265589410867,-0.12088737279990998,-0.1106723806995645,-0.13469009343231225,-0.14053972627453554,-0.120730242431982,-0.12376108243907352,-0.029273314249838908,-0.121150165665628,0.1597827942907894,-0.10173768440086114,-0.1264554994550772,-0.10112929769619418],[-0.131768886137959,-0.12330320930183136,-0.12696691332772667,-0.03811071364989463,-0.14937084557181726,-0.08056916634661647,-0.11105805561676765,-0.1316536887497151,-0.10095332626176376,-0.1455815123781891,-0.1017352967527355,-0.13206150839204173,-0.14139630004020004,-0.1418909914634468,-0.1252335454470221,-0.11274430316240822,-0.13376121198450375,-0.10135867807486643,-0.12445280879216279,-0.1298986821760192,-0.04133014708704695,-0.11532765728516883,0.08020309696719927,-0.13981110910490832,-0.11445434030265042,-0.06387156521460127],[-0.05155889786703671,-0.132656634554158,-0.1454868813177525,-0.057619791866504844,-0.14279931654685707,-0.06760711970892631,-0.07796790383527599,-0.12988670026449592,-0.11418271076405725,-0.1399531516969866,-0.14508692353390273,-0.10295141932182403,-0.13003352225639725,-0.08758271361702928,-0.13392577339139455,-0.10962325666928317,-0.12150259195738687,-0.11543897645753293,-0.12583655691629747,-0.12599526599687869,-0.004770370958264963,-0.1120492334344487,0.05961060241634694,-0.11623807550120595,-0.050373022749106586,-0.10487207754450062],[0.1949585214206242,0.026163664043923784,-0.0905503997234013,-0.04186797439111764,0.006620965727821143,-0.035650568695891796,-0.0036975294828171523,-0.0928302573889242,-0.07700176604278534,-0.04371598109623366,-0.07236704390200423,0.09480923184767778,0.019790086873665708,0.008887874433162302,0.006253200249329877,-0.02328247040889181,-0.03211766055083343,-0.044515904836452444,-0.0558147172009999,-0.028757184790039733,0.04115575383723452,-0.00945901696450921,-0.058827052999129215,-0.06200503383429817,-0.0970327996713291,-0.12936060224854476],[0.23495499706477602,-0.04231278029540153,-0.09657160580485831,-0.06319682882756522,-0.0315734028216397,-0.041818113955281566,-0.00992632595237497,-0.0985198763258994,-0.09356853641118702,-0.0637600736825183,-0.08888007055665836,0.09473388273531583,0.03550837061493789,0.04867769507302794,-0.009344822665428687,-0.03319269768589339,-0.02939841596158886,-0.05356128846584815,-0.05958153906019116,-0.04791463404974963,0.04076619418509736,-0.023494261313191128,-0.040755267368409384,-0.07643254368717758,-0.09229860415699212,-0.12950321439982632],[0.08585581113791996,0.030603070828349455,-0.06622199967380062,0.011757954725477582,-0.01807167743583979,-0.08897140294620423,-0.0014033872268904568,-0.11714526177654733,-0.07262812371392423,-0.06886372565645386,-0.07046682023342925,0.04789275447824934,-0.010116673151164074,-0.05581712297263121,-0.05614344738458847,-0.06490422054581957,-0.0400877514069795,-0.07505504534090768,-0.08071635357508138,-0.07627496766847927,0.05007100952150814,0.009436605331236442,-0.09308876957742324,-0.0730822348911163,-0.07157704761906525,-0.13221893846627553],[0.1234292214465435,-0.05500941405697954,-0.12353769169598347,-0.038070579408974334,-0.07199420221184012,-0.07048488482759313,-0.010949856000823849,-0.12612632628941936,-0.10407770054250386,-0.10132826109711712,-0.10148512486923908,0.04215209444264273,-0.029124407256626295,-0.039801933915217746,-0.08267078235223756,-0.09744964462860428,-0.0623773734817005,-0.081950451402643,-0.09470911560207204,-0.09688969897614516,0.038161631699439924,-0.03329824327126164,-0.06048827628651515,-0.11218455359945415,-0.02095174663827959,-0.13133541294853796],[0.33289478550801765,-0.08968091550783275,-0.10324629084058592,-0.10146521194190926,-0.0732899901258242,-0.054518113902622956,-0.056933458473045165,-0.09161499118261329,-0.09086261057382947,-0.09113624255740368,-0.10331008975634023,0.026208573031138133,0.07372515546535069,0.0915610106028413,0.039479023640374034,-0.01443065753198669,-0.01315571554884254,0.017528937334781974,-0.05383973793531406,0.0483284707712332,-0.014295833729733143,0.010419334238700867,-0.04088989590567285,-0.06755525323048865,-0.10057275973975673,-0.10885047518504773],[0.3728903306978214,-0.11404876267872568,-0.11712812723299244,-0.12330095986766999,-0.11064735653129316,-0.05058346633309943,-0.06333935607050124,-0.0942550502297059,-0.08752707546061732,-0.10972890410348544,-0.11811631758900769,-0.026665579730799388,0.022348780170894783,0.11953930854126449,0.01369603570534561,-0.05270213297397944,-0.013381417155238301,-0.00025403956798716876,-0.07489874769386104,0.060838216681010776,-0.042056399820329896,0.007741750716759088,-0.06397221161043558,-0.06923774910357647,-0.0969143980603499,-0.10087662378944594],[0.2507246715720008,-0.08926655678045906,-0.12432126263783877,-0.10612655997138078,-0.08378322245151443,-0.04675962187008244,-0.008513090910467619,-0.11315210033934066,-0.10522534082629123,-0.08468451415169687,-0.11933076046513316,0.031288891990927464,0.009391153894680482,0.12243285970959555,-0.04773998898911991,-0.08069116381740095,-0.04882878925606382,-0.058040563103757506,-0.07432238615547505,-0.060347350068793604,0.0029255061129307147,-0.040674619554905395,-0.02900884622034909,-0.07268691589007688,-0.09086961303666136,-0.13254774951521264],[0.2721294605467896,-0.12497281863001236,-0.13043798439164028,-0.12753084529488057,-0.11710387108579093,-0.057807422117775356,-0.05737884209239229,-0.109913514511085,-0.09786316074207638,-0.10678413189846157,-0.13090162470037553,-0.053177051002710723,-0.02075829676221802,0.18983166791683448,-0.05656219021447961,-0.10032974171139897,-0.05654625638323056,-0.05354982458059175,-0.10090152174507687,-0.02526964333504006,-0.061373531287362684,-0.04545236731808701,-0.029149049211686748,-0.06613980450859407,-0.0977012328672269,-0.1311957961606757],[0.224082654913559,-0.06705833924963879,-0.12500914885903752,-0.09257907196963908,-0.10248045525872199,-0.10388927549749104,-0.10939558786315969,-0.09605375646044136,-0.10190371660147077,-0.12221115954395326,-0.11035040685505074,-0.024791008491316407,0.07016081010150907,0.07576013255850869,0.15012032028969968,0.04620971989877176,0.08097479208429989,0.042882054159484206,0.04752542653076261,0.11465763434891835,0.054834705847435106,0.0801062315625701,0.016057826011788123,0.013640921943749856,-0.019312843968405546,-0.043072347132422445],[0.27491312258923883,-0.08987535287200568,-0.12510048217747186,-0.09763609487099326,-0.11436024379513715,-0.10815776611700537,-0.12450352027398284,-0.1045511008520617,-0.09852174538267996,-0.1307446876149121,-0.10961621330662377,-0.039394718225484224,0.024640586898655115,0.07909047718381387,0.10963760951154738,0.03558413381897568,0.09047620038980331,0.022130919261896587,0.04507497042242822,0.13551337414045378,0.04563679589987682,0.08561788697530465,0.022843217429060203,0.022551253556327228,-0.01643219321100381,-0.02186898503849169],[0.30080680923601716,-0.08271003642196813,-0.11170466616856067,-0.09590277959433366,-0.09776278661952642,-0.06406529785034477,-0.09118618354438802,-0.09338135218346437,-0.09537317549968727,-0.11915900076354771,-0.10229603450361895,-0.004747634233150694,0.07642085460313136,0.09927947682416782,0.10838755054506011,0.0339144066998846,0.03343616354432069,0.05850010764349814,-0.007815038542894476,0.09279516008565677,0.022952118025473423,0.06557375007625646,-0.017271455580096573,-0.014450926303373496,-0.06169096010562651,-0.06517195431802379],[0.3499490501998833,-0.0986912800995087,-0.11857130116012755,-0.10341098591956159,-0.11061484716785024,-0.09168223516980467,-0.11354380801915115,-0.09791808386519119,-0.08625585694485466,-0.13023389562087662,-0.10722335261678806,-0.018821279491421206,0.029695765533759216,0.06464843633782047,0.08311646749321083,0.014741625856352969,0.03984744544321736,0.028746734192733464,-0.009590797598565792,0.12177587036359122,0.0069951091997017545,0.06962694167770159,-0.019611254713062687,-0.017199124632276713,-0.061214761225164394,-0.06433304182009238],[0.11915700635933812,-0.06687390886813743,-0.13689415378781594,-0.10170283295004079,-0.10847177277908913,-0.1312725193631301,-0.11724330920729006,-0.0920579114058874,-0.10591002536421584,-0.12450810007198482,-0.11744342006485664,-0.05841564243105564,0.04559122240156288,0.056669899870553125,0.12182202714251683,0.04760751927861201,0.11289597026929238,0.03499672509982543,0.09605270231146634,0.11656758013098117,0.09018420862274154,0.13034690509567348,0.05107873426611742,0.01804683841962776,0.031473707202919504,-0.011977423928659803],[0.1754023885997557,-0.0943026165407382,-0.13859303487711758,-0.09788298302229029,-0.12367121427165874,-0.13526373355912005,-0.13070152194784745,-0.11659931788077872,-0.10154831506519985,-0.1334941492109346,-0.1233395688480099,-0.06753907684869316,-0.0008159719475026583,0.06414130851285008,0.09932231600366781,0.03379765275924429,0.07556505282047091,0.017216601249783414,0.11230049252597357,0.12659037289966663,0.06907612339269883,0.14035099413367152,0.05888437125034077,0.029075905595984275,0.030408044094447945,0.0033029223198898505],[0.13379186017550132,-0.03207043719625648,-0.10434910596568794,-0.0772707485631543,-0.07729301891470539,-0.09220800487670208,-0.07727897458179803,-0.06874418741518151,-0.09246902459154686,-0.09083120802618386,-0.09596890187180213,-0.014114593891895816,0.11017062726398685,0.05776014784028377,0.16796162859289626,0.06524476370377602,0.09125911516773685,0.04126455345989555,0.03777743520125315,0.07847265201939405,0.057761106314797334,0.0632410029341072,0.016516770257448937,-0.0026725537160572632,-0.003140949451769709,-0.039230469153180056],[0.04844393984716258,0.001719472428316604,-0.09011080907725558,-0.04300533378812614,-0.08587012635808725,-0.10556686017256833,-0.0770313807082554,-0.054090657544181214,-0.05645284455972087,-0.07283492958049154,-0.07582605194718033,-0.01939778269663328,0.06342488029594648,0.0610851351931502,0.11577119464020569,0.1221130798838071,0.09687893109472206,0.06340921372252409,0.05461652741894393,0.0690224471969191,0.05913564516783959,0.07748084949994846,0.056588015867656466,0.0478082894696312,0.03238323956022923,0.02660541306618741],[0.07704933540549577,-0.026060633152887258,-0.11420766813023042,-0.08111030083494344,-0.09614362092950206,-0.12009694831671976,-0.1011937323042541,-0.07862810007714152,-0.08988502606739238,-0.10384158949013111,-0.0949567116034192,-0.032785643423506886,0.07713816452846348,0.05250992385428854,0.13561160884388063,0.0696093816538052,0.11902957233186501,0.05686249378377509,0.06717177038087843,0.1126478044214278,0.08056884912953285,0.09987736334481545,0.04935168021526787,0.023472281975605136,0.04460640346311745,0.000517013385282955],[0.04702962277391934,-0.13033840486043113,-0.14270413555765005,-0.10766286133266181,-0.13921228361109686,-0.1477677339761639,-0.1429256242638922,-0.14140747642906246,-0.11748756344083919,-0.13372780639286602,-0.14118966876298844,-0.11533209087061065,-0.06665799038582675,0.03715828160876544,0.04784244468414922,-0.051326156814181026,-0.021752663872981304,-0.002311832872685382,0.21687276255109195,0.13335083979861717,0.11595953720400537,0.2123210557659876,0.07273147350814502,0.07734372334010259,0.07398696591378995,0.06136822365251832],[0.02551727117121541,-0.14464789509318793,-0.14653831818732224,-0.11847920925726518,-0.14665479851651375,-0.14981664001433517,-0.1471326703700447,-0.14749571560627375,-0.1257054951583711,-0.1357921867501575,-0.1479108668059947,-0.1316840378132694,-0.08689730746392871,0.039180590896671474,0.016729565609412522,-0.07120321270191259,-0.04824933529772506,-0.01576003675858989,0.23789369534111054,0.14005078475695887,0.11182139119089896,0.23286002404566347,0.06987905623847293,0.09128296691996582,0.09039126435412265,0.08638370799872835],[0.04165769058233046,-0.10961256716725937,-0.14284874192025335,-0.11449489430863505,-0.13413885184428573,-0.1434647008169194,-0.13655819206759864,-0.12530402179949804,-0.10690116210798603,-0.13359949745920713,-0.13505377204456737,-0.10039533787939707,-0.03002319164647871,0.03899454948717729,0.06388879731566116,-0.005572863121741517,0.05053851845056401,0.03186649425343549,0.17253889960043567,0.12938580102327307,0.08332494813841249,0.19724263209867177,0.08702688241287992,0.04576129491550332,0.09689999476859415,0.05295249816236278],[0.03605813508725131,-0.13895584162121555,-0.14505582805795636,-0.12589028464234903,-0.14555568053349777,-0.1471721351399637,-0.1482281136155438,-0.14531457433124523,-0.10714337851327776,-0.13847601775229518,-0.1444391740076866,-0.12744527148462287,-0.07372964723612128,0.04115532826450169,0.027648696604725187,-0.021027494162104754,0.008055983703475655,0.028794304981632934,0.20871682353723342,0.12106751142994082,0.06139168987889726,0.21473119150102205,0.12090256885509143,0.07494128464668892,0.10458094644178201,0.0943321021256669],[0.04516699858214643,-0.016681951936813932,-0.05794115464114362,-0.018302822882289183,-0.06949133073857836,-0.09087570602835138,-0.07280678842769735,-0.05075342836833638,-0.04382148873089099,-0.045112350345738,-0.05208057453056804,-0.007771259532260766,0.02058916994488111,0.063833670260284,0.035113893552411235,0.1362535927167179,0.09885653259077015,0.07690422733322452,0.06672738226793515,0.0547104848067404,0.04462120415407664,0.05927162628657598,0.08491426030040927,0.08280912855806724,0.05218105723058605,0.11215199841866014],[0.03238712558130433,-0.04380233059605684,-0.05296905163372481,-0.03920920525799003,-0.060014301271061846,-0.09259514117454762,-0.07344361117209754,-0.057170886813476915,-0.055292058292042784,-0.05419089391944672,-0.058085648977258264,-0.03128761907778624,0.019116725439755067,0.03212720374126482,0.007636404018315862,0.12431589517087605,0.10930624321942806,0.07572418728172225,0.09168035984740044,0.04113847683944408,0.028953327537420248,0.05587920212562131,0.09003383454644814,0.08798575239013914,0.08798629699557475,0.13773824093806725],[0.03945039632238376,-0.06276883235037801,-0.09843793937326886,-0.07393688611857108,-0.10788125089281919,-0.11938119463969392,-0.11194818835947817,-0.08667274828618017,-0.0834120320194164,-0.09465930399796647,-0.092315346986152,-0.04705249951119117,0.008641865595335946,0.02658325484104404,0.04702979578529415,0.14954235059693782,0.12061006757313625,0.09192780084487415,0.08071681268672545,0.07418529680697941,0.03444966699727928,0.09160152449621109,0.09418179748298985,0.05361099072278824,0.073244494739267,0.0995551488339208],[0.0390006567399884,-0.09988880990079031,-0.09808523348350337,-0.08987983409669853,-0.10889987716519613,-0.12326059253440935,-0.1229489957564487,-0.10337176038609627,-0.08123682891860419,-0.10234083703345245,-0.1033254064935628,-0.07479382312964138,-0.02467353382455234,0.02438487419170951,0.013842629006112939,0.14477716407900848,0.12252302127407844,0.0904957494425705,0.11100823795738712,0.05499463291592796,0.005040891494865002,0.09754735885770646,0.12304335724367155,0.05595954313332102,0.10352403266830501,0.13336888234834116],[0.03312827144107228,-0.08450371459176534,-0.12932507503591847,-0.10536928389218644,-0.12123044855290371,-0.13430161437552954,-0.12509422273180146,-0.09703675568231551,-0.09000829188540799,-0.12007682528599455,-0.11689531045715185,-0.07197891355978624,0.00627276890121134,0.027505158525672813,0.06703776544515275,0.0988287760036606,0.1265722746309969,0.08080622910931409,0.1093406109017584,0.09205413828658623,0.04178483917912321,0.1412051865642835,0.12145237427870365,0.02364954867181368,0.09518457302406694,0.07545541267155076],[0.0423595109156818,-0.1220922509354822,-0.12642049168622763,-0.11991597546998575,-0.13363713830962853,-0.1383071628995467,-0.14031424836689674,-0.12584562522587128,-0.08178835547892718,-0.12670914849160744,-0.12745967428702454,-0.10770365533086129,-0.04528116550413705,0.03662469628558537,0.031068585094423784,0.09329158759624312,0.1166980519921838,0.07816522530893849,0.1378236198301609,0.07751758689784286,-0.00025987586445361255,0.16194076448576522,0.16513840111436273,0.02528828677119138,0.120785923043561,0.11575951938362555]],\"type\":\"heatmap\"}],                        {\"height\":800,\"hovermode\":\"closest\",\"legend\":{\"x\":0.7,\"y\":0.7},\"paper_bgcolor\":\"rgba(0,0,0,0)\",\"plot_bgcolor\":\"rgba(0,0,0,0)\",\"showlegend\":false,\"template\":{\"data\":{\"barpolar\":[{\"marker\":{\"line\":{\"color\":\"#E5ECF6\",\"width\":0.5},\"pattern\":{\"fillmode\":\"overlay\",\"size\":10,\"solidity\":0.2}},\"type\":\"barpolar\"}],\"bar\":[{\"error_x\":{\"color\":\"#2a3f5f\"},\"error_y\":{\"color\":\"#2a3f5f\"},\"marker\":{\"line\":{\"color\":\"#E5ECF6\",\"width\":0.5},\"pattern\":{\"fillmode\":\"overlay\",\"size\":10,\"solidity\":0.2}},\"type\":\"bar\"}],\"carpet\":[{\"aaxis\":{\"endlinecolor\":\"#2a3f5f\",\"gridcolor\":\"white\",\"linecolor\":\"white\",\"minorgridcolor\":\"white\",\"startlinecolor\":\"#2a3f5f\"},\"baxis\":{\"endlinecolor\":\"#2a3f5f\",\"gridcolor\":\"white\",\"linecolor\":\"white\",\"minorgridcolor\":\"white\",\"startlinecolor\":\"#2a3f5f\"},\"type\":\"carpet\"}],\"choropleth\":[{\"colorbar\":{\"outlinewidth\":0,\"ticks\":\"\"},\"type\":\"choropleth\"}],\"contourcarpet\":[{\"colorbar\":{\"outlinewidth\":0,\"ticks\":\"\"},\"type\":\"contourcarpet\"}],\"contour\":[{\"colorbar\":{\"outlinewidth\":0,\"ticks\":\"\"},\"colorscale\":[[0.0,\"#0d0887\"],[0.1111111111111111,\"#46039f\"],[0.2222222222222222,\"#7201a8\"],[0.3333333333333333,\"#9c179e\"],[0.4444444444444444,\"#bd3786\"],[0.5555555555555556,\"#d8576b\"],[0.6666666666666666,\"#ed7953\"],[0.7777777777777778,\"#fb9f3a\"],[0.8888888888888888,\"#fdca26\"],[1.0,\"#f0f921\"]],\"type\":\"contour\"}],\"heatmapgl\":[{\"colorbar\":{\"outlinewidth\":0,\"ticks\":\"\"},\"colorscale\":[[0.0,\"#0d0887\"],[0.1111111111111111,\"#46039f\"],[0.2222222222222222,\"#7201a8\"],[0.3333333333333333,\"#9c179e\"],[0.4444444444444444,\"#bd3786\"],[0.5555555555555556,\"#d8576b\"],[0.6666666666666666,\"#ed7953\"],[0.7777777777777778,\"#fb9f3a\"],[0.8888888888888888,\"#fdca26\"],[1.0,\"#f0f921\"]],\"type\":\"heatmapgl\"}],\"heatmap\":[{\"colorbar\":{\"outlinewidth\":0,\"ticks\":\"\"},\"colorscale\":[[0.0,\"#0d0887\"],[0.1111111111111111,\"#46039f\"],[0.2222222222222222,\"#7201a8\"],[0.3333333333333333,\"#9c179e\"],[0.4444444444444444,\"#bd3786\"],[0.5555555555555556,\"#d8576b\"],[0.6666666666666666,\"#ed7953\"],[0.7777777777777778,\"#fb9f3a\"],[0.8888888888888888,\"#fdca26\"],[1.0,\"#f0f921\"]],\"type\":\"heatmap\"}],\"histogram2dcontour\":[{\"colorbar\":{\"outlinewidth\":0,\"ticks\":\"\"},\"colorscale\":[[0.0,\"#0d0887\"],[0.1111111111111111,\"#46039f\"],[0.2222222222222222,\"#7201a8\"],[0.3333333333333333,\"#9c179e\"],[0.4444444444444444,\"#bd3786\"],[0.5555555555555556,\"#d8576b\"],[0.6666666666666666,\"#ed7953\"],[0.7777777777777778,\"#fb9f3a\"],[0.8888888888888888,\"#fdca26\"],[1.0,\"#f0f921\"]],\"type\":\"histogram2dcontour\"}],\"histogram2d\":[{\"colorbar\":{\"outlinewidth\":0,\"ticks\":\"\"},\"colorscale\":[[0.0,\"#0d0887\"],[0.1111111111111111,\"#46039f\"],[0.2222222222222222,\"#7201a8\"],[0.3333333333333333,\"#9c179e\"],[0.4444444444444444,\"#bd3786\"],[0.5555555555555556,\"#d8576b\"],[0.6666666666666666,\"#ed7953\"],[0.7777777777777778,\"#fb9f3a\"],[0.8888888888888888,\"#fdca26\"],[1.0,\"#f0f921\"]],\"type\":\"histogram2d\"}],\"histogram\":[{\"marker\":{\"pattern\":{\"fillmode\":\"overlay\",\"size\":10,\"solidity\":0.2}},\"type\":\"histogram\"}],\"mesh3d\":[{\"colorbar\":{\"outlinewidth\":0,\"ticks\":\"\"},\"type\":\"mesh3d\"}],\"parcoords\":[{\"line\":{\"colorbar\":{\"outlinewidth\":0,\"ticks\":\"\"}},\"type\":\"parcoords\"}],\"pie\":[{\"automargin\":true,\"type\":\"pie\"}],\"scatter3d\":[{\"line\":{\"colorbar\":{\"outlinewidth\":0,\"ticks\":\"\"}},\"marker\":{\"colorbar\":{\"outlinewidth\":0,\"ticks\":\"\"}},\"type\":\"scatter3d\"}],\"scattercarpet\":[{\"marker\":{\"colorbar\":{\"outlinewidth\":0,\"ticks\":\"\"}},\"type\":\"scattercarpet\"}],\"scattergeo\":[{\"marker\":{\"colorbar\":{\"outlinewidth\":0,\"ticks\":\"\"}},\"type\":\"scattergeo\"}],\"scattergl\":[{\"marker\":{\"colorbar\":{\"outlinewidth\":0,\"ticks\":\"\"}},\"type\":\"scattergl\"}],\"scattermapbox\":[{\"marker\":{\"colorbar\":{\"outlinewidth\":0,\"ticks\":\"\"}},\"type\":\"scattermapbox\"}],\"scatterpolargl\":[{\"marker\":{\"colorbar\":{\"outlinewidth\":0,\"ticks\":\"\"}},\"type\":\"scatterpolargl\"}],\"scatterpolar\":[{\"marker\":{\"colorbar\":{\"outlinewidth\":0,\"ticks\":\"\"}},\"type\":\"scatterpolar\"}],\"scatter\":[{\"fillpattern\":{\"fillmode\":\"overlay\",\"size\":10,\"solidity\":0.2},\"type\":\"scatter\"}],\"scatterternary\":[{\"marker\":{\"colorbar\":{\"outlinewidth\":0,\"ticks\":\"\"}},\"type\":\"scatterternary\"}],\"surface\":[{\"colorbar\":{\"outlinewidth\":0,\"ticks\":\"\"},\"colorscale\":[[0.0,\"#0d0887\"],[0.1111111111111111,\"#46039f\"],[0.2222222222222222,\"#7201a8\"],[0.3333333333333333,\"#9c179e\"],[0.4444444444444444,\"#bd3786\"],[0.5555555555555556,\"#d8576b\"],[0.6666666666666666,\"#ed7953\"],[0.7777777777777778,\"#fb9f3a\"],[0.8888888888888888,\"#fdca26\"],[1.0,\"#f0f921\"]],\"type\":\"surface\"}],\"table\":[{\"cells\":{\"fill\":{\"color\":\"#EBF0F8\"},\"line\":{\"color\":\"white\"}},\"header\":{\"fill\":{\"color\":\"#C8D4E3\"},\"line\":{\"color\":\"white\"}},\"type\":\"table\"}]},\"layout\":{\"annotationdefaults\":{\"arrowcolor\":\"#2a3f5f\",\"arrowhead\":0,\"arrowwidth\":1},\"autotypenumbers\":\"strict\",\"coloraxis\":{\"colorbar\":{\"outlinewidth\":0,\"ticks\":\"\"}},\"colorscale\":{\"diverging\":[[0,\"#8e0152\"],[0.1,\"#c51b7d\"],[0.2,\"#de77ae\"],[0.3,\"#f1b6da\"],[0.4,\"#fde0ef\"],[0.5,\"#f7f7f7\"],[0.6,\"#e6f5d0\"],[0.7,\"#b8e186\"],[0.8,\"#7fbc41\"],[0.9,\"#4d9221\"],[1,\"#276419\"]],\"sequential\":[[0.0,\"#0d0887\"],[0.1111111111111111,\"#46039f\"],[0.2222222222222222,\"#7201a8\"],[0.3333333333333333,\"#9c179e\"],[0.4444444444444444,\"#bd3786\"],[0.5555555555555556,\"#d8576b\"],[0.6666666666666666,\"#ed7953\"],[0.7777777777777778,\"#fb9f3a\"],[0.8888888888888888,\"#fdca26\"],[1.0,\"#f0f921\"]],\"sequentialminus\":[[0.0,\"#0d0887\"],[0.1111111111111111,\"#46039f\"],[0.2222222222222222,\"#7201a8\"],[0.3333333333333333,\"#9c179e\"],[0.4444444444444444,\"#bd3786\"],[0.5555555555555556,\"#d8576b\"],[0.6666666666666666,\"#ed7953\"],[0.7777777777777778,\"#fb9f3a\"],[0.8888888888888888,\"#fdca26\"],[1.0,\"#f0f921\"]]},\"colorway\":[\"#636efa\",\"#EF553B\",\"#00cc96\",\"#ab63fa\",\"#FFA15A\",\"#19d3f3\",\"#FF6692\",\"#B6E880\",\"#FF97FF\",\"#FECB52\"],\"font\":{\"color\":\"#2a3f5f\"},\"geo\":{\"bgcolor\":\"white\",\"lakecolor\":\"white\",\"landcolor\":\"#E5ECF6\",\"showlakes\":true,\"showland\":true,\"subunitcolor\":\"white\"},\"hoverlabel\":{\"align\":\"left\"},\"hovermode\":\"closest\",\"mapbox\":{\"style\":\"light\"},\"paper_bgcolor\":\"white\",\"plot_bgcolor\":\"#E5ECF6\",\"polar\":{\"angularaxis\":{\"gridcolor\":\"white\",\"linecolor\":\"white\",\"ticks\":\"\"},\"bgcolor\":\"#E5ECF6\",\"radialaxis\":{\"gridcolor\":\"white\",\"linecolor\":\"white\",\"ticks\":\"\"}},\"scene\":{\"xaxis\":{\"backgroundcolor\":\"#E5ECF6\",\"gridcolor\":\"white\",\"gridwidth\":2,\"linecolor\":\"white\",\"showbackground\":true,\"ticks\":\"\",\"zerolinecolor\":\"white\"},\"yaxis\":{\"backgroundcolor\":\"#E5ECF6\",\"gridcolor\":\"white\",\"gridwidth\":2,\"linecolor\":\"white\",\"showbackground\":true,\"ticks\":\"\",\"zerolinecolor\":\"white\"},\"zaxis\":{\"backgroundcolor\":\"#E5ECF6\",\"gridcolor\":\"white\",\"gridwidth\":2,\"linecolor\":\"white\",\"showbackground\":true,\"ticks\":\"\",\"zerolinecolor\":\"white\"}},\"shapedefaults\":{\"line\":{\"color\":\"#2a3f5f\"}},\"ternary\":{\"aaxis\":{\"gridcolor\":\"white\",\"linecolor\":\"white\",\"ticks\":\"\"},\"baxis\":{\"gridcolor\":\"white\",\"linecolor\":\"white\",\"ticks\":\"\"},\"bgcolor\":\"#E5ECF6\",\"caxis\":{\"gridcolor\":\"white\",\"linecolor\":\"white\",\"ticks\":\"\"}},\"title\":{\"x\":0.05},\"xaxis\":{\"automargin\":true,\"gridcolor\":\"white\",\"linecolor\":\"white\",\"ticks\":\"\",\"title\":{\"standoff\":15},\"zerolinecolor\":\"white\",\"zerolinewidth\":2},\"yaxis\":{\"automargin\":true,\"gridcolor\":\"white\",\"linecolor\":\"white\",\"ticks\":\"\",\"title\":{\"standoff\":15},\"zerolinecolor\":\"white\",\"zerolinewidth\":2}}},\"width\":700,\"xaxis\":{\"anchor\":\"y\",\"domain\":[0,0.95],\"fixedrange\":false,\"mirror\":false,\"showgrid\":false,\"showline\":false,\"showticklabels\":false,\"type\":\"linear\",\"zeroline\":false},\"yaxis\":{\"anchor\":\"x\",\"domain\":[0.8416666666666667,1],\"fixedrange\":false,\"mirror\":false,\"showgrid\":false,\"showline\":false,\"showticklabels\":false,\"type\":\"linear\",\"zeroline\":false},\"xaxis2\":{\"anchor\":\"y2\",\"domain\":[0.2,0.4]},\"yaxis2\":{\"anchor\":\"x2\",\"domain\":[0.8,1.0]},\"xaxis3\":{\"anchor\":\"y9\",\"domain\":[0.15833333333333333,0.95],\"fixedrange\":false,\"mirror\":false,\"scaleanchor\":\"x11\",\"showgrid\":false,\"showline\":false,\"showticklabels\":false,\"type\":\"linear\",\"zeroline\":false},\"yaxis3\":{\"anchor\":\"x3\",\"domain\":[0.8416666666666667,1],\"fixedrange\":false,\"mirror\":false,\"range\":[0.0,1.727034734585987],\"showgrid\":false,\"showline\":false,\"showticklabels\":false,\"type\":\"linear\",\"zeroline\":false},\"xaxis4\":{\"anchor\":\"y4\",\"domain\":[0.8,1.0]},\"yaxis4\":{\"anchor\":\"x4\",\"domain\":[0.8,1.0]},\"xaxis5\":{\"anchor\":\"y5\",\"domain\":[0,0.95],\"fixedrange\":false,\"mirror\":false,\"showgrid\":false,\"showline\":false,\"showticklabels\":false,\"type\":\"linear\",\"zeroline\":false},\"yaxis5\":{\"anchor\":\"x5\",\"domain\":[0.8416666666666667,0.8416666666666667],\"fixedrange\":false,\"mirror\":false,\"showgrid\":false,\"showline\":false,\"showticklabels\":false,\"type\":\"linear\",\"zeroline\":false},\"xaxis6\":{\"anchor\":\"y6\",\"domain\":[0.2,0.4],\"fixedrange\":false,\"mirror\":false,\"showgrid\":false,\"showline\":false,\"showticklabels\":false,\"type\":\"linear\",\"zeroline\":false},\"yaxis6\":{\"anchor\":\"x6\",\"domain\":[0.8416666666666667,0.8416666666666667],\"fixedrange\":false,\"mirror\":false,\"showgrid\":false,\"showline\":false,\"showticklabels\":false,\"type\":\"linear\",\"zeroline\":false},\"xaxis7\":{\"anchor\":\"y9\",\"domain\":[0.15833333333333333,0.95],\"fixedrange\":false,\"mirror\":false,\"showgrid\":false,\"showline\":false,\"showticklabels\":false,\"type\":\"linear\",\"zeroline\":false},\"yaxis7\":{\"anchor\":\"x7\",\"domain\":[0.8416666666666667,0.8416666666666667],\"fixedrange\":false,\"mirror\":false,\"showgrid\":false,\"showline\":false,\"showticklabels\":false,\"type\":\"linear\",\"zeroline\":false},\"xaxis8\":{\"anchor\":\"y8\",\"domain\":[0.8,1.0]},\"yaxis8\":{\"anchor\":\"x8\",\"domain\":[0.6000000000000001,0.8]},\"xaxis9\":{\"anchor\":\"y9\",\"domain\":[0,0.15833333333333333],\"fixedrange\":false,\"mirror\":false,\"showgrid\":false,\"showline\":false,\"showticklabels\":false,\"type\":\"linear\",\"zeroline\":false},\"yaxis9\":{\"anchor\":\"x9\",\"domain\":[0,0.8416666666666667],\"fixedrange\":false,\"mirror\":false,\"range\":[5.0,995.0],\"scaleanchor\":\"y11\",\"showgrid\":false,\"showline\":false,\"showticklabels\":false,\"type\":\"linear\",\"zeroline\":false},\"xaxis10\":{\"anchor\":\"y10\",\"domain\":[0.15833333333333333,0.15833333333333333],\"fixedrange\":false,\"mirror\":false,\"showgrid\":false,\"showline\":false,\"showticklabels\":false,\"type\":\"linear\",\"zeroline\":false},\"yaxis10\":{\"anchor\":\"x10\",\"domain\":[0,0.8416666666666667],\"fixedrange\":false,\"mirror\":false,\"showgrid\":false,\"showline\":false,\"showticklabels\":false,\"type\":\"linear\",\"zeroline\":false},\"xaxis11\":{\"anchor\":\"y11\",\"domain\":[0.15833333333333333,0.95],\"fixedrange\":false,\"mirror\":false,\"range\":[0.0,260.0],\"showgrid\":false,\"showline\":false,\"showticklabels\":true,\"side\":\"bottom\",\"tickmode\":\"array\",\"tickvals\":[5.0,15.0,25.0,35.0,45.0,55.0,65.0,75.0,85.0,95.0,105.0,115.0,125.0,135.0,145.0,155.0,165.0,175.0,185.0,195.0,205.0,215.0,225.0,235.0,245.0,255.0],\"type\":\"linear\",\"zeroline\":false},\"yaxis11\":{\"anchor\":\"x11\",\"domain\":[0,0.8416666666666667],\"fixedrange\":false,\"mirror\":false,\"showgrid\":false,\"showline\":false,\"showticklabels\":true,\"side\":\"right\",\"tickmode\":\"array\",\"tickvals\":[5.0,15.0,25.0,35.0,45.0,55.0,65.0,75.0,85.0,95.0,105.0,115.0,125.0,135.0,145.0,155.0,165.0,175.0,185.0,195.0,205.0,215.0,225.0,235.0,245.0,255.0,265.0,275.0,285.0,295.0,305.0,315.0,325.0,335.0,345.0,355.0,365.0,375.0,385.0,395.0,405.0,415.0,425.0,435.0,445.0,455.0,465.0,475.0,485.0,495.0,505.0,515.0,525.0,535.0,545.0,555.0,565.0,575.0,585.0,595.0,605.0,615.0,625.0,635.0,645.0,655.0,665.0,675.0,685.0,695.0,705.0,715.0,725.0,735.0,745.0,755.0,765.0,775.0,785.0,795.0,805.0,815.0,825.0,835.0,845.0,855.0,865.0,875.0,885.0,895.0,905.0,915.0,925.0,935.0,945.0,955.0,965.0,975.0,985.0,995.0],\"type\":\"linear\",\"zeroline\":false},\"xaxis12\":{\"anchor\":\"y12\",\"domain\":[0.95,1],\"fixedrange\":false,\"mirror\":false,\"range\":[-5,1],\"showgrid\":false,\"showline\":false,\"showticklabels\":false,\"type\":\"linear\",\"zeroline\":false},\"yaxis12\":{\"anchor\":\"x12\",\"domain\":[0,0.7916666666666666],\"fixedrange\":false,\"mirror\":false,\"range\":[5.0,995.0],\"scaleanchor\":\"y11\",\"scaleratio\":1,\"showgrid\":false,\"showline\":false,\"showticklabels\":false,\"type\":\"linear\",\"zeroline\":false},\"xaxis13\":{\"anchor\":\"y13\",\"domain\":[0.0,0.2]},\"yaxis13\":{\"anchor\":\"x13\",\"domain\":[0.0,0.2]},\"xaxis14\":{\"anchor\":\"y14\",\"domain\":[0.2,0.4]},\"yaxis14\":{\"anchor\":\"x14\",\"domain\":[0.0,0.2]},\"xaxis15\":{\"anchor\":\"y15\",\"domain\":[0.15833333333333333,0.95],\"fixedrange\":false,\"mirror\":false,\"range\":[5.0,255.0],\"scaleanchor\":\"x11\",\"scaleratio\":1,\"showgrid\":false,\"showline\":false,\"showticklabels\":false,\"type\":\"linear\",\"zeroline\":false},\"yaxis15\":{\"anchor\":\"x15\",\"domain\":[0.7916666666666666,0.8416666666666667],\"fixedrange\":false,\"mirror\":false,\"range\":[-0.5,0.5],\"showgrid\":false,\"showline\":false,\"showticklabels\":false,\"type\":\"linear\",\"zeroline\":false},\"xaxis16\":{\"anchor\":\"y16\",\"domain\":[0.8,1.0]},\"yaxis16\":{\"anchor\":\"x16\",\"domain\":[0.0,0.2]}},                        {\"responsive\": true}                    ).then(function(){\n",
       "                            \n",
       "var gd = document.getElementById('67828786-aca8-4097-ba9f-5d3e2ff94c25');\n",
       "var x = new MutationObserver(function (mutations, observer) {{\n",
       "        var display = window.getComputedStyle(gd).display;\n",
       "        if (!display || display === 'none') {{\n",
       "            console.log([gd, 'removed!']);\n",
       "            Plotly.purge(gd);\n",
       "            observer.disconnect();\n",
       "        }}\n",
       "}});\n",
       "\n",
       "// Listen for the removal of the full notebook cells\n",
       "var notebookContainer = gd.closest('#notebook-container');\n",
       "if (notebookContainer) {{\n",
       "    x.observe(notebookContainer, {childList: true});\n",
       "}}\n",
       "\n",
       "// Listen for the clearing of the current output cell\n",
       "var outputEl = gd.closest('.output');\n",
       "if (outputEl) {{\n",
       "    x.observe(outputEl, {childList: true});\n",
       "}}\n",
       "\n",
       "                        })                };                });            </script>        </div>"
      ]
     },
     "metadata": {},
     "output_type": "display_data"
    }
   ],
   "source": [
    "import pandas as pd\n",
    "import dash_bio\n",
    "\n",
    "\n",
    "#df = pd.read_csv('https://raw.githubusercontent.com/plotly/datasets/master/Dash_Bio/Chromosomal/clustergram_brain_cancer.csv')\n",
    "\n",
    "dash_bio.Clustergram(\n",
    "    data=np.array(dat_lst),\n",
    "    height=800,\n",
    "    width=700\n",
    ")"
   ]
  },
  {
   "cell_type": "code",
   "execution_count": 40,
   "id": "63743726",
   "metadata": {},
   "outputs": [
    {
     "name": "stdout",
     "output_type": "stream",
     "text": [
      "Help on function Clustergram in module dash_bio.component_factory._clustergram:\n",
      "\n",
      "Clustergram(data, generate_curves_dict=False, return_computed_traces=False, computed_traces=None, row_labels=None, row_colors=None, row_colors_label=None, column_labels=None, column_colors=None, column_colors_label=None, hidden_labels=None, standardize='none', cluster='all', row_dist='euclidean', col_dist='euclidean', dist_fun=<function pdist at 0x7fd801fdc310>, link_fun=None, link_method=None, color_threshold=None, optimal_leaf_order=False, color_map=None, color_list=None, display_range=3, center_values=True, log_transform=False, display_ratio=0.2, imputer_parameters=None, row_group_marker=None, col_group_marker=None, tick_font=None, annotation_font=None, line_width=0.5, paper_bg_color='rgba(0,0,0,0)', plot_bg_color='rgba(0,0,0,0)', height=500, width=500)\n",
      "    Return a Dash Bio Clustergram object.\n",
      "    \n",
      "    Keyword arguments:\n",
      "    \n",
      "    - data (2D array-like; required): Matrix or table of observations (dropping\n",
      "        columns of non-numeric dtype).\n",
      "    - generate_curves_dict (bool; default False): Whether or not to return a\n",
      "        dictionary containing information about the cluster number\n",
      "        associated with each curve number in the graph. (May be useful\n",
      "        for capturing the cluster number that is clicked.)\n",
      "    - return_computed_traces (bool; default False): Whether or not to return\n",
      "        the precomputed dendrogram traces. (May be useful if one wishes\n",
      "        to add, e.g., group markers to the figure without recalculating\n",
      "        the clustering in the entire figure.)\n",
      "    - computed_traces (dict; optional): The dendrogram traces from another\n",
      "       (precomputed) Clustergram component.\n",
      "    - row_labels (list; optional): List of row category labels\n",
      "       (observation labels).\n",
      "    - row_colors (list; optional): List of row colors\n",
      "       (observation colors).\n",
      "    - row_colors_label (string; optional): String which describes the annotation\n",
      "        label for row_colors.\n",
      "    - column_labels (list; optional): List of column category labels\n",
      "       (observation labels).\n",
      "    - column_colors (list; optional): List of column colors\n",
      "       (observation colors).\n",
      "    - column_colors_label (string; optional): String which describes the annotation\n",
      "        label for column_colors.\n",
      "    - hidden_labels (list; optional): List containing strings 'row' and/or 'col'\n",
      "        if row and/or column labels should be hidden on the final plot.\n",
      "    - standardize (string; default 'none'): The dimension for standardizing\n",
      "        values, so that the mean is 0 and the standard deviation is 1,\n",
      "        along the specified dimension: 'row', 'column', or 'none'.\n",
      "    - cluster (string; default 'all'): The dimension along which the data will\n",
      "        be clustered: 'row', 'column', or 'all'; 'all' means data will be\n",
      "        clustered along columns, then clustered along rows of\n",
      "        column-clustered data.\n",
      "    - row_dist (string; default 'euclidean'): Distance metric for rows.\n",
      "        Passed as argument `metric` to the function specified in `dist_fun`\n",
      "        when called for clustering along rows.\n",
      "    - col_dist (string; default 'euclidean'): Distance metric for columns.\n",
      "        Passed as argument `metric` to the function specified in `dist_fun`\n",
      "        when called for clustering along columns.\n",
      "    - dist_fun (function; default scipy.spatial.distance.pdist): Function\n",
      "        to compute the pairwise distance from the observations (see docs for\n",
      "        scipy.spatial.distance.pdist).\n",
      "    - link_fun (function; default scipy.cluster.hierarchy.linkage): Function to\n",
      "        compute the linkage matrix from the pairwise distances (see docs for\n",
      "        scipy.cluster.hierarchy.linkage).\n",
      "    - link_method (string; default 'complete'): The linkage algorithm to use\n",
      "        if link_fun not set. For method 'single', an optimized algorithm based\n",
      "        on minimum spanning, for methods 'complete', 'average', 'weighted' and\n",
      "        'ward', an algorithm called nearest-neighbors chain is implemented\n",
      "        (see docs for scipy.cluster.hierarchy.linkage).\n",
      "    - color_threshold (dict; default {'row': 0, 'col': 0}): Maximum\n",
      "        linkage value for which unique colors are assigned to clusters;\n",
      "        'row' for rows, and 'col' for columns.\n",
      "    - optimal_leaf_order (bool; default False): Whether to enable (True) or\n",
      "        disable (False) the option to determine leaf order that maximizes\n",
      "        similarity between neighboring leaves.\n",
      "    - color_map (list; default [[0.0, 'rgb(255,0,0)'], [0.5,\n",
      "        'rgb(0,0,0)'], [1.0, 'rgb(0,255,0)']]): Colorscale for the heatmap.\n",
      "        Top-level elements contain two elements, the first of which refers to\n",
      "        the percentile rank, and the second to the applied color. For instance,\n",
      "        [[0.0, 'white'], [0.5, 'gray'], [1.0, 'black']] means that cells in the\n",
      "        49th percentile would be white; cells at the 50th or higher percentiles,\n",
      "        excluding the 100th percentile, would be gray; and the cell(s) at the\n",
      "        100th percentile would be black.\n",
      "    - color_list (dict; optional): The list of colors to use for different\n",
      "       clusters in the dendrogram that have a root under the threshold for\n",
      "       each dimension. If there are fewer colors than there are clusters\n",
      "       along a specific dimension, the colors of the clusters will cycle\n",
      "       through the colors specified in the list. The keys are: 'row' (for\n",
      "       row clusters), 'col' (for column clusters), and 'bg' (for all\n",
      "       traces above the clustering threshold for both row and column).\n",
      "    - display_range (double; default 3.0): In the heatmap, standardized\n",
      "        values from the dataset that are below the negative of this value\n",
      "        will be colored with one shade, and the values that are above this\n",
      "        value will be colored with another.\n",
      "    - center_values (bool; default True): Whether or not to center the\n",
      "        values of the heatmap about zero.\n",
      "    - log_transform (bool; default False): Whether or not to transform\n",
      "        the data by taking the base-two logarithm of all values in the\n",
      "        dataset.\n",
      "    - display_ratio (list | number; default 0.2): The dendrograms' heights with\n",
      "        respect to the size of the heatmap; with one element, both the row\n",
      "        and column dendrograms have the same ratio; with two, the row\n",
      "        dendrogram ratio corresponds to the first element of the list and\n",
      "        the column dendrogram ratio corresponds to the second element of\n",
      "        the list.\n",
      "    - imputer_parameters (dict; optional): Specifies the parameters\n",
      "        'missing_values' and 'strategy' of the SimpleImputer class from\n",
      "        scikit-learn 0.20.1 (both of these parameters must be keys in the\n",
      "        dictionary). An additional parameter, 'axis', is used to specify\n",
      "        the direction along which to impute (a parameter of Imputer, which\n",
      "        was deprecated in scikit-learn 0.20.0): 'axis=0' indicates that\n",
      "        imputing should happen along columns, while 'axis=1' indicates\n",
      "        that it should happen along rows (see: https://scikit\n",
      "        -learn.org/stable/modules/generated/sklearn.preprocessing.Imputer.html).\n",
      "    - row_group_marker (list; optional): A list containing the annotations\n",
      "        for row clusters in the dendrogram. Each annotation is a\n",
      "        dictionary with the keys 'group_number' (the cluster number to\n",
      "        highlight), 'annotation' (a string containing the text of the\n",
      "        annotation), and 'color' (a string representation of the color of\n",
      "        the annotation).\n",
      "    - col_group_marker (list; optional): A list containing the annotations for\n",
      "        column clusters in the dendrogram. Each annotation is a dictionary\n",
      "        with the keys 'group_number' (the cluster number to highlight),\n",
      "        'annotation' (a string containing the text of the annotation), and\n",
      "        'color' (a string representation of the color of the\n",
      "        annotation).\n",
      "    - tick_font (dict; optional): The font options for ticks, as specified\n",
      "        in the Plotly graph_objects documentation (see:\n",
      "        https://plotly.com/python/reference/#bar-marker-colorbar-tickfont).\n",
      "    - annotation_font (dict; optional): The font options for annotations,\n",
      "        as specified in the Plotly graph_objects documentation (see:\n",
      "        https://plotly.cp,/python/reference/#layout-scene-annotations-items-annotation-font).\n",
      "    - line_width (list | number; default 0.5): The line width for the\n",
      "        dendrograms. If in list format, the first element corresponds to\n",
      "        the width of the row dendrogram traces, and the second corresponds\n",
      "        to the width of the column dendrogram traces.\n",
      "    - paper_bg_color (string; default 'rgba(0,0,0,0)'): The background\n",
      "        color of the paper on the graph.\n",
      "    - plot_bg_color (string; default 'rgba(0,0,0,0)'): The background\n",
      "        color of the subplots on the graph.\n",
      "    - height (number; default 500): The height of the graph, in px.\n",
      "    - width (number; default 500): The width of the graph, in px.\n",
      "\n"
     ]
    }
   ],
   "source": [
    "help(dash_bio.Clustergram)"
   ]
  }
 ],
 "metadata": {
  "kernelspec": {
   "display_name": "Python 3 (ipykernel)",
   "language": "python",
   "name": "python3"
  },
  "language_info": {
   "codemirror_mode": {
    "name": "ipython",
    "version": 3
   },
   "file_extension": ".py",
   "mimetype": "text/x-python",
   "name": "python",
   "nbconvert_exporter": "python",
   "pygments_lexer": "ipython3",
   "version": "3.9.13"
  }
 },
 "nbformat": 4,
 "nbformat_minor": 5
}
