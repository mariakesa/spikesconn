{
 "cells": [
  {
   "cell_type": "code",
   "execution_count": 2,
   "id": "1fb651f9",
   "metadata": {},
   "outputs": [
    {
     "name": "stdout",
     "output_type": "stream",
     "text": [
      "5469038\n",
      "(5469038,)\n",
      "4.898306846618652\n"
     ]
    }
   ],
   "source": [
    "from brainbox.task import trials\n",
    "from one.api import ONE\n",
    "import pandas as pd\n",
    "import numpy as np\n",
    "\n",
    "import time\n",
    "\n",
    "start=time.time()\n",
    "one = ONE(base_url='https://openalyx.internationalbrainlab.org', password='international', silent=True)\n",
    "eid = '58b1e920-cfc8-467e-b28b-7654a55d0977'\n",
    "\n",
    "\n",
    "def get_raster_and_psth(eid):\n",
    "    #Load trials into df\n",
    "    dat = one.load_dataset(eid, 'alf/_ibl_trials.table.pqt')\n",
    "    df=pd.DataFrame(dat)\n",
    "    #Choose one type of event\n",
    "    trials_=df.loc[(df['choice'] == 1) & (df['contrastLeft'] == 1.0)].index\n",
    "    #df=df.loc[(df['choice'] == 1) & (df['contrastLeft'] == 1.0)]\n",
    "    events=df[\"stimOn_times\"]\n",
    "    #Get spike_times\n",
    "    spike_times=one.load_dataset(eid, 'alf/probe00/pykilosort/spikes.times.npy')\n",
    "    #Get clusters\n",
    "    spike_clusters=one.load_dataset(eid, 'alf/probe00/pykilosort/spikes.clusters.npy')\n",
    "    print(len(spike_clusters))\n",
    "    print(spike_times.shape)\n",
    "    #Get binned rasters\n",
    "    raster_dict={}\n",
    "    time_vec={}\n",
    "    for n in list(np.unique(spike_clusters)):\n",
    "        neuron=np.where(spike_clusters==n)\n",
    "        if len(list(neuron[0]))!=0:\n",
    "            #print(len(list(neuron[0])))\n",
    "            raster=trials.get_event_aligned_raster(spike_times[neuron], events, tbin=0.1, values=None, epoch=[-0.5, 2], bin=True)\n",
    "            #print(raster)\n",
    "            if np.isnan(raster[0]).any()==False:\n",
    "                raster_dict[n]=raster[0]\n",
    "        time_vec=raster[1]\n",
    "    psth_dict={}\n",
    "    for k in raster_dict.keys():\n",
    "        psth=trials.get_psth(raster_dict[k],trial_ids=trials_)\n",
    "        psth_dict[k]=psth\n",
    "    return raster_dict,psth_dict,time_vec\n",
    "\n",
    "raster_dict, psth_dict,time_vec=get_raster_and_psth(eid)\n",
    "end=time.time()\n",
    "print(end-start)"
   ]
  }
 ],
 "metadata": {
  "kernelspec": {
   "display_name": "Python 3 (ipykernel)",
   "language": "python",
   "name": "python3"
  },
  "language_info": {
   "codemirror_mode": {
    "name": "ipython",
    "version": 3
   },
   "file_extension": ".py",
   "mimetype": "text/x-python",
   "name": "python",
   "nbconvert_exporter": "python",
   "pygments_lexer": "ipython3",
   "version": "3.9.13"
  }
 },
 "nbformat": 4,
 "nbformat_minor": 5
}
