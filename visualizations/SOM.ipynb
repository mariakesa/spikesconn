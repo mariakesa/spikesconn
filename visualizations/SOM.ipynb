{
 "cells": [
  {
   "cell_type": "code",
   "execution_count": 1,
   "id": "5fe487db",
   "metadata": {},
   "outputs": [],
   "source": [
    "from brainbox.task import trials\n",
    "from one.api import ONE\n",
    "import pandas as pd\n",
    "import numpy as np\n",
    "import GEMA\n",
    "\n",
    "one = ONE(base_url='https://openalyx.internationalbrainlab.org', password='international', silent=True)\n",
    "eid = '58b1e920-cfc8-467e-b28b-7654a55d0977'\n",
    "\n"
   ]
  },
  {
   "cell_type": "code",
   "execution_count": 2,
   "id": "2d60c77e",
   "metadata": {},
   "outputs": [
    {
     "name": "stdout",
     "output_type": "stream",
     "text": [
      "5469038\n",
      "(5469038,)\n"
     ]
    }
   ],
   "source": [
    "\n",
    "def get_raster_and_psth(eid):\n",
    "    #Load trials into df\n",
    "    dat = one.load_dataset(eid, 'alf/_ibl_trials.table.pqt')\n",
    "    df=pd.DataFrame(dat)\n",
    "    #Choose one type of event\n",
    "    trials_=df.loc[(df['choice'] == 1) & (df['contrastLeft'] == 1.0)].index\n",
    "    #df=df.loc[(df['choice'] == 1) & (df['contrastLeft'] == 1.0)]\n",
    "    events=df[\"stimOn_times\"]\n",
    "    #Get spike_times\n",
    "    spike_times=one.load_dataset(eid, 'alf/probe00/pykilosort/spikes.times.npy')\n",
    "    #Get clusters\n",
    "    spike_clusters=one.load_dataset(eid, 'alf/probe00/pykilosort/spikes.clusters.npy')\n",
    "    print(len(spike_clusters))\n",
    "    print(spike_times.shape)\n",
    "    #Get binned rasters\n",
    "    raster_dict={}\n",
    "    time_vec={}\n",
    "    for n in list(np.unique(spike_clusters)):\n",
    "        neuron=np.where(spike_clusters==n)\n",
    "        if len(list(neuron[0]))!=0:\n",
    "            #print(len(list(neuron[0])))\n",
    "            raster=trials.get_event_aligned_raster(spike_times[neuron], events, tbin=0.1, values=None, epoch=[-0.5, 2], bin=True)\n",
    "            #print(raster)\n",
    "            if np.isnan(raster[0]).any()==False:\n",
    "                raster_dict[n]=raster[0]\n",
    "        time_vec=raster[1]\n",
    "    psth_dict={}\n",
    "    for k in raster_dict.keys():\n",
    "        psth=trials.get_psth(raster_dict[k],trial_ids=trials_)\n",
    "        psth_dict[k]=psth\n",
    "    return raster_dict,psth_dict,time_vec\n",
    "\n",
    "raster_dict, psth_dict,time_vec=get_raster_and_psth(eid)"
   ]
  },
  {
   "cell_type": "code",
   "execution_count": 3,
   "id": "cfc9736d",
   "metadata": {},
   "outputs": [],
   "source": [
    "psth_mat=[]\n",
    "for k in psth_dict.keys():\n",
    "    psth_mat.append(psth_dict[k][0])\n",
    "psth_mat=np.array(psth_mat)"
   ]
  },
  {
   "cell_type": "code",
   "execution_count": 4,
   "id": "11e05df0",
   "metadata": {},
   "outputs": [
    {
     "name": "stdout",
     "output_type": "stream",
     "text": [
      "(256, 26)\n"
     ]
    }
   ],
   "source": [
    "print(psth_mat.shape)"
   ]
  },
  {
   "cell_type": "code",
   "execution_count": 11,
   "id": "4d02bf5d",
   "metadata": {},
   "outputs": [],
   "source": [
    "np.save('psth_arr.npy',psth_mat)"
   ]
  },
  {
   "cell_type": "code",
   "execution_count": 5,
   "id": "42e034ab",
   "metadata": {},
   "outputs": [
    {
     "name": "stdout",
     "output_type": "stream",
     "text": [
      "1678589967.6664243\n",
      "TRAINING...\n"
     ]
    },
    {
     "data": {
      "application/vnd.jupyter.widget-view+json": {
       "model_id": "58d761a59181493a8c99983c3c42b462",
       "version_major": 2,
       "version_minor": 0
      },
      "text/plain": [
       "  0%|          | 0/10000 [00:00<?, ?it/s]"
      ]
     },
     "metadata": {},
     "output_type": "display_data"
    },
    {
     "name": "stdout",
     "output_type": "stream",
     "text": [
      "FINISHED.\n",
      "1.9741108417510986\n",
      "(16, 16, 26)\n"
     ]
    }
   ],
   "source": [
    "import GEMA\n",
    "\n",
    "import time\n",
    "\n",
    "start=time.time()\n",
    "print(start)\n",
    "\n",
    "map_size = 16\n",
    "period = 10000 \n",
    "learning_rate = 0.1\n",
    "normalize_data = 'none'\n",
    "\n",
    "main_map = GEMA.Map(psth_mat,\n",
    "                    map_size,\n",
    "                    period, \n",
    "                    initial_lr=learning_rate, \n",
    "                    initial_neighbourhood = 0,\n",
    "                    distance = 'euclidean',\n",
    "                    use_decay= False,\n",
    "                    normalization = normalize_data,\n",
    "                    presentation= 'random',\n",
    "                    weights = 'random')\n",
    "\n",
    "end=time.time()\n",
    "print(end-start)\n",
    "\n",
    "plt_arr=[]\n",
    "for j in range(0,16):\n",
    "    plt_lst=[]\n",
    "    for i in range(0,16):\n",
    "        plt_lst.append(main_map.weights[i,j,:])\n",
    "    plt_arr.append(plt_lst)\n",
    "plt_arr=np.array(plt_arr)\n",
    "print(plt_arr.shape)\n",
    "np.save('psth_prototypes_arr.npy',plt_arr)"
   ]
  },
  {
   "cell_type": "code",
   "execution_count": 6,
   "id": "f5f1ed59",
   "metadata": {},
   "outputs": [
    {
     "name": "stdout",
     "output_type": "stream",
     "text": [
      "(16, 16, 26)\n"
     ]
    }
   ],
   "source": [
    "plt_arr=[]\n",
    "for j in range(0,16):\n",
    "    plt_lst=[]\n",
    "    for i in range(0,16):\n",
    "        plt_lst.append(main_map.weights[i,j,:])\n",
    "    plt_arr.append(plt_lst)\n",
    "plt_arr=np.array(plt_arr)\n",
    "print(plt_arr.shape)\n",
    "np.save('psth_prototypes_arr.npy',plt_arr)"
   ]
  },
  {
   "cell_type": "code",
   "execution_count": 7,
   "id": "5872617a",
   "metadata": {},
   "outputs": [
    {
     "data": {
      "text/plain": [
       "(15, 0)"
      ]
     },
     "execution_count": 7,
     "metadata": {},
     "output_type": "execute_result"
    }
   ],
   "source": [
    "main_map.calculate_bmu(psth_mat[0,:])[1]"
   ]
  },
  {
   "cell_type": "code",
   "execution_count": 10,
   "id": "f347ab1e",
   "metadata": {},
   "outputs": [
    {
     "name": "stdout",
     "output_type": "stream",
     "text": [
      "{(0, 0): [154], (0, 1): [], (0, 2): [62, 67], (0, 3): [], (0, 4): [72], (0, 5): [144], (0, 6): [63, 114], (0, 7): [207, 232], (0, 8): [58, 135, 149, 150], (0, 9): [], (0, 10): [136, 171], (0, 11): [148, 206], (0, 12): [37, 164], (0, 13): [172, 204, 248], (0, 14): [241], (0, 15): [16, 22, 27, 66, 78, 87, 88, 90, 95, 98, 146, 155, 157, 210, 211, 212, 221, 224, 225, 226, 227, 230, 233, 239, 247, 249, 250, 252], (1, 0): [140], (1, 1): [], (1, 2): [183], (1, 3): [20], (1, 4): [89], (1, 5): [240], (1, 6): [], (1, 7): [], (1, 8): [], (1, 9): [], (1, 10): [32], (1, 11): [19, 91], (1, 12): [57, 65], (1, 13): [173, 185, 234], (1, 14): [159, 168, 208, 237], (1, 15): [40, 223], (2, 0): [], (2, 1): [], (2, 2): [108], (2, 3): [], (2, 4): [33], (2, 5): [107, 176], (2, 6): [], (2, 7): [], (2, 8): [122], (2, 9): [55, 106, 182], (2, 10): [], (2, 11): [92, 197], (2, 12): [94, 243], (2, 13): [], (2, 14): [36, 216, 246], (2, 15): [35, 113, 193, 245, 254], (3, 0): [138, 139], (3, 1): [], (3, 2): [], (3, 3): [], (3, 4): [], (3, 5): [], (3, 6): [], (3, 7): [105, 218], (3, 8): [191, 202], (3, 9): [], (3, 10): [], (3, 11): [47, 86, 220, 251], (3, 12): [53, 156], (3, 13): [], (3, 14): [61, 102, 120, 124, 129, 131, 134, 161, 209], (3, 15): [29, 79], (4, 0): [219], (4, 1): [], (4, 2): [], (4, 3): [184], (4, 4): [81], (4, 5): [85], (4, 6): [], (4, 7): [255], (4, 8): [8], (4, 9): [], (4, 10): [93, 203], (4, 11): [56], (4, 12): [], (4, 13): [80, 103, 127, 130, 133, 162, 199], (4, 14): [], (4, 15): [126], (5, 0): [], (5, 1): [96], (5, 2): [], (5, 3): [142, 188], (5, 4): [], (5, 5): [76], (5, 6): [222], (5, 7): [24], (5, 8): [], (5, 9): [31, 117], (5, 10): [170, 235], (5, 11): [], (5, 12): [166], (5, 13): [59, 125], (5, 14): [], (5, 15): [1], (6, 0): [], (6, 1): [], (6, 2): [43, 73, 83], (6, 3): [229], (6, 4): [39], (6, 5): [], (6, 6): [2], (6, 7): [], (6, 8): [6, 7], (6, 9): [192], (6, 10): [44, 198], (6, 11): [174, 238], (6, 12): [], (6, 13): [46, 178], (6, 14): [], (6, 15): [42, 123], (7, 0): [], (7, 1): [], (7, 2): [189], (7, 3): [], (7, 4): [], (7, 5): [41], (7, 6): [143, 186], (7, 7): [151], (7, 8): [242], (7, 9): [], (7, 10): [], (7, 11): [54], (7, 12): [], (7, 13): [109, 201], (7, 14): [], (7, 15): [13, 25, 30, 236], (8, 0): [158], (8, 1): [], (8, 2): [], (8, 3): [77, 84], (8, 4): [], (8, 5): [181], (8, 6): [9, 147], (8, 7): [], (8, 8): [5, 17], (8, 9): [], (8, 10): [], (8, 11): [], (8, 12): [118], (8, 13): [38, 190], (8, 14): [], (8, 15): [253], (9, 0): [], (9, 1): [], (9, 2): [], (9, 3): [], (9, 4): [], (9, 5): [14], (9, 6): [], (9, 7): [52], (9, 8): [4, 116], (9, 9): [213], (9, 10): [115], (9, 11): [], (9, 12): [], (9, 13): [], (9, 14): [], (9, 15): [34, 45, 49], (10, 0): [68, 74, 137], (10, 1): [], (10, 2): [82], (10, 3): [71], (10, 4): [153], (10, 5): [], (10, 6): [], (10, 7): [], (10, 8): [200], (10, 9): [], (10, 10): [10, 11, 12], (10, 11): [], (10, 12): [169], (10, 13): [51], (10, 14): [110, 112], (10, 15): [231], (11, 0): [], (11, 1): [], (11, 2): [], (11, 3): [69], (11, 4): [], (11, 5): [18, 187], (11, 6): [], (11, 7): [], (11, 8): [195, 205], (11, 9): [194], (11, 10): [], (11, 11): [], (11, 12): [], (11, 13): [], (11, 14): [], (11, 15): [121], (12, 0): [], (12, 1): [], (12, 2): [214, 244], (12, 3): [], (12, 4): [100], (12, 5): [], (12, 6): [104, 175], (12, 7): [], (12, 8): [], (12, 9): [], (12, 10): [], (12, 11): [111, 141], (12, 12): [], (12, 13): [], (12, 14): [], (12, 15): [50], (13, 0): [15, 70], (13, 1): [], (13, 2): [101], (13, 3): [], (13, 4): [], (13, 5): [], (13, 6): [], (13, 7): [163], (13, 8): [160], (13, 9): [], (13, 10): [], (13, 11): [], (13, 12): [228], (13, 13): [], (13, 14): [], (13, 15): [196], (14, 0): [75], (14, 1): [132], (14, 2): [], (14, 3): [167], (14, 4): [], (14, 5): [], (14, 6): [145], (14, 7): [], (14, 8): [], (14, 9): [], (14, 10): [], (14, 11): [], (14, 12): [], (14, 13): [], (14, 14): [], (14, 15): [217], (15, 0): [0, 3, 21, 23, 28, 97, 179], (15, 1): [], (15, 2): [], (15, 3): [], (15, 4): [177, 180], (15, 5): [64, 152], (15, 6): [], (15, 7): [48], (15, 8): [165], (15, 9): [99], (15, 10): [60], (15, 11): [119], (15, 12): [26], (15, 13): [], (15, 14): [], (15, 15): [128, 215]}\n"
     ]
    }
   ],
   "source": [
    "import pickle\n",
    "bmu_dct={}\n",
    "for i in range(0,16):\n",
    "    for j in range(0,16):\n",
    "        bmu_dct[(i,j)]=[]\n",
    "for k in range(0,psth_mat.shape[0]):\n",
    "    grid_index=main_map.calculate_bmu(psth_mat[k,:])[1]\n",
    "    bmu_dct[grid_index].append(k)\n",
    "with open('bmu_dct.pickle', 'wb') as handle:\n",
    "    pickle.dump(bmu_dct, handle, protocol=pickle.HIGHEST_PROTOCOL)\n",
    "print(bmu_dct)"
   ]
  },
  {
   "cell_type": "code",
   "execution_count": 12,
   "id": "a638b4a4",
   "metadata": {},
   "outputs": [
    {
     "data": {
      "text/plain": [
       "27"
      ]
     },
     "execution_count": 12,
     "metadata": {},
     "output_type": "execute_result"
    }
   ],
   "source": [
    "len(list(np.arange(-0.5,2.2,0.1)))\n",
    "    "
   ]
  }
 ],
 "metadata": {
  "kernelspec": {
   "display_name": "Python 3 (ipykernel)",
   "language": "python",
   "name": "python3"
  },
  "language_info": {
   "codemirror_mode": {
    "name": "ipython",
    "version": 3
   },
   "file_extension": ".py",
   "mimetype": "text/x-python",
   "name": "python",
   "nbconvert_exporter": "python",
   "pygments_lexer": "ipython3",
   "version": "3.9.13"
  }
 },
 "nbformat": 4,
 "nbformat_minor": 5
}
