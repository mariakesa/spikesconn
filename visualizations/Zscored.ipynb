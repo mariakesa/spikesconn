{
 "cells": [
  {
   "cell_type": "code",
   "execution_count": 1,
   "id": "e7f4d63d",
   "metadata": {},
   "outputs": [],
   "source": [
    "from brainbox.task import trials\n",
    "from one.api import ONE\n",
    "import pandas as pd\n",
    "import numpy as np\n",
    "import GEMA\n",
    "\n",
    "one = ONE(base_url='https://openalyx.internationalbrainlab.org', password='international', silent=True)\n",
    "eid = '58b1e920-cfc8-467e-b28b-7654a55d0977'"
   ]
  },
  {
   "cell_type": "code",
   "execution_count": 24,
   "id": "981e0264",
   "metadata": {},
   "outputs": [
    {
     "name": "stdout",
     "output_type": "stream",
     "text": [
      "5469038\n",
      "(5469038,)\n"
     ]
    }
   ],
   "source": [
    "def get_raster_and_psth(eid):\n",
    "    #Load trials into df\n",
    "    dat = one.load_dataset(eid, 'alf/_ibl_trials.table.pqt')\n",
    "    df=pd.DataFrame(dat)\n",
    "    #Choose one type of event\n",
    "    trials_=df.loc[(df['choice'] == 1) & (df['contrastLeft'] == 0.0)].index\n",
    "    #df=df.loc[(df['choice'] == 1) & (df['contrastLeft'] == 1.0)]\n",
    "    events=df[\"stimOn_times\"]\n",
    "    #Get spike_times\n",
    "    spike_times=one.load_dataset(eid, 'alf/probe00/pykilosort/spikes.times.npy')\n",
    "    #Get clusters\n",
    "    spike_clusters=one.load_dataset(eid, 'alf/probe00/pykilosort/spikes.clusters.npy')\n",
    "    print(len(spike_clusters))\n",
    "    print(spike_times.shape)\n",
    "    #Get binned rasters\n",
    "    raster_dict={}\n",
    "    time_vec={}\n",
    "    for n in list(np.unique(spike_clusters)):\n",
    "        neuron=np.where(spike_clusters==n)\n",
    "        if len(list(neuron[0]))!=0:\n",
    "            #print(len(list(neuron[0])))\n",
    "            raster=trials.get_event_aligned_raster(spike_times[neuron], events, tbin=0.1, values=None, epoch=[-0.5, 2], bin=True)\n",
    "            #print(raster)\n",
    "            if np.isnan(raster[0]).any()==False:\n",
    "                raster_dict[n]=raster[0]\n",
    "        time_vec=raster[1]\n",
    "    psth_dict={}\n",
    "    for k in raster_dict.keys():\n",
    "        psth=trials.get_psth(raster_dict[k],trial_ids=trials_)\n",
    "        psth_dict[k]=psth\n",
    "    return raster_dict,psth_dict,time_vec\n",
    "\n",
    "raster_dict, psth_dict,time_vec=get_raster_and_psth(eid)\n",
    "\n",
    "from scipy.stats import zscore\n",
    "psth_mat=[]\n",
    "for k in psth_dict.keys():\n",
    "    psth_mat.append(psth_dict[k][0])\n",
    "psth_mat=np.array(psth_mat)\n",
    "\n",
    "np.save('psth_arr_z.npy',psth_mat)"
   ]
  },
  {
   "cell_type": "code",
   "execution_count": 2,
   "id": "a53eafe4",
   "metadata": {
    "scrolled": true
   },
   "outputs": [
    {
     "name": "stdout",
     "output_type": "stream",
     "text": [
      "1678808883.3093705\n",
      "[[False False False ... False False False]\n",
      " [False False False ... False False False]\n",
      " [False False False ... False False False]\n",
      " ...\n",
      " [False False False ... False False False]\n",
      " [False False False ... False False False]\n",
      " [False False False ... False False False]]\n",
      "TRAINING...\n"
     ]
    },
    {
     "data": {
      "application/vnd.jupyter.widget-view+json": {
       "model_id": "97f6eeb9ee3745bf86ba638f5ca861e5",
       "version_major": 2,
       "version_minor": 0
      },
      "text/plain": [
       "  0%|          | 0/10000 [00:00<?, ?it/s]"
      ]
     },
     "metadata": {},
     "output_type": "display_data"
    },
    {
     "name": "stdout",
     "output_type": "stream",
     "text": [
      "FINISHED.\n",
      "2.082796573638916\n",
      "TRAINING...\n"
     ]
    },
    {
     "data": {
      "application/vnd.jupyter.widget-view+json": {
       "model_id": "ea8db7fa3ec54372bd0a2445af5919b5",
       "version_major": 2,
       "version_minor": 0
      },
      "text/plain": [
       "  0%|          | 0/10000 [00:00<?, ?it/s]"
      ]
     },
     "metadata": {},
     "output_type": "display_data"
    },
    {
     "name": "stdout",
     "output_type": "stream",
     "text": [
      "FINISHED.\n",
      "(10, 10, 26)\n",
      "{(0, 0): [149, 164, 171, 172, 232], (1, 0): [63, 89], (2, 0): [140, 191], (3, 0): [19, 47, 105], (4, 0): [155, 204], (5, 0): [35, 185, 212], (6, 0): [40, 66, 224, 226], (7, 0): [87, 88, 95, 146, 210, 227, 233, 239, 250], (8, 0): [230], (9, 0): [90, 98, 241, 247, 249], (0, 1): [136, 148], (1, 1): [], (2, 1): [67, 108, 114, 183], (3, 1): [107, 109], (4, 1): [], (5, 1): [], (6, 1): [223], (7, 1): [78], (8, 1): [], (9, 1): [221], (0, 2): [138, 150, 154, 202], (1, 2): [139, 219], (2, 2): [58, 106], (3, 2): [], (4, 2): [178, 193, 251], (5, 2): [37], (6, 2): [22, 252], (7, 2): [211], (8, 2): [157], (9, 2): [29, 159, 225], (0, 3): [15, 62, 97, 158], (1, 3): [74, 137, 184], (2, 3): [4, 43], (3, 3): [182], (4, 3): [32, 135], (5, 3): [245], (6, 3): [248], (7, 3): [123, 173], (8, 3): [168], (9, 3): [113, 231], (0, 4): [3, 23, 68, 82, 186, 201], (1, 4): [5, 52, 72], (2, 4): [117, 143, 144, 229], (3, 4): [33, 213], (4, 4): [116, 118], (5, 4): [122, 206], (6, 4): [42, 115], (7, 4): [55, 112], (8, 4): [25], (9, 4): [1, 16, 27], (0, 5): [20, 24], (1, 5): [0, 21, 28, 177], (2, 5): [188], (3, 5): [9, 14], (4, 5): [6, 7, 11, 12, 13], (5, 5): [165], (6, 5): [190, 236], (7, 5): [49, 126], (8, 5): [111, 253], (9, 5): [30, 45, 50, 110], (0, 6): [228], (1, 6): [198, 200, 205, 242], (2, 6): [17, 179, 240], (3, 6): [], (4, 6): [41, 84], (5, 6): [8, 10, 54], (6, 6): [18, 196], (7, 6): [51, 121], (8, 6): [38, 217], (9, 6): [34, 44, 237], (0, 7): [192, 194, 195, 207, 218], (1, 7): [187], (2, 7): [70, 71, 75, 244], (3, 7): [69, 100, 101, 153, 214], (4, 7): [104], (5, 7): [81, 152], (6, 7): [166, 222, 238], (7, 7): [36, 99, 220], (8, 7): [60, 197], (9, 7): [203, 255], (0, 8): [94], (1, 8): [83], (2, 8): [73, 77, 96, 142, 175, 181, 189], (3, 8): [2, 132], (4, 8): [39, 145, 147, 167], (5, 8): [160, 163], (6, 8): [56, 151, 169], (7, 8): [128, 215], (8, 8): [119], (9, 8): [129, 208], (0, 9): [57, 91, 92, 234, 243, 254], (1, 9): [65, 93], (2, 9): [31, 176], (3, 9): [76, 235], (4, 9): [48, 64, 85, 141, 174, 180], (5, 9): [86], (6, 9): [26, 53, 156, 170, 216], (7, 9): [59, 80, 103, 125, 127, 130, 133, 162, 199], (8, 9): [], (9, 9): [46, 61, 79, 102, 120, 124, 131, 134, 161, 209, 246]}\n"
     ]
    }
   ],
   "source": [
    "import GEMA\n",
    "\n",
    "psth_mat=np.load('psth_arr_z.npy')\n",
    "import time\n",
    "\n",
    "start=time.time()\n",
    "print(start)\n",
    "\n",
    "from sklearn import preprocessing\n",
    "map_size = 10\n",
    "period = 10000 \n",
    "learning_rate = 0.1\n",
    "print(np.isnan(psth_mat))\n",
    "normalize_data = 'none'\n",
    "datos = preprocessing.normalize(psth_mat)\n",
    "\n",
    "main_map = GEMA.Map(datos,\n",
    "                    map_size,\n",
    "                    period, \n",
    "                    initial_lr=learning_rate, \n",
    "                    initial_neighbourhood = 0,\n",
    "                    distance = 'euclidean',\n",
    "                    use_decay= False,\n",
    "                    normalization = normalize_data,\n",
    "                    presentation= 'random',\n",
    "                    weights = 'random')\n",
    "\n",
    "end=time.time()\n",
    "print(end-start)\n",
    "\n",
    "#Color SOM\n",
    "from sklearn import preprocessing\n",
    "datos_ = np.random.randint(0, 255, (100, 3))\n",
    "datos_ = preprocessing.normalize(datos_)\n",
    "main_map_colors = GEMA.Map(datos_, \n",
    "                    map_size, \n",
    "                    period, \n",
    "                    initial_lr=learning_rate, \n",
    "                    initial_neighbourhood = 0,\n",
    "                    distance = 'euclidean',\n",
    "                    use_decay= False,\n",
    "                    normalization = normalize_data,\n",
    "                    presentation= 'random',\n",
    "                    weights = 'random')\n",
    "from matplotlib.pyplot import imshow\n",
    "image_matrix = (main_map_colors.weights-main_map_colors.weights.min())/(main_map_colors.weights.max()-main_map_colors.weights.min())\n",
    "\n",
    "plt_arr=[]\n",
    "for j in range(0,10):\n",
    "    plt_lst=[]\n",
    "    for i in range(0,10):\n",
    "        plt_lst.append(main_map.weights[i,j,:])\n",
    "    plt_arr.append(plt_lst)\n",
    "plt_arr=np.array(plt_arr)\n",
    "print(plt_arr.shape)\n",
    "np.save('psth_prototypes_arr_z.npy',plt_arr)\n",
    "\n",
    "import pickle\n",
    "bmu_dct={}\n",
    "for i in range(0,10):\n",
    "    for j in range(0,10):\n",
    "        bmu_dct[(j,i)]=[]\n",
    "for k in range(0,datos.shape[0]):\n",
    "    grid_index=main_map.calculate_bmu(datos[k,:])[1]\n",
    "    bmu_dct[grid_index].append(k)\n",
    "with open('bmu_dct_z.pickle', 'wb') as handle:\n",
    "    pickle.dump(bmu_dct, handle, protocol=pickle.HIGHEST_PROTOCOL)\n",
    "print(bmu_dct)\n",
    "\n",
    "alpha_im=np.zeros((10,10,4))\n",
    "for i in range(0,10):\n",
    "    for j in range(0,10):\n",
    "        alpha_im[i,j,:3]=image_matrix[i,j,:]\n",
    "        if len(bmu_dct[(i,j)])==0:\n",
    "            alpha_im[i,j,3]=0.5\n",
    "        else:\n",
    "            alpha_im[i,j,3]=1\n",
    "            \n",
    "np.save('alpha_im_z.npy',alpha_im)"
   ]
  },
  {
   "cell_type": "code",
   "execution_count": 3,
   "id": "dd456b88",
   "metadata": {},
   "outputs": [
    {
     "name": "stdout",
     "output_type": "stream",
     "text": [
      "(10, 10, 3)\n"
     ]
    }
   ],
   "source": [
    "print(image_matrix.shape)"
   ]
  },
  {
   "cell_type": "code",
   "execution_count": 4,
   "id": "39a05907",
   "metadata": {
    "scrolled": true
   },
   "outputs": [
    {
     "name": "stdout",
     "output_type": "stream",
     "text": [
      "{(0, 0): [149, 164, 171, 172, 232], (1, 0): [63, 89], (2, 0): [140, 191], (3, 0): [19, 47, 105], (4, 0): [155, 204], (5, 0): [35, 185, 212], (6, 0): [40, 66, 224, 226], (7, 0): [87, 88, 95, 146, 210, 227, 233, 239, 250], (8, 0): [230], (9, 0): [90, 98, 241, 247, 249], (0, 1): [136, 148], (1, 1): [], (2, 1): [67, 108, 114, 183], (3, 1): [107, 109], (4, 1): [], (5, 1): [], (6, 1): [223], (7, 1): [78], (8, 1): [], (9, 1): [221], (0, 2): [138, 150, 154, 202], (1, 2): [139, 219], (2, 2): [58, 106], (3, 2): [], (4, 2): [178, 193, 251], (5, 2): [37], (6, 2): [22, 252], (7, 2): [211], (8, 2): [157], (9, 2): [29, 159, 225], (0, 3): [15, 62, 97, 158], (1, 3): [74, 137, 184], (2, 3): [4, 43], (3, 3): [182], (4, 3): [32, 135], (5, 3): [245], (6, 3): [248], (7, 3): [123, 173], (8, 3): [168], (9, 3): [113, 231], (0, 4): [3, 23, 68, 82, 186, 201], (1, 4): [5, 52, 72], (2, 4): [117, 143, 144, 229], (3, 4): [33, 213], (4, 4): [116, 118], (5, 4): [122, 206], (6, 4): [42, 115], (7, 4): [55, 112], (8, 4): [25], (9, 4): [1, 16, 27], (0, 5): [20, 24], (1, 5): [0, 21, 28, 177], (2, 5): [188], (3, 5): [9, 14], (4, 5): [6, 7, 11, 12, 13], (5, 5): [165], (6, 5): [190, 236], (7, 5): [49, 126], (8, 5): [111, 253], (9, 5): [30, 45, 50, 110], (0, 6): [228], (1, 6): [198, 200, 205, 242], (2, 6): [17, 179, 240], (3, 6): [], (4, 6): [41, 84], (5, 6): [8, 10, 54], (6, 6): [18, 196], (7, 6): [51, 121], (8, 6): [38, 217], (9, 6): [34, 44, 237], (0, 7): [192, 194, 195, 207, 218], (1, 7): [187], (2, 7): [70, 71, 75, 244], (3, 7): [69, 100, 101, 153, 214], (4, 7): [104], (5, 7): [81, 152], (6, 7): [166, 222, 238], (7, 7): [36, 99, 220], (8, 7): [60, 197], (9, 7): [203, 255], (0, 8): [94], (1, 8): [83], (2, 8): [73, 77, 96, 142, 175, 181, 189], (3, 8): [2, 132], (4, 8): [39, 145, 147, 167], (5, 8): [160, 163], (6, 8): [56, 151, 169], (7, 8): [128, 215], (8, 8): [119], (9, 8): [129, 208], (0, 9): [57, 91, 92, 234, 243, 254], (1, 9): [65, 93], (2, 9): [31, 176], (3, 9): [76, 235], (4, 9): [48, 64, 85, 141, 174, 180], (5, 9): [86], (6, 9): [26, 53, 156, 170, 216], (7, 9): [59, 80, 103, 125, 127, 130, 133, 162, 199], (8, 9): [], (9, 9): [46, 61, 79, 102, 120, 124, 131, 134, 161, 209, 246]}\n"
     ]
    }
   ],
   "source": [
    "print(bmu_dct)"
   ]
  },
  {
   "cell_type": "code",
   "execution_count": 17,
   "id": "f1805788",
   "metadata": {},
   "outputs": [
    {
     "name": "stdout",
     "output_type": "stream",
     "text": [
      "(10, 10, 4)\n"
     ]
    }
   ],
   "source": [
    "print(alpha_im.shape)"
   ]
  }
 ],
 "metadata": {
  "kernelspec": {
   "display_name": "Python 3 (ipykernel)",
   "language": "python",
   "name": "python3"
  },
  "language_info": {
   "codemirror_mode": {
    "name": "ipython",
    "version": 3
   },
   "file_extension": ".py",
   "mimetype": "text/x-python",
   "name": "python",
   "nbconvert_exporter": "python",
   "pygments_lexer": "ipython3",
   "version": "3.9.13"
  }
 },
 "nbformat": 4,
 "nbformat_minor": 5
}
