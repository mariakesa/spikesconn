{
 "cells": [
  {
   "cell_type": "code",
   "execution_count": 1,
   "id": "16d24947",
   "metadata": {},
   "outputs": [],
   "source": [
    "from brainbox.task import trials\n",
    "from one.api import ONE\n",
    "import pandas as pd\n",
    "import numpy as np\n",
    "import GEMA\n",
    "\n",
    "one = ONE(base_url='https://openalyx.internationalbrainlab.org', password='international', silent=True)\n",
    "eid = '58b1e920-cfc8-467e-b28b-7654a55d0977'"
   ]
  },
  {
   "cell_type": "code",
   "execution_count": 10,
   "id": "694ec74e",
   "metadata": {},
   "outputs": [
    {
     "name": "stdout",
     "output_type": "stream",
     "text": [
      "5469038\n",
      "(5469038,)\n"
     ]
    }
   ],
   "source": [
    "def get_raster_and_psth(eid):\n",
    "    #Load trials into df\n",
    "    dat = one.load_dataset(eid, 'alf/_ibl_trials.table.pqt')\n",
    "    df=pd.DataFrame(dat)\n",
    "    #Choose one type of event\n",
    "    trials_=df.loc[(df['choice'] == 1) & (df['contrastLeft'] == 1.0)].index\n",
    "    #df=df.loc[(df['choice'] == 1) & (df['contrastLeft'] == 1.0)]\n",
    "    events=df[\"stimOn_times\"]\n",
    "    #Get spike_times\n",
    "    spike_times=one.load_dataset(eid, 'alf/probe00/pykilosort/spikes.times.npy')\n",
    "    #Get clusters\n",
    "    spike_clusters=one.load_dataset(eid, 'alf/probe00/pykilosort/spikes.clusters.npy')\n",
    "    print(len(spike_clusters))\n",
    "    print(spike_times.shape)\n",
    "    #Get binned rasters\n",
    "    raster_dict={}\n",
    "    time_vec={}\n",
    "    for n in list(np.unique(spike_clusters)):\n",
    "        neuron=np.where(spike_clusters==n)\n",
    "        if len(list(neuron[0]))!=0:\n",
    "            #print(len(list(neuron[0])))\n",
    "            raster=trials.get_event_aligned_raster(spike_times[neuron], events, tbin=0.1, values=None, epoch=[-0.5, 2], bin=True)\n",
    "            #print(raster)\n",
    "            if np.isnan(raster[0]).any()==False:\n",
    "                raster_dict[n]=raster[0]\n",
    "        time_vec=raster[1]\n",
    "    psth_dict={}\n",
    "    for k in raster_dict.keys():\n",
    "        psth=trials.get_psth(raster_dict[k],trial_ids=trials_)\n",
    "        psth_dict[k]=psth\n",
    "    return raster_dict,psth_dict,time_vec\n",
    "\n",
    "raster_dict, psth_dict,time_vec=get_raster_and_psth(eid)\n",
    "\n",
    "from scipy.stats import zscore\n",
    "psth_mat=[]\n",
    "for k in psth_dict.keys():\n",
    "    psth_mat.append(psth_dict[k][0])\n",
    "psth_mat=np.array(psth_mat)\n",
    "\n",
    "np.save('psth_arr_z.npy',psth_mat)"
   ]
  },
  {
   "cell_type": "code",
   "execution_count": 14,
   "id": "9ae91ca6",
   "metadata": {
    "scrolled": true
   },
   "outputs": [
    {
     "name": "stdout",
     "output_type": "stream",
     "text": [
      "1678624441.9310865\n",
      "[[False False False ... False False False]\n",
      " [False False False ... False False False]\n",
      " [False False False ... False False False]\n",
      " ...\n",
      " [False False False ... False False False]\n",
      " [False False False ... False False False]\n",
      " [False False False ... False False False]]\n",
      "TRAINING...\n"
     ]
    },
    {
     "data": {
      "application/vnd.jupyter.widget-view+json": {
       "model_id": "262446b2a4dd4c69b826c05caf101194",
       "version_major": 2,
       "version_minor": 0
      },
      "text/plain": [
       "  0%|          | 0/10000 [00:00<?, ?it/s]"
      ]
     },
     "metadata": {},
     "output_type": "display_data"
    },
    {
     "name": "stdout",
     "output_type": "stream",
     "text": [
      "FINISHED.\n",
      "2.334383010864258\n",
      "TRAINING...\n"
     ]
    },
    {
     "data": {
      "application/vnd.jupyter.widget-view+json": {
       "model_id": "6dcd94c9780c427f97b72ec08f79e9af",
       "version_major": 2,
       "version_minor": 0
      },
      "text/plain": [
       "  0%|          | 0/10000 [00:00<?, ?it/s]"
      ]
     },
     "metadata": {},
     "output_type": "display_data"
    },
    {
     "name": "stdout",
     "output_type": "stream",
     "text": [
      "FINISHED.\n",
      "(10, 10, 26)\n",
      "{(0, 0): [17, 52, 62, 91, 106, 114, 144, 240], (0, 1): [57, 97], (0, 2): [116, 122], (0, 3): [7, 24], (0, 4): [10, 12, 32, 115, 194, 201], (0, 5): [135, 190], (0, 6): [193, 230], (0, 7): [51, 123], (0, 8): [16, 45, 112, 253], (0, 9): [1, 50, 110, 231], (1, 0): [], (1, 1): [19, 71], (1, 2): [], (1, 3): [4, 31, 192, 200, 205, 213], (1, 4): [11, 187], (1, 5): [105, 109], (1, 6): [118], (1, 7): [25, 37, 38, 236], (1, 8): [13, 30], (1, 9): [27, 35, 49, 113, 211], (2, 0): [20, 33, 107, 108, 182, 202], (2, 1): [6, 242], (2, 2): [0, 8, 14, 181], (2, 3): [2, 117], (2, 4): [5, 104, 175, 179], (2, 5): [55, 195], (2, 6): [18, 178], (2, 7): [169], (2, 8): [29, 111, 165, 254], (2, 9): [42], (3, 0): [3], (3, 1): [21, 23, 28, 70, 77, 82], (3, 2): [9, 173], (3, 3): [41, 69, 101, 214, 222], (3, 4): [100, 143, 153, 186, 229], (3, 5): [185], (3, 6): [147], (3, 7): [145], (3, 8): [], (3, 9): [22, 40, 157, 245], (4, 0): [137, 138], (4, 1): [15, 96], (4, 2): [75, 184], (4, 3): [76, 84, 189, 244], (4, 4): [39], (4, 5): [], (4, 6): [180, 198], (4, 7): [54, 64, 141, 152, 160, 238], (4, 8): [174], (4, 9): [237], (5, 0): [67, 140, 158, 208], (5, 1): [176], (5, 2): [65, 83, 218], (5, 3): [73, 86, 142, 203, 243, 251], (5, 4): [132, 167, 255], (5, 5): [220, 235], (5, 6): [56, 151, 163], (5, 7): [44, 48], (5, 8): [46], (5, 9): [34, 60, 121, 196, 228], (6, 0): [206, 207], (6, 1): [74, 89, 183, 219], (6, 2): [68, 139], (6, 3): [43, 93], (6, 4): [47, 85, 92, 177, 188, 197], (6, 5): [170], (6, 6): [36, 88], (6, 7): [166], (6, 8): [126], (6, 9): [59, 99, 128, 217], (7, 0): [63, 136, 232, 248], (7, 1): [58, 241], (7, 2): [234], (7, 3): [191], (7, 4): [94, 156], (7, 5): [53, 168], (7, 6): [], (7, 7): [26, 159, 216], (7, 8): [], (7, 9): [80, 103, 119, 125, 127, 130, 133, 162, 199], (8, 0): [72, 149, 150, 154], (8, 1): [], (8, 2): [66, 146, 204], (8, 3): [98, 226], (8, 4): [155, 224], (8, 5): [], (8, 6): [225], (8, 7): [], (8, 8): [215], (8, 9): [], (9, 0): [148, 164, 171, 172, 247], (9, 1): [], (9, 2): [87, 239, 252], (9, 3): [95], (9, 4): [78, 90, 233, 249], (9, 5): [212, 250], (9, 6): [210, 221, 223], (9, 7): [81, 227, 246], (9, 8): [79, 134, 209], (9, 9): [61, 102, 120, 124, 129, 131, 161]}\n"
     ]
    }
   ],
   "source": [
    "import GEMA\n",
    "\n",
    "import time\n",
    "\n",
    "start=time.time()\n",
    "print(start)\n",
    "\n",
    "from sklearn import preprocessing\n",
    "map_size = 10\n",
    "period = 10000 \n",
    "learning_rate = 0.1\n",
    "print(np.isnan(psth_mat))\n",
    "normalize_data = 'none'\n",
    "datos = preprocessing.normalize(psth_mat)\n",
    "\n",
    "main_map = GEMA.Map(datos,\n",
    "                    map_size,\n",
    "                    period, \n",
    "                    initial_lr=learning_rate, \n",
    "                    initial_neighbourhood = 0,\n",
    "                    distance = 'euclidean',\n",
    "                    use_decay= False,\n",
    "                    normalization = normalize_data,\n",
    "                    presentation= 'random',\n",
    "                    weights = 'random')\n",
    "\n",
    "end=time.time()\n",
    "print(end-start)\n",
    "\n",
    "#Color SOM\n",
    "from sklearn import preprocessing\n",
    "datos_ = np.random.randint(0, 255, (100, 3))\n",
    "datos_ = preprocessing.normalize(datos_)\n",
    "main_map_colors = GEMA.Map(datos_, \n",
    "                    map_size, \n",
    "                    period, \n",
    "                    initial_lr=learning_rate, \n",
    "                    initial_neighbourhood = 0,\n",
    "                    distance = 'euclidean',\n",
    "                    use_decay= False,\n",
    "                    normalization = normalize_data,\n",
    "                    presentation= 'random',\n",
    "                    weights = 'random')\n",
    "from matplotlib.pyplot import imshow\n",
    "image_matrix = (main_map_colors.weights-main_map_colors.weights.min())/(main_map_colors.weights.max()-main_map_colors.weights.min())\n",
    "\n",
    "plt_arr=[]\n",
    "for j in range(0,10):\n",
    "    plt_lst=[]\n",
    "    for i in range(0,10):\n",
    "        plt_lst.append(main_map.weights[i,j,:])\n",
    "    plt_arr.append(plt_lst)\n",
    "plt_arr=np.array(plt_arr)\n",
    "print(plt_arr.shape)\n",
    "np.save('psth_prototypes_arr_z.npy',plt_arr)\n",
    "\n",
    "import pickle\n",
    "bmu_dct={}\n",
    "for i in range(0,10):\n",
    "    for j in range(0,10):\n",
    "        bmu_dct[(i,j)]=[]\n",
    "for k in range(0,datos.shape[0]):\n",
    "    grid_index=main_map.calculate_bmu(datos[k,:])[1]\n",
    "    bmu_dct[grid_index].append(k)\n",
    "with open('bmu_dct_z.pickle', 'wb') as handle:\n",
    "    pickle.dump(bmu_dct, handle, protocol=pickle.HIGHEST_PROTOCOL)\n",
    "print(bmu_dct)\n",
    "\n",
    "alpha_im=np.zeros((10,10,4))\n",
    "for i in range(0,10):\n",
    "    for j in range(0,10):\n",
    "        alpha_im[i,j,:3]=image_matrix[i,j,:]\n",
    "        if len(bmu_dct[(i,j)])==0:\n",
    "            alpha_im[i,j,3]=0.5\n",
    "        else:\n",
    "            alpha_im[i,j,3]=1\n",
    "            \n",
    "np.save('alpha_im_z.npy',alpha_im)"
   ]
  },
  {
   "cell_type": "code",
   "execution_count": 13,
   "id": "f3487453",
   "metadata": {},
   "outputs": [
    {
     "name": "stdout",
     "output_type": "stream",
     "text": [
      "(10, 10, 26)\n"
     ]
    }
   ],
   "source": [
    "print(image_matrix.shape)"
   ]
  },
  {
   "cell_type": "code",
   "execution_count": 15,
   "id": "2ca2a487",
   "metadata": {
    "scrolled": true
   },
   "outputs": [
    {
     "name": "stdout",
     "output_type": "stream",
     "text": [
      "{(0, 0): [17, 52, 62, 91, 106, 114, 144, 240], (0, 1): [57, 97], (0, 2): [116, 122], (0, 3): [7, 24], (0, 4): [10, 12, 32, 115, 194, 201], (0, 5): [135, 190], (0, 6): [193, 230], (0, 7): [51, 123], (0, 8): [16, 45, 112, 253], (0, 9): [1, 50, 110, 231], (1, 0): [], (1, 1): [19, 71], (1, 2): [], (1, 3): [4, 31, 192, 200, 205, 213], (1, 4): [11, 187], (1, 5): [105, 109], (1, 6): [118], (1, 7): [25, 37, 38, 236], (1, 8): [13, 30], (1, 9): [27, 35, 49, 113, 211], (2, 0): [20, 33, 107, 108, 182, 202], (2, 1): [6, 242], (2, 2): [0, 8, 14, 181], (2, 3): [2, 117], (2, 4): [5, 104, 175, 179], (2, 5): [55, 195], (2, 6): [18, 178], (2, 7): [169], (2, 8): [29, 111, 165, 254], (2, 9): [42], (3, 0): [3], (3, 1): [21, 23, 28, 70, 77, 82], (3, 2): [9, 173], (3, 3): [41, 69, 101, 214, 222], (3, 4): [100, 143, 153, 186, 229], (3, 5): [185], (3, 6): [147], (3, 7): [145], (3, 8): [], (3, 9): [22, 40, 157, 245], (4, 0): [137, 138], (4, 1): [15, 96], (4, 2): [75, 184], (4, 3): [76, 84, 189, 244], (4, 4): [39], (4, 5): [], (4, 6): [180, 198], (4, 7): [54, 64, 141, 152, 160, 238], (4, 8): [174], (4, 9): [237], (5, 0): [67, 140, 158, 208], (5, 1): [176], (5, 2): [65, 83, 218], (5, 3): [73, 86, 142, 203, 243, 251], (5, 4): [132, 167, 255], (5, 5): [220, 235], (5, 6): [56, 151, 163], (5, 7): [44, 48], (5, 8): [46], (5, 9): [34, 60, 121, 196, 228], (6, 0): [206, 207], (6, 1): [74, 89, 183, 219], (6, 2): [68, 139], (6, 3): [43, 93], (6, 4): [47, 85, 92, 177, 188, 197], (6, 5): [170], (6, 6): [36, 88], (6, 7): [166], (6, 8): [126], (6, 9): [59, 99, 128, 217], (7, 0): [63, 136, 232, 248], (7, 1): [58, 241], (7, 2): [234], (7, 3): [191], (7, 4): [94, 156], (7, 5): [53, 168], (7, 6): [], (7, 7): [26, 159, 216], (7, 8): [], (7, 9): [80, 103, 119, 125, 127, 130, 133, 162, 199], (8, 0): [72, 149, 150, 154], (8, 1): [], (8, 2): [66, 146, 204], (8, 3): [98, 226], (8, 4): [155, 224], (8, 5): [], (8, 6): [225], (8, 7): [], (8, 8): [215], (8, 9): [], (9, 0): [148, 164, 171, 172, 247], (9, 1): [], (9, 2): [87, 239, 252], (9, 3): [95], (9, 4): [78, 90, 233, 249], (9, 5): [212, 250], (9, 6): [210, 221, 223], (9, 7): [81, 227, 246], (9, 8): [79, 134, 209], (9, 9): [61, 102, 120, 124, 129, 131, 161]}\n"
     ]
    }
   ],
   "source": [
    "print(bmu_dct)"
   ]
  },
  {
   "cell_type": "code",
   "execution_count": 17,
   "id": "08e26efc",
   "metadata": {},
   "outputs": [
    {
     "name": "stdout",
     "output_type": "stream",
     "text": [
      "(10, 10, 4)\n"
     ]
    }
   ],
   "source": [
    "print(alpha_im.shape)"
   ]
  }
 ],
 "metadata": {
  "kernelspec": {
   "display_name": "Python 3 (ipykernel)",
   "language": "python",
   "name": "python3"
  },
  "language_info": {
   "codemirror_mode": {
    "name": "ipython",
    "version": 3
   },
   "file_extension": ".py",
   "mimetype": "text/x-python",
   "name": "python",
   "nbconvert_exporter": "python",
   "pygments_lexer": "ipython3",
   "version": "3.9.13"
  }
 },
 "nbformat": 4,
 "nbformat_minor": 5
}
