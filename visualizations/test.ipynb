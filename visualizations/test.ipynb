{
 "cells": [
  {
   "cell_type": "code",
   "execution_count": 6,
   "id": "29790373",
   "metadata": {
    "scrolled": true
   },
   "outputs": [
    {
     "name": "stdout",
     "output_type": "stream",
     "text": [
      "ae8787b1-4229-4d56-b0c2-566b61a25b77\n",
      "0f77ca5d-73c2-45bd-aa4c-4c5ed275dbde\n",
      "6c6b0d06-6039-4525-a74b-58cfaa1d3a60\n",
      "1d4a7bd6-296a-48b9-b20e-bd0ac80750a5\n",
      "e0928e11-2b86-4387-a203-80c77fab5d52\n",
      "196a2adf-ff83-49b2-823a-33f990049c2e\n",
      "78b4fff5-c5ec-44d9-b5f9-d59493063f00\n",
      "1ca83b26-30fc-4350-a616-c38b7d00d240\n",
      "27ef44c0-acb2-4220-b776-477d0d5abd35\n",
      "a2701b93-d8e1-47e9-a819-f1063046f3e7\n",
      "446f4724-1690-49f9-819a-2bd8e2ea88ce\n",
      "c8d46ee6-eb68-4535-8756-7c9aa32f10e4\n",
      "8928f98a-b411-497e-aa4b-aa752434686d\n",
      "3f859b5c-e73a-4044-b49e-34bb81e96715\n",
      "f819d499-8bf7-4da0-a431-15377a8319d5\n",
      "752456f3-9f47-4fbf-bd44-9d131c0f41aa\n",
      "1b9e349e-93f2-41cc-a4b5-b212d7ddc8df\n",
      "6b0b5d24-bcda-4053-a59c-beaa1fe03b8f\n",
      "d901aff5-2250-467a-b4a1-0cb9729df9e2\n",
      "5b49aca6-a6f4-4075-931a-617ad64c219c\n",
      "eacc49a9-f3a1-49f1-b87f-0972f90ee837\n",
      "3e6a97d3-3991-49e2-b346-6948cb4580fb\n",
      "1425bd6f-c625-4f6a-b237-dc5bcfc42c87\n",
      "63c70ae8-4dfb-418b-b21b-f0b1e5fba6c9\n",
      "9b528ad0-4599-4a55-9148-96cc1d93fb24\n",
      "a4747ac8-6a75-444f-b99b-696fff0243fd\n",
      "f4ffb731-8349-4fe4-806e-0232a84e52dd\n",
      "0c828385-6dd6-4842-a702-c5075f5f5e81\n",
      "e6043c7d-8f6e-4b66-8309-2ec0abac0f79\n",
      "ffef0311-8ffa-49e3-a857-b3adf6d86e12\n",
      "e45481fa-be22-4365-972c-e7404ed8ab5a\n",
      "e2b845a1-e313-4a08-bc61-a5f662ed295e\n",
      "f99ac31f-171b-4208-a55d-5644c0ad51c3\n",
      "32d27583-56aa-4510-bc03-669036edad20\n",
      "90e524a2-aa63-47ce-b5b8-1b1941a1223a\n",
      "09156021-9a1d-4e1d-ae59-48cbde3c5d42\n",
      "9a6e127b-bb07-4be2-92e2-53dd858c2762\n",
      "64977c74-9c04-437a-9ea1-50386c4996db\n",
      "6f36868f-5cc1-450c-82fa-6b9829ce0cfe\n",
      "5455a21c-1be7-4cae-ae8e-8853a8d5f55e\n",
      "111c1762-7908-47e0-9f40-2f2ee55b6505\n",
      "bda2faf5-9563-4940-a80f-ce444259e47b\n",
      "8d316998-28c3-4265-b029-e2ca82375b2f\n",
      "fa8ad50d-76f2-45fa-a52f-08fe3d942345\n",
      "2bdf206a-820f-402f-920a-9e86cd5388a4\n",
      "1b715600-0cbc-442c-bd00-5b0ac2865de1\n",
      "3537d970-f515-4786-853f-23de525e110f\n",
      "19b44992-d527-4a12-8bda-aa11379cb08c\n",
      "ebc9392c-1ecb-4b4b-a545-4e3d70d23611\n",
      "8a3a0197-b40a-449f-be55-c00b23253bbf\n",
      "58c4bf97-ec3b-45b4-9db4-d5d9515d5b00\n",
      "5dcee0eb-b34d-4652-acc3-d10afc6eae68\n",
      "19e66dc9-bf9f-430b-9d6a-acfa85de6fb7\n",
      "30af8629-7b96-45b7-8778-374720ddbc5e\n",
      "cea755db-4eee-4138-bdd6-fc23a572f5a1\n",
      "1b61b7f2-a599-4e40-abd6-3e758d2c9e25\n",
      "c7bf2d49-4937-4597-b307-9f39cb1c7b16\n"
     ]
    },
    {
     "name": "stderr",
     "output_type": "stream",
     "text": [
      "local md5 mismatch on dataset: cortexlab/Subjects/KS074/2021-11-22/001/alf/probe00/pykilosort/channels.mlapdv.npy\n"
     ]
    },
    {
     "name": "stdout",
     "output_type": "stream",
     "text": [
      "Downloading: /home/maria/Downloads/ONE/openalyx.internationalbrainlab.org/cortexlab/Subjects/KS074/2021-11-22/001/alf/probe00/pykilosort/channels.mlapdv.5a4fa6a9-d563-4531-963d-c293637025eb.npy Bytes: 4736\n"
     ]
    },
    {
     "name": "stderr",
     "output_type": "stream",
     "text": [
      "100%|█████████████████| 0.0045166015625/0.0045166015625 [00:00<00:00,  3.69s/it]"
     ]
    },
    {
     "name": "stdout",
     "output_type": "stream",
     "text": [
      "bb099402-fb31-4cfd-824e-1c97530a0875\n"
     ]
    },
    {
     "name": "stderr",
     "output_type": "stream",
     "text": [
      "\n"
     ]
    },
    {
     "name": "stdout",
     "output_type": "stream",
     "text": [
      "f27e6cd6-cdd3-4524-b8e3-8146046e2a7d\n",
      "68775ca0-b056-48d5-b6ae-a4c2a76ae48f\n",
      "8b1f4024-3d96-4ee7-95f9-8a1dfd4ce4ef\n",
      "10fac7a1-919d-4ca7-83c4-4675bd8d9416\n",
      "03d9a098-07bf-4765-88b7-85f8d8f620cc\n",
      "d57df551-6dcb-4242-9c72-b806cff5613a\n",
      "5bcafa14-71cb-42fa-8265-ce5cda1b89e0\n",
      "7502ae93-7437-4bcd-9e14-d73b51193656\n",
      "824cf03d-4012-4ab1-b499-c83a92c5589e\n",
      "537677fe-1e24-4755-948c-fa4a4e8ecce5\n",
      "51e53aff-1d5d-4182-a684-aba783d50ae5\n",
      "1f095590-6669-46c9-986b-ccaf0620c5e9\n",
      "3d59aa1a-b4ba-47fe-b9cf-741b5fdb0c7b\n",
      "93ad879a-aa42-4150-83e1-38773c9785e4\n",
      "a405053a-eb13-4aa4-850c-5a337e5dc7fd\n",
      "c51f34d8-42f6-4c9c-bb5b-669fd9c42cd9\n",
      "fc43390d-457e-463a-9fd4-b94a0a8b48f5\n",
      "64e3fb86-928c-4079-865c-b364205b502e\n",
      "288bfbf3-3700-4abe-b6e4-130b5c541e61\n",
      "6434f2f5-6bce-42b8-8563-d93d493613a2\n",
      "0802ced5-33a3-405e-8336-b65ebc5cb07c\n",
      "72982282-e493-45ee-87ce-aa45cb3a3ec1\n",
      "15948667-747b-4702-9d53-354ac70e9119\n",
      "d32876dd-8303-4720-8e7e-20678dc2fd71\n",
      "f140a2ec-fd49-4814-994a-fe3476f14e66\n",
      "58b1e920-cfc8-467e-b28b-7654a55d0977\n",
      "86b6ba67-c1db-4333-add0-f8105ea6e363\n",
      "69a0e953-a643-4f0e-bb26-dc65af3ea7d7\n",
      "821f1883-27f3-411d-afd3-fb8241bbc39a\n",
      "af55d16f-0e31-4073-bdb5-26da54914aa2\n",
      "e9fc0a2d-c69d-44d1-9fa3-314782387cae\n",
      "0cc486c3-8c7b-494d-aa04-b70e2690bcba\n",
      "d2832a38-27f6-452d-91d6-af72d794136c\n",
      "7cec9792-b8f9-4878-be7e-f08103dc0323\n",
      "88224abb-5746-431f-9c17-17d7ef806e6a\n",
      "a4a74102-2af5-45dc-9e41-ef7f5aed88be\n",
      "72cb5550-43b4-4ef0-add5-e4adfdfb5e02\n",
      "91a3353a-2da1-420d-8c7c-fad2fedfdd18\n",
      "ee212778-3903-4f5b-ac4b-a72f22debf03\n",
      "ac7d3064-7f09-48a3-88d2-e86a4eb86461\n",
      "7082d8ff-255a-47d7-a839-bf093483ec30\n",
      "fa1f26a1-eb49-4b24-917e-19f02a18ac61\n",
      "4503697e-af44-47d9-898d-4924be990240\n",
      "35ed605c-1a1a-47b1-86ff-2b56144f55af\n",
      "0a018f12-ee06-4b11-97aa-bbbff5448e9f\n",
      "6ed57216-498d-48a6-b48b-a243a34710ea\n",
      "872ce8ff-9fb3-485c-be00-bc5479e0095b\n",
      "b22f694e-4a34-4142-ab9d-2556c3487086\n",
      "30c4e2ab-dffc-499d-aae4-e51d6b3218c2\n",
      "6f6d2c8e-28be-49f4-ae4d-06be2d3148c1\n",
      "d0c91c3c-8cbb-4929-8657-31f18bffc294\n",
      "f359281f-6941-4bfd-90d4-940be22ed3c3\n",
      "71855308-7e54-41d7-a7a4-b042e78e3b4f\n",
      "8ca740c5-e7fe-430a-aa10-e74e9c3cbbe8\n",
      "5157810e-0fff-4bcf-b19d-32d4e39c7dfc\n",
      "0b7ee1b6-42db-46cd-a465-08f531366187\n",
      "113c5b6c-940e-4b21-b462-789b4c2be0e5\n",
      "71e03be6-b497-4991-a121-9416dcc1a6e7\n",
      "ab8a0899-a59f-42e4-8807-95b14056104b\n",
      "f5591ac5-311d-4fa8-9bad-029d7be9c491\n",
      "1a507308-c63a-4e02-8f32-3239a07dc578\n",
      "21d21fc3-4201-4edc-802a-c67b61952548\n",
      "dc21e80d-97d7-44ca-a729-a8e3f9b14305\n",
      "09394481-8dd2-4d5c-9327-f2753ede92d7\n",
      "aec5d3cc-4bb2-4349-80a9-0395b76f04e2\n",
      "8c2f7f4d-7346-42a4-a715-4d37a5208535\n",
      "a9138924-4395-4981-83d1-530f6ff7c8fc\n",
      "ff96bfe1-d925-4553-94b5-bf8297adf259\n",
      "83d85891-bd75-4557-91b4-1cbb5f8bfc9d\n",
      "f88d4dd4-ccd7-400e-9035-fa00be3bcfa8\n",
      "7af49c00-63dd-4fed-b2e0-1b3bd945b20b\n",
      "3f6e25ae-c007-4dc3-aa77-450fd5705046\n",
      "2c44a360-5a56-4971-8009-f469fb59de98\n",
      "9b5a1754-ac99-4d53-97d3-35c2f6638507\n",
      "73918ae1-e4fd-4c18-b132-00cb555b1ad2\n",
      "f304211a-81b1-446f-a435-25e589fe3a5a\n",
      "4aa1d525-5c7d-4c50-a147-ec53a9014812\n",
      "952870e5-f2a7-4518-9e6d-71585460f6fe\n",
      "d0ea3148-948d-4817-94f8-dcaf2342bbbe\n",
      "c728f6fd-58e2-448d-aefb-a72c637b604c\n",
      "25d1920e-a2af-4b6c-9f2e-fc6c65576544\n",
      "9545aa05-3945-4054-a5c3-a259f7209d61\n",
      "d3a2b25e-46d3-4f0b-ade6-4e32255f4c35\n",
      "0cad7ea8-8e6c-4ad1-a5c5-53fbb2df1a63\n",
      "781b35fd-e1f0-4d14-b2bb-95b7263082bb\n",
      "5285c561-80da-4563-8694-739da92e5dd0\n",
      "f1db6257-85ef-4385-b415-2d078ec75df2\n",
      "d9f0c293-df4c-410a-846d-842e47c6b502\n",
      "3638d102-e8b6-4230-8742-e548cd87a949\n",
      "a6fe44a8-07ab-49b8-81f9-e18575aa85cc\n",
      "e5c75b62-6871-4135-b3d0-f6464c2d90c0\n",
      "571d3ffe-54a5-473d-a265-5dc373eb7efc\n",
      "9468fa93-21ae-4984-955c-e8402e280c83\n",
      "aa3432cd-62bd-40bc-bc1c-a12d53bcbdcf\n",
      "dfbe628d-365b-461c-a07f-8b9911ba83aa\n",
      "9e9c6fc0-4769-4d83-9ea4-b59a1230510e\n",
      "69c9a415-f7fa-4208-887b-1417c1479b48\n",
      "0ac8d013-b91e-4732-bc7b-a1164ff3e445\n",
      "c4432264-e1ae-446f-8a07-6280abade813\n",
      "d7e60cc3-6020-429e-a654-636c6cc677ea\n",
      "360eac0c-7d2d-4cc1-9dcf-79fc7afc56e7\n",
      "81a1dca0-cc90-47c5-afe3-c277319c47c8\n",
      "875c1e5c-f7ec-45ac-ab82-ecfe7276a707\n",
      "dac3a4c1-b666-4de0-87e8-8c514483cacf\n",
      "07dc4b76-5b93-4a03-82a0-b3d9cc73f412\n",
      "493170a6-fd94-4ee4-884f-cc018c17eeb9\n",
      "8c552ddc-813e-4035-81cc-3971b57efe65\n",
      "032452e9-1886-449d-9c13-0f192572e19f\n",
      "75b6b132-d998-4fba-8482-961418ac957d\n",
      "239cdbb1-68e2-4eb0-91d8-ae5ae4001c7a\n",
      "63f3dbc1-1a5f-44e5-98dd-ce25cd2b7871\n",
      "5d6aa933-4b00-4e99-ae2d-5003657592e9\n",
      "09b2c4d1-058d-4c84-9fd4-97530f85baf6\n",
      "56bc129c-6265-407a-a208-cc16d20a6c01\n",
      "f84045b0-ce09-4ace-9d11-5ea491620707\n",
      "7cb81727-2097-4b52-b480-c89867b5b34c\n",
      "5b609f9b-75cb-43d3-9c39-b5b4b7a0db67\n",
      "22e04698-b974-4805-b241-3b547dbf37bf\n",
      "5569f363-0934-464e-9a5b-77c8e67791a1\n",
      "746d1902-fa59-4cab-b0aa-013be36060d5\n",
      "1928bf72-2002-46a6-8930-728420402e01\n",
      "77e6dc6a-66ed-433c-b1a2-778c914f523c\n",
      "cde63527-7f5a-4cc3-8ac2-215d82e7da26\n",
      "7416f387-b302-4ca3-8daf-03b585a1b7ec\n",
      "7691eeb3-715b-4571-8fda-6bb57aab8253\n",
      "fc14c0d6-51cf-48ba-b326-56ed5a9420c3\n",
      "45ef6691-7b80-4a43-bd1a-85fc00851ae8\n",
      "e8b4fda3-7fe4-4706-8ec2-91036cfee6bd\n",
      "54238fd6-d2d0-4408-b1a9-d19d24fd29ce\n",
      "6bb5da8f-6858-4fdd-96d9-c34b3b841593\n",
      "671c7ea7-6726-4fbe-adeb-f89c2c8e489b\n",
      "eebacd5a-7dcd-4ba6-9dff-ec2a4d2f19e0\n",
      "6c6983ef-7383-4989-9183-32b1a300d17a\n",
      "91796ceb-e314-4859-9a1f-092f85cc846a\n",
      "2e22c1fc-eec6-4856-85a0-7dba8668f646\n",
      "56b57c38-2699-4091-90a8-aba35103155e\n",
      "e26c6001-defe-42a9-9ded-368e3f03ac61\n",
      "948fd27b-507b-41b3-bdf8-f9f5f0af8e0b\n",
      "e012d3e3-fdbc-4661-9ffa-5fa284e4e706\n",
      "26aa51ff-968c-42e4-85c8-8ff47d19254d\n",
      "9fe512b8-92a8-4642-83b6-01158ab66c3c\n",
      "a52f5a1b-7f45-4f2c-89a9-fb199d2a0d63\n",
      "9eec761e-9762-4897-b308-a3a08c311e69\n",
      "f7335a49-4a98-46d2-a8ce-d041d2eac1d6\n",
      "4a45c8ba-db6f-4f11-9403-56e06a33dfa4\n",
      "7b26ce84-07f9-43d1-957f-bc72aeb730a3\n",
      "4ecb5d24-f5cc-402c-be28-9d0f7cb14b3a\n",
      "754b74d5-7a06-4004-ae0c-72a10b6ed2e6\n",
      "c6db3304-c906-400c-aa0f-45dd3945b2ea\n",
      "88d24c31-52e4-49cc-9f32-6adbeb9eba87\n",
      "c7bd79c9-c47e-4ea5-aea3-74dda991b48e\n",
      "6fb1e12c-883b-46d1-a745-473cde3232c8\n",
      "695a6073-eae0-49e0-bb0f-e9e57a9275b9\n",
      "fece187f-b47f-4870-a1d6-619afe942a7d\n",
      "6f09ba7e-e3ce-44b0-932b-c003fb44fb89\n",
      "993c7024-0abc-4028-ad30-d397ad55b084\n",
      "Downloading: /home/maria/Downloads/ONE/openalyx.internationalbrainlab.org/zadorlab/Subjects/CSH_ZAD_029/2020-09-16/001/alf/probe00/pykilosort/channels.mlapdv.d80ba81e-b6d7-476e-9061-783b86b49ea6.npy Bytes: 4736\n"
     ]
    },
    {
     "name": "stderr",
     "output_type": "stream",
     "text": [
      "100%|█████████████████| 0.0045166015625/0.0045166015625 [00:00<00:00,  1.06s/it]"
     ]
    },
    {
     "name": "stdout",
     "output_type": "stream",
     "text": [
      "f3ce3197-d534-4618-bf81-b687555d1883\n",
      "251ece37-7798-477c-8a06-2845d4aa270c\n"
     ]
    },
    {
     "name": "stderr",
     "output_type": "stream",
     "text": [
      "\n"
     ]
    },
    {
     "name": "stdout",
     "output_type": "stream",
     "text": [
      "Downloading: /home/maria/Downloads/ONE/openalyx.internationalbrainlab.org/danlab/Subjects/DY_016/2020-09-15/001/alf/probe00/pykilosort/channels.mlapdv.88ffa687-e259-429e-b324-5b4e75f69667.npy Bytes: 4736\n"
     ]
    },
    {
     "name": "stderr",
     "output_type": "stream",
     "text": [
      "100%|█████████████████| 0.0045166015625/0.0045166015625 [00:00<00:00,  1.05s/it]"
     ]
    },
    {
     "name": "stdout",
     "output_type": "stream",
     "text": [
      "5522ac4b-0e41-4c53-836a-aaa17e82b9eb\n"
     ]
    },
    {
     "name": "stderr",
     "output_type": "stream",
     "text": [
      "\n"
     ]
    },
    {
     "name": "stdout",
     "output_type": "stream",
     "text": [
      "Downloading: /home/maria/Downloads/ONE/openalyx.internationalbrainlab.org/zadorlab/Subjects/CSH_ZAD_029/2020-09-15/001/alf/probe00/pykilosort/channels.mlapdv.0cf6caa3-6bfd-4ad2-bcbd-61dd0e23ae70.npy Bytes: 4736\n"
     ]
    },
    {
     "name": "stderr",
     "output_type": "stream",
     "text": [
      "100%|█████████████████| 0.0045166015625/0.0045166015625 [00:00<00:00,  1.28it/s]"
     ]
    },
    {
     "name": "stdout",
     "output_type": "stream",
     "text": [
      "aa20388b-9ea3-4506-92f1-3c2be84b85db\n"
     ]
    },
    {
     "name": "stderr",
     "output_type": "stream",
     "text": [
      "\n"
     ]
    },
    {
     "name": "stdout",
     "output_type": "stream",
     "text": [
      "Downloading: /home/maria/Downloads/ONE/openalyx.internationalbrainlab.org/danlab/Subjects/DY_016/2020-09-14/001/alf/probe00/pykilosort/channels.mlapdv.fcd67ba6-9d3d-414c-aa78-88ea5029bac0.npy Bytes: 4736\n"
     ]
    },
    {
     "name": "stderr",
     "output_type": "stream",
     "text": [
      "100%|█████████████████| 0.0045166015625/0.0045166015625 [00:00<00:00,  1.10s/it]"
     ]
    },
    {
     "name": "stdout",
     "output_type": "stream",
     "text": [
      "fcd49e34-f07b-441c-b2ac-cb8c462ec5ac\n"
     ]
    },
    {
     "name": "stderr",
     "output_type": "stream",
     "text": [
      "\n"
     ]
    },
    {
     "name": "stdout",
     "output_type": "stream",
     "text": [
      "Downloading: /home/maria/Downloads/ONE/openalyx.internationalbrainlab.org/zadorlab/Subjects/CSH_ZAD_029/2020-09-14/001/alf/probe00/pykilosort/channels.mlapdv.b8ed5dfa-b2d0-45aa-ab14-1bab655a445d.npy Bytes: 4736\n"
     ]
    },
    {
     "name": "stderr",
     "output_type": "stream",
     "text": [
      "100%|█████████████████| 0.0045166015625/0.0045166015625 [00:00<00:00,  1.51s/it]"
     ]
    },
    {
     "name": "stdout",
     "output_type": "stream",
     "text": [
      "c3d9b6fb-7fa9-4413-a364-92a54df0fc5d\n"
     ]
    },
    {
     "name": "stderr",
     "output_type": "stream",
     "text": [
      "\n"
     ]
    },
    {
     "name": "stdout",
     "output_type": "stream",
     "text": [
      "Downloading: /home/maria/Downloads/ONE/openalyx.internationalbrainlab.org/danlab/Subjects/DY_016/2020-09-13/001/alf/probe00/pykilosort/channels.mlapdv.c4985c44-cc51-40ee-bcd8-1c09f79f1058.npy Bytes: 4736\n"
     ]
    },
    {
     "name": "stderr",
     "output_type": "stream",
     "text": [
      "100%|█████████████████| 0.0045166015625/0.0045166015625 [00:00<00:00,  1.10s/it]"
     ]
    },
    {
     "name": "stdout",
     "output_type": "stream",
     "text": [
      "1ec23a70-b94b-4e9c-a0df-8c2151da3761\n"
     ]
    },
    {
     "name": "stderr",
     "output_type": "stream",
     "text": [
      "\n"
     ]
    },
    {
     "name": "stdout",
     "output_type": "stream",
     "text": [
      "Downloading: /home/maria/Downloads/ONE/openalyx.internationalbrainlab.org/zadorlab/Subjects/CSH_ZAD_029/2020-09-13/001/alf/probe00/pykilosort/channels.mlapdv.3c014e1c-d60b-4ef8-9802-627f55902a8e.npy Bytes: 4736\n"
     ]
    },
    {
     "name": "stderr",
     "output_type": "stream",
     "text": [
      "100%|█████████████████| 0.0045166015625/0.0045166015625 [00:00<00:00,  1.02s/it]"
     ]
    },
    {
     "name": "stdout",
     "output_type": "stream",
     "text": [
      "d23a44ef-1402-4ed7-97f5-47e9a7a504d9\n"
     ]
    },
    {
     "name": "stderr",
     "output_type": "stream",
     "text": [
      "\n"
     ]
    },
    {
     "name": "stdout",
     "output_type": "stream",
     "text": [
      "Downloading: /home/maria/Downloads/ONE/openalyx.internationalbrainlab.org/danlab/Subjects/DY_016/2020-09-12/001/alf/probe00/pykilosort/channels.mlapdv.342a1ecb-ee0d-4e04-892c-99e4f30c0dd9.npy Bytes: 4736\n"
     ]
    },
    {
     "name": "stderr",
     "output_type": "stream",
     "text": [
      "100%|█████████████████| 0.0045166015625/0.0045166015625 [00:00<00:00,  1.08it/s]"
     ]
    },
    {
     "name": "stdout",
     "output_type": "stream",
     "text": [
      "5339812f-8b91-40ba-9d8f-a559563cc46b\n"
     ]
    },
    {
     "name": "stderr",
     "output_type": "stream",
     "text": [
      "\n"
     ]
    },
    {
     "name": "stdout",
     "output_type": "stream",
     "text": [
      "Downloading: /home/maria/Downloads/ONE/openalyx.internationalbrainlab.org/danlab/Subjects/DY_016/2020-09-11/001/alf/probe00/pykilosort/channels.mlapdv.924485c1-0123-4f48-89ef-aaf1600390da.npy Bytes: 4736\n"
     ]
    },
    {
     "name": "stderr",
     "output_type": "stream",
     "text": [
      "100%|█████████████████| 0.0045166015625/0.0045166015625 [00:00<00:00,  1.47it/s]"
     ]
    },
    {
     "name": "stdout",
     "output_type": "stream",
     "text": [
      "e349a2e7-50a3-47ca-bc45-20d1899854ec\n"
     ]
    },
    {
     "name": "stderr",
     "output_type": "stream",
     "text": [
      "\n"
     ]
    },
    {
     "name": "stdout",
     "output_type": "stream",
     "text": [
      "Downloading: /home/maria/Downloads/ONE/openalyx.internationalbrainlab.org/zadorlab/Subjects/CSH_ZAD_029/2020-09-11/001/alf/probe00/pykilosort/channels.mlapdv.c44bbef8-20c6-4622-9665-f639c9a2fb03.npy Bytes: 4736\n"
     ]
    },
    {
     "name": "stderr",
     "output_type": "stream",
     "text": [
      "100%|█████████████████| 0.0045166015625/0.0045166015625 [00:00<00:00,  1.00s/it]"
     ]
    },
    {
     "name": "stdout",
     "output_type": "stream",
     "text": [
      "768a371d-7e88-47f8-bf21-4a6a6570dd6e\n"
     ]
    },
    {
     "name": "stderr",
     "output_type": "stream",
     "text": [
      "\n"
     ]
    },
    {
     "name": "stdout",
     "output_type": "stream",
     "text": [
      "Downloading: /home/maria/Downloads/ONE/openalyx.internationalbrainlab.org/mrsicflogellab/Subjects/SWC_039/2020-09-10/001/alf/probe00/pykilosort/channels.mlapdv.7c6827ed-3f99-4ece-9860-8f8e0b3f152c.npy Bytes: 4736\n"
     ]
    },
    {
     "name": "stderr",
     "output_type": "stream",
     "text": [
      "100%|█████████████████| 0.0045166015625/0.0045166015625 [00:00<00:00,  1.02it/s]"
     ]
    },
    {
     "name": "stdout",
     "output_type": "stream",
     "text": [
      "064a7252-8e10-4ad6-b3fd-7a88a2db5463\n"
     ]
    },
    {
     "name": "stderr",
     "output_type": "stream",
     "text": [
      "\n"
     ]
    },
    {
     "name": "stdout",
     "output_type": "stream",
     "text": [
      "Downloading: /home/maria/Downloads/ONE/openalyx.internationalbrainlab.org/zadorlab/Subjects/CSH_ZAD_029/2020-09-09/001/alf/probe00/pykilosort/channels.mlapdv.7a9242e2-3d79-4672-adae-8bbedf724b53.npy Bytes: 4736\n"
     ]
    },
    {
     "name": "stderr",
     "output_type": "stream",
     "text": [
      "100%|█████████████████| 0.0045166015625/0.0045166015625 [00:00<00:00,  1.10s/it]"
     ]
    },
    {
     "name": "stdout",
     "output_type": "stream",
     "text": [
      "15763234-d21e-491f-a01b-1238eb96d389\n"
     ]
    },
    {
     "name": "stderr",
     "output_type": "stream",
     "text": [
      "\n"
     ]
    },
    {
     "name": "stdout",
     "output_type": "stream",
     "text": [
      "Downloading: /home/maria/Downloads/ONE/openalyx.internationalbrainlab.org/zadorlab/Subjects/CSH_ZAD_026/2020-09-04/001/alf/probe00/pykilosort/channels.mlapdv.bad7ad39-c7a2-4979-94ba-8cfbaf6f7d89.npy Bytes: 4736\n"
     ]
    },
    {
     "name": "stderr",
     "output_type": "stream",
     "text": [
      "100%|█████████████████| 0.0045166015625/0.0045166015625 [00:00<00:00,  1.12s/it]"
     ]
    },
    {
     "name": "stdout",
     "output_type": "stream",
     "text": [
      "a7763417-e0d6-4f2a-aa55-e382fd9b5fb8\n"
     ]
    },
    {
     "name": "stderr",
     "output_type": "stream",
     "text": [
      "\n"
     ]
    },
    {
     "name": "stdout",
     "output_type": "stream",
     "text": [
      "Downloading: /home/maria/Downloads/ONE/openalyx.internationalbrainlab.org/wittenlab/Subjects/ibl_witten_20/2020-09-03/001/alf/probe00/pykilosort/channels.mlapdv.f0040757-0c60-4a49-8f2f-f58db21a0d11.npy Bytes: 4736\n"
     ]
    },
    {
     "name": "stderr",
     "output_type": "stream",
     "text": [
      "100%|█████████████████| 0.0045166015625/0.0045166015625 [00:00<00:00,  1.07s/it]"
     ]
    },
    {
     "name": "stdout",
     "output_type": "stream",
     "text": [
      "4ef13091-1bc8-4f32-9619-107bdf48540c\n"
     ]
    },
    {
     "name": "stderr",
     "output_type": "stream",
     "text": [
      "\n"
     ]
    },
    {
     "name": "stdout",
     "output_type": "stream",
     "text": [
      "Downloading: /home/maria/Downloads/ONE/openalyx.internationalbrainlab.org/wittenlab/Subjects/ibl_witten_18/2020-09-02/001/alf/probe00/pykilosort/channels.mlapdv.00f56657-14da-41a9-830c-338fcb7a4115.npy Bytes: 4736\n"
     ]
    },
    {
     "name": "stderr",
     "output_type": "stream",
     "text": [
      "100%|█████████████████| 0.0045166015625/0.0045166015625 [00:00<00:00,  2.45it/s]"
     ]
    },
    {
     "name": "stdout",
     "output_type": "stream",
     "text": [
      "cae5cd75-55e5-4277-8db3-cf4d6c5ff918\n"
     ]
    },
    {
     "name": "stderr",
     "output_type": "stream",
     "text": [
      "\n"
     ]
    },
    {
     "name": "stdout",
     "output_type": "stream",
     "text": [
      "Downloading: /home/maria/Downloads/ONE/openalyx.internationalbrainlab.org/wittenlab/Subjects/ibl_witten_18/2020-09-01/004/alf/probe00/pykilosort/channels.mlapdv.47c5d44e-4b7b-4c09-935f-14722044c6cb.npy Bytes: 4736\n"
     ]
    },
    {
     "name": "stderr",
     "output_type": "stream",
     "text": [
      "100%|█████████████████| 0.0045166015625/0.0045166015625 [00:00<00:00,  1.01s/it]"
     ]
    },
    {
     "name": "stdout",
     "output_type": "stream",
     "text": [
      "ebe2efe3-e8a1-451a-8947-76ef42427cc9\n"
     ]
    },
    {
     "name": "stderr",
     "output_type": "stream",
     "text": [
      "\n"
     ]
    },
    {
     "name": "stdout",
     "output_type": "stream",
     "text": [
      "Downloading: /home/maria/Downloads/ONE/openalyx.internationalbrainlab.org/angelakilab/Subjects/NYU-21/2020-08-19/001/alf/probe00/pykilosort/channels.mlapdv.2ce1df58-5164-4a6a-8bb4-dc638391ce22.npy Bytes: 4736\n"
     ]
    },
    {
     "name": "stderr",
     "output_type": "stream",
     "text": [
      "100%|█████████████████| 0.0045166015625/0.0045166015625 [00:00<00:00,  1.23it/s]"
     ]
    },
    {
     "name": "stdout",
     "output_type": "stream",
     "text": [
      "b69b86be-af7d-4ecf-8cbf-0cd356afa1bd\n"
     ]
    },
    {
     "name": "stderr",
     "output_type": "stream",
     "text": [
      "\n"
     ]
    },
    {
     "name": "stdout",
     "output_type": "stream",
     "text": [
      "Downloading: /home/maria/Downloads/ONE/openalyx.internationalbrainlab.org/zadorlab/Subjects/CSH_ZAD_026/2020-08-19/001/alf/probe00/pykilosort/channels.mlapdv.a5893849-24e9-4a13-8a83-f4a8891adec1.npy Bytes: 4736\n"
     ]
    },
    {
     "name": "stderr",
     "output_type": "stream",
     "text": [
      "100%|█████████████████| 0.0045166015625/0.0045166015625 [00:00<00:00,  1.11s/it]"
     ]
    },
    {
     "name": "stdout",
     "output_type": "stream",
     "text": [
      "edd22318-216c-44ff-bc24-49ce8be78374\n"
     ]
    },
    {
     "name": "stderr",
     "output_type": "stream",
     "text": [
      "\n"
     ]
    },
    {
     "name": "stdout",
     "output_type": "stream",
     "text": [
      "Downloading: /home/maria/Downloads/ONE/openalyx.internationalbrainlab.org/zadorlab/Subjects/CSH_ZAD_019/2020-08-19/001/alf/probe00/pykilosort/channels.mlapdv.e5c8e6d4-02b4-4b45-8d5a-70f12760fcb5.npy Bytes: 4736\n"
     ]
    },
    {
     "name": "stderr",
     "output_type": "stream",
     "text": [
      "100%|█████████████████| 0.0045166015625/0.0045166015625 [00:00<00:00,  2.05it/s]"
     ]
    },
    {
     "name": "stdout",
     "output_type": "stream",
     "text": [
      "71e55bfe-5a3a-4cba-bdc7-f085140d798e\n"
     ]
    },
    {
     "name": "stderr",
     "output_type": "stream",
     "text": [
      "\n"
     ]
    },
    {
     "name": "stdout",
     "output_type": "stream",
     "text": [
      "Downloading: /home/maria/Downloads/ONE/openalyx.internationalbrainlab.org/angelakilab/Subjects/NYU-26/2020-08-18/001/alf/probe00/pykilosort/channels.mlapdv.77578fec-1083-44ed-b2ff-4cb04b977301.npy Bytes: 4736\n"
     ]
    },
    {
     "name": "stderr",
     "output_type": "stream",
     "text": [
      "100%|█████████████████| 0.0045166015625/0.0045166015625 [00:00<00:00,  1.18s/it]"
     ]
    },
    {
     "name": "stdout",
     "output_type": "stream",
     "text": [
      "626126d5-eecf-4e9b-900e-ec29a17ece07\n"
     ]
    },
    {
     "name": "stderr",
     "output_type": "stream",
     "text": [
      "\n"
     ]
    },
    {
     "name": "stdout",
     "output_type": "stream",
     "text": [
      "Downloading: /home/maria/Downloads/ONE/openalyx.internationalbrainlab.org/zadorlab/Subjects/CSH_ZAD_026/2020-08-18/001/alf/probe00/pykilosort/channels.mlapdv.930a17b4-beca-4393-8af9-ba4b540cec6c.npy Bytes: 4736\n"
     ]
    },
    {
     "name": "stderr",
     "output_type": "stream",
     "text": [
      "100%|█████████████████| 0.0045166015625/0.0045166015625 [00:00<00:00,  1.06s/it]"
     ]
    },
    {
     "name": "stdout",
     "output_type": "stream",
     "text": [
      "49e0ab27-827a-4c91-bcaa-97eea27a1b8d\n"
     ]
    },
    {
     "name": "stderr",
     "output_type": "stream",
     "text": [
      "\n"
     ]
    },
    {
     "name": "stdout",
     "output_type": "stream",
     "text": [
      "Downloading: /home/maria/Downloads/ONE/openalyx.internationalbrainlab.org/zadorlab/Subjects/CSH_ZAD_019/2020-08-18/001/alf/probe00/pykilosort/channels.mlapdv.a7be2e72-2a50-4b33-a35a-ebeee5ca2af6.npy Bytes: 4736\n"
     ]
    },
    {
     "name": "stderr",
     "output_type": "stream",
     "text": [
      "100%|█████████████████| 0.0045166015625/0.0045166015625 [00:00<00:00,  1.20s/it]"
     ]
    },
    {
     "name": "stdout",
     "output_type": "stream",
     "text": [
      "81a78eac-9d36-4f90-a73a-7eb3ad7f770b\n"
     ]
    },
    {
     "name": "stderr",
     "output_type": "stream",
     "text": [
      "\n"
     ]
    },
    {
     "name": "stdout",
     "output_type": "stream",
     "text": [
      "Downloading: /home/maria/Downloads/ONE/openalyx.internationalbrainlab.org/zadorlab/Subjects/CSH_ZAD_026/2020-08-17/001/alf/probe00/pykilosort/channels.mlapdv.7670c241-15df-42de-a05f-0e25a2273083.npy Bytes: 4736\n"
     ]
    },
    {
     "name": "stderr",
     "output_type": "stream",
     "text": [
      "100%|█████████████████| 0.0045166015625/0.0045166015625 [00:00<00:00,  1.01it/s]"
     ]
    },
    {
     "name": "stdout",
     "output_type": "stream",
     "text": [
      "5adab0b7-dfd0-467d-b09d-43cb7ca5d59c\n"
     ]
    },
    {
     "name": "stderr",
     "output_type": "stream",
     "text": [
      "\n"
     ]
    },
    {
     "name": "stdout",
     "output_type": "stream",
     "text": [
      "Downloading: /home/maria/Downloads/ONE/openalyx.internationalbrainlab.org/zadorlab/Subjects/CSH_ZAD_019/2020-08-16/001/alf/probe00/pykilosort/channels.mlapdv.c7e77dfc-2407-4938-b682-e939ac1f9cba.npy Bytes: 4736\n"
     ]
    },
    {
     "name": "stderr",
     "output_type": "stream",
     "text": [
      "100%|█████████████████| 0.0045166015625/0.0045166015625 [00:00<00:00,  1.06it/s]"
     ]
    },
    {
     "name": "stdout",
     "output_type": "stream",
     "text": [
      "e56541a5-a6d5-4750-b1fe-f6b5257bfe7c\n"
     ]
    },
    {
     "name": "stderr",
     "output_type": "stream",
     "text": [
      "\n"
     ]
    },
    {
     "name": "stdout",
     "output_type": "stream",
     "text": [
      "Downloading: /home/maria/Downloads/ONE/openalyx.internationalbrainlab.org/zadorlab/Subjects/CSH_ZAD_026/2020-08-15/001/alf/probe00/pykilosort/channels.mlapdv.88b6c76b-4de2-4096-8743-0ba82e6ba713.npy Bytes: 4736\n"
     ]
    },
    {
     "name": "stderr",
     "output_type": "stream",
     "text": [
      "100%|█████████████████| 0.0045166015625/0.0045166015625 [00:00<00:00,  2.66it/s]"
     ]
    },
    {
     "name": "stdout",
     "output_type": "stream",
     "text": [
      "5d01d14e-aced-4465-8f8e-9a1c674f62ec\n"
     ]
    },
    {
     "name": "stderr",
     "output_type": "stream",
     "text": [
      "\n"
     ]
    },
    {
     "name": "stdout",
     "output_type": "stream",
     "text": [
      "Downloading: /home/maria/Downloads/ONE/openalyx.internationalbrainlab.org/zadorlab/Subjects/CSH_ZAD_026/2020-08-14/002/alf/probe00/pykilosort/channels.mlapdv.e1eb079a-2247-4ac0-b419-0ec38b171d89.npy Bytes: 4736\n"
     ]
    },
    {
     "name": "stderr",
     "output_type": "stream",
     "text": [
      "100%|█████████████████| 0.0045166015625/0.0045166015625 [00:00<00:00,  1.12s/it]"
     ]
    },
    {
     "name": "stdout",
     "output_type": "stream",
     "text": [
      "7f6b86f9-879a-4ea2-8531-294a221af5d0\n"
     ]
    },
    {
     "name": "stderr",
     "output_type": "stream",
     "text": [
      "\n"
     ]
    },
    {
     "name": "stdout",
     "output_type": "stream",
     "text": [
      "Downloading: /home/maria/Downloads/ONE/openalyx.internationalbrainlab.org/zadorlab/Subjects/CSH_ZAD_019/2020-08-14/001/alf/probe00/pykilosort/channels.mlapdv.58d3378f-d63e-4f5a-9007-37cd403bdac7.npy Bytes: 4736\n"
     ]
    },
    {
     "name": "stderr",
     "output_type": "stream",
     "text": [
      "100%|█████████████████| 0.0045166015625/0.0045166015625 [00:00<00:00,  1.06it/s]"
     ]
    },
    {
     "name": "stdout",
     "output_type": "stream",
     "text": [
      "8c33abef-3d3e-4d42-9f27-445e9def08f9\n",
      "c557324b-b95d-414c-888f-6ee1329a2329\n"
     ]
    },
    {
     "name": "stderr",
     "output_type": "stream",
     "text": [
      "\n"
     ]
    },
    {
     "name": "stdout",
     "output_type": "stream",
     "text": [
      "Downloading: /home/maria/Downloads/ONE/openalyx.internationalbrainlab.org/zadorlab/Subjects/CSH_ZAD_025/2020-08-12/001/alf/probe00/pykilosort/channels.mlapdv.238a01d3-b0e1-48ce-906d-dfa5e09ddac9.npy Bytes: 4736\n"
     ]
    },
    {
     "name": "stderr",
     "output_type": "stream",
     "text": [
      "100%|█████████████████| 0.0045166015625/0.0045166015625 [00:00<00:00,  1.04s/it]"
     ]
    },
    {
     "name": "stdout",
     "output_type": "stream",
     "text": [
      "61e11a11-ab65-48fb-ae08-3cb80662e5d6\n"
     ]
    },
    {
     "name": "stderr",
     "output_type": "stream",
     "text": [
      "\n"
     ]
    },
    {
     "name": "stdout",
     "output_type": "stream",
     "text": [
      "Downloading: /home/maria/Downloads/ONE/openalyx.internationalbrainlab.org/angelakilab/Subjects/NYU-21/2020-08-10/002/alf/probe00/pykilosort/channels.mlapdv.58d90560-7f6d-48c4-a4df-67a28cf783d3.npy Bytes: 4736\n"
     ]
    },
    {
     "name": "stderr",
     "output_type": "stream",
     "text": [
      "100%|█████████████████| 0.0045166015625/0.0045166015625 [00:00<00:00,  1.16it/s]"
     ]
    },
    {
     "name": "stdout",
     "output_type": "stream",
     "text": [
      "c7248e09-8c0d-40f2-9eb4-700a8973d8c8\n"
     ]
    },
    {
     "name": "stderr",
     "output_type": "stream",
     "text": [
      "\n"
     ]
    },
    {
     "name": "stdout",
     "output_type": "stream",
     "text": [
      "Downloading: /home/maria/Downloads/ONE/openalyx.internationalbrainlab.org/mainenlab/Subjects/ZM_3001/2020-08-05/001/alf/probe00/pykilosort/channels.mlapdv.e2415ccd-0a1b-4b6c-9943-d33268980b63.npy Bytes: 4736\n"
     ]
    },
    {
     "name": "stderr",
     "output_type": "stream",
     "text": [
      "100%|█████████████████| 0.0045166015625/0.0045166015625 [00:00<00:00,  1.04it/s]"
     ]
    },
    {
     "name": "stdout",
     "output_type": "stream",
     "text": [
      "280ee768-f7b8-4c6c-9ea0-48ca75d6b6f3\n"
     ]
    },
    {
     "name": "stderr",
     "output_type": "stream",
     "text": [
      "\n"
     ]
    },
    {
     "name": "stdout",
     "output_type": "stream",
     "text": [
      "Downloading: /home/maria/Downloads/ONE/openalyx.internationalbrainlab.org/zadorlab/Subjects/CSH_ZAD_025/2020-08-04/002/alf/probe00/pykilosort/channels.mlapdv.45b8b43a-5080-4bd2-b06a-840e82124532.npy Bytes: 4736\n"
     ]
    },
    {
     "name": "stderr",
     "output_type": "stream",
     "text": [
      "100%|█████████████████| 0.0045166015625/0.0045166015625 [00:00<00:00,  1.22s/it]"
     ]
    },
    {
     "name": "stdout",
     "output_type": "stream",
     "text": [
      "ff48aa1d-ef30-4903-ac34-8c41b738c1b9\n",
      "03063955-2523-47bd-ae57-f7489dd40f15\n",
      "1e45d992-c356-40e1-9be1-a506d944896f\n"
     ]
    },
    {
     "name": "stderr",
     "output_type": "stream",
     "text": [
      "\n"
     ]
    },
    {
     "name": "stdout",
     "output_type": "stream",
     "text": [
      "Downloading: /home/maria/Downloads/ONE/openalyx.internationalbrainlab.org/mrsicflogellab/Subjects/SWC_038/2020-07-31/001/alf/probe00/pykilosort/channels.mlapdv.17f40c6a-6a02-496c-b14f-0ef50e385ce3.npy Bytes: 4736\n"
     ]
    },
    {
     "name": "stderr",
     "output_type": "stream",
     "text": [
      "100%|█████████████████| 0.0045166015625/0.0045166015625 [00:00<00:00,  1.09s/it]"
     ]
    },
    {
     "name": "stdout",
     "output_type": "stream",
     "text": [
      "4d8c7767-981c-4347-8e5e-5d5fffe38534\n"
     ]
    },
    {
     "name": "stderr",
     "output_type": "stream",
     "text": [
      "\n"
     ]
    },
    {
     "name": "stdout",
     "output_type": "stream",
     "text": [
      "Downloading: /home/maria/Downloads/ONE/openalyx.internationalbrainlab.org/mrsicflogellab/Subjects/SWC_038/2020-07-30/001/alf/probe00/pykilosort/channels.mlapdv.aac834b8-6523-4779-b605-c998e53d6dbd.npy Bytes: 4736\n"
     ]
    },
    {
     "name": "stderr",
     "output_type": "stream",
     "text": [
      "100%|█████████████████| 0.0045166015625/0.0045166015625 [00:00<00:00,  1.00s/it]"
     ]
    },
    {
     "name": "stdout",
     "output_type": "stream",
     "text": [
      "6274dda8-3a59-4aa1-95f8-a8a549c46a26\n"
     ]
    },
    {
     "name": "stderr",
     "output_type": "stream",
     "text": [
      "\n"
     ]
    },
    {
     "name": "stdout",
     "output_type": "stream",
     "text": [
      "Downloading: /home/maria/Downloads/ONE/openalyx.internationalbrainlab.org/zadorlab/Subjects/CSH_ZAD_025/2020-07-30/001/alf/probe00/pykilosort/channels.mlapdv.559ba683-0f54-4413-9f45-57a80cb5d9bd.npy Bytes: 4736\n"
     ]
    },
    {
     "name": "stderr",
     "output_type": "stream",
     "text": [
      "100%|█████████████████| 0.0045166015625/0.0045166015625 [00:00<00:00,  1.07it/s]"
     ]
    },
    {
     "name": "stdout",
     "output_type": "stream",
     "text": [
      "41872d7f-75cb-4445-bb1a-132b354c44f0\n",
      "fe1fd79f-b051-411f-a0a9-2530a02cc78d\n"
     ]
    },
    {
     "name": "stderr",
     "output_type": "stream",
     "text": [
      "\n"
     ]
    },
    {
     "name": "stdout",
     "output_type": "stream",
     "text": [
      "Downloading: /home/maria/Downloads/ONE/openalyx.internationalbrainlab.org/mainenlab/Subjects/ZM_3003/2020-07-28/001/alf/probe00/pykilosort/channels.mlapdv.4d128290-28c6-4a2a-b474-31d834d98adb.npy Bytes: 4736\n"
     ]
    },
    {
     "name": "stderr",
     "output_type": "stream",
     "text": [
      "100%|█████████████████| 0.0045166015625/0.0045166015625 [00:00<00:00,  1.07s/it]"
     ]
    },
    {
     "name": "stdout",
     "output_type": "stream",
     "text": [
      "934dd7a4-fbdc-459c-8830-04fe9033bc28\n",
      "549caacc-3bd7-40f1-913d-e94141816547\n"
     ]
    },
    {
     "name": "stderr",
     "output_type": "stream",
     "text": [
      "\n"
     ]
    },
    {
     "name": "stdout",
     "output_type": "stream",
     "text": [
      "Downloading: /home/maria/Downloads/ONE/openalyx.internationalbrainlab.org/zadorlab/Subjects/CSH_ZAD_025/2020-07-27/001/alf/probe00/pykilosort/channels.mlapdv.fd32b273-8045-4ebe-8dac-da5a19924335.npy Bytes: 4736\n"
     ]
    },
    {
     "name": "stderr",
     "output_type": "stream",
     "text": [
      "100%|█████████████████| 0.0045166015625/0.0045166015625 [00:00<00:00,  1.23it/s]"
     ]
    },
    {
     "name": "stdout",
     "output_type": "stream",
     "text": [
      "20c112a1-8a42-44e0-a4cd-e5b932f7bda9\n"
     ]
    },
    {
     "name": "stderr",
     "output_type": "stream",
     "text": [
      "\n"
     ]
    },
    {
     "name": "stdout",
     "output_type": "stream",
     "text": [
      "Downloading: /home/maria/Downloads/ONE/openalyx.internationalbrainlab.org/zadorlab/Subjects/CSH_ZAD_025/2020-07-26/001/alf/probe00/pykilosort/channels.mlapdv.8bc69585-4fa4-4bb8-bf14-ce908c10f5bf.npy Bytes: 4736\n"
     ]
    },
    {
     "name": "stderr",
     "output_type": "stream",
     "text": [
      "100%|█████████████████| 0.0045166015625/0.0045166015625 [00:00<00:00,  1.15it/s]"
     ]
    },
    {
     "name": "stdout",
     "output_type": "stream",
     "text": [
      "65f5c9b4-4440-48b9-b914-c593a5184a18\n"
     ]
    },
    {
     "name": "stderr",
     "output_type": "stream",
     "text": [
      "\n"
     ]
    },
    {
     "name": "stdout",
     "output_type": "stream",
     "text": [
      "Downloading: /home/maria/Downloads/ONE/openalyx.internationalbrainlab.org/wittenlab/Subjects/ibl_witten_19/2020-07-23/001/alf/probe00/pykilosort/channels.mlapdv.892e5ed4-c455-4d97-af01-80c8a6b507fa.npy Bytes: 4736\n"
     ]
    },
    {
     "name": "stderr",
     "output_type": "stream",
     "text": [
      "100%|█████████████████| 0.0045166015625/0.0045166015625 [00:00<00:00,  1.96it/s]"
     ]
    },
    {
     "name": "stdout",
     "output_type": "stream",
     "text": [
      "dcceebe5-4589-44df-a1c1-9fa33e779727\n"
     ]
    },
    {
     "name": "stderr",
     "output_type": "stream",
     "text": [
      "\n"
     ]
    },
    {
     "name": "stdout",
     "output_type": "stream",
     "text": [
      "Downloading: /home/maria/Downloads/ONE/openalyx.internationalbrainlab.org/wittenlab/Subjects/ibl_witten_17/2020-07-23/001/alf/probe00/pykilosort/channels.mlapdv.05e6b2c9-b0e9-4503-b207-2b010aa450d6.npy Bytes: 4736\n"
     ]
    },
    {
     "name": "stderr",
     "output_type": "stream",
     "text": [
      "100%|█████████████████| 0.0045166015625/0.0045166015625 [00:00<00:00,  1.03s/it]"
     ]
    },
    {
     "name": "stdout",
     "output_type": "stream",
     "text": [
      "f8041c1e-5ef4-4ae6-afec-ed82d7a74dc1\n",
      "d832d9f7-c96a-4f63-8921-516ba4a7b61f\n",
      "4ddb8a95-788b-48d0-8a0a-66c7c796da96\n"
     ]
    },
    {
     "name": "stderr",
     "output_type": "stream",
     "text": [
      "\n"
     ]
    },
    {
     "name": "stdout",
     "output_type": "stream",
     "text": [
      "Downloading: /home/maria/Downloads/ONE/openalyx.internationalbrainlab.org/wittenlab/Subjects/ibl_witten_19/2020-07-21/001/alf/probe00/pykilosort/channels.mlapdv.0c11a0a4-fd61-4951-b4b8-cb9f89773c6b.npy Bytes: 4736\n"
     ]
    },
    {
     "name": "stderr",
     "output_type": "stream",
     "text": [
      "100%|█████████████████| 0.0045166015625/0.0045166015625 [00:00<00:00,  1.10s/it]"
     ]
    },
    {
     "name": "stdout",
     "output_type": "stream",
     "text": [
      "b39752db-abdb-47ab-ae78-e8608bbf50ed\n"
     ]
    },
    {
     "name": "stderr",
     "output_type": "stream",
     "text": [
      "\n"
     ]
    },
    {
     "name": "stdout",
     "output_type": "stream",
     "text": [
      "Downloading: /home/maria/Downloads/ONE/openalyx.internationalbrainlab.org/danlab/Subjects/DY_014/2020-07-19/001/alf/probe00/pykilosort/channels.mlapdv.becc78e2-eb93-45d9-b17a-a8702f31854c.npy Bytes: 4736\n"
     ]
    },
    {
     "name": "stderr",
     "output_type": "stream",
     "text": [
      "100%|█████████████████| 0.0045166015625/0.0045166015625 [00:00<00:00,  1.91it/s]"
     ]
    },
    {
     "name": "stdout",
     "output_type": "stream",
     "text": [
      "ee8b36de-779f-4dea-901f-e0141c95722b\n"
     ]
    },
    {
     "name": "stderr",
     "output_type": "stream",
     "text": [
      "\n"
     ]
    },
    {
     "name": "stdout",
     "output_type": "stream",
     "text": [
      "Downloading: /home/maria/Downloads/ONE/openalyx.internationalbrainlab.org/danlab/Subjects/DY_014/2020-07-18/001/alf/probe00/pykilosort/channels.mlapdv.cc32ef9a-d2e6-4e43-976b-638c39ae4e50.npy Bytes: 4736\n"
     ]
    },
    {
     "name": "stderr",
     "output_type": "stream",
     "text": [
      "100%|█████████████████| 0.0045166015625/0.0045166015625 [00:00<00:00,  1.31s/it]"
     ]
    },
    {
     "name": "stdout",
     "output_type": "stream",
     "text": [
      "f9860a11-24d3-452e-ab95-39e199f20a93\n"
     ]
    },
    {
     "name": "stderr",
     "output_type": "stream",
     "text": [
      "\n"
     ]
    },
    {
     "name": "stdout",
     "output_type": "stream",
     "text": [
      "Downloading: /home/maria/Downloads/ONE/openalyx.internationalbrainlab.org/hoferlab/Subjects/SWC_042/2020-07-17/001/alf/probe00/pykilosort/channels.mlapdv.cb7e68c8-ae32-412b-9359-e0beb9c23f1d.npy Bytes: 4736\n"
     ]
    },
    {
     "name": "stderr",
     "output_type": "stream",
     "text": [
      "100%|█████████████████| 0.0045166015625/0.0045166015625 [00:00<00:00,  1.10it/s]"
     ]
    },
    {
     "name": "stdout",
     "output_type": "stream",
     "text": [
      "bd456d8f-d36e-434a-8051-ff3997253802\n"
     ]
    },
    {
     "name": "stderr",
     "output_type": "stream",
     "text": [
      "\n"
     ]
    },
    {
     "name": "stdout",
     "output_type": "stream",
     "text": [
      "Downloading: /home/maria/Downloads/ONE/openalyx.internationalbrainlab.org/danlab/Subjects/DY_014/2020-07-17/001/alf/probe00/pykilosort/channels.mlapdv.a5c1d5cf-28cb-4ba4-b2f5-82df4d46b815.npy Bytes: 4736\n"
     ]
    },
    {
     "name": "stderr",
     "output_type": "stream",
     "text": [
      "100%|█████████████████| 0.0045166015625/0.0045166015625 [00:00<00:00,  1.25s/it]"
     ]
    },
    {
     "name": "stdout",
     "output_type": "stream",
     "text": [
      "b658bc7d-07cd-4203-8a25-7b16b549851b\n"
     ]
    },
    {
     "name": "stderr",
     "output_type": "stream",
     "text": [
      "\n"
     ]
    },
    {
     "name": "stdout",
     "output_type": "stream",
     "text": [
      "Downloading: /home/maria/Downloads/ONE/openalyx.internationalbrainlab.org/danlab/Subjects/DY_014/2020-07-16/001/alf/probe00/pykilosort/channels.mlapdv.8198c078-904b-4494-b1be-92cccbfc7f8f.npy Bytes: 4736\n"
     ]
    },
    {
     "name": "stderr",
     "output_type": "stream",
     "text": [
      "100%|█████████████████| 0.0045166015625/0.0045166015625 [00:00<00:00,  1.17s/it]"
     ]
    },
    {
     "name": "stdout",
     "output_type": "stream",
     "text": [
      "862ade13-53cd-4221-a3fa-dda8643641f2\n",
      "7622da34-51b6-4661-98ae-a57d40806008\n"
     ]
    },
    {
     "name": "stderr",
     "output_type": "stream",
     "text": [
      "\n"
     ]
    },
    {
     "name": "stdout",
     "output_type": "stream",
     "text": [
      "Downloading: /home/maria/Downloads/ONE/openalyx.internationalbrainlab.org/danlab/Subjects/DY_014/2020-07-15/001/alf/probe00/pykilosort/channels.mlapdv.6290b5c7-cf83-4f70-a788-d5e1c56c0610.npy Bytes: 4736\n"
     ]
    },
    {
     "name": "stderr",
     "output_type": "stream",
     "text": [
      "100%|█████████████████| 0.0045166015625/0.0045166015625 [00:00<00:00,  1.26s/it]"
     ]
    },
    {
     "name": "stdout",
     "output_type": "stream",
     "text": [
      "4720c98a-a305-4fba-affb-bbfa00a724a4\n"
     ]
    },
    {
     "name": "stderr",
     "output_type": "stream",
     "text": [
      "\n"
     ]
    },
    {
     "name": "stdout",
     "output_type": "stream",
     "text": [
      "Downloading: /home/maria/Downloads/ONE/openalyx.internationalbrainlab.org/danlab/Subjects/DY_014/2020-07-14/001/alf/probe00/pykilosort/channels.mlapdv.83168b89-d540-4bb8-b1b1-bf47ac854804.npy Bytes: 4736\n"
     ]
    },
    {
     "name": "stderr",
     "output_type": "stream",
     "text": [
      "100%|█████████████████| 0.0045166015625/0.0045166015625 [00:00<00:00,  1.11s/it]"
     ]
    },
    {
     "name": "stdout",
     "output_type": "stream",
     "text": [
      "66d98e6e-bcd9-4e78-8fbb-636f7e808b29\n"
     ]
    },
    {
     "name": "stderr",
     "output_type": "stream",
     "text": [
      "\n"
     ]
    },
    {
     "name": "stdout",
     "output_type": "stream",
     "text": [
      "Downloading: /home/maria/Downloads/ONE/openalyx.internationalbrainlab.org/hoferlab/Subjects/SWC_042/2020-07-13/001/alf/probe00/pykilosort/channels.mlapdv.1086cf84-0fe0-4fb2-ba98-36fac91723c3.npy Bytes: 4736\n"
     ]
    },
    {
     "name": "stderr",
     "output_type": "stream",
     "text": [
      "100%|█████████████████| 0.0045166015625/0.0045166015625 [00:00<00:00,  1.03s/it]"
     ]
    },
    {
     "name": "stdout",
     "output_type": "stream",
     "text": [
      "f25642c6-27a5-4a97-9ea0-06652db79fbd\n"
     ]
    },
    {
     "name": "stderr",
     "output_type": "stream",
     "text": [
      "\n"
     ]
    },
    {
     "name": "stdout",
     "output_type": "stream",
     "text": [
      "Downloading: /home/maria/Downloads/ONE/openalyx.internationalbrainlab.org/danlab/Subjects/DY_014/2020-07-13/001/alf/probe00/pykilosort/channels.mlapdv.384da07a-8e4a-4eea-b7e0-a4de57d88860.npy Bytes: 4736\n"
     ]
    },
    {
     "name": "stderr",
     "output_type": "stream",
     "text": [
      "100%|█████████████████| 0.0045166015625/0.0045166015625 [00:00<00:00,  1.04s/it]"
     ]
    },
    {
     "name": "stdout",
     "output_type": "stream",
     "text": [
      "28741f91-c837-4147-939e-918d38d849f2\n"
     ]
    },
    {
     "name": "stderr",
     "output_type": "stream",
     "text": [
      "\n"
     ]
    },
    {
     "name": "stdout",
     "output_type": "stream",
     "text": [
      "Downloading: /home/maria/Downloads/ONE/openalyx.internationalbrainlab.org/churchlandlab/Subjects/CSHL058/2020-07-11/003/alf/probe00/pykilosort/channels.mlapdv.81fb5762-e3d3-4eb3-9595-81dca0393f20.npy Bytes: 4736\n"
     ]
    },
    {
     "name": "stderr",
     "output_type": "stream",
     "text": [
      "100%|█████████████████| 0.0045166015625/0.0045166015625 [00:00<00:00,  1.07s/it]"
     ]
    },
    {
     "name": "stdout",
     "output_type": "stream",
     "text": [
      "fb70ebf7-8175-42b0-9b7a-7c6e8612226e\n"
     ]
    },
    {
     "name": "stderr",
     "output_type": "stream",
     "text": [
      "\n"
     ]
    },
    {
     "name": "stdout",
     "output_type": "stream",
     "text": [
      "Downloading: /home/maria/Downloads/ONE/openalyx.internationalbrainlab.org/churchlandlab/Subjects/CSHL058/2020-07-08/001/alf/probe00/pykilosort/channels.mlapdv.25c87610-5389-4e34-bfea-ccb2da06ee23.npy Bytes: 4736\n"
     ]
    },
    {
     "name": "stderr",
     "output_type": "stream",
     "text": [
      "100%|█████████████████| 0.0045166015625/0.0045166015625 [00:00<00:00,  1.03s/it]"
     ]
    },
    {
     "name": "stdout",
     "output_type": "stream",
     "text": [
      "f312aaec-3b6f-44b3-86b4-3a0c119c0438\n"
     ]
    },
    {
     "name": "stderr",
     "output_type": "stream",
     "text": [
      "\n"
     ]
    },
    {
     "name": "stdout",
     "output_type": "stream",
     "text": [
      "Downloading: /home/maria/Downloads/ONE/openalyx.internationalbrainlab.org/churchlandlab/Subjects/CSHL058/2020-07-07/001/alf/probe00/pykilosort/channels.mlapdv.32273eae-ed7d-4c29-bb53-4821523b2534.npy Bytes: 4736\n"
     ]
    },
    {
     "name": "stderr",
     "output_type": "stream",
     "text": [
      "100%|█████████████████| 0.0045166015625/0.0045166015625 [00:00<00:00,  1.13s/it]"
     ]
    },
    {
     "name": "stdout",
     "output_type": "stream",
     "text": [
      "8207abc6-6b23-4762-92b4-82e05bed5143\n",
      "b81e3e11-9a60-4114-b894-09f85074d9c3\n"
     ]
    },
    {
     "name": "stderr",
     "output_type": "stream",
     "text": [
      "\n"
     ]
    },
    {
     "name": "stdout",
     "output_type": "stream",
     "text": [
      "Downloading: /home/maria/Downloads/ONE/openalyx.internationalbrainlab.org/zadorlab/Subjects/CSH_ZAD_022/2020-05-27/001/alf/probe00/pykilosort/channels.mlapdv.0056adcf-98df-4055-ac98-b136e24b8901.npy Bytes: 4736\n"
     ]
    },
    {
     "name": "stderr",
     "output_type": "stream",
     "text": [
      "100%|█████████████████| 0.0045166015625/0.0045166015625 [00:00<00:00,  1.06it/s]"
     ]
    },
    {
     "name": "stdout",
     "output_type": "stream",
     "text": [
      "90e74228-fd1a-482f-bd56-05dbad132861\n"
     ]
    },
    {
     "name": "stderr",
     "output_type": "stream",
     "text": [
      "\n"
     ]
    },
    {
     "name": "stdout",
     "output_type": "stream",
     "text": [
      "Downloading: /home/maria/Downloads/ONE/openalyx.internationalbrainlab.org/zadorlab/Subjects/CSH_ZAD_022/2020-05-26/001/alf/probe00/pykilosort/channels.mlapdv.5abbdf12-1721-4c06-ae22-d2e59c2bbbeb.npy Bytes: 4736\n"
     ]
    },
    {
     "name": "stderr",
     "output_type": "stream",
     "text": [
      "100%|█████████████████| 0.0045166015625/0.0045166015625 [00:00<00:00,  1.06it/s]"
     ]
    },
    {
     "name": "stdout",
     "output_type": "stream",
     "text": [
      "6a601cc5-7b79-4c75-b0e8-552246532f82\n"
     ]
    },
    {
     "name": "stderr",
     "output_type": "stream",
     "text": [
      "\n"
     ]
    },
    {
     "name": "stdout",
     "output_type": "stream",
     "text": [
      "Downloading: /home/maria/Downloads/ONE/openalyx.internationalbrainlab.org/zadorlab/Subjects/CSH_ZAD_022/2020-05-25/002/alf/probe00/pykilosort/channels.mlapdv.decc4aa3-dd57-4d4a-8e33-70c8535d7b08.npy Bytes: 4736\n"
     ]
    },
    {
     "name": "stderr",
     "output_type": "stream",
     "text": [
      "100%|█████████████████| 0.0045166015625/0.0045166015625 [00:00<00:00,  1.20s/it]"
     ]
    },
    {
     "name": "stdout",
     "output_type": "stream",
     "text": [
      "a82800ce-f4e3-4464-9b80-4c3d6fade333\n"
     ]
    },
    {
     "name": "stderr",
     "output_type": "stream",
     "text": [
      "\n"
     ]
    },
    {
     "name": "stdout",
     "output_type": "stream",
     "text": [
      "Downloading: /home/maria/Downloads/ONE/openalyx.internationalbrainlab.org/zadorlab/Subjects/CSH_ZAD_022/2020-05-24/001/alf/probe00/pykilosort/channels.mlapdv.30960f60-afc2-4475-aa94-cf0c8e7a6024.npy Bytes: 4736\n"
     ]
    },
    {
     "name": "stderr",
     "output_type": "stream",
     "text": [
      "100%|█████████████████| 0.0045166015625/0.0045166015625 [00:00<00:00,  1.01s/it]"
     ]
    },
    {
     "name": "stdout",
     "output_type": "stream",
     "text": [
      "a66f1593-dafd-4982-9b66-f9554b6c86b5\n"
     ]
    },
    {
     "name": "stderr",
     "output_type": "stream",
     "text": [
      "\n"
     ]
    },
    {
     "name": "stdout",
     "output_type": "stream",
     "text": [
      "Downloading: /home/maria/Downloads/ONE/openalyx.internationalbrainlab.org/zadorlab/Subjects/CSH_ZAD_022/2020-05-23/001/alf/probe00/pykilosort/channels.mlapdv.c884d74f-953a-439b-806e-2f29e81e600f.npy Bytes: 4736\n"
     ]
    },
    {
     "name": "stderr",
     "output_type": "stream",
     "text": [
      "100%|█████████████████| 0.0045166015625/0.0045166015625 [00:00<00:00,  1.21s/it]"
     ]
    },
    {
     "name": "stdout",
     "output_type": "stream",
     "text": [
      "41431f53-69fd-4e3b-80ce-ea62e03bf9c7\n"
     ]
    },
    {
     "name": "stderr",
     "output_type": "stream",
     "text": [
      "\n"
     ]
    },
    {
     "name": "stdout",
     "output_type": "stream",
     "text": [
      "Downloading: /home/maria/Downloads/ONE/openalyx.internationalbrainlab.org/zadorlab/Subjects/CSH_ZAD_022/2020-05-21/001/alf/probe00/pykilosort/channels.mlapdv.9aeab85b-6798-4a90-a779-ad8bdb03d981.npy Bytes: 4736\n"
     ]
    },
    {
     "name": "stderr",
     "output_type": "stream",
     "text": [
      "100%|█████████████████| 0.0045166015625/0.0045166015625 [00:00<00:00,  1.13s/it]"
     ]
    },
    {
     "name": "stdout",
     "output_type": "stream",
     "text": [
      "1eac875c-feaa-4a30-b148-059b954b11d8\n",
      "8db36de1-8f17-4446-b527-b5d91909b45a\n",
      "da188f2c-553c-4e04-879b-c9ea2d1b9a93\n"
     ]
    },
    {
     "name": "stderr",
     "output_type": "stream",
     "text": [
      "\n"
     ]
    },
    {
     "name": "stdout",
     "output_type": "stream",
     "text": [
      "Downloading: /home/maria/Downloads/ONE/openalyx.internationalbrainlab.org/zadorlab/Subjects/CSH_ZAD_011/2020-03-23/001/alf/probe00/pykilosort/channels.mlapdv.08fc5d83-9324-46c7-b191-2eced7a7c282.npy Bytes: 4736\n"
     ]
    },
    {
     "name": "stderr",
     "output_type": "stream",
     "text": [
      "100%|█████████████████| 0.0045166015625/0.0045166015625 [00:00<00:00,  1.43s/it]"
     ]
    },
    {
     "name": "stdout",
     "output_type": "stream",
     "text": [
      "03cf52f6-fba6-4743-a42e-dd1ac3072343\n"
     ]
    },
    {
     "name": "stderr",
     "output_type": "stream",
     "text": [
      "\n"
     ]
    },
    {
     "name": "stdout",
     "output_type": "stream",
     "text": [
      "Downloading: /home/maria/Downloads/ONE/openalyx.internationalbrainlab.org/zadorlab/Subjects/CSH_ZAD_011/2020-03-22/001/alf/probe00/pykilosort/channels.mlapdv.2e08612c-dfc3-443b-99cf-e63c185047e0.npy Bytes: 4736\n"
     ]
    },
    {
     "name": "stderr",
     "output_type": "stream",
     "text": [
      "100%|█████████████████| 0.0045166015625/0.0045166015625 [00:00<00:00,  1.01it/s]"
     ]
    },
    {
     "name": "stdout",
     "output_type": "stream",
     "text": [
      "5b44c40f-80f4-44fb-abfb-c7f19e27a6ca\n"
     ]
    },
    {
     "name": "stderr",
     "output_type": "stream",
     "text": [
      "\n"
     ]
    },
    {
     "name": "stdout",
     "output_type": "stream",
     "text": [
      "Downloading: /home/maria/Downloads/ONE/openalyx.internationalbrainlab.org/zadorlab/Subjects/CSH_ZAD_011/2020-03-21/001/alf/probe00/pykilosort/channels.mlapdv.91efbe56-7f14-4fb1-838a-8583481d9263.npy Bytes: 4736\n"
     ]
    },
    {
     "name": "stderr",
     "output_type": "stream",
     "text": [
      "100%|█████████████████| 0.0045166015625/0.0045166015625 [00:00<00:00,  1.14it/s]"
     ]
    },
    {
     "name": "stdout",
     "output_type": "stream",
     "text": [
      "7be8fec4-406b-4e74-8548-d2885dcc3d5e\n"
     ]
    },
    {
     "name": "stderr",
     "output_type": "stream",
     "text": [
      "\n"
     ]
    },
    {
     "name": "stdout",
     "output_type": "stream",
     "text": [
      "Downloading: /home/maria/Downloads/ONE/openalyx.internationalbrainlab.org/churchlandlab/Subjects/CSHL060/2020-03-15/001/alf/probe00/pykilosort/channels.mlapdv.c775af05-cf04-49dd-8be4-d7162097575d.npy Bytes: 4736\n"
     ]
    },
    {
     "name": "stderr",
     "output_type": "stream",
     "text": [
      "100%|█████████████████| 0.0045166015625/0.0045166015625 [00:00<00:00,  1.07s/it]"
     ]
    },
    {
     "name": "stdout",
     "output_type": "stream",
     "text": [
      "6364ff7f-6471-415a-ab9e-632a12052690\n",
      "e535fb62-e245-4a48-b119-88ce62a6fe67\n"
     ]
    },
    {
     "name": "stderr",
     "output_type": "stream",
     "text": [
      "\n"
     ]
    },
    {
     "name": "stdout",
     "output_type": "stream",
     "text": [
      "Downloading: /home/maria/Downloads/ONE/openalyx.internationalbrainlab.org/danlab/Subjects/DY_013/2020-03-12/001/alf/probe00/pykilosort/channels.mlapdv.44606536-e2bb-4219-a664-0702152573ca.npy Bytes: 4736\n"
     ]
    },
    {
     "name": "stderr",
     "output_type": "stream",
     "text": [
      "100%|█████████████████| 0.0045166015625/0.0045166015625 [00:00<00:00,  2.28it/s]"
     ]
    },
    {
     "name": "stdout",
     "output_type": "stream",
     "text": [
      "f10efe41-0dc0-44d0-8f26-5ff68dca23e9\n"
     ]
    },
    {
     "name": "stderr",
     "output_type": "stream",
     "text": [
      "\n"
     ]
    },
    {
     "name": "stdout",
     "output_type": "stream",
     "text": [
      "Downloading: /home/maria/Downloads/ONE/openalyx.internationalbrainlab.org/churchlandlab/Subjects/CSHL060/2020-03-12/001/alf/probe00/pykilosort/channels.mlapdv.c50f7b02-fbd1-43e6-a318-d66f3d3c27a3.npy Bytes: 4736\n"
     ]
    },
    {
     "name": "stderr",
     "output_type": "stream",
     "text": [
      "100%|█████████████████| 0.0045166015625/0.0045166015625 [00:00<00:00,  1.21it/s]"
     ]
    },
    {
     "name": "stdout",
     "output_type": "stream",
     "text": [
      "1191f865-b10a-45c8-9c48-24a980fd9402\n"
     ]
    },
    {
     "name": "stderr",
     "output_type": "stream",
     "text": [
      "\n"
     ]
    },
    {
     "name": "stdout",
     "output_type": "stream",
     "text": [
      "Downloading: /home/maria/Downloads/ONE/openalyx.internationalbrainlab.org/churchlandlab/Subjects/CSHL060/2020-03-11/004/alf/probe00/pykilosort/channels.mlapdv.0d3c4ffe-921c-4045-a8ee-cbcfd3de73ac.npy Bytes: 4736\n"
     ]
    },
    {
     "name": "stderr",
     "output_type": "stream",
     "text": [
      "100%|█████████████████| 0.0045166015625/0.0045166015625 [00:00<00:00,  1.06it/s]"
     ]
    },
    {
     "name": "stdout",
     "output_type": "stream",
     "text": [
      "6668c4a0-70a4-4012-a7da-709660971d7a\n"
     ]
    },
    {
     "name": "stderr",
     "output_type": "stream",
     "text": [
      "\n"
     ]
    },
    {
     "name": "stdout",
     "output_type": "stream",
     "text": [
      "Downloading: /home/maria/Downloads/ONE/openalyx.internationalbrainlab.org/danlab/Subjects/DY_009/2020-03-09/001/alf/probe00/pykilosort/channels.mlapdv.f2c9a2b8-bf1f-4cda-ad82-aa90037db074.npy Bytes: 4736\n"
     ]
    },
    {
     "name": "stderr",
     "output_type": "stream",
     "text": [
      "100%|█████████████████| 0.0045166015625/0.0045166015625 [00:00<00:00,  1.18it/s]"
     ]
    },
    {
     "name": "stdout",
     "output_type": "stream",
     "text": [
      "2e6e179c-fccc-4e8f-9448-ce5b6858a183\n"
     ]
    },
    {
     "name": "stderr",
     "output_type": "stream",
     "text": [
      "\n"
     ]
    },
    {
     "name": "stdout",
     "output_type": "stream",
     "text": [
      "Downloading: /home/maria/Downloads/ONE/openalyx.internationalbrainlab.org/churchlandlab/Subjects/CSHL060/2020-03-09/002/alf/probe00/pykilosort/channels.mlapdv.168d0adc-2a8e-40f8-96b3-b9494279f762.npy Bytes: 4736\n"
     ]
    },
    {
     "name": "stderr",
     "output_type": "stream",
     "text": [
      "100%|█████████████████| 0.0045166015625/0.0045166015625 [00:00<00:00,  1.21it/s]"
     ]
    },
    {
     "name": "stdout",
     "output_type": "stream",
     "text": [
      "37e96d0b-5b4b-4c6e-9b29-7edbdc94bbd0\n"
     ]
    },
    {
     "name": "stderr",
     "output_type": "stream",
     "text": [
      "\n"
     ]
    },
    {
     "name": "stdout",
     "output_type": "stream",
     "text": [
      "Downloading: /home/maria/Downloads/ONE/openalyx.internationalbrainlab.org/churchlandlab/Subjects/CSHL059/2020-03-08/001/alf/probe00/pykilosort/channels.mlapdv.0102770f-d03a-4658-801d-5bfbd7b8bc96.npy Bytes: 4736\n"
     ]
    },
    {
     "name": "stderr",
     "output_type": "stream",
     "text": [
      "100%|█████████████████| 0.0045166015625/0.0045166015625 [00:00<00:00,  1.19s/it]"
     ]
    },
    {
     "name": "stdout",
     "output_type": "stream",
     "text": [
      "9a629642-3a9c-42ed-b70a-532db0e86199\n"
     ]
    },
    {
     "name": "stderr",
     "output_type": "stream",
     "text": [
      "\n"
     ]
    },
    {
     "name": "stdout",
     "output_type": "stream",
     "text": [
      "Downloading: /home/maria/Downloads/ONE/openalyx.internationalbrainlab.org/danlab/Subjects/DY_013/2020-03-07/001/alf/probe00/pykilosort/channels.mlapdv.a970e9b7-d98b-44d6-bcf6-31107e66ae09.npy Bytes: 4736\n"
     ]
    },
    {
     "name": "stderr",
     "output_type": "stream",
     "text": [
      "100%|█████████████████| 0.0045166015625/0.0045166015625 [00:00<00:00,  1.20s/it]"
     ]
    },
    {
     "name": "stdout",
     "output_type": "stream",
     "text": [
      "e5c772cd-9c92-47ab-9525-d618b66a9b5d\n"
     ]
    },
    {
     "name": "stderr",
     "output_type": "stream",
     "text": [
      "\n"
     ]
    },
    {
     "name": "stdout",
     "output_type": "stream",
     "text": [
      "Downloading: /home/maria/Downloads/ONE/openalyx.internationalbrainlab.org/danlab/Subjects/DY_009/2020-03-07/001/alf/probe00/pykilosort/channels.mlapdv.5ab22c28-d449-4409-8f6e-ef89489b10a2.npy Bytes: 4736\n"
     ]
    },
    {
     "name": "stderr",
     "output_type": "stream",
     "text": [
      "100%|█████████████████| 0.0045166015625/0.0045166015625 [00:00<00:00,  2.52it/s]"
     ]
    },
    {
     "name": "stdout",
     "output_type": "stream",
     "text": [
      "d16a9a8d-5f42-4b49-ba58-1746f807fcc1\n",
      "2f63c555-eb74-4d8d-ada5-5c3ecf3b46be\n"
     ]
    },
    {
     "name": "stderr",
     "output_type": "stream",
     "text": [
      "\n"
     ]
    },
    {
     "name": "stdout",
     "output_type": "stream",
     "text": [
      "Downloading: /home/maria/Downloads/ONE/openalyx.internationalbrainlab.org/danlab/Subjects/DY_013/2020-03-06/001/alf/probe00/pykilosort/channels.mlapdv.95d0006d-e281-40aa-b622-19f471963c3a.npy Bytes: 4736\n"
     ]
    },
    {
     "name": "stderr",
     "output_type": "stream",
     "text": [
      "100%|█████████████████| 0.0045166015625/0.0045166015625 [00:00<00:00,  1.05s/it]"
     ]
    },
    {
     "name": "stdout",
     "output_type": "stream",
     "text": [
      "a19c7a3a-7261-42ce-95d5-1f4ca46007ed\n"
     ]
    },
    {
     "name": "stderr",
     "output_type": "stream",
     "text": [
      "\n"
     ]
    },
    {
     "name": "stdout",
     "output_type": "stream",
     "text": [
      "Downloading: /home/maria/Downloads/ONE/openalyx.internationalbrainlab.org/danlab/Subjects/DY_009/2020-03-06/001/alf/probe00/pykilosort/channels.mlapdv.8ac25f6f-0561-43d2-bf59-ef31e1ebbcf8.npy Bytes: 4736\n"
     ]
    },
    {
     "name": "stderr",
     "output_type": "stream",
     "text": [
      "100%|█████████████████| 0.0045166015625/0.0045166015625 [00:00<00:00,  1.19it/s]"
     ]
    },
    {
     "name": "stdout",
     "output_type": "stream",
     "text": [
      "dda5fc59-f09a-4256-9fb5-66c67667a466\n"
     ]
    },
    {
     "name": "stderr",
     "output_type": "stream",
     "text": [
      "\n"
     ]
    },
    {
     "name": "stdout",
     "output_type": "stream",
     "text": [
      "Downloading: /home/maria/Downloads/ONE/openalyx.internationalbrainlab.org/churchlandlab/Subjects/CSHL059/2020-03-06/001/alf/probe00/pykilosort/channels.mlapdv.151b3a11-e17b-44be-acf6-e0f11ad188a4.npy Bytes: 4736\n"
     ]
    },
    {
     "name": "stderr",
     "output_type": "stream",
     "text": [
      "100%|█████████████████| 0.0045166015625/0.0045166015625 [00:00<00:00,  2.25it/s]"
     ]
    },
    {
     "name": "stdout",
     "output_type": "stream",
     "text": [
      "413a6825-2144-4a50-b3fc-cf38ddd6fd1a\n"
     ]
    },
    {
     "name": "stderr",
     "output_type": "stream",
     "text": [
      "\n"
     ]
    },
    {
     "name": "stdout",
     "output_type": "stream",
     "text": [
      "Downloading: /home/maria/Downloads/ONE/openalyx.internationalbrainlab.org/danlab/Subjects/DY_009/2020-03-05/001/alf/probe00/pykilosort/channels.mlapdv.05612ab7-2782-4798-b5d8-8394c5085fc0.npy Bytes: 4736\n"
     ]
    },
    {
     "name": "stderr",
     "output_type": "stream",
     "text": [
      "100%|█████████████████| 0.0045166015625/0.0045166015625 [00:00<00:00,  1.95it/s]"
     ]
    },
    {
     "name": "stdout",
     "output_type": "stream",
     "text": [
      "57b5ae8f-d446-4161-b439-b191c5e3e77b\n"
     ]
    },
    {
     "name": "stderr",
     "output_type": "stream",
     "text": [
      "\n"
     ]
    },
    {
     "name": "stdout",
     "output_type": "stream",
     "text": [
      "Downloading: /home/maria/Downloads/ONE/openalyx.internationalbrainlab.org/churchlandlab/Subjects/CSHL059/2020-03-05/001/alf/probe00/pykilosort/channels.mlapdv.0790b5a8-2ba2-413d-b011-a021cea39004.npy Bytes: 4736\n"
     ]
    },
    {
     "name": "stderr",
     "output_type": "stream",
     "text": [
      "100%|█████████████████| 0.0045166015625/0.0045166015625 [00:00<00:00,  2.00it/s]"
     ]
    },
    {
     "name": "stdout",
     "output_type": "stream",
     "text": [
      "30e5937e-e86a-47e6-93ae-d2ae3877ff8e\n"
     ]
    },
    {
     "name": "stderr",
     "output_type": "stream",
     "text": [
      "\n"
     ]
    },
    {
     "name": "stdout",
     "output_type": "stream",
     "text": [
      "Downloading: /home/maria/Downloads/ONE/openalyx.internationalbrainlab.org/danlab/Subjects/DY_009/2020-03-04/001/alf/probe00/pykilosort/channels.mlapdv.c3fc801a-669e-40e8-be13-c62fad2d0479.npy Bytes: 4736\n"
     ]
    },
    {
     "name": "stderr",
     "output_type": "stream",
     "text": [
      "100%|█████████████████| 0.0045166015625/0.0045166015625 [00:00<00:00,  2.26it/s]"
     ]
    },
    {
     "name": "stdout",
     "output_type": "stream",
     "text": [
      "ee13c19e-2790-4418-97ca-48f02e8013bb\n"
     ]
    },
    {
     "name": "stderr",
     "output_type": "stream",
     "text": [
      "\n"
     ]
    },
    {
     "name": "stdout",
     "output_type": "stream",
     "text": [
      "Downloading: /home/maria/Downloads/ONE/openalyx.internationalbrainlab.org/danlab/Subjects/DY_008/2020-03-04/001/alf/probe00/pykilosort/channels.mlapdv.2d3423ad-1252-434b-8768-fb77c5ab2b78.npy Bytes: 4736\n"
     ]
    },
    {
     "name": "stderr",
     "output_type": "stream",
     "text": [
      "100%|█████████████████| 0.0045166015625/0.0045166015625 [00:00<00:00,  1.20s/it]"
     ]
    },
    {
     "name": "stdout",
     "output_type": "stream",
     "text": [
      "158d5d35-a2ab-4a76-87b0-51048c5d5283\n"
     ]
    },
    {
     "name": "stderr",
     "output_type": "stream",
     "text": [
      "\n"
     ]
    },
    {
     "name": "stdout",
     "output_type": "stream",
     "text": [
      "Downloading: /home/maria/Downloads/ONE/openalyx.internationalbrainlab.org/danlab/Subjects/DY_009/2020-03-03/001/alf/probe00/pykilosort/channels.mlapdv.198224a0-52a3-416c-beb8-ce5e4705ba8b.npy Bytes: 4736\n"
     ]
    },
    {
     "name": "stderr",
     "output_type": "stream",
     "text": [
      "100%|█████████████████| 0.0045166015625/0.0045166015625 [00:00<00:00,  1.06s/it]"
     ]
    },
    {
     "name": "stdout",
     "output_type": "stream",
     "text": [
      "0f25376f-2b78-4ddc-8c39-b6cdbe7bf5b9\n"
     ]
    },
    {
     "name": "stderr",
     "output_type": "stream",
     "text": [
      "\n"
     ]
    },
    {
     "name": "stdout",
     "output_type": "stream",
     "text": [
      "Downloading: /home/maria/Downloads/ONE/openalyx.internationalbrainlab.org/danlab/Subjects/DY_008/2020-03-03/001/alf/probe00/pykilosort/channels.mlapdv.6560b2fe-9a1b-4678-9bb8-018741b10448.npy Bytes: 4736\n"
     ]
    },
    {
     "name": "stderr",
     "output_type": "stream",
     "text": [
      "100%|█████████████████| 0.0045166015625/0.0045166015625 [00:00<00:00,  1.46it/s]"
     ]
    },
    {
     "name": "stdout",
     "output_type": "stream",
     "text": [
      "d2f5a130-b981-4546-8858-c94ae1da75ff\n"
     ]
    },
    {
     "name": "stderr",
     "output_type": "stream",
     "text": [
      "\n"
     ]
    },
    {
     "name": "stdout",
     "output_type": "stream",
     "text": [
      "Downloading: /home/maria/Downloads/ONE/openalyx.internationalbrainlab.org/churchlandlab/Subjects/CSHL059/2020-03-03/001/alf/probe00/pykilosort/channels.mlapdv.2d5a2882-ddad-440b-829a-9e02355fb3d4.npy Bytes: 4736\n"
     ]
    },
    {
     "name": "stderr",
     "output_type": "stream",
     "text": [
      "100%|█████████████████| 0.0045166015625/0.0045166015625 [00:00<00:00,  1.19it/s]"
     ]
    },
    {
     "name": "stdout",
     "output_type": "stream",
     "text": [
      "3c851386-e92d-4533-8d55-89a46f0e7384\n"
     ]
    },
    {
     "name": "stderr",
     "output_type": "stream",
     "text": [
      "\n"
     ]
    },
    {
     "name": "stdout",
     "output_type": "stream",
     "text": [
      "Downloading: /home/maria/Downloads/ONE/openalyx.internationalbrainlab.org/danlab/Subjects/DY_009/2020-03-02/001/alf/probe00/pykilosort/channels.mlapdv.190e0f17-fa87-42fd-8190-613381298a89.npy Bytes: 4736\n"
     ]
    },
    {
     "name": "stderr",
     "output_type": "stream",
     "text": [
      "100%|█████████████████| 0.0045166015625/0.0045166015625 [00:00<00:00,  2.65it/s]"
     ]
    },
    {
     "name": "stdout",
     "output_type": "stream",
     "text": [
      "3dd347df-f14e-40d5-9ff2-9c49f84d2157\n"
     ]
    },
    {
     "name": "stderr",
     "output_type": "stream",
     "text": [
      "\n"
     ]
    },
    {
     "name": "stdout",
     "output_type": "stream",
     "text": [
      "Downloading: /home/maria/Downloads/ONE/openalyx.internationalbrainlab.org/danlab/Subjects/DY_009/2020-02-29/001/alf/probe00/pykilosort/channels.mlapdv.a0b07d1c-2dd9-4d10-aa36-08ddd4d1b208.npy Bytes: 4736\n"
     ]
    },
    {
     "name": "stderr",
     "output_type": "stream",
     "text": [
      "100%|█████████████████| 0.0045166015625/0.0045166015625 [00:00<00:00,  1.06it/s]"
     ]
    },
    {
     "name": "stdout",
     "output_type": "stream",
     "text": [
      "7939711b-8b4d-4251-b698-b97c1eaa846e\n",
      "db4df448-e449-4a6f-a0e7-288711e7a75a\n"
     ]
    },
    {
     "name": "stderr",
     "output_type": "stream",
     "text": [
      "\n"
     ]
    },
    {
     "name": "stdout",
     "output_type": "stream",
     "text": [
      "Downloading: /home/maria/Downloads/ONE/openalyx.internationalbrainlab.org/danlab/Subjects/DY_009/2020-02-27/001/alf/probe00/pykilosort/channels.mlapdv.9f8577e4-b4d6-4fec-b1ad-aa3abf158d1a.npy Bytes: 4736\n"
     ]
    },
    {
     "name": "stderr",
     "output_type": "stream",
     "text": [
      "100%|█████████████████| 0.0045166015625/0.0045166015625 [00:00<00:00,  1.03it/s]"
     ]
    },
    {
     "name": "stdout",
     "output_type": "stream",
     "text": [
      "46794e05-3f6a-4d35-afb3-9165091a5a74\n",
      "fa704052-147e-46f6-b190-a65b837e605e\n"
     ]
    },
    {
     "name": "stderr",
     "output_type": "stream",
     "text": [
      "\n"
     ]
    },
    {
     "name": "stdout",
     "output_type": "stream",
     "text": [
      "Downloading: /home/maria/Downloads/ONE/openalyx.internationalbrainlab.org/churchlandlab/Subjects/CSHL045/2020-02-26/001/alf/probe00/pykilosort/channels.mlapdv.0137e5da-5120-4ac4-83f8-5d0d324bb8ba.npy Bytes: 4736\n"
     ]
    },
    {
     "name": "stderr",
     "output_type": "stream",
     "text": [
      "100%|█████████████████| 0.0045166015625/0.0045166015625 [00:00<00:00,  1.38s/it]"
     ]
    },
    {
     "name": "stdout",
     "output_type": "stream",
     "text": [
      "dfd8e7df-dc51-4589-b6ca-7baccfeb94b4\n"
     ]
    },
    {
     "name": "stderr",
     "output_type": "stream",
     "text": [
      "\n"
     ]
    },
    {
     "name": "stdout",
     "output_type": "stream",
     "text": [
      "Downloading: /home/maria/Downloads/ONE/openalyx.internationalbrainlab.org/churchlandlab/Subjects/CSHL045/2020-02-25/002/alf/probe00/pykilosort/channels.mlapdv.9594b7fd-5f00-4d93-82a7-027105cce421.npy Bytes: 4736\n"
     ]
    },
    {
     "name": "stderr",
     "output_type": "stream",
     "text": [
      "100%|█████████████████| 0.0045166015625/0.0045166015625 [00:00<00:00,  2.18it/s]"
     ]
    },
    {
     "name": "stdout",
     "output_type": "stream",
     "text": [
      "034e726f-b35f-41e0-8d6c-a22cc32391fb\n"
     ]
    },
    {
     "name": "stderr",
     "output_type": "stream",
     "text": [
      "\n"
     ]
    },
    {
     "name": "stdout",
     "output_type": "stream",
     "text": [
      "Downloading: /home/maria/Downloads/ONE/openalyx.internationalbrainlab.org/churchlandlab/Subjects/CSHL045/2020-02-24/001/alf/probe00/pykilosort/channels.mlapdv.336d6688-ad64-43c7-bc5d-99a7c294de64.npy Bytes: 4736\n"
     ]
    },
    {
     "name": "stderr",
     "output_type": "stream",
     "text": [
      "100%|█████████████████| 0.0045166015625/0.0045166015625 [00:00<00:00,  1.03it/s]"
     ]
    },
    {
     "name": "stdout",
     "output_type": "stream",
     "text": [
      "56956777-dca5-468c-87cb-78150432cc57\n"
     ]
    },
    {
     "name": "stderr",
     "output_type": "stream",
     "text": [
      "\n"
     ]
    },
    {
     "name": "stdout",
     "output_type": "stream",
     "text": [
      "Downloading: /home/maria/Downloads/ONE/openalyx.internationalbrainlab.org/angelakilab/Subjects/NYU-11/2020-02-21/001/alf/probe00/pykilosort/channels.mlapdv.3ba44378-d1bc-4c5f-bd58-d405f61e3322.npy Bytes: 4736\n"
     ]
    },
    {
     "name": "stderr",
     "output_type": "stream",
     "text": [
      "100%|█████████████████| 0.0045166015625/0.0045166015625 [00:00<00:00,  1.05s/it]"
     ]
    },
    {
     "name": "stdout",
     "output_type": "stream",
     "text": [
      "4b00df29-3769-43be-bb40-128b1cba6d35\n"
     ]
    },
    {
     "name": "stderr",
     "output_type": "stream",
     "text": [
      "\n"
     ]
    },
    {
     "name": "stdout",
     "output_type": "stream",
     "text": [
      "Downloading: /home/maria/Downloads/ONE/openalyx.internationalbrainlab.org/churchlandlab/Subjects/CSHL052/2020-02-21/001/alf/probe00/pykilosort/channels.mlapdv.e2277459-0e83-4cc5-a9b4-a9e531afaeda.npy Bytes: 4736\n"
     ]
    },
    {
     "name": "stderr",
     "output_type": "stream",
     "text": [
      "100%|█████████████████| 0.0045166015625/0.0045166015625 [00:00<00:00,  1.02s/it]"
     ]
    },
    {
     "name": "stdout",
     "output_type": "stream",
     "text": [
      "83e77b4b-dfa0-4af9-968b-7ea0c7a0c7e4\n"
     ]
    },
    {
     "name": "stderr",
     "output_type": "stream",
     "text": [
      "\n"
     ]
    },
    {
     "name": "stdout",
     "output_type": "stream",
     "text": [
      "Downloading: /home/maria/Downloads/ONE/openalyx.internationalbrainlab.org/churchlandlab/Subjects/CSHL052/2020-02-20/001/alf/probe00/pykilosort/channels.mlapdv.8e975a47-3986-4b79-a634-3f4dcb98d10a.npy Bytes: 4736\n"
     ]
    },
    {
     "name": "stderr",
     "output_type": "stream",
     "text": [
      "100%|█████████████████| 0.0045166015625/0.0045166015625 [00:00<00:00,  1.07it/s]"
     ]
    },
    {
     "name": "stdout",
     "output_type": "stream",
     "text": [
      "5386aba9-9b97-4557-abcd-abc2da66b863\n"
     ]
    },
    {
     "name": "stderr",
     "output_type": "stream",
     "text": [
      "\n"
     ]
    },
    {
     "name": "stdout",
     "output_type": "stream",
     "text": [
      "Downloading: /home/maria/Downloads/ONE/openalyx.internationalbrainlab.org/churchlandlab/Subjects/CSHL052/2020-02-19/002/alf/probe00/pykilosort/channels.mlapdv.cff9b5dc-a31e-4875-9885-2759e82e9ca8.npy Bytes: 4736\n"
     ]
    },
    {
     "name": "stderr",
     "output_type": "stream",
     "text": [
      "100%|█████████████████| 0.0045166015625/0.0045166015625 [00:00<00:00,  1.27s/it]"
     ]
    },
    {
     "name": "stdout",
     "output_type": "stream",
     "text": [
      "6713a4a7-faed-4df2-acab-ee4e63326f8d\n"
     ]
    },
    {
     "name": "stderr",
     "output_type": "stream",
     "text": [
      "\n"
     ]
    },
    {
     "name": "stdout",
     "output_type": "stream",
     "text": [
      "Downloading: /home/maria/Downloads/ONE/openalyx.internationalbrainlab.org/angelakilab/Subjects/NYU-11/2020-02-18/001/alf/probe00/pykilosort/channels.mlapdv.7ae389f9-bb28-44aa-bd1f-cd9fe4ee8246.npy Bytes: 4736\n"
     ]
    },
    {
     "name": "stderr",
     "output_type": "stream",
     "text": [
      "100%|█████████████████| 0.0045166015625/0.0045166015625 [00:00<00:00,  2.41it/s]"
     ]
    },
    {
     "name": "stdout",
     "output_type": "stream",
     "text": [
      "0cbeae00-e229-4b7d-bdcc-1b0569d7e0c3\n"
     ]
    },
    {
     "name": "stderr",
     "output_type": "stream",
     "text": [
      "\n"
     ]
    },
    {
     "name": "stdout",
     "output_type": "stream",
     "text": [
      "Downloading: /home/maria/Downloads/ONE/openalyx.internationalbrainlab.org/churchlandlab/Subjects/CSHL055/2020-02-17/001/alf/probe00/pykilosort/channels.mlapdv.25ff3492-8d43-4991-853b-580003640b56.npy Bytes: 4736\n"
     ]
    },
    {
     "name": "stderr",
     "output_type": "stream",
     "text": [
      "100%|█████████████████| 0.0045166015625/0.0045166015625 [00:00<00:00,  1.17s/it]"
     ]
    },
    {
     "name": "stdout",
     "output_type": "stream",
     "text": [
      "3663d82b-f197-4e8b-b299-7b803a155b84\n"
     ]
    },
    {
     "name": "stderr",
     "output_type": "stream",
     "text": [
      "\n"
     ]
    },
    {
     "name": "stdout",
     "output_type": "stream",
     "text": [
      "Downloading: /home/maria/Downloads/ONE/openalyx.internationalbrainlab.org/churchlandlab/Subjects/CSHL052/2020-02-17/003/alf/probe00/pykilosort/channels.mlapdv.3ab0a775-1663-4ea7-b7a4-c08695d17b83.npy Bytes: 4736\n"
     ]
    },
    {
     "name": "stderr",
     "output_type": "stream",
     "text": [
      "100%|█████████████████| 0.0045166015625/0.0045166015625 [00:00<00:00,  2.35it/s]"
     ]
    },
    {
     "name": "stdout",
     "output_type": "stream",
     "text": [
      "38d95489-2e82-412a-8c1a-c5377b5f1555\n",
      "57fd2325-67f4-4d45-9907-29e77d3043d7\n"
     ]
    },
    {
     "name": "stderr",
     "output_type": "stream",
     "text": [
      "\n"
     ]
    },
    {
     "name": "stdout",
     "output_type": "stream",
     "text": [
      "Downloading: /home/maria/Downloads/ONE/openalyx.internationalbrainlab.org/churchlandlab/Subjects/CSHL054/2020-02-12/001/alf/probe00/pykilosort/channels.mlapdv.e619d05d-f88c-44b8-8aaf-0b5ae1c3d53e.npy Bytes: 4736\n"
     ]
    },
    {
     "name": "stderr",
     "output_type": "stream",
     "text": [
      "100%|█████████████████| 0.0045166015625/0.0045166015625 [00:00<00:00,  2.65it/s]"
     ]
    },
    {
     "name": "stdout",
     "output_type": "stream",
     "text": [
      "a71175be-d1fd-47a3-aa93-b830ea3634a1\n",
      "cf43dbb1-6992-40ec-a5f9-e8e838d0f643\n"
     ]
    },
    {
     "name": "stderr",
     "output_type": "stream",
     "text": [
      "\n"
     ]
    },
    {
     "name": "stdout",
     "output_type": "stream",
     "text": [
      "Downloading: /home/maria/Downloads/ONE/openalyx.internationalbrainlab.org/danlab/Subjects/DY_011/2020-02-08/001/alf/probe00/pykilosort/channels.mlapdv.d996f1f2-4095-4a54-bc85-ed7a57fdc50c.npy Bytes: 4736\n"
     ]
    },
    {
     "name": "stderr",
     "output_type": "stream",
     "text": [
      "100%|█████████████████| 0.0045166015625/0.0045166015625 [00:00<00:00,  1.12s/it]"
     ]
    },
    {
     "name": "stdout",
     "output_type": "stream",
     "text": [
      "572a95d1-39ca-42e1-8424-5c9ffcb2df87\n",
      "741979ce-3f10-443a-8526-2275620c8473\n"
     ]
    },
    {
     "name": "stderr",
     "output_type": "stream",
     "text": [
      "\n"
     ]
    },
    {
     "name": "stdout",
     "output_type": "stream",
     "text": [
      "Downloading: /home/maria/Downloads/ONE/openalyx.internationalbrainlab.org/danlab/Subjects/DY_011/2020-02-07/001/alf/probe00/pykilosort/channels.mlapdv.aba56dfb-44b3-4daf-8b93-ea04486b1c78.npy Bytes: 4736\n"
     ]
    },
    {
     "name": "stderr",
     "output_type": "stream",
     "text": [
      "100%|█████████████████| 0.0045166015625/0.0045166015625 [00:00<00:00,  2.64it/s]"
     ]
    },
    {
     "name": "stdout",
     "output_type": "stream",
     "text": [
      "ecb5520d-1358-434c-95ec-93687ecd1396\n"
     ]
    },
    {
     "name": "stderr",
     "output_type": "stream",
     "text": [
      "\n"
     ]
    },
    {
     "name": "stdout",
     "output_type": "stream",
     "text": [
      "Downloading: /home/maria/Downloads/ONE/openalyx.internationalbrainlab.org/churchlandlab/Subjects/CSHL051/2020-02-05/001/alf/probe00/pykilosort/channels.mlapdv.d62e996c-b430-4461-827d-f31f6139b6e3.npy Bytes: 4736\n"
     ]
    },
    {
     "name": "stderr",
     "output_type": "stream",
     "text": [
      "100%|█████████████████| 0.0045166015625/0.0045166015625 [00:00<00:00,  2.27it/s]"
     ]
    },
    {
     "name": "stdout",
     "output_type": "stream",
     "text": [
      "810b1e07-009e-4ebe-930a-915e4cd8ece4\n",
      "36280321-555b-446d-9b7d-c2e17991e090\n"
     ]
    },
    {
     "name": "stderr",
     "output_type": "stream",
     "text": [
      "\n"
     ]
    },
    {
     "name": "stdout",
     "output_type": "stream",
     "text": [
      "Downloading: /home/maria/Downloads/ONE/openalyx.internationalbrainlab.org/danlab/Subjects/DY_011/2020-02-01/001/alf/probe00/pykilosort/channels.mlapdv.32d96ad2-2af4-40fd-928c-9ecc47cdec0e.npy Bytes: 4736\n"
     ]
    },
    {
     "name": "stderr",
     "output_type": "stream",
     "text": [
      "100%|█████████████████| 0.0045166015625/0.0045166015625 [00:00<00:00,  1.12it/s]"
     ]
    },
    {
     "name": "stdout",
     "output_type": "stream",
     "text": [
      "eef82e27-c20e-48da-b4b7-c443031649e3\n",
      "f8d5c8b0-b931-4151-b86c-c471e2e80e5d\n"
     ]
    },
    {
     "name": "stderr",
     "output_type": "stream",
     "text": [
      "\n"
     ]
    },
    {
     "name": "stdout",
     "output_type": "stream",
     "text": [
      "Downloading: /home/maria/Downloads/ONE/openalyx.internationalbrainlab.org/mainenlab/Subjects/ZM_2241/2020-01-31/001/alf/probe00/pykilosort/channels.mlapdv.c7cac074-3998-4289-8b5b-b8f468fa373b.npy Bytes: 4736\n"
     ]
    },
    {
     "name": "stderr",
     "output_type": "stream",
     "text": [
      "100%|█████████████████| 0.0045166015625/0.0045166015625 [00:00<00:00,  1.12it/s]"
     ]
    },
    {
     "name": "stdout",
     "output_type": "stream",
     "text": [
      "7bee9f09-a238-42cf-b499-f51f765c6ded\n"
     ]
    },
    {
     "name": "stderr",
     "output_type": "stream",
     "text": [
      "\n"
     ]
    },
    {
     "name": "stdout",
     "output_type": "stream",
     "text": [
      "Downloading: /home/maria/Downloads/ONE/openalyx.internationalbrainlab.org/danlab/Subjects/DY_011/2020-01-31/001/alf/probe00/pykilosort/channels.mlapdv.d5adc4bd-fc33-49f1-8730-b2058d31209e.npy Bytes: 4736\n"
     ]
    },
    {
     "name": "stderr",
     "output_type": "stream",
     "text": [
      "100%|█████████████████| 0.0045166015625/0.0045166015625 [00:00<00:00,  1.01it/s]"
     ]
    },
    {
     "name": "stdout",
     "output_type": "stream",
     "text": [
      "ee40aece-cffd-4edb-a4b6-155f158c666a\n"
     ]
    },
    {
     "name": "stderr",
     "output_type": "stream",
     "text": [
      "\n"
     ]
    },
    {
     "name": "stdout",
     "output_type": "stream",
     "text": [
      "Downloading: /home/maria/Downloads/ONE/openalyx.internationalbrainlab.org/mainenlab/Subjects/ZM_2241/2020-01-30/001/alf/probe00/pykilosort/channels.mlapdv.acb30bc4-a47e-403e-b0db-1c94a7844d31.npy Bytes: 4736\n"
     ]
    },
    {
     "name": "stderr",
     "output_type": "stream",
     "text": [
      "100%|█████████████████| 0.0045166015625/0.0045166015625 [00:00<00:00,  1.16it/s]"
     ]
    },
    {
     "name": "stdout",
     "output_type": "stream",
     "text": [
      "0deb75fb-9088-42d9-b744-012fb8fc4afb\n",
      "e49d8ee7-24b9-416a-9d04-9be33b655f40\n"
     ]
    },
    {
     "name": "stderr",
     "output_type": "stream",
     "text": [
      "\n"
     ]
    },
    {
     "name": "stdout",
     "output_type": "stream",
     "text": [
      "Downloading: /home/maria/Downloads/ONE/openalyx.internationalbrainlab.org/mainenlab/Subjects/ZM_2241/2020-01-29/008/alf/probe00/pykilosort/channels.mlapdv.39884d9f-cc0f-4aed-adc2-3d8cc0ca1faf.npy Bytes: 4736\n"
     ]
    },
    {
     "name": "stderr",
     "output_type": "stream",
     "text": [
      "100%|█████████████████| 0.0045166015625/0.0045166015625 [00:00<00:00,  1.21s/it]"
     ]
    },
    {
     "name": "stdout",
     "output_type": "stream",
     "text": [
      "02fbb6da-3034-47d6-a61b-7d06c796a830\n"
     ]
    },
    {
     "name": "stderr",
     "output_type": "stream",
     "text": [
      "\n"
     ]
    },
    {
     "name": "stdout",
     "output_type": "stream",
     "text": [
      "Downloading: /home/maria/Downloads/ONE/openalyx.internationalbrainlab.org/danlab/Subjects/DY_010/2020-01-29/001/alf/probe00/pykilosort/channels.mlapdv.08a0e4c0-a64b-4d19-b02b-7378abe4c0f3.npy Bytes: 4736\n"
     ]
    },
    {
     "name": "stderr",
     "output_type": "stream",
     "text": [
      "100%|█████████████████| 0.0045166015625/0.0045166015625 [00:00<00:00,  1.01s/it]"
     ]
    },
    {
     "name": "stdout",
     "output_type": "stream",
     "text": [
      "12dc8b34-b18e-4cdd-90a9-da134a9be79c\n"
     ]
    },
    {
     "name": "stderr",
     "output_type": "stream",
     "text": [
      "\n"
     ]
    },
    {
     "name": "stdout",
     "output_type": "stream",
     "text": [
      "Downloading: /home/maria/Downloads/ONE/openalyx.internationalbrainlab.org/churchlandlab/Subjects/CSHL053/2020-01-29/001/alf/probe00/pykilosort/channels.mlapdv.3149d185-75a9-4cda-9f0f-052b70fe82d7.npy Bytes: 4736\n"
     ]
    },
    {
     "name": "stderr",
     "output_type": "stream",
     "text": [
      "100%|█████████████████| 0.0045166015625/0.0045166015625 [00:00<00:00,  1.07s/it]"
     ]
    },
    {
     "name": "stdout",
     "output_type": "stream",
     "text": [
      "465c44bd-2e67-4112-977b-36e1ac7e3f8c\n"
     ]
    },
    {
     "name": "stderr",
     "output_type": "stream",
     "text": [
      "\n"
     ]
    },
    {
     "name": "stdout",
     "output_type": "stream",
     "text": [
      "Downloading: /home/maria/Downloads/ONE/openalyx.internationalbrainlab.org/mainenlab/Subjects/ZM_2241/2020-01-28/001/alf/probe00/pykilosort/channels.mlapdv.8db87ba5-409c-451b-a061-6a29049aff3b.npy Bytes: 4736\n"
     ]
    },
    {
     "name": "stderr",
     "output_type": "stream",
     "text": [
      "100%|█████████████████| 0.0045166015625/0.0045166015625 [00:00<00:00,  1.02it/s]"
     ]
    },
    {
     "name": "stdout",
     "output_type": "stream",
     "text": [
      "931a70ae-90ee-448e-bedb-9d41f3eda647\n"
     ]
    },
    {
     "name": "stderr",
     "output_type": "stream",
     "text": [
      "\n"
     ]
    },
    {
     "name": "stdout",
     "output_type": "stream",
     "text": [
      "Downloading: /home/maria/Downloads/ONE/openalyx.internationalbrainlab.org/danlab/Subjects/DY_010/2020-01-28/001/alf/probe00/pykilosort/channels.mlapdv.7909c323-64c9-4bad-b468-d0635a413d4c.npy Bytes: 4736\n"
     ]
    },
    {
     "name": "stderr",
     "output_type": "stream",
     "text": [
      "100%|█████████████████| 0.0045166015625/0.0045166015625 [00:00<00:00,  1.18s/it]"
     ]
    },
    {
     "name": "stdout",
     "output_type": "stream",
     "text": [
      "ff4187b5-4176-4e39-8894-53a24b7cf36b\n"
     ]
    },
    {
     "name": "stderr",
     "output_type": "stream",
     "text": [
      "\n"
     ]
    },
    {
     "name": "stdout",
     "output_type": "stream",
     "text": [
      "Downloading: /home/maria/Downloads/ONE/openalyx.internationalbrainlab.org/mainenlab/Subjects/ZM_2241/2020-01-27/001/alf/probe00/pykilosort/channels.mlapdv.92f494af-0166-4fbc-85bf-ff0925c3a332.npy Bytes: 4736\n"
     ]
    },
    {
     "name": "stderr",
     "output_type": "stream",
     "text": [
      "100%|█████████████████| 0.0045166015625/0.0045166015625 [00:00<00:00,  1.09s/it]"
     ]
    },
    {
     "name": "stdout",
     "output_type": "stream",
     "text": [
      "b03fbc44-3d8e-4a6c-8a50-5ea3498568e0\n"
     ]
    },
    {
     "name": "stderr",
     "output_type": "stream",
     "text": [
      "\n"
     ]
    },
    {
     "name": "stdout",
     "output_type": "stream",
     "text": [
      "Downloading: /home/maria/Downloads/ONE/openalyx.internationalbrainlab.org/danlab/Subjects/DY_010/2020-01-27/001/alf/probe00/pykilosort/channels.mlapdv.4b0f41cb-1060-453b-90c0-ac66b2c63e0b.npy Bytes: 4736\n"
     ]
    },
    {
     "name": "stderr",
     "output_type": "stream",
     "text": [
      "100%|█████████████████| 0.0045166015625/0.0045166015625 [00:00<00:00,  1.17s/it]"
     ]
    },
    {
     "name": "stdout",
     "output_type": "stream",
     "text": [
      "193fe7a8-4eb5-4f3e-815a-0c45864ddd77\n"
     ]
    },
    {
     "name": "stderr",
     "output_type": "stream",
     "text": [
      "\n"
     ]
    },
    {
     "name": "stdout",
     "output_type": "stream",
     "text": [
      "Downloading: /home/maria/Downloads/ONE/openalyx.internationalbrainlab.org/mainenlab/Subjects/ZM_2240/2020-01-24/001/alf/probe00/pykilosort/channels.mlapdv.3a8cbd9e-56c1-4043-ac92-66e9ef3ae79a.npy Bytes: 4736\n"
     ]
    },
    {
     "name": "stderr",
     "output_type": "stream",
     "text": [
      "100%|█████████████████| 0.0045166015625/0.0045166015625 [00:00<00:00,  1.17s/it]"
     ]
    },
    {
     "name": "stdout",
     "output_type": "stream",
     "text": [
      "bb6a5aae-2431-401d-8f6a-9fdd6de655a9\n"
     ]
    },
    {
     "name": "stderr",
     "output_type": "stream",
     "text": [
      "\n"
     ]
    },
    {
     "name": "stdout",
     "output_type": "stream",
     "text": [
      "Downloading: /home/maria/Downloads/ONE/openalyx.internationalbrainlab.org/danlab/Subjects/DY_010/2020-01-24/001/alf/probe00/pykilosort/channels.mlapdv.78775b2f-a7b0-4e70-81d3-64afc5f4768f.npy Bytes: 4736\n"
     ]
    },
    {
     "name": "stderr",
     "output_type": "stream",
     "text": [
      "100%|█████████████████| 0.0045166015625/0.0045166015625 [00:00<00:00,  1.02s/it]"
     ]
    },
    {
     "name": "stdout",
     "output_type": "stream",
     "text": [
      "510b1a50-825d-44ce-86f6-9678f5396e02\n"
     ]
    },
    {
     "name": "stderr",
     "output_type": "stream",
     "text": [
      "\n"
     ]
    },
    {
     "name": "stdout",
     "output_type": "stream",
     "text": [
      "Downloading: /home/maria/Downloads/ONE/openalyx.internationalbrainlab.org/mainenlab/Subjects/ZM_2240/2020-01-23/001/alf/probe00/pykilosort/channels.mlapdv.221a0841-5833-43de-83e9-0495cd8d0b93.npy Bytes: 4736\n"
     ]
    },
    {
     "name": "stderr",
     "output_type": "stream",
     "text": [
      "100%|█████████████████| 0.0045166015625/0.0045166015625 [00:00<00:00,  1.07s/it]"
     ]
    },
    {
     "name": "stdout",
     "output_type": "stream",
     "text": [
      "032ffcdf-7692-40b3-b9ff-8def1fc18b2e\n"
     ]
    },
    {
     "name": "stderr",
     "output_type": "stream",
     "text": [
      "\n"
     ]
    },
    {
     "name": "stdout",
     "output_type": "stream",
     "text": [
      "Downloading: /home/maria/Downloads/ONE/openalyx.internationalbrainlab.org/angelakilab/Subjects/NYU-12/2020-01-23/001/alf/probe00/pykilosort/channels.mlapdv.0bbc4754-fc2b-4f35-84d1-9769519deb21.npy Bytes: 4736\n"
     ]
    },
    {
     "name": "stderr",
     "output_type": "stream",
     "text": [
      "100%|█████████████████| 0.0045166015625/0.0045166015625 [00:00<00:00,  1.07it/s]"
     ]
    },
    {
     "name": "stdout",
     "output_type": "stream",
     "text": [
      "90d1e82c-c96f-496c-ad4e-ee3f02067f25\n"
     ]
    },
    {
     "name": "stderr",
     "output_type": "stream",
     "text": [
      "\n"
     ]
    },
    {
     "name": "stdout",
     "output_type": "stream",
     "text": [
      "Downloading: /home/maria/Downloads/ONE/openalyx.internationalbrainlab.org/danlab/Subjects/DY_010/2020-01-23/001/alf/probe00/pykilosort/channels.mlapdv.68c52544-a6e6-4015-962b-f796a32c4462.npy Bytes: 4736\n"
     ]
    },
    {
     "name": "stderr",
     "output_type": "stream",
     "text": [
      "100%|█████████████████| 0.0045166015625/0.0045166015625 [00:00<00:00,  2.55it/s]"
     ]
    },
    {
     "name": "stdout",
     "output_type": "stream",
     "text": [
      "259927fd-7563-4b03-bc5d-17b4d0fa7a55\n"
     ]
    },
    {
     "name": "stderr",
     "output_type": "stream",
     "text": [
      "\n"
     ]
    },
    {
     "name": "stdout",
     "output_type": "stream",
     "text": [
      "Downloading: /home/maria/Downloads/ONE/openalyx.internationalbrainlab.org/mainenlab/Subjects/ZM_2240/2020-01-22/001/alf/probe00/pykilosort/channels.mlapdv.e7c1c867-18bd-43eb-87f8-3c5da372d019.npy Bytes: 4736\n"
     ]
    },
    {
     "name": "stderr",
     "output_type": "stream",
     "text": [
      "100%|█████████████████| 0.0045166015625/0.0045166015625 [00:00<00:00,  1.68it/s]"
     ]
    },
    {
     "name": "stdout",
     "output_type": "stream",
     "text": [
      "a8a8af78-16de-4841-ab07-fde4b5281a03\n"
     ]
    },
    {
     "name": "stderr",
     "output_type": "stream",
     "text": [
      "\n"
     ]
    },
    {
     "name": "stdout",
     "output_type": "stream",
     "text": [
      "Downloading: /home/maria/Downloads/ONE/openalyx.internationalbrainlab.org/angelakilab/Subjects/NYU-12/2020-01-22/001/alf/probe00/pykilosort/channels.mlapdv.cae358d8-b834-4d66-a68e-30c9e9e1dae6.npy Bytes: 4736\n"
     ]
    },
    {
     "name": "stderr",
     "output_type": "stream",
     "text": [
      "100%|█████████████████| 0.0045166015625/0.0045166015625 [00:00<00:00,  1.10s/it]"
     ]
    },
    {
     "name": "stdout",
     "output_type": "stream",
     "text": [
      "2d5f6d81-38c4-4bdc-ac3c-302ea4d5f46e\n"
     ]
    },
    {
     "name": "stderr",
     "output_type": "stream",
     "text": [
      "\n"
     ]
    },
    {
     "name": "stdout",
     "output_type": "stream",
     "text": [
      "Downloading: /home/maria/Downloads/ONE/openalyx.internationalbrainlab.org/churchlandlab/Subjects/CSHL047/2020-01-22/002/alf/probe00/pykilosort/channels.mlapdv.e5b6f54c-6504-45c7-9c07-79b3944192d9.npy Bytes: 4736\n"
     ]
    },
    {
     "name": "stderr",
     "output_type": "stream",
     "text": [
      "100%|█████████████████| 0.0045166015625/0.0045166015625 [00:00<00:00,  2.43it/s]"
     ]
    },
    {
     "name": "stdout",
     "output_type": "stream",
     "text": [
      "cb2ad999-a6cb-42ff-bf71-1774c57e5308\n"
     ]
    },
    {
     "name": "stderr",
     "output_type": "stream",
     "text": [
      "\n"
     ]
    },
    {
     "name": "stdout",
     "output_type": "stream",
     "text": [
      "Downloading: /home/maria/Downloads/ONE/openalyx.internationalbrainlab.org/mainenlab/Subjects/ZM_2245/2020-01-21/002/alf/probe00/pykilosort/channels.mlapdv.ec184e23-f89b-4bfd-b510-1a690ddc1767.npy Bytes: 4736\n"
     ]
    },
    {
     "name": "stderr",
     "output_type": "stream",
     "text": [
      "100%|█████████████████| 0.0045166015625/0.0045166015625 [00:00<00:00,  2.55it/s]"
     ]
    },
    {
     "name": "stdout",
     "output_type": "stream",
     "text": [
      "d33baf74-263c-4b37-a0d0-b79dcb80a764\n",
      "4fa70097-8101-4f10-b585-db39429c5ed0\n"
     ]
    },
    {
     "name": "stderr",
     "output_type": "stream",
     "text": [
      "\n"
     ]
    },
    {
     "name": "stdout",
     "output_type": "stream",
     "text": [
      "b52182e7-39f6-4914-9717-136db589706e\n",
      "89f0d6ff-69f4-45bc-b89e-72868abb042a\n",
      "Downloading: /home/maria/Downloads/ONE/openalyx.internationalbrainlab.org/churchlandlab/Subjects/CSHL047/2020-01-20/001/alf/probe00/pykilosort/channels.mlapdv.93d297ee-4027-4c15-a474-5eb4e7f5edc7.npy Bytes: 4736\n"
     ]
    },
    {
     "name": "stderr",
     "output_type": "stream",
     "text": [
      "100%|█████████████████| 0.0045166015625/0.0045166015625 [00:00<00:00,  2.60it/s]"
     ]
    },
    {
     "name": "stdout",
     "output_type": "stream",
     "text": [
      "3e7ae7c0-fe8b-487c-9354-036236fa1010\n"
     ]
    },
    {
     "name": "stderr",
     "output_type": "stream",
     "text": [
      "\n"
     ]
    },
    {
     "name": "stdout",
     "output_type": "stream",
     "text": [
      "Downloading: /home/maria/Downloads/ONE/openalyx.internationalbrainlab.org/zadorlab/Subjects/CSH_ZAD_001/2020-01-16/001/alf/probe00/pykilosort/channels.mlapdv.f67b02f0-083f-4fcc-8bea-a4b12e50af73.npy Bytes: 4736\n"
     ]
    },
    {
     "name": "stderr",
     "output_type": "stream",
     "text": [
      "100%|█████████████████| 0.0045166015625/0.0045166015625 [00:00<00:00,  1.18s/it]"
     ]
    },
    {
     "name": "stdout",
     "output_type": "stream",
     "text": [
      "e9b57a5a-b06d-476d-ad20-7ec42a16f5f5\n"
     ]
    },
    {
     "name": "stderr",
     "output_type": "stream",
     "text": [
      "\n"
     ]
    },
    {
     "name": "stdout",
     "output_type": "stream",
     "text": [
      "Downloading: /home/maria/Downloads/ONE/openalyx.internationalbrainlab.org/zadorlab/Subjects/CSH_ZAD_001/2020-01-14/002/alf/probe00/pykilosort/channels.mlapdv.eaef0297-16f2-44db-b716-30c00612bbf3.npy Bytes: 4736\n"
     ]
    },
    {
     "name": "stderr",
     "output_type": "stream",
     "text": [
      "100%|█████████████████| 0.0045166015625/0.0045166015625 [00:00<00:00,  1.09it/s]"
     ]
    },
    {
     "name": "stdout",
     "output_type": "stream",
     "text": [
      "d839491f-55d8-4cbe-a298-7839208ba12b\n"
     ]
    },
    {
     "name": "stderr",
     "output_type": "stream",
     "text": [
      "\n"
     ]
    },
    {
     "name": "stdout",
     "output_type": "stream",
     "text": [
      "Downloading: /home/maria/Downloads/ONE/openalyx.internationalbrainlab.org/churchlandlab/Subjects/CSHL049/2020-01-11/001/alf/probe00/pykilosort/channels.mlapdv.8b0ff32f-c892-4c23-bed2-b34295ef20a4.npy Bytes: 4736\n"
     ]
    },
    {
     "name": "stderr",
     "output_type": "stream",
     "text": [
      "100%|█████████████████| 0.0045166015625/0.0045166015625 [00:00<00:00,  1.09s/it]"
     ]
    },
    {
     "name": "stdout",
     "output_type": "stream",
     "text": [
      "c99d53e6-c317-4c53-99ba-070b26673ac4\n"
     ]
    },
    {
     "name": "stderr",
     "output_type": "stream",
     "text": [
      "\n"
     ]
    },
    {
     "name": "stdout",
     "output_type": "stream",
     "text": [
      "4b7fbad4-f6de-43b4-9b15-c7c7ef44db4b\n",
      "53738f95-bd08-4d9d-9133-483fdb19e8da\n",
      "21e16736-fd59-44c7-b938-9b1333d25da8\n",
      "Downloading: /home/maria/Downloads/ONE/openalyx.internationalbrainlab.org/mainenlab/Subjects/ZM_1898/2019-12-10/007/alf/probe00/pykilosort/channels.mlapdv.516e318c-1568-4237-b416-f31e0d722fa7.npy Bytes: 4736\n"
     ]
    },
    {
     "name": "stderr",
     "output_type": "stream",
     "text": [
      "100%|█████████████████| 0.0045166015625/0.0045166015625 [00:00<00:00,  1.08s/it]"
     ]
    },
    {
     "name": "stdout",
     "output_type": "stream",
     "text": [
      "614e1937-4b24-4ad3-9055-c8253d089919\n",
      "aad23144-0e52-4eac-80c5-c4ee2decb198\n"
     ]
    },
    {
     "name": "stderr",
     "output_type": "stream",
     "text": [
      "\n"
     ]
    },
    {
     "name": "stdout",
     "output_type": "stream",
     "text": [
      "Downloading: /home/maria/Downloads/ONE/openalyx.internationalbrainlab.org/cortexlab/Subjects/KS023/2019-12-10/001/alf/probe00/pykilosort/channels.mlapdv.9bd46acc-a675-48a3-94d6-6119b8aaae6f.npy Bytes: 4736\n"
     ]
    },
    {
     "name": "stderr",
     "output_type": "stream",
     "text": [
      "100%|█████████████████| 0.0045166015625/0.0045166015625 [00:00<00:00,  1.02s/it]"
     ]
    },
    {
     "name": "stdout",
     "output_type": "stream",
     "text": [
      "15f742e1-1043-45c9-9504-f1e8a53c1744\n"
     ]
    },
    {
     "name": "stderr",
     "output_type": "stream",
     "text": [
      "\n"
     ]
    },
    {
     "name": "stdout",
     "output_type": "stream",
     "text": [
      "dd87e278-999d-478b-8cbd-b5bf92b84763\n",
      "Downloading: /home/maria/Downloads/ONE/openalyx.internationalbrainlab.org/cortexlab/Subjects/KS016/2019-12-09/001/alf/probe00/pykilosort/channels.mlapdv.2ae9278e-cc9a-42eb-aed3-c8db52a606f1.npy Bytes: 4736\n"
     ]
    },
    {
     "name": "stderr",
     "output_type": "stream",
     "text": [
      "100%|█████████████████| 0.0045166015625/0.0045166015625 [00:00<00:00,  1.14s/it]"
     ]
    },
    {
     "name": "stdout",
     "output_type": "stream",
     "text": [
      "a92c4b1d-46bd-457e-a1f4-414265f0e2d4\n"
     ]
    },
    {
     "name": "stderr",
     "output_type": "stream",
     "text": [
      "\n"
     ]
    },
    {
     "name": "stdout",
     "output_type": "stream",
     "text": [
      "16c3667b-e0ea-43fb-9ad4-8dcd1e6c40e1\n",
      "Downloading: /home/maria/Downloads/ONE/openalyx.internationalbrainlab.org/cortexlab/Subjects/KS016/2019-12-08/001/alf/probe00/pykilosort/channels.mlapdv.3f3ebea7-e564-48b5-bb41-005b9741a864.npy Bytes: 4736\n"
     ]
    },
    {
     "name": "stderr",
     "output_type": "stream",
     "text": [
      "100%|█████████████████| 0.0045166015625/0.0045166015625 [00:00<00:00,  1.19s/it]"
     ]
    },
    {
     "name": "stdout",
     "output_type": "stream",
     "text": [
      "cc45c568-c3b9-4f74-836e-c87762e898c8\n"
     ]
    },
    {
     "name": "stderr",
     "output_type": "stream",
     "text": [
      "\n"
     ]
    },
    {
     "name": "stdout",
     "output_type": "stream",
     "text": [
      "Downloading: /home/maria/Downloads/ONE/openalyx.internationalbrainlab.org/cortexlab/Subjects/KS023/2019-12-07/001/alf/probe00/pykilosort/channels.mlapdv.6f2e5946-8ab1-48ba-8b66-c00e7e790ccc.npy Bytes: 4736\n"
     ]
    },
    {
     "name": "stderr",
     "output_type": "stream",
     "text": [
      "100%|█████████████████| 0.0045166015625/0.0045166015625 [00:00<00:00,  1.06s/it]"
     ]
    },
    {
     "name": "stdout",
     "output_type": "stream",
     "text": [
      "b9c205c3-feac-485b-a89d-afc96d9cb280\n"
     ]
    },
    {
     "name": "stderr",
     "output_type": "stream",
     "text": [
      "\n"
     ]
    },
    {
     "name": "stdout",
     "output_type": "stream",
     "text": [
      "Downloading: /home/maria/Downloads/ONE/openalyx.internationalbrainlab.org/cortexlab/Subjects/KS014/2019-12-07/001/alf/probe00/pykilosort/channels.mlapdv.99026a4f-e5e3-4ac7-bd3e-0dba034d772c.npy Bytes: 4736\n"
     ]
    },
    {
     "name": "stderr",
     "output_type": "stream",
     "text": [
      "100%|█████████████████| 0.0045166015625/0.0045166015625 [00:00<00:00,  1.23s/it]"
     ]
    },
    {
     "name": "stdout",
     "output_type": "stream",
     "text": [
      "e5fae088-ed96-4d9b-82f9-dfd13c259d52\n"
     ]
    },
    {
     "name": "stderr",
     "output_type": "stream",
     "text": [
      "\n"
     ]
    },
    {
     "name": "stdout",
     "output_type": "stream",
     "text": [
      "Downloading: /home/maria/Downloads/ONE/openalyx.internationalbrainlab.org/mainenlab/Subjects/ZM_1897/2019-12-06/001/alf/probe00/pykilosort/channels.mlapdv.a9781ccd-e2bd-45fb-b5de-69736bab955d.npy Bytes: 4736\n"
     ]
    },
    {
     "name": "stderr",
     "output_type": "stream",
     "text": [
      "100%|█████████████████| 0.0045166015625/0.0045166015625 [00:00<00:00,  1.06s/it]"
     ]
    },
    {
     "name": "stdout",
     "output_type": "stream",
     "text": [
      "a4000c2f-fa75-4b3e-8f06-a7cf599b87ad\n"
     ]
    },
    {
     "name": "stderr",
     "output_type": "stream",
     "text": [
      "\n"
     ]
    },
    {
     "name": "stdout",
     "output_type": "stream",
     "text": [
      "Downloading: /home/maria/Downloads/ONE/openalyx.internationalbrainlab.org/cortexlab/Subjects/KS023/2019-12-06/001/alf/probe00/pykilosort/channels.mlapdv.9824fdbc-d906-441f-a79c-809477ecde2f.npy Bytes: 4736\n"
     ]
    },
    {
     "name": "stderr",
     "output_type": "stream",
     "text": [
      "100%|█████████████████| 0.0045166015625/0.0045166015625 [00:00<00:00,  1.10s/it]"
     ]
    },
    {
     "name": "stdout",
     "output_type": "stream",
     "text": [
      "6cf2a88a-515b-4f7f-89a2-7d53eab9b5f4\n"
     ]
    },
    {
     "name": "stderr",
     "output_type": "stream",
     "text": [
      "\n"
     ]
    },
    {
     "name": "stdout",
     "output_type": "stream",
     "text": [
      "Downloading: /home/maria/Downloads/ONE/openalyx.internationalbrainlab.org/cortexlab/Subjects/KS016/2019-12-05/001/alf/probe00/pykilosort/channels.mlapdv.4bfc09fb-b6cd-47ee-ab6e-b18d3e11fe02.npy Bytes: 4736\n"
     ]
    },
    {
     "name": "stderr",
     "output_type": "stream",
     "text": [
      "100%|█████████████████| 0.0045166015625/0.0045166015625 [00:00<00:00,  1.29it/s]"
     ]
    },
    {
     "name": "stdout",
     "output_type": "stream",
     "text": [
      "e1931de1-cf7b-49af-af33-2ade15e8abe7\n"
     ]
    },
    {
     "name": "stderr",
     "output_type": "stream",
     "text": [
      "\n"
     ]
    },
    {
     "name": "stdout",
     "output_type": "stream",
     "text": [
      "Downloading: /home/maria/Downloads/ONE/openalyx.internationalbrainlab.org/cortexlab/Subjects/KS014/2019-12-05/001/alf/probe00/pykilosort/channels.mlapdv.8c3182f3-77af-48e9-a997-1c77a99818d9.npy Bytes: 4736\n"
     ]
    },
    {
     "name": "stderr",
     "output_type": "stream",
     "text": [
      "100%|█████████████████| 0.0045166015625/0.0045166015625 [00:00<00:00,  1.21it/s]"
     ]
    },
    {
     "name": "stdout",
     "output_type": "stream",
     "text": [
      "ebe090af-5922-4fcd-8fc6-17b8ba7bad6d\n",
      "16693458-0801-4d35-a3f1-9115c7e5acfd\n"
     ]
    },
    {
     "name": "stderr",
     "output_type": "stream",
     "text": [
      "\n"
     ]
    },
    {
     "name": "stdout",
     "output_type": "stream",
     "text": [
      "Downloading: /home/maria/Downloads/ONE/openalyx.internationalbrainlab.org/cortexlab/Subjects/KS014/2019-12-03/001/alf/probe00/pykilosort/channels.mlapdv.937abd5a-8450-4a6a-8946-0fadb9d9aad9.npy Bytes: 4736\n"
     ]
    },
    {
     "name": "stderr",
     "output_type": "stream",
     "text": [
      "100%|█████████████████| 0.0045166015625/0.0045166015625 [00:00<00:00,  1.06it/s]"
     ]
    },
    {
     "name": "stdout",
     "output_type": "stream",
     "text": [
      "dd4da095-4a99-4bf3-9727-f735077dba66\n"
     ]
    },
    {
     "name": "stderr",
     "output_type": "stream",
     "text": [
      "\n"
     ]
    },
    {
     "name": "stdout",
     "output_type": "stream",
     "text": [
      "Downloading: /home/maria/Downloads/ONE/openalyx.internationalbrainlab.org/mainenlab/Subjects/ZM_1897/2019-12-02/001/alf/probe00/pykilosort/channels.mlapdv.128774b5-1c45-46c1-907d-da14e807bea3.npy Bytes: 4736\n"
     ]
    },
    {
     "name": "stderr",
     "output_type": "stream",
     "text": [
      "100%|█████████████████| 0.0045166015625/0.0045166015625 [00:00<00:00,  1.02s/it]"
     ]
    },
    {
     "name": "stdout",
     "output_type": "stream",
     "text": [
      "49368f16-de69-4647-9a7a-761e94517821\n"
     ]
    },
    {
     "name": "stderr",
     "output_type": "stream",
     "text": [
      "\n"
     ]
    },
    {
     "name": "stdout",
     "output_type": "stream",
     "text": [
      "5139ce2c-7d52-44bf-8129-692d61dd6403\n",
      "Downloading: /home/maria/Downloads/ONE/openalyx.internationalbrainlab.org/wittenlab/Subjects/ibl_witten_13/2019-11-26/001/alf/probe00/pykilosort/channels.mlapdv.ad3f187b-6bf9-409f-a1e2-d4d7067429d9.npy Bytes: 4736\n"
     ]
    },
    {
     "name": "stderr",
     "output_type": "stream",
     "text": [
      "100%|█████████████████| 0.0045166015625/0.0045166015625 [00:00<00:00,  1.13s/it]"
     ]
    },
    {
     "name": "stdout",
     "output_type": "stream",
     "text": [
      "ae8787b1-4229-4d56-b0c2-566b61a25b77\n",
      "0f77ca5d-73c2-45bd-aa4c-4c5ed275dbde\n"
     ]
    },
    {
     "name": "stderr",
     "output_type": "stream",
     "text": [
      "\n"
     ]
    },
    {
     "name": "stdout",
     "output_type": "stream",
     "text": [
      "6c6b0d06-6039-4525-a74b-58cfaa1d3a60\n",
      "1d4a7bd6-296a-48b9-b20e-bd0ac80750a5\n",
      "e0928e11-2b86-4387-a203-80c77fab5d52\n",
      "196a2adf-ff83-49b2-823a-33f990049c2e\n",
      "78b4fff5-c5ec-44d9-b5f9-d59493063f00\n",
      "1ca83b26-30fc-4350-a616-c38b7d00d240\n",
      "27ef44c0-acb2-4220-b776-477d0d5abd35\n",
      "a2701b93-d8e1-47e9-a819-f1063046f3e7\n",
      "446f4724-1690-49f9-819a-2bd8e2ea88ce\n",
      "c8d46ee6-eb68-4535-8756-7c9aa32f10e4\n",
      "8928f98a-b411-497e-aa4b-aa752434686d\n",
      "3f859b5c-e73a-4044-b49e-34bb81e96715\n",
      "f819d499-8bf7-4da0-a431-15377a8319d5\n",
      "752456f3-9f47-4fbf-bd44-9d131c0f41aa\n",
      "1b9e349e-93f2-41cc-a4b5-b212d7ddc8df\n",
      "Downloading: /home/maria/Downloads/ONE/openalyx.internationalbrainlab.org/cortexlab/Subjects/KS096/2022-06-15/001/alf/probe01/pykilosort/channels.mlapdv.5482d454-0edc-4dbc-8c8e-244d532ee236.npy Bytes: 4736\n"
     ]
    },
    {
     "name": "stderr",
     "output_type": "stream",
     "text": [
      "100%|█████████████████| 0.0045166015625/0.0045166015625 [00:00<00:00,  1.02s/it]"
     ]
    },
    {
     "name": "stdout",
     "output_type": "stream",
     "text": [
      "6b0b5d24-bcda-4053-a59c-beaa1fe03b8f\n"
     ]
    },
    {
     "name": "stderr",
     "output_type": "stream",
     "text": [
      "\n"
     ]
    },
    {
     "name": "stdout",
     "output_type": "stream",
     "text": [
      "d901aff5-2250-467a-b4a1-0cb9729df9e2\n",
      "5b49aca6-a6f4-4075-931a-617ad64c219c\n",
      "eacc49a9-f3a1-49f1-b87f-0972f90ee837\n",
      "3e6a97d3-3991-49e2-b346-6948cb4580fb\n",
      "1425bd6f-c625-4f6a-b237-dc5bcfc42c87\n",
      "63c70ae8-4dfb-418b-b21b-f0b1e5fba6c9\n",
      "9b528ad0-4599-4a55-9148-96cc1d93fb24\n",
      "a4747ac8-6a75-444f-b99b-696fff0243fd\n",
      "f4ffb731-8349-4fe4-806e-0232a84e52dd\n",
      "0c828385-6dd6-4842-a702-c5075f5f5e81\n",
      "e6043c7d-8f6e-4b66-8309-2ec0abac0f79\n",
      "ffef0311-8ffa-49e3-a857-b3adf6d86e12\n",
      "e45481fa-be22-4365-972c-e7404ed8ab5a\n",
      "e2b845a1-e313-4a08-bc61-a5f662ed295e\n",
      "f99ac31f-171b-4208-a55d-5644c0ad51c3\n",
      "32d27583-56aa-4510-bc03-669036edad20\n",
      "90e524a2-aa63-47ce-b5b8-1b1941a1223a\n",
      "09156021-9a1d-4e1d-ae59-48cbde3c5d42\n",
      "9a6e127b-bb07-4be2-92e2-53dd858c2762\n",
      "64977c74-9c04-437a-9ea1-50386c4996db\n",
      "6f36868f-5cc1-450c-82fa-6b9829ce0cfe\n",
      "5455a21c-1be7-4cae-ae8e-8853a8d5f55e\n",
      "111c1762-7908-47e0-9f40-2f2ee55b6505\n",
      "bda2faf5-9563-4940-a80f-ce444259e47b\n",
      "8d316998-28c3-4265-b029-e2ca82375b2f\n",
      "fa8ad50d-76f2-45fa-a52f-08fe3d942345\n",
      "2bdf206a-820f-402f-920a-9e86cd5388a4\n",
      "1b715600-0cbc-442c-bd00-5b0ac2865de1\n",
      "3537d970-f515-4786-853f-23de525e110f\n",
      "19b44992-d527-4a12-8bda-aa11379cb08c\n",
      "ebc9392c-1ecb-4b4b-a545-4e3d70d23611\n",
      "8a3a0197-b40a-449f-be55-c00b23253bbf\n",
      "58c4bf97-ec3b-45b4-9db4-d5d9515d5b00\n",
      "5dcee0eb-b34d-4652-acc3-d10afc6eae68\n",
      "19e66dc9-bf9f-430b-9d6a-acfa85de6fb7\n",
      "30af8629-7b96-45b7-8778-374720ddbc5e\n",
      "cea755db-4eee-4138-bdd6-fc23a572f5a1\n",
      "1b61b7f2-a599-4e40-abd6-3e758d2c9e25\n",
      "c7bf2d49-4937-4597-b307-9f39cb1c7b16\n",
      "bb099402-fb31-4cfd-824e-1c97530a0875\n",
      "f27e6cd6-cdd3-4524-b8e3-8146046e2a7d\n",
      "68775ca0-b056-48d5-b6ae-a4c2a76ae48f\n",
      "8b1f4024-3d96-4ee7-95f9-8a1dfd4ce4ef\n",
      "10fac7a1-919d-4ca7-83c4-4675bd8d9416\n",
      "03d9a098-07bf-4765-88b7-85f8d8f620cc\n",
      "d57df551-6dcb-4242-9c72-b806cff5613a\n",
      "5bcafa14-71cb-42fa-8265-ce5cda1b89e0\n",
      "7502ae93-7437-4bcd-9e14-d73b51193656\n",
      "824cf03d-4012-4ab1-b499-c83a92c5589e\n",
      "537677fe-1e24-4755-948c-fa4a4e8ecce5\n",
      "51e53aff-1d5d-4182-a684-aba783d50ae5\n",
      "1f095590-6669-46c9-986b-ccaf0620c5e9\n",
      "3d59aa1a-b4ba-47fe-b9cf-741b5fdb0c7b\n",
      "93ad879a-aa42-4150-83e1-38773c9785e4\n",
      "a405053a-eb13-4aa4-850c-5a337e5dc7fd\n",
      "c51f34d8-42f6-4c9c-bb5b-669fd9c42cd9\n",
      "fc43390d-457e-463a-9fd4-b94a0a8b48f5\n",
      "64e3fb86-928c-4079-865c-b364205b502e\n",
      "288bfbf3-3700-4abe-b6e4-130b5c541e61\n",
      "6434f2f5-6bce-42b8-8563-d93d493613a2\n",
      "0802ced5-33a3-405e-8336-b65ebc5cb07c\n",
      "72982282-e493-45ee-87ce-aa45cb3a3ec1\n",
      "15948667-747b-4702-9d53-354ac70e9119\n",
      "d32876dd-8303-4720-8e7e-20678dc2fd71\n",
      "f140a2ec-fd49-4814-994a-fe3476f14e66\n",
      "58b1e920-cfc8-467e-b28b-7654a55d0977\n",
      "86b6ba67-c1db-4333-add0-f8105ea6e363\n",
      "69a0e953-a643-4f0e-bb26-dc65af3ea7d7\n",
      "821f1883-27f3-411d-afd3-fb8241bbc39a\n",
      "af55d16f-0e31-4073-bdb5-26da54914aa2\n",
      "e9fc0a2d-c69d-44d1-9fa3-314782387cae\n",
      "0cc486c3-8c7b-494d-aa04-b70e2690bcba\n",
      "d2832a38-27f6-452d-91d6-af72d794136c\n",
      "7cec9792-b8f9-4878-be7e-f08103dc0323\n",
      "88224abb-5746-431f-9c17-17d7ef806e6a\n",
      "a4a74102-2af5-45dc-9e41-ef7f5aed88be\n",
      "72cb5550-43b4-4ef0-add5-e4adfdfb5e02\n",
      "91a3353a-2da1-420d-8c7c-fad2fedfdd18\n",
      "ee212778-3903-4f5b-ac4b-a72f22debf03\n",
      "ac7d3064-7f09-48a3-88d2-e86a4eb86461\n",
      "7082d8ff-255a-47d7-a839-bf093483ec30\n",
      "fa1f26a1-eb49-4b24-917e-19f02a18ac61\n",
      "4503697e-af44-47d9-898d-4924be990240\n",
      "35ed605c-1a1a-47b1-86ff-2b56144f55af\n",
      "0a018f12-ee06-4b11-97aa-bbbff5448e9f\n",
      "6ed57216-498d-48a6-b48b-a243a34710ea\n",
      "872ce8ff-9fb3-485c-be00-bc5479e0095b\n",
      "Downloading: /home/maria/Downloads/ONE/openalyx.internationalbrainlab.org/cortexlab/Subjects/KS055/2021-05-03/001/alf/probe01/pykilosort/channels.mlapdv.6b2d04ca-5679-423c-87e7-30cbe7e0468f.npy Bytes: 4736\n"
     ]
    },
    {
     "name": "stderr",
     "output_type": "stream",
     "text": [
      "100%|█████████████████| 0.0045166015625/0.0045166015625 [00:00<00:00,  1.01s/it]"
     ]
    },
    {
     "name": "stdout",
     "output_type": "stream",
     "text": [
      "b22f694e-4a34-4142-ab9d-2556c3487086\n"
     ]
    },
    {
     "name": "stderr",
     "output_type": "stream",
     "text": [
      "\n"
     ]
    },
    {
     "name": "stdout",
     "output_type": "stream",
     "text": [
      "Downloading: /home/maria/Downloads/ONE/openalyx.internationalbrainlab.org/cortexlab/Subjects/KS055/2021-05-02/001/alf/probe01/pykilosort/channels.mlapdv.6c53234d-9e82-41c8-9b4c-06fc39c89b26.npy Bytes: 4736\n"
     ]
    },
    {
     "name": "stderr",
     "output_type": "stream",
     "text": [
      "100%|█████████████████| 0.0045166015625/0.0045166015625 [00:00<00:00,  1.02s/it]"
     ]
    },
    {
     "name": "stdout",
     "output_type": "stream",
     "text": [
      "30c4e2ab-dffc-499d-aae4-e51d6b3218c2\n",
      "6f6d2c8e-28be-49f4-ae4d-06be2d3148c1\n",
      "d0c91c3c-8cbb-4929-8657-31f18bffc294\n",
      "f359281f-6941-4bfd-90d4-940be22ed3c3\n"
     ]
    },
    {
     "name": "stderr",
     "output_type": "stream",
     "text": [
      "\n"
     ]
    },
    {
     "name": "stdout",
     "output_type": "stream",
     "text": [
      "Downloading: /home/maria/Downloads/ONE/openalyx.internationalbrainlab.org/angelakilab/Subjects/NYU-40/2021-04-16/002/alf/probe01/pykilosort/channels.mlapdv.fcd0e942-5f56-4e0d-b8df-3def3044d6ca.npy Bytes: 4736\n"
     ]
    },
    {
     "name": "stderr",
     "output_type": "stream",
     "text": [
      "100%|█████████████████| 0.0045166015625/0.0045166015625 [00:00<00:00,  1.09it/s]"
     ]
    },
    {
     "name": "stdout",
     "output_type": "stream",
     "text": [
      "71855308-7e54-41d7-a7a4-b042e78e3b4f\n"
     ]
    },
    {
     "name": "stderr",
     "output_type": "stream",
     "text": [
      "\n"
     ]
    },
    {
     "name": "stdout",
     "output_type": "stream",
     "text": [
      "Downloading: /home/maria/Downloads/ONE/openalyx.internationalbrainlab.org/angelakilab/Subjects/NYU-40/2021-04-15/001/alf/probe01/pykilosort/channels.mlapdv.9943eb05-7dd4-4f13-9509-9bb8e9f8c1e9.npy Bytes: 4736\n"
     ]
    },
    {
     "name": "stderr",
     "output_type": "stream",
     "text": [
      "100%|█████████████████| 0.0045166015625/0.0045166015625 [00:00<00:00,  2.52it/s]"
     ]
    },
    {
     "name": "stdout",
     "output_type": "stream",
     "text": [
      "8ca740c5-e7fe-430a-aa10-e74e9c3cbbe8\n",
      "5157810e-0fff-4bcf-b19d-32d4e39c7dfc\n"
     ]
    },
    {
     "name": "stderr",
     "output_type": "stream",
     "text": [
      "\n"
     ]
    },
    {
     "name": "stdout",
     "output_type": "stream",
     "text": [
      "Downloading: /home/maria/Downloads/ONE/openalyx.internationalbrainlab.org/angelakilab/Subjects/NYU-40/2021-04-13/001/alf/probe01/pykilosort/channels.mlapdv.f6d85010-b5fe-4d13-9a0b-fb787f8bd80c.npy Bytes: 4736\n"
     ]
    },
    {
     "name": "stderr",
     "output_type": "stream",
     "text": [
      "100%|█████████████████| 0.0045166015625/0.0045166015625 [00:00<00:00,  1.07it/s]"
     ]
    },
    {
     "name": "stdout",
     "output_type": "stream",
     "text": [
      "0b7ee1b6-42db-46cd-a465-08f531366187\n",
      "113c5b6c-940e-4b21-b462-789b4c2be0e5\n",
      "71e03be6-b497-4991-a121-9416dcc1a6e7\n",
      "ab8a0899-a59f-42e4-8807-95b14056104b\n",
      "f5591ac5-311d-4fa8-9bad-029d7be9c491\n",
      "1a507308-c63a-4e02-8f32-3239a07dc578\n"
     ]
    },
    {
     "name": "stderr",
     "output_type": "stream",
     "text": [
      "\n"
     ]
    },
    {
     "name": "stdout",
     "output_type": "stream",
     "text": [
      "Downloading: /home/maria/Downloads/ONE/openalyx.internationalbrainlab.org/mainenlab/Subjects/ZFM-01935/2021-02-03/001/alf/probe01/pykilosort/channels.mlapdv.e46ca24e-bb6d-4032-a32b-1ed811a76830.npy Bytes: 4736\n"
     ]
    },
    {
     "name": "stderr",
     "output_type": "stream",
     "text": [
      "100%|█████████████████| 0.0045166015625/0.0045166015625 [00:00<00:00,  1.10it/s]"
     ]
    },
    {
     "name": "stdout",
     "output_type": "stream",
     "text": [
      "21d21fc3-4201-4edc-802a-c67b61952548\n",
      "dc21e80d-97d7-44ca-a729-a8e3f9b14305\n",
      "09394481-8dd2-4d5c-9327-f2753ede92d7\n"
     ]
    },
    {
     "name": "stderr",
     "output_type": "stream",
     "text": [
      "\n"
     ]
    },
    {
     "name": "stdout",
     "output_type": "stream",
     "text": [
      "Downloading: /home/maria/Downloads/ONE/openalyx.internationalbrainlab.org/wittenlab/Subjects/ibl_witten_26/2021-01-30/001/alf/probe01/pykilosort/channels.mlapdv.8d7ff2db-f5a0-4b36-9522-a6563447b6a9.npy Bytes: 4736\n"
     ]
    },
    {
     "name": "stderr",
     "output_type": "stream",
     "text": [
      "100%|█████████████████| 0.0045166015625/0.0045166015625 [00:00<00:00,  1.12s/it]"
     ]
    },
    {
     "name": "stdout",
     "output_type": "stream",
     "text": [
      "aec5d3cc-4bb2-4349-80a9-0395b76f04e2\n"
     ]
    },
    {
     "name": "stderr",
     "output_type": "stream",
     "text": [
      "\n"
     ]
    },
    {
     "name": "stdout",
     "output_type": "stream",
     "text": [
      "Downloading: /home/maria/Downloads/ONE/openalyx.internationalbrainlab.org/angelakilab/Subjects/NYU-37/2021-01-30/001/alf/probe01/pykilosort/channels.mlapdv.b1f24547-740a-4fe5-ae7f-64cd468ff341.npy Bytes: 4736\n"
     ]
    },
    {
     "name": "stderr",
     "output_type": "stream",
     "text": [
      "100%|█████████████████| 0.0045166015625/0.0045166015625 [00:00<00:00,  1.03s/it]"
     ]
    },
    {
     "name": "stdout",
     "output_type": "stream",
     "text": [
      "8c2f7f4d-7346-42a4-a715-4d37a5208535\n",
      "a9138924-4395-4981-83d1-530f6ff7c8fc\n"
     ]
    },
    {
     "name": "stderr",
     "output_type": "stream",
     "text": [
      "\n"
     ]
    },
    {
     "name": "stdout",
     "output_type": "stream",
     "text": [
      "Downloading: /home/maria/Downloads/ONE/openalyx.internationalbrainlab.org/wittenlab/Subjects/ibl_witten_26/2021-01-28/001/alf/probe01/pykilosort/channels.mlapdv.d84c1819-85e0-46d4-996e-ec9e4eb96bd5.npy Bytes: 4736\n"
     ]
    },
    {
     "name": "stderr",
     "output_type": "stream",
     "text": [
      "100%|█████████████████| 0.0045166015625/0.0045166015625 [00:00<00:00,  1.13it/s]"
     ]
    },
    {
     "name": "stdout",
     "output_type": "stream",
     "text": [
      "ff96bfe1-d925-4553-94b5-bf8297adf259\n"
     ]
    },
    {
     "name": "stderr",
     "output_type": "stream",
     "text": [
      "\n"
     ]
    },
    {
     "name": "stdout",
     "output_type": "stream",
     "text": [
      "Downloading: /home/maria/Downloads/ONE/openalyx.internationalbrainlab.org/wittenlab/Subjects/ibl_witten_26/2021-01-27/002/alf/probe01/pykilosort/channels.mlapdv.4794bd4b-4bba-4a77-9275-9641d9da386b.npy Bytes: 4736\n"
     ]
    },
    {
     "name": "stderr",
     "output_type": "stream",
     "text": [
      "100%|█████████████████| 0.0045166015625/0.0045166015625 [00:00<00:00,  2.50it/s]"
     ]
    },
    {
     "name": "stdout",
     "output_type": "stream",
     "text": [
      "83d85891-bd75-4557-91b4-1cbb5f8bfc9d\n"
     ]
    },
    {
     "name": "stderr",
     "output_type": "stream",
     "text": [
      "\n"
     ]
    },
    {
     "name": "stdout",
     "output_type": "stream",
     "text": [
      "Downloading: /home/maria/Downloads/ONE/openalyx.internationalbrainlab.org/angelakilab/Subjects/NYU-37/2021-01-27/001/alf/probe01/pykilosort/channels.mlapdv.a9d4afdb-eab7-4954-ab5e-86acf3cc6c84.npy Bytes: 4736\n"
     ]
    },
    {
     "name": "stderr",
     "output_type": "stream",
     "text": [
      "100%|█████████████████| 0.0045166015625/0.0045166015625 [00:00<00:00,  1.06it/s]"
     ]
    },
    {
     "name": "stdout",
     "output_type": "stream",
     "text": [
      "f88d4dd4-ccd7-400e-9035-fa00be3bcfa8\n"
     ]
    },
    {
     "name": "stderr",
     "output_type": "stream",
     "text": [
      "\n"
     ]
    },
    {
     "name": "stdout",
     "output_type": "stream",
     "text": [
      "Downloading: /home/maria/Downloads/ONE/openalyx.internationalbrainlab.org/angelakilab/Subjects/NYU-37/2021-01-26/001/alf/probe01/pykilosort/channels.mlapdv.21a53654-a135-4c94-89ed-57967975a1aa.npy Bytes: 4736\n"
     ]
    },
    {
     "name": "stderr",
     "output_type": "stream",
     "text": [
      "100%|█████████████████| 0.0045166015625/0.0045166015625 [00:00<00:00,  1.07s/it]"
     ]
    },
    {
     "name": "stdout",
     "output_type": "stream",
     "text": [
      "7af49c00-63dd-4fed-b2e0-1b3bd945b20b\n"
     ]
    },
    {
     "name": "stderr",
     "output_type": "stream",
     "text": [
      "\n"
     ]
    },
    {
     "name": "stdout",
     "output_type": "stream",
     "text": [
      "Downloading: /home/maria/Downloads/ONE/openalyx.internationalbrainlab.org/angelakilab/Subjects/NYU-37/2021-01-25/001/alf/probe01/pykilosort/channels.mlapdv.0d96edfc-e607-47c8-9c97-e4ecffcb6e87.npy Bytes: 4736\n"
     ]
    },
    {
     "name": "stderr",
     "output_type": "stream",
     "text": [
      "100%|█████████████████| 0.0045166015625/0.0045166015625 [00:00<00:00,  1.11s/it]"
     ]
    },
    {
     "name": "stdout",
     "output_type": "stream",
     "text": [
      "3f6e25ae-c007-4dc3-aa77-450fd5705046\n",
      "2c44a360-5a56-4971-8009-f469fb59de98\n"
     ]
    },
    {
     "name": "stderr",
     "output_type": "stream",
     "text": [
      "\n"
     ]
    },
    {
     "name": "stdout",
     "output_type": "stream",
     "text": [
      "Downloading: /home/maria/Downloads/ONE/openalyx.internationalbrainlab.org/mainenlab/Subjects/ZFM-01936/2021-01-23/001/alf/probe01/pykilosort/channels.mlapdv.5fc6b8a3-bcc2-4720-af19-6d0493eb624f.npy Bytes: 4736\n"
     ]
    },
    {
     "name": "stderr",
     "output_type": "stream",
     "text": [
      "100%|█████████████████| 0.0045166015625/0.0045166015625 [00:00<00:00,  1.11s/it]"
     ]
    },
    {
     "name": "stdout",
     "output_type": "stream",
     "text": [
      "9b5a1754-ac99-4d53-97d3-35c2f6638507\n",
      "73918ae1-e4fd-4c18-b132-00cb555b1ad2\n"
     ]
    },
    {
     "name": "stderr",
     "output_type": "stream",
     "text": [
      "\n"
     ]
    },
    {
     "name": "stdout",
     "output_type": "stream",
     "text": [
      "Downloading: /home/maria/Downloads/ONE/openalyx.internationalbrainlab.org/wittenlab/Subjects/ibl_witten_27/2021-01-21/001/alf/probe01/pykilosort/channels.mlapdv.c6c5fe65-a256-4f61-b30e-61c387a997cb.npy Bytes: 4736\n"
     ]
    },
    {
     "name": "stderr",
     "output_type": "stream",
     "text": [
      "100%|█████████████████| 0.0045166015625/0.0045166015625 [00:00<00:00,  1.02it/s]"
     ]
    },
    {
     "name": "stdout",
     "output_type": "stream",
     "text": [
      "f304211a-81b1-446f-a435-25e589fe3a5a\n"
     ]
    },
    {
     "name": "stderr",
     "output_type": "stream",
     "text": [
      "\n"
     ]
    },
    {
     "name": "stdout",
     "output_type": "stream",
     "text": [
      "Downloading: /home/maria/Downloads/ONE/openalyx.internationalbrainlab.org/wittenlab/Subjects/ibl_witten_27/2021-01-20/001/alf/probe01/pykilosort/channels.mlapdv.74e8d253-2560-44d4-963c-ad6a153704ef.npy Bytes: 4736\n"
     ]
    },
    {
     "name": "stderr",
     "output_type": "stream",
     "text": [
      "100%|█████████████████| 0.0045166015625/0.0045166015625 [00:00<00:00,  1.03it/s]"
     ]
    },
    {
     "name": "stdout",
     "output_type": "stream",
     "text": [
      "4aa1d525-5c7d-4c50-a147-ec53a9014812\n",
      "952870e5-f2a7-4518-9e6d-71585460f6fe\n"
     ]
    },
    {
     "name": "stderr",
     "output_type": "stream",
     "text": [
      "\n"
     ]
    },
    {
     "name": "stdout",
     "output_type": "stream",
     "text": [
      "Downloading: /home/maria/Downloads/ONE/openalyx.internationalbrainlab.org/wittenlab/Subjects/ibl_witten_27/2021-01-19/001/alf/probe01/pykilosort/channels.mlapdv.bb38877d-6d1a-4248-9615-2ddaca55f053.npy Bytes: 4736\n"
     ]
    },
    {
     "name": "stderr",
     "output_type": "stream",
     "text": [
      "100%|█████████████████| 0.0045166015625/0.0045166015625 [00:00<00:00,  1.14it/s]"
     ]
    },
    {
     "name": "stdout",
     "output_type": "stream",
     "text": [
      "d0ea3148-948d-4817-94f8-dcaf2342bbbe\n",
      "c728f6fd-58e2-448d-aefb-a72c637b604c\n"
     ]
    },
    {
     "name": "stderr",
     "output_type": "stream",
     "text": [
      "\n"
     ]
    },
    {
     "name": "stdout",
     "output_type": "stream",
     "text": [
      "Downloading: /home/maria/Downloads/ONE/openalyx.internationalbrainlab.org/wittenlab/Subjects/ibl_witten_27/2021-01-16/003/alf/probe01/pykilosort/channels.mlapdv.5063e293-8b27-4c0e-8696-afabe217b6aa.npy Bytes: 4736\n"
     ]
    },
    {
     "name": "stderr",
     "output_type": "stream",
     "text": [
      "100%|█████████████████| 0.0045166015625/0.0045166015625 [00:00<00:00,  1.05s/it]"
     ]
    },
    {
     "name": "stdout",
     "output_type": "stream",
     "text": [
      "25d1920e-a2af-4b6c-9f2e-fc6c65576544\n"
     ]
    },
    {
     "name": "stderr",
     "output_type": "stream",
     "text": [
      "\n"
     ]
    },
    {
     "name": "stdout",
     "output_type": "stream",
     "text": [
      "Downloading: /home/maria/Downloads/ONE/openalyx.internationalbrainlab.org/wittenlab/Subjects/ibl_witten_27/2021-01-13/002/alf/probe01/pykilosort/channels.mlapdv.d936f684-5e80-4390-8883-8c06236630d0.npy Bytes: 4736\n"
     ]
    },
    {
     "name": "stderr",
     "output_type": "stream",
     "text": [
      "100%|█████████████████| 0.0045166015625/0.0045166015625 [00:00<00:00,  2.40it/s]"
     ]
    },
    {
     "name": "stdout",
     "output_type": "stream",
     "text": [
      "9545aa05-3945-4054-a5c3-a259f7209d61\n"
     ]
    },
    {
     "name": "stderr",
     "output_type": "stream",
     "text": [
      "\n"
     ]
    },
    {
     "name": "stdout",
     "output_type": "stream",
     "text": [
      "Downloading: /home/maria/Downloads/ONE/openalyx.internationalbrainlab.org/mrsicflogellab/Subjects/SWC_058/2020-12-10/001/alf/probe01/pykilosort/channels.mlapdv.db50e03b-13a6-4f1a-a57b-c6980351b623.npy Bytes: 4736\n"
     ]
    },
    {
     "name": "stderr",
     "output_type": "stream",
     "text": [
      "100%|█████████████████| 0.0045166015625/0.0045166015625 [00:00<00:00,  1.09s/it]"
     ]
    },
    {
     "name": "stdout",
     "output_type": "stream",
     "text": [
      "d3a2b25e-46d3-4f0b-ade6-4e32255f4c35\n"
     ]
    },
    {
     "name": "stderr",
     "output_type": "stream",
     "text": [
      "\n"
     ]
    },
    {
     "name": "stdout",
     "output_type": "stream",
     "text": [
      "Downloading: /home/maria/Downloads/ONE/openalyx.internationalbrainlab.org/mrsicflogellab/Subjects/SWC_058/2020-12-09/001/alf/probe01/pykilosort/channels.mlapdv.95d89c16-459a-47f6-88fc-0658521cd2c7.npy Bytes: 4736\n"
     ]
    },
    {
     "name": "stderr",
     "output_type": "stream",
     "text": [
      "100%|█████████████████| 0.0045166015625/0.0045166015625 [00:00<00:00,  1.13s/it]"
     ]
    },
    {
     "name": "stdout",
     "output_type": "stream",
     "text": [
      "0cad7ea8-8e6c-4ad1-a5c5-53fbb2df1a63\n"
     ]
    },
    {
     "name": "stderr",
     "output_type": "stream",
     "text": [
      "\n"
     ]
    },
    {
     "name": "stdout",
     "output_type": "stream",
     "text": [
      "Downloading: /home/maria/Downloads/ONE/openalyx.internationalbrainlab.org/cortexlab/Subjects/KS045/2020-12-09/001/alf/probe01/pykilosort/channels.mlapdv.66cf3acb-cdc3-4822-9d76-699f1760decf.npy Bytes: 4736\n"
     ]
    },
    {
     "name": "stderr",
     "output_type": "stream",
     "text": [
      "100%|█████████████████| 0.0045166015625/0.0045166015625 [00:00<00:00,  1.17it/s]"
     ]
    },
    {
     "name": "stdout",
     "output_type": "stream",
     "text": [
      "781b35fd-e1f0-4d14-b2bb-95b7263082bb\n"
     ]
    },
    {
     "name": "stderr",
     "output_type": "stream",
     "text": [
      "\n"
     ]
    },
    {
     "name": "stdout",
     "output_type": "stream",
     "text": [
      "Downloading: /home/maria/Downloads/ONE/openalyx.internationalbrainlab.org/cortexlab/Subjects/KS044/2020-12-09/001/alf/probe01/pykilosort/channels.mlapdv.770ee7c9-e30f-40c5-b255-b85b871e729a.npy Bytes: 4736\n"
     ]
    },
    {
     "name": "stderr",
     "output_type": "stream",
     "text": [
      "100%|█████████████████| 0.0045166015625/0.0045166015625 [00:00<00:00,  2.01it/s]"
     ]
    },
    {
     "name": "stdout",
     "output_type": "stream",
     "text": [
      "5285c561-80da-4563-8694-739da92e5dd0\n"
     ]
    },
    {
     "name": "stderr",
     "output_type": "stream",
     "text": [
      "\n"
     ]
    },
    {
     "name": "stdout",
     "output_type": "stream",
     "text": [
      "Downloading: /home/maria/Downloads/ONE/openalyx.internationalbrainlab.org/wittenlab/Subjects/ibl_witten_25/2020-12-08/001/alf/probe01/pykilosort/channels.mlapdv.bf4461e8-ae8b-4367-8f20-ba24693a761c.npy Bytes: 4736\n"
     ]
    },
    {
     "name": "stderr",
     "output_type": "stream",
     "text": [
      "100%|█████████████████| 0.0045166015625/0.0045166015625 [00:00<00:00,  1.07s/it]"
     ]
    },
    {
     "name": "stdout",
     "output_type": "stream",
     "text": [
      "f1db6257-85ef-4385-b415-2d078ec75df2\n"
     ]
    },
    {
     "name": "stderr",
     "output_type": "stream",
     "text": [
      "\n"
     ]
    },
    {
     "name": "stdout",
     "output_type": "stream",
     "text": [
      "Downloading: /home/maria/Downloads/ONE/openalyx.internationalbrainlab.org/mrsicflogellab/Subjects/SWC_058/2020-12-08/001/alf/probe01/pykilosort/channels.mlapdv.dcaeb1c6-7953-4752-874b-114f0d80036f.npy Bytes: 4736\n"
     ]
    },
    {
     "name": "stderr",
     "output_type": "stream",
     "text": [
      "100%|█████████████████| 0.0045166015625/0.0045166015625 [00:00<00:00,  1.09s/it]"
     ]
    },
    {
     "name": "stdout",
     "output_type": "stream",
     "text": [
      "d9f0c293-df4c-410a-846d-842e47c6b502\n"
     ]
    },
    {
     "name": "stderr",
     "output_type": "stream",
     "text": [
      "\n"
     ]
    },
    {
     "name": "stdout",
     "output_type": "stream",
     "text": [
      "Downloading: /home/maria/Downloads/ONE/openalyx.internationalbrainlab.org/wittenlab/Subjects/ibl_witten_25/2020-12-07/002/alf/probe01/pykilosort/channels.mlapdv.4c51dd6b-232c-4ac6-95a6-185565193c5d.npy Bytes: 4736\n"
     ]
    },
    {
     "name": "stderr",
     "output_type": "stream",
     "text": [
      "100%|█████████████████| 0.0045166015625/0.0045166015625 [00:00<00:00,  3.98s/it]"
     ]
    },
    {
     "name": "stdout",
     "output_type": "stream",
     "text": [
      "3638d102-e8b6-4230-8742-e548cd87a949\n"
     ]
    },
    {
     "name": "stderr",
     "output_type": "stream",
     "text": [
      "\n"
     ]
    },
    {
     "name": "stdout",
     "output_type": "stream",
     "text": [
      "Downloading: /home/maria/Downloads/ONE/openalyx.internationalbrainlab.org/mrsicflogellab/Subjects/SWC_058/2020-12-07/001/alf/probe01/pykilosort/channels.mlapdv.98cf30ba-cc6d-4027-aae8-7f7c4a6f1954.npy Bytes: 4736\n"
     ]
    },
    {
     "name": "stderr",
     "output_type": "stream",
     "text": [
      "100%|█████████████████| 0.0045166015625/0.0045166015625 [00:00<00:00,  1.04it/s]"
     ]
    },
    {
     "name": "stdout",
     "output_type": "stream",
     "text": [
      "a6fe44a8-07ab-49b8-81f9-e18575aa85cc\n"
     ]
    },
    {
     "name": "stderr",
     "output_type": "stream",
     "text": [
      "\n"
     ]
    },
    {
     "name": "stdout",
     "output_type": "stream",
     "text": [
      "Downloading: /home/maria/Downloads/ONE/openalyx.internationalbrainlab.org/cortexlab/Subjects/KS044/2020-12-07/001/alf/probe01/pykilosort/channels.mlapdv.7d17530d-f7cd-4833-864e-5bbc5f37b952.npy Bytes: 4736\n"
     ]
    },
    {
     "name": "stderr",
     "output_type": "stream",
     "text": [
      "100%|█████████████████| 0.0045166015625/0.0045166015625 [00:00<00:00,  2.23it/s]"
     ]
    },
    {
     "name": "stdout",
     "output_type": "stream",
     "text": [
      "e5c75b62-6871-4135-b3d0-f6464c2d90c0\n"
     ]
    },
    {
     "name": "stderr",
     "output_type": "stream",
     "text": [
      "\n"
     ]
    },
    {
     "name": "stdout",
     "output_type": "stream",
     "text": [
      "Downloading: /home/maria/Downloads/ONE/openalyx.internationalbrainlab.org/cortexlab/Subjects/KS043/2020-12-07/001/alf/probe01/pykilosort/channels.mlapdv.be5dd107-663d-47e4-81bf-5d5b3ba9d86b.npy Bytes: 4736\n"
     ]
    },
    {
     "name": "stderr",
     "output_type": "stream",
     "text": [
      "100%|█████████████████| 0.0045166015625/0.0045166015625 [00:00<00:00,  1.02s/it]"
     ]
    },
    {
     "name": "stdout",
     "output_type": "stream",
     "text": [
      "571d3ffe-54a5-473d-a265-5dc373eb7efc\n"
     ]
    },
    {
     "name": "stderr",
     "output_type": "stream",
     "text": [
      "\n"
     ]
    },
    {
     "name": "stdout",
     "output_type": "stream",
     "text": [
      "Downloading: /home/maria/Downloads/ONE/openalyx.internationalbrainlab.org/cortexlab/Subjects/KS045/2020-12-06/002/alf/probe01/pykilosort/channels.mlapdv.dc87dbfb-20c9-4367-a705-e4b1ebc568ae.npy Bytes: 4736\n"
     ]
    },
    {
     "name": "stderr",
     "output_type": "stream",
     "text": [
      "100%|█████████████████| 0.0045166015625/0.0045166015625 [00:00<00:00,  2.18it/s]"
     ]
    },
    {
     "name": "stdout",
     "output_type": "stream",
     "text": [
      "9468fa93-21ae-4984-955c-e8402e280c83\n"
     ]
    },
    {
     "name": "stderr",
     "output_type": "stream",
     "text": [
      "\n"
     ]
    },
    {
     "name": "stdout",
     "output_type": "stream",
     "text": [
      "Downloading: /home/maria/Downloads/ONE/openalyx.internationalbrainlab.org/cortexlab/Subjects/KS043/2020-12-06/001/alf/probe01/pykilosort/channels.mlapdv.d4beb47b-0b64-4524-aabe-ec599ac3e7cc.npy Bytes: 4736\n"
     ]
    },
    {
     "name": "stderr",
     "output_type": "stream",
     "text": [
      "100%|█████████████████| 0.0045166015625/0.0045166015625 [00:00<00:00,  1.09s/it]"
     ]
    },
    {
     "name": "stdout",
     "output_type": "stream",
     "text": [
      "aa3432cd-62bd-40bc-bc1c-a12d53bcbdcf\n"
     ]
    },
    {
     "name": "stderr",
     "output_type": "stream",
     "text": [
      "\n"
     ]
    },
    {
     "name": "stdout",
     "output_type": "stream",
     "text": [
      "Downloading: /home/maria/Downloads/ONE/openalyx.internationalbrainlab.org/cortexlab/Subjects/KS046/2020-12-05/001/alf/probe01/pykilosort/channels.mlapdv.c22fa1e1-d1fc-4c94-b45f-accf14a18245.npy Bytes: 4736\n"
     ]
    },
    {
     "name": "stderr",
     "output_type": "stream",
     "text": [
      "100%|█████████████████| 0.0045166015625/0.0045166015625 [00:00<00:00,  1.37s/it]"
     ]
    },
    {
     "name": "stdout",
     "output_type": "stream",
     "text": [
      "dfbe628d-365b-461c-a07f-8b9911ba83aa\n"
     ]
    },
    {
     "name": "stderr",
     "output_type": "stream",
     "text": [
      "\n"
     ]
    },
    {
     "name": "stdout",
     "output_type": "stream",
     "text": [
      "Downloading: /home/maria/Downloads/ONE/openalyx.internationalbrainlab.org/cortexlab/Subjects/KS046/2020-12-04/001/alf/probe01/pykilosort/channels.mlapdv.205975ae-f35a-4abb-a64f-2c58d835c879.npy Bytes: 4736\n"
     ]
    },
    {
     "name": "stderr",
     "output_type": "stream",
     "text": [
      "100%|█████████████████| 0.0045166015625/0.0045166015625 [00:00<00:00,  1.19it/s]"
     ]
    },
    {
     "name": "stdout",
     "output_type": "stream",
     "text": [
      "9e9c6fc0-4769-4d83-9ea4-b59a1230510e\n",
      "69c9a415-f7fa-4208-887b-1417c1479b48\n"
     ]
    },
    {
     "name": "stderr",
     "output_type": "stream",
     "text": [
      "\n"
     ]
    },
    {
     "name": "stdout",
     "output_type": "stream",
     "text": [
      "Downloading: /home/maria/Downloads/ONE/openalyx.internationalbrainlab.org/cortexlab/Subjects/KS046/2020-12-03/001/alf/probe01/pykilosort/channels.mlapdv.3036cb0c-2252-48fd-a5e7-355d7982e522.npy Bytes: 4736\n"
     ]
    },
    {
     "name": "stderr",
     "output_type": "stream",
     "text": [
      "100%|█████████████████| 0.0045166015625/0.0045166015625 [00:00<00:00,  1.12s/it]"
     ]
    },
    {
     "name": "stdout",
     "output_type": "stream",
     "text": [
      "0ac8d013-b91e-4732-bc7b-a1164ff3e445\n"
     ]
    },
    {
     "name": "stderr",
     "output_type": "stream",
     "text": [
      "\n"
     ]
    },
    {
     "name": "stdout",
     "output_type": "stream",
     "text": [
      "Downloading: /home/maria/Downloads/ONE/openalyx.internationalbrainlab.org/cortexlab/Subjects/KS046/2020-12-02/001/alf/probe01/pykilosort/channels.mlapdv.2173d189-6bd5-4e2d-a44c-83f5caf1f200.npy Bytes: 4736\n"
     ]
    },
    {
     "name": "stderr",
     "output_type": "stream",
     "text": [
      "100%|█████████████████| 0.0045166015625/0.0045166015625 [00:00<00:00,  1.08s/it]"
     ]
    },
    {
     "name": "stdout",
     "output_type": "stream",
     "text": [
      "c4432264-e1ae-446f-8a07-6280abade813\n"
     ]
    },
    {
     "name": "stderr",
     "output_type": "stream",
     "text": [
      "\n"
     ]
    },
    {
     "name": "stdout",
     "output_type": "stream",
     "text": [
      "Downloading: /home/maria/Downloads/ONE/openalyx.internationalbrainlab.org/mainenlab/Subjects/ZFM-01576/2020-12-01/001/alf/probe01/pykilosort/channels.mlapdv.f3440431-433b-436a-ad18-40b18cf0678f.npy Bytes: 4736\n"
     ]
    },
    {
     "name": "stderr",
     "output_type": "stream",
     "text": [
      "100%|█████████████████| 0.0045166015625/0.0045166015625 [00:00<00:00,  1.10it/s]"
     ]
    },
    {
     "name": "stdout",
     "output_type": "stream",
     "text": [
      "d7e60cc3-6020-429e-a654-636c6cc677ea\n"
     ]
    },
    {
     "name": "stderr",
     "output_type": "stream",
     "text": [
      "\n"
     ]
    },
    {
     "name": "stdout",
     "output_type": "stream",
     "text": [
      "Downloading: /home/maria/Downloads/ONE/openalyx.internationalbrainlab.org/hoferlab/Subjects/SWC_061/2020-11-30/001/alf/probe01/pykilosort/channels.mlapdv.3c003a23-873d-4a3c-b085-478b47c10dd8.npy Bytes: 4736\n"
     ]
    },
    {
     "name": "stderr",
     "output_type": "stream",
     "text": [
      "100%|█████████████████| 0.0045166015625/0.0045166015625 [00:00<00:00,  1.03it/s]"
     ]
    },
    {
     "name": "stdout",
     "output_type": "stream",
     "text": [
      "360eac0c-7d2d-4cc1-9dcf-79fc7afc56e7\n"
     ]
    },
    {
     "name": "stderr",
     "output_type": "stream",
     "text": [
      "\n"
     ]
    },
    {
     "name": "stdout",
     "output_type": "stream",
     "text": [
      "Downloading: /home/maria/Downloads/ONE/openalyx.internationalbrainlab.org/hoferlab/Subjects/SWC_061/2020-11-26/001/alf/probe01/pykilosort/channels.mlapdv.553db907-66f7-4579-b35c-01105abcd31d.npy Bytes: 4736\n"
     ]
    },
    {
     "name": "stderr",
     "output_type": "stream",
     "text": [
      "100%|█████████████████| 0.0045166015625/0.0045166015625 [00:00<00:00,  1.03it/s]"
     ]
    },
    {
     "name": "stdout",
     "output_type": "stream",
     "text": [
      "81a1dca0-cc90-47c5-afe3-c277319c47c8\n"
     ]
    },
    {
     "name": "stderr",
     "output_type": "stream",
     "text": [
      "\n"
     ]
    },
    {
     "name": "stdout",
     "output_type": "stream",
     "text": [
      "Downloading: /home/maria/Downloads/ONE/openalyx.internationalbrainlab.org/hoferlab/Subjects/SWC_060/2020-11-26/001/alf/probe01/pykilosort/channels.mlapdv.6f535f9e-5309-48d1-8af6-76865375e969.npy Bytes: 4736\n"
     ]
    },
    {
     "name": "stderr",
     "output_type": "stream",
     "text": [
      "100%|█████████████████| 0.0045166015625/0.0045166015625 [00:00<00:00,  1.26s/it]"
     ]
    },
    {
     "name": "stdout",
     "output_type": "stream",
     "text": [
      "875c1e5c-f7ec-45ac-ab82-ecfe7276a707\n"
     ]
    },
    {
     "name": "stderr",
     "output_type": "stream",
     "text": [
      "\n"
     ]
    },
    {
     "name": "stdout",
     "output_type": "stream",
     "text": [
      "Downloading: /home/maria/Downloads/ONE/openalyx.internationalbrainlab.org/hoferlab/Subjects/SWC_060/2020-11-25/001/alf/probe01/pykilosort/channels.mlapdv.6f3a3c6e-b172-4963-b52c-cfe429752c3a.npy Bytes: 4736\n"
     ]
    },
    {
     "name": "stderr",
     "output_type": "stream",
     "text": [
      "100%|█████████████████| 0.0045166015625/0.0045166015625 [00:00<00:00,  1.17s/it]"
     ]
    },
    {
     "name": "stdout",
     "output_type": "stream",
     "text": [
      "dac3a4c1-b666-4de0-87e8-8c514483cacf\n"
     ]
    },
    {
     "name": "stderr",
     "output_type": "stream",
     "text": [
      "\n"
     ]
    },
    {
     "name": "stdout",
     "output_type": "stream",
     "text": [
      "Downloading: /home/maria/Downloads/ONE/openalyx.internationalbrainlab.org/hoferlab/Subjects/SWC_060/2020-11-24/001/alf/probe01/pykilosort/channels.mlapdv.0ae4a64c-5565-4575-aa13-831c67561690.npy Bytes: 4736\n"
     ]
    },
    {
     "name": "stderr",
     "output_type": "stream",
     "text": [
      "100%|█████████████████| 0.0045166015625/0.0045166015625 [00:00<00:00,  2.40it/s]"
     ]
    },
    {
     "name": "stdout",
     "output_type": "stream",
     "text": [
      "07dc4b76-5b93-4a03-82a0-b3d9cc73f412\n"
     ]
    },
    {
     "name": "stderr",
     "output_type": "stream",
     "text": [
      "\n"
     ]
    },
    {
     "name": "stdout",
     "output_type": "stream",
     "text": [
      "Downloading: /home/maria/Downloads/ONE/openalyx.internationalbrainlab.org/cortexlab/Subjects/KS042/2020-11-24/001/alf/probe01/pykilosort/channels.mlapdv.806cb836-228b-47e9-b0f9-dab6fd5d75f6.npy Bytes: 4736\n"
     ]
    },
    {
     "name": "stderr",
     "output_type": "stream",
     "text": [
      "100%|█████████████████| 0.0045166015625/0.0045166015625 [00:00<00:00,  1.20s/it]"
     ]
    },
    {
     "name": "stdout",
     "output_type": "stream",
     "text": [
      "493170a6-fd94-4ee4-884f-cc018c17eeb9\n"
     ]
    },
    {
     "name": "stderr",
     "output_type": "stream",
     "text": [
      "\n"
     ]
    },
    {
     "name": "stdout",
     "output_type": "stream",
     "text": [
      "Downloading: /home/maria/Downloads/ONE/openalyx.internationalbrainlab.org/hoferlab/Subjects/SWC_061/2020-11-23/001/alf/probe01/pykilosort/channels.mlapdv.750adec4-9ba5-4f36-b01b-09d2f91bda2f.npy Bytes: 4736\n"
     ]
    },
    {
     "name": "stderr",
     "output_type": "stream",
     "text": [
      "100%|█████████████████| 0.0045166015625/0.0045166015625 [00:00<00:00,  2.22it/s]"
     ]
    },
    {
     "name": "stdout",
     "output_type": "stream",
     "text": [
      "8c552ddc-813e-4035-81cc-3971b57efe65\n"
     ]
    },
    {
     "name": "stderr",
     "output_type": "stream",
     "text": [
      "\n"
     ]
    },
    {
     "name": "stdout",
     "output_type": "stream",
     "text": [
      "Downloading: /home/maria/Downloads/ONE/openalyx.internationalbrainlab.org/cortexlab/Subjects/KS042/2020-11-23/001/alf/probe01/pykilosort/channels.mlapdv.9d8b1053-35d2-466f-9d5c-be6415e3d30f.npy Bytes: 4736\n"
     ]
    },
    {
     "name": "stderr",
     "output_type": "stream",
     "text": [
      "100%|█████████████████| 0.0045166015625/0.0045166015625 [00:00<00:00,  1.04s/it]"
     ]
    },
    {
     "name": "stdout",
     "output_type": "stream",
     "text": [
      "032452e9-1886-449d-9c13-0f192572e19f\n",
      "75b6b132-d998-4fba-8482-961418ac957d\n"
     ]
    },
    {
     "name": "stderr",
     "output_type": "stream",
     "text": [
      "\n"
     ]
    },
    {
     "name": "stdout",
     "output_type": "stream",
     "text": [
      "239cdbb1-68e2-4eb0-91d8-ae5ae4001c7a\n",
      "Downloading: /home/maria/Downloads/ONE/openalyx.internationalbrainlab.org/mrsicflogellab/Subjects/SWC_053/2020-11-10/001/alf/probe01/pykilosort/channels.mlapdv.3545ee8d-2bbf-4a73-934a-aeae52fed8ce.npy Bytes: 4736\n"
     ]
    },
    {
     "name": "stderr",
     "output_type": "stream",
     "text": [
      "100%|█████████████████| 0.0045166015625/0.0045166015625 [00:00<00:00,  1.17s/it]"
     ]
    },
    {
     "name": "stdout",
     "output_type": "stream",
     "text": [
      "63f3dbc1-1a5f-44e5-98dd-ce25cd2b7871\n",
      "5d6aa933-4b00-4e99-ae2d-5003657592e9\n"
     ]
    },
    {
     "name": "stderr",
     "output_type": "stream",
     "text": [
      "\n"
     ]
    },
    {
     "name": "stdout",
     "output_type": "stream",
     "text": [
      "09b2c4d1-058d-4c84-9fd4-97530f85baf6\n",
      "Downloading: /home/maria/Downloads/ONE/openalyx.internationalbrainlab.org/mainenlab/Subjects/ZFM-01577/2020-10-28/001/alf/probe01/pykilosort/channels.mlapdv.d87f2365-8a9c-4ab4-ae35-5e8bbea114b5.npy Bytes: 4736\n"
     ]
    },
    {
     "name": "stderr",
     "output_type": "stream",
     "text": [
      "100%|█████████████████| 0.0045166015625/0.0045166015625 [00:00<00:00,  1.33s/it]"
     ]
    },
    {
     "name": "stdout",
     "output_type": "stream",
     "text": [
      "56bc129c-6265-407a-a208-cc16d20a6c01\n",
      "f84045b0-ce09-4ace-9d11-5ea491620707\n"
     ]
    },
    {
     "name": "stderr",
     "output_type": "stream",
     "text": [
      "\n"
     ]
    },
    {
     "name": "stdout",
     "output_type": "stream",
     "text": [
      "Downloading: /home/maria/Downloads/ONE/openalyx.internationalbrainlab.org/mrsicflogellab/Subjects/SWC_052/2020-10-23/001/alf/probe01/pykilosort/channels.mlapdv.db49658e-0ddc-4e96-8a5c-3af0626df393.npy Bytes: 4736\n"
     ]
    },
    {
     "name": "stderr",
     "output_type": "stream",
     "text": [
      "100%|█████████████████| 0.0045166015625/0.0045166015625 [00:00<00:00,  1.83it/s]"
     ]
    },
    {
     "name": "stdout",
     "output_type": "stream",
     "text": [
      "7cb81727-2097-4b52-b480-c89867b5b34c\n"
     ]
    },
    {
     "name": "stderr",
     "output_type": "stream",
     "text": [
      "\n"
     ]
    },
    {
     "name": "stdout",
     "output_type": "stream",
     "text": [
      "5b609f9b-75cb-43d3-9c39-b5b4b7a0db67\n",
      "Downloading: /home/maria/Downloads/ONE/openalyx.internationalbrainlab.org/mainenlab/Subjects/ZFM-01592/2020-10-21/001/alf/probe01/pykilosort/channels.mlapdv.69e8e083-572b-48be-8cb9-a10aa54aa9c8.npy Bytes: 4736\n"
     ]
    },
    {
     "name": "stderr",
     "output_type": "stream",
     "text": [
      "100%|█████████████████| 0.0045166015625/0.0045166015625 [00:00<00:00,  3.39s/it]"
     ]
    },
    {
     "name": "stdout",
     "output_type": "stream",
     "text": [
      "22e04698-b974-4805-b241-3b547dbf37bf\n"
     ]
    },
    {
     "name": "stderr",
     "output_type": "stream",
     "text": [
      "\n"
     ]
    },
    {
     "name": "stdout",
     "output_type": "stream",
     "text": [
      "Downloading: /home/maria/Downloads/ONE/openalyx.internationalbrainlab.org/mrsicflogellab/Subjects/SWC_052/2020-10-21/002/alf/probe01/pykilosort/channels.mlapdv.6aa7b20d-0847-465c-8c05-7b75187f40a7.npy Bytes: 4736\n"
     ]
    },
    {
     "name": "stderr",
     "output_type": "stream",
     "text": [
      "100%|█████████████████| 0.0045166015625/0.0045166015625 [00:00<00:00,  1.18s/it]"
     ]
    },
    {
     "name": "stdout",
     "output_type": "stream",
     "text": [
      "5569f363-0934-464e-9a5b-77c8e67791a1\n",
      "746d1902-fa59-4cab-b0aa-013be36060d5\n"
     ]
    },
    {
     "name": "stderr",
     "output_type": "stream",
     "text": [
      "\n"
     ]
    },
    {
     "name": "stdout",
     "output_type": "stream",
     "text": [
      "Downloading: /home/maria/Downloads/ONE/openalyx.internationalbrainlab.org/mainenlab/Subjects/ZFM-01592/2020-10-20/001/alf/probe01/pykilosort/channels.mlapdv.4b45f12e-3fb8-4468-908a-b5b658955d5d.npy Bytes: 4736\n"
     ]
    },
    {
     "name": "stderr",
     "output_type": "stream",
     "text": [
      "100%|█████████████████| 0.0045166015625/0.0045166015625 [00:00<00:00,  1.22it/s]"
     ]
    },
    {
     "name": "stdout",
     "output_type": "stream",
     "text": [
      "1928bf72-2002-46a6-8930-728420402e01\n"
     ]
    },
    {
     "name": "stderr",
     "output_type": "stream",
     "text": [
      "\n"
     ]
    },
    {
     "name": "stdout",
     "output_type": "stream",
     "text": [
      "Downloading: /home/maria/Downloads/ONE/openalyx.internationalbrainlab.org/mrsicflogellab/Subjects/SWC_052/2020-10-20/001/alf/probe01/pykilosort/channels.mlapdv.41186dbc-d898-43f7-b40c-92c92eabe88f.npy Bytes: 4736\n"
     ]
    },
    {
     "name": "stderr",
     "output_type": "stream",
     "text": [
      "100%|█████████████████| 0.0045166015625/0.0045166015625 [00:00<00:00,  1.68it/s]"
     ]
    },
    {
     "name": "stdout",
     "output_type": "stream",
     "text": [
      "77e6dc6a-66ed-433c-b1a2-778c914f523c\n",
      "cde63527-7f5a-4cc3-8ac2-215d82e7da26\n",
      "7416f387-b302-4ca3-8daf-03b585a1b7ec\n"
     ]
    },
    {
     "name": "stderr",
     "output_type": "stream",
     "text": [
      "\n"
     ]
    },
    {
     "name": "stdout",
     "output_type": "stream",
     "text": [
      "Downloading: /home/maria/Downloads/ONE/openalyx.internationalbrainlab.org/mrsicflogellab/Subjects/SWC_052/2020-10-19/001/alf/probe01/pykilosort/channels.mlapdv.8114a06a-7edd-47fc-9d63-d98cf4b61783.npy Bytes: 4736\n"
     ]
    },
    {
     "name": "stderr",
     "output_type": "stream",
     "text": [
      "100%|█████████████████| 0.0045166015625/0.0045166015625 [00:00<00:00,  1.04s/it]"
     ]
    },
    {
     "name": "stdout",
     "output_type": "stream",
     "text": [
      "7691eeb3-715b-4571-8fda-6bb57aab8253\n",
      "fc14c0d6-51cf-48ba-b326-56ed5a9420c3\n",
      "45ef6691-7b80-4a43-bd1a-85fc00851ae8\n"
     ]
    },
    {
     "name": "stderr",
     "output_type": "stream",
     "text": [
      "\n"
     ]
    },
    {
     "name": "stdout",
     "output_type": "stream",
     "text": [
      "Downloading: /home/maria/Downloads/ONE/openalyx.internationalbrainlab.org/mrsicflogellab/Subjects/SWC_052/2020-10-17/001/alf/probe01/pykilosort/channels.mlapdv.2c96adfa-a178-408b-ac52-5d4942596421.npy Bytes: 4736\n"
     ]
    },
    {
     "name": "stderr",
     "output_type": "stream",
     "text": [
      "100%|█████████████████| 0.0045166015625/0.0045166015625 [00:00<00:00,  1.48s/it]"
     ]
    },
    {
     "name": "stdout",
     "output_type": "stream",
     "text": [
      "e8b4fda3-7fe4-4706-8ec2-91036cfee6bd\n"
     ]
    },
    {
     "name": "stderr",
     "output_type": "stream",
     "text": [
      "\n"
     ]
    },
    {
     "name": "stdout",
     "output_type": "stream",
     "text": [
      "Downloading: /home/maria/Downloads/ONE/openalyx.internationalbrainlab.org/danlab/Subjects/DY_018/2020-10-17/001/alf/probe01/pykilosort/channels.mlapdv.d8d01138-8c37-4261-9bd3-a8a3960a44fa.npy Bytes: 4736\n"
     ]
    },
    {
     "name": "stderr",
     "output_type": "stream",
     "text": [
      "100%|█████████████████| 0.0045166015625/0.0045166015625 [00:00<00:00,  1.06it/s]"
     ]
    },
    {
     "name": "stdout",
     "output_type": "stream",
     "text": [
      "54238fd6-d2d0-4408-b1a9-d19d24fd29ce\n",
      "6bb5da8f-6858-4fdd-96d9-c34b3b841593\n",
      "671c7ea7-6726-4fbe-adeb-f89c2c8e489b\n"
     ]
    },
    {
     "name": "stderr",
     "output_type": "stream",
     "text": [
      "\n"
     ]
    },
    {
     "name": "stdout",
     "output_type": "stream",
     "text": [
      "Downloading: /home/maria/Downloads/ONE/openalyx.internationalbrainlab.org/mrsicflogellab/Subjects/SWC_054/2020-10-10/001/alf/probe01/pykilosort/channels.mlapdv.e60724a8-ea29-489f-a8de-a84ef32c08f8.npy Bytes: 4736\n"
     ]
    },
    {
     "name": "stderr",
     "output_type": "stream",
     "text": [
      "100%|█████████████████| 0.0045166015625/0.0045166015625 [00:00<00:00,  1.10s/it]"
     ]
    },
    {
     "name": "stdout",
     "output_type": "stream",
     "text": [
      "eebacd5a-7dcd-4ba6-9dff-ec2a4d2f19e0\n"
     ]
    },
    {
     "name": "stderr",
     "output_type": "stream",
     "text": [
      "\n"
     ]
    },
    {
     "name": "stdout",
     "output_type": "stream",
     "text": [
      "Downloading: /home/maria/Downloads/ONE/openalyx.internationalbrainlab.org/mrsicflogellab/Subjects/SWC_054/2020-10-09/001/alf/probe01/pykilosort/channels.mlapdv.3dd618d8-dca5-439d-a1e4-3c7b31ed737e.npy Bytes: 4736\n"
     ]
    },
    {
     "name": "stderr",
     "output_type": "stream",
     "text": [
      "100%|█████████████████| 0.0045166015625/0.0045166015625 [00:00<00:00,  3.56s/it]"
     ]
    },
    {
     "name": "stdout",
     "output_type": "stream",
     "text": [
      "6c6983ef-7383-4989-9183-32b1a300d17a\n"
     ]
    },
    {
     "name": "stderr",
     "output_type": "stream",
     "text": [
      "\n"
     ]
    },
    {
     "name": "stdout",
     "output_type": "stream",
     "text": [
      "Downloading: /home/maria/Downloads/ONE/openalyx.internationalbrainlab.org/mrsicflogellab/Subjects/SWC_054/2020-10-07/001/alf/probe01/pykilosort/channels.mlapdv.c35a7a6b-1f43-44da-90c7-efabf6b509d1.npy Bytes: 4736\n"
     ]
    },
    {
     "name": "stderr",
     "output_type": "stream",
     "text": [
      "100%|█████████████████| 0.0045166015625/0.0045166015625 [00:00<00:00,  1.17s/it]"
     ]
    },
    {
     "name": "stdout",
     "output_type": "stream",
     "text": [
      "91796ceb-e314-4859-9a1f-092f85cc846a\n"
     ]
    },
    {
     "name": "stderr",
     "output_type": "stream",
     "text": [
      "\n"
     ]
    },
    {
     "name": "stdout",
     "output_type": "stream",
     "text": [
      "Downloading: /home/maria/Downloads/ONE/openalyx.internationalbrainlab.org/mrsicflogellab/Subjects/SWC_054/2020-10-06/001/alf/probe01/pykilosort/channels.mlapdv.ffc07f8e-15b6-48b3-8292-de35b37d0268.npy Bytes: 4736\n"
     ]
    },
    {
     "name": "stderr",
     "output_type": "stream",
     "text": [
      "100%|█████████████████| 0.0045166015625/0.0045166015625 [00:00<00:00,  1.40it/s]"
     ]
    },
    {
     "name": "stdout",
     "output_type": "stream",
     "text": [
      "2e22c1fc-eec6-4856-85a0-7dba8668f646\n"
     ]
    },
    {
     "name": "stderr",
     "output_type": "stream",
     "text": [
      "\n"
     ]
    },
    {
     "name": "stdout",
     "output_type": "stream",
     "text": [
      "Downloading: /home/maria/Downloads/ONE/openalyx.internationalbrainlab.org/danlab/Subjects/DY_020/2020-10-06/001/alf/probe01/pykilosort/channels.mlapdv.92134053-42ef-4ae4-a7f9-4dc94d989031.npy Bytes: 4736\n"
     ]
    },
    {
     "name": "stderr",
     "output_type": "stream",
     "text": [
      "100%|█████████████████| 0.0045166015625/0.0045166015625 [00:00<00:00,  1.02it/s]"
     ]
    },
    {
     "name": "stdout",
     "output_type": "stream",
     "text": [
      "56b57c38-2699-4091-90a8-aba35103155e\n"
     ]
    },
    {
     "name": "stderr",
     "output_type": "stream",
     "text": [
      "\n"
     ]
    },
    {
     "name": "stdout",
     "output_type": "stream",
     "text": [
      "Downloading: /home/maria/Downloads/ONE/openalyx.internationalbrainlab.org/mrsicflogellab/Subjects/SWC_054/2020-10-05/001/alf/probe01/pykilosort/channels.mlapdv.bfc4b0dd-2cf7-4416-8bcc-660ba0d2faa4.npy Bytes: 4736\n"
     ]
    },
    {
     "name": "stderr",
     "output_type": "stream",
     "text": [
      "100%|█████████████████| 0.0045166015625/0.0045166015625 [00:00<00:00,  1.09s/it]"
     ]
    },
    {
     "name": "stdout",
     "output_type": "stream",
     "text": [
      "e26c6001-defe-42a9-9ded-368e3f03ac61\n",
      "948fd27b-507b-41b3-bdf8-f9f5f0af8e0b\n"
     ]
    },
    {
     "name": "stderr",
     "output_type": "stream",
     "text": [
      "\n"
     ]
    },
    {
     "name": "stdout",
     "output_type": "stream",
     "text": [
      "e012d3e3-fdbc-4661-9ffa-5fa284e4e706\n",
      "Downloading: /home/maria/Downloads/ONE/openalyx.internationalbrainlab.org/danlab/Subjects/DY_020/2020-10-04/001/alf/probe01/pykilosort/channels.mlapdv.f00f05bc-469c-4412-b5ba-a7669d127104.npy Bytes: 4736\n"
     ]
    },
    {
     "name": "stderr",
     "output_type": "stream",
     "text": [
      "100%|█████████████████| 0.0045166015625/0.0045166015625 [00:00<00:00,  1.01it/s]"
     ]
    },
    {
     "name": "stdout",
     "output_type": "stream",
     "text": [
      "26aa51ff-968c-42e4-85c8-8ff47d19254d\n"
     ]
    },
    {
     "name": "stderr",
     "output_type": "stream",
     "text": [
      "\n"
     ]
    },
    {
     "name": "stdout",
     "output_type": "stream",
     "text": [
      "Downloading: /home/maria/Downloads/ONE/openalyx.internationalbrainlab.org/danlab/Subjects/DY_020/2020-10-03/001/alf/probe01/pykilosort/channels.mlapdv.844ee77c-09ee-495b-bf9f-59263839b332.npy Bytes: 4736\n"
     ]
    },
    {
     "name": "stderr",
     "output_type": "stream",
     "text": [
      "100%|█████████████████| 0.0045166015625/0.0045166015625 [00:00<00:00,  1.28s/it]"
     ]
    },
    {
     "name": "stdout",
     "output_type": "stream",
     "text": [
      "9fe512b8-92a8-4642-83b6-01158ab66c3c\n"
     ]
    },
    {
     "name": "stderr",
     "output_type": "stream",
     "text": [
      "\n"
     ]
    },
    {
     "name": "stdout",
     "output_type": "stream",
     "text": [
      "Downloading: /home/maria/Downloads/ONE/openalyx.internationalbrainlab.org/danlab/Subjects/DY_020/2020-10-02/001/alf/probe01/pykilosort/channels.mlapdv.2ddad962-d849-4059-b98a-adfcfa710ece.npy Bytes: 4736\n"
     ]
    },
    {
     "name": "stderr",
     "output_type": "stream",
     "text": [
      "100%|█████████████████| 0.0045166015625/0.0045166015625 [00:00<00:00,  1.13s/it]"
     ]
    },
    {
     "name": "stdout",
     "output_type": "stream",
     "text": [
      "a52f5a1b-7f45-4f2c-89a9-fb199d2a0d63\n"
     ]
    },
    {
     "name": "stderr",
     "output_type": "stream",
     "text": [
      "\n"
     ]
    },
    {
     "name": "stdout",
     "output_type": "stream",
     "text": [
      "Downloading: /home/maria/Downloads/ONE/openalyx.internationalbrainlab.org/wittenlab/Subjects/ibl_witten_23/2020-10-01/005/alf/probe01/pykilosort/channels.mlapdv.730ffd8c-a229-462b-848c-17388f143628.npy Bytes: 4736\n"
     ]
    },
    {
     "name": "stderr",
     "output_type": "stream",
     "text": [
      "100%|█████████████████| 0.0045166015625/0.0045166015625 [00:00<00:00,  1.42s/it]"
     ]
    },
    {
     "name": "stdout",
     "output_type": "stream",
     "text": [
      "9eec761e-9762-4897-b308-a3a08c311e69\n"
     ]
    },
    {
     "name": "stderr",
     "output_type": "stream",
     "text": [
      "\n"
     ]
    },
    {
     "name": "stdout",
     "output_type": "stream",
     "text": [
      "Downloading: /home/maria/Downloads/ONE/openalyx.internationalbrainlab.org/danlab/Subjects/DY_020/2020-10-01/001/alf/probe01/pykilosort/channels.mlapdv.333ce0b7-0ad0-4cb7-bfc1-b13faddbcc4d.npy Bytes: 4736\n"
     ]
    },
    {
     "name": "stderr",
     "output_type": "stream",
     "text": [
      "100%|█████████████████| 0.0045166015625/0.0045166015625 [00:00<00:00,  1.03it/s]"
     ]
    },
    {
     "name": "stdout",
     "output_type": "stream",
     "text": [
      "f7335a49-4a98-46d2-a8ce-d041d2eac1d6\n"
     ]
    },
    {
     "name": "stderr",
     "output_type": "stream",
     "text": [
      "\n"
     ]
    },
    {
     "name": "stdout",
     "output_type": "stream",
     "text": [
      "Downloading: /home/maria/Downloads/ONE/openalyx.internationalbrainlab.org/danlab/Subjects/DY_020/2020-09-30/001/alf/probe01/pykilosort/channels.mlapdv.2ccd7a2f-059b-4f21-b9e2-00b9304cc134.npy Bytes: 4736\n"
     ]
    },
    {
     "name": "stderr",
     "output_type": "stream",
     "text": [
      "100%|█████████████████| 0.0045166015625/0.0045166015625 [00:00<00:00,  1.09s/it]"
     ]
    },
    {
     "name": "stdout",
     "output_type": "stream",
     "text": [
      "4a45c8ba-db6f-4f11-9403-56e06a33dfa4\n"
     ]
    },
    {
     "name": "stderr",
     "output_type": "stream",
     "text": [
      "\n"
     ]
    },
    {
     "name": "stdout",
     "output_type": "stream",
     "text": [
      "Downloading: /home/maria/Downloads/ONE/openalyx.internationalbrainlab.org/danlab/Subjects/DY_020/2020-09-29/001/alf/probe01/pykilosort/channels.mlapdv.4749702d-23a0-4016-b380-9ad6ac8a25d2.npy Bytes: 4736\n"
     ]
    },
    {
     "name": "stderr",
     "output_type": "stream",
     "text": [
      "100%|█████████████████| 0.0045166015625/0.0045166015625 [00:00<00:00,  1.05s/it]"
     ]
    },
    {
     "name": "stdout",
     "output_type": "stream",
     "text": [
      "7b26ce84-07f9-43d1-957f-bc72aeb730a3\n",
      "4ecb5d24-f5cc-402c-be28-9d0f7cb14b3a\n"
     ]
    },
    {
     "name": "stderr",
     "output_type": "stream",
     "text": [
      "\n"
     ]
    },
    {
     "name": "stdout",
     "output_type": "stream",
     "text": [
      "Downloading: /home/maria/Downloads/ONE/openalyx.internationalbrainlab.org/hoferlab/Subjects/SWC_043/2020-09-21/001/alf/probe01/pykilosort/channels.mlapdv.529bc771-b270-47f1-8edc-1f123f5ffece.npy Bytes: 4736\n"
     ]
    },
    {
     "name": "stderr",
     "output_type": "stream",
     "text": [
      "100%|█████████████████| 0.0045166015625/0.0045166015625 [00:00<00:00,  1.08s/it]"
     ]
    },
    {
     "name": "stdout",
     "output_type": "stream",
     "text": [
      "754b74d5-7a06-4004-ae0c-72a10b6ed2e6\n",
      "c6db3304-c906-400c-aa0f-45dd3945b2ea\n",
      "88d24c31-52e4-49cc-9f32-6adbeb9eba87\n",
      "c7bd79c9-c47e-4ea5-aea3-74dda991b48e\n"
     ]
    },
    {
     "name": "stderr",
     "output_type": "stream",
     "text": [
      "\n"
     ]
    },
    {
     "name": "stdout",
     "output_type": "stream",
     "text": [
      "Downloading: /home/maria/Downloads/ONE/openalyx.internationalbrainlab.org/zadorlab/Subjects/CSH_ZAD_029/2020-09-19/001/alf/probe01/pykilosort/channels.mlapdv.1a09e4c0-42c7-4a35-b01f-832c542294da.npy Bytes: 4736\n"
     ]
    },
    {
     "name": "stderr",
     "output_type": "stream",
     "text": [
      "100%|█████████████████| 0.0045166015625/0.0045166015625 [00:00<00:00,  1.06it/s]"
     ]
    },
    {
     "name": "stdout",
     "output_type": "stream",
     "text": [
      "6fb1e12c-883b-46d1-a745-473cde3232c8\n",
      "695a6073-eae0-49e0-bb0f-e9e57a9275b9\n",
      "fece187f-b47f-4870-a1d6-619afe942a7d\n"
     ]
    },
    {
     "name": "stderr",
     "output_type": "stream",
     "text": [
      "\n"
     ]
    },
    {
     "name": "stdout",
     "output_type": "stream",
     "text": [
      "Downloading: /home/maria/Downloads/ONE/openalyx.internationalbrainlab.org/zadorlab/Subjects/CSH_ZAD_029/2020-09-17/001/alf/probe01/pykilosort/channels.mlapdv.a9aca46d-d790-4840-8591-4bec87cfe733.npy Bytes: 4736\n"
     ]
    },
    {
     "name": "stderr",
     "output_type": "stream",
     "text": [
      "100%|█████████████████| 0.0045166015625/0.0045166015625 [00:00<00:00,  1.08it/s]"
     ]
    },
    {
     "name": "stdout",
     "output_type": "stream",
     "text": [
      "6f09ba7e-e3ce-44b0-932b-c003fb44fb89\n"
     ]
    },
    {
     "name": "stderr",
     "output_type": "stream",
     "text": [
      "\n"
     ]
    },
    {
     "name": "stdout",
     "output_type": "stream",
     "text": [
      "Downloading: /home/maria/Downloads/ONE/openalyx.internationalbrainlab.org/hoferlab/Subjects/SWC_043/2020-09-16/002/alf/probe01/pykilosort/channels.mlapdv.e7c6dfb5-a09c-4378-be93-70ca6946280a.npy Bytes: 4736\n"
     ]
    },
    {
     "name": "stderr",
     "output_type": "stream",
     "text": [
      "100%|█████████████████| 0.0045166015625/0.0045166015625 [00:00<00:00,  1.06s/it]"
     ]
    },
    {
     "name": "stdout",
     "output_type": "stream",
     "text": [
      "993c7024-0abc-4028-ad30-d397ad55b084\n"
     ]
    },
    {
     "name": "stderr",
     "output_type": "stream",
     "text": [
      "\n"
     ]
    },
    {
     "name": "stdout",
     "output_type": "stream",
     "text": [
      "Downloading: /home/maria/Downloads/ONE/openalyx.internationalbrainlab.org/zadorlab/Subjects/CSH_ZAD_029/2020-09-16/001/alf/probe01/pykilosort/channels.mlapdv.c9a72cf2-7e74-4eb8-a64c-c378187b39bc.npy Bytes: 4736\n"
     ]
    },
    {
     "name": "stderr",
     "output_type": "stream",
     "text": [
      "100%|█████████████████| 0.0045166015625/0.0045166015625 [00:00<00:00,  1.28s/it]"
     ]
    },
    {
     "name": "stdout",
     "output_type": "stream",
     "text": [
      "f3ce3197-d534-4618-bf81-b687555d1883\n"
     ]
    },
    {
     "name": "stderr",
     "output_type": "stream",
     "text": [
      "\n"
     ]
    },
    {
     "name": "stdout",
     "output_type": "stream",
     "text": [
      "Downloading: /home/maria/Downloads/ONE/openalyx.internationalbrainlab.org/hoferlab/Subjects/SWC_043/2020-09-15/001/alf/probe01/pykilosort/channels.mlapdv.c0c94a5f-a7bd-49ce-bb79-aa31bbb9274d.npy Bytes: 4736\n"
     ]
    },
    {
     "name": "stderr",
     "output_type": "stream",
     "text": [
      "100%|█████████████████| 0.0045166015625/0.0045166015625 [00:00<00:00,  1.40s/it]"
     ]
    },
    {
     "name": "stdout",
     "output_type": "stream",
     "text": [
      "251ece37-7798-477c-8a06-2845d4aa270c\n"
     ]
    },
    {
     "name": "stderr",
     "output_type": "stream",
     "text": [
      "\n"
     ]
    },
    {
     "name": "stdout",
     "output_type": "stream",
     "text": [
      "Downloading: /home/maria/Downloads/ONE/openalyx.internationalbrainlab.org/danlab/Subjects/DY_016/2020-09-15/001/alf/probe01/pykilosort/channels.mlapdv.6c89ab14-af72-4d7d-8642-5ba5f8876bda.npy Bytes: 4736\n"
     ]
    },
    {
     "name": "stderr",
     "output_type": "stream",
     "text": [
      "100%|█████████████████| 0.0045166015625/0.0045166015625 [00:00<00:00,  1.18it/s]"
     ]
    },
    {
     "name": "stdout",
     "output_type": "stream",
     "text": [
      "5522ac4b-0e41-4c53-836a-aaa17e82b9eb\n"
     ]
    },
    {
     "name": "stderr",
     "output_type": "stream",
     "text": [
      "\n"
     ]
    },
    {
     "name": "stdout",
     "output_type": "stream",
     "text": [
      "Downloading: /home/maria/Downloads/ONE/openalyx.internationalbrainlab.org/zadorlab/Subjects/CSH_ZAD_029/2020-09-15/001/alf/probe01/pykilosort/channels.mlapdv.15e522df-20a4-4797-9140-03834bf9bf64.npy Bytes: 4736\n"
     ]
    },
    {
     "name": "stderr",
     "output_type": "stream",
     "text": [
      "100%|█████████████████| 0.0045166015625/0.0045166015625 [00:00<00:00,  1.08s/it]"
     ]
    },
    {
     "name": "stdout",
     "output_type": "stream",
     "text": [
      "aa20388b-9ea3-4506-92f1-3c2be84b85db\n"
     ]
    },
    {
     "name": "stderr",
     "output_type": "stream",
     "text": [
      "\n"
     ]
    },
    {
     "name": "stdout",
     "output_type": "stream",
     "text": [
      "Downloading: /home/maria/Downloads/ONE/openalyx.internationalbrainlab.org/danlab/Subjects/DY_016/2020-09-14/001/alf/probe01/pykilosort/channels.mlapdv.ebfea996-338b-488b-b0eb-e67fe9c4bca9.npy Bytes: 4736\n"
     ]
    },
    {
     "name": "stderr",
     "output_type": "stream",
     "text": [
      "100%|█████████████████| 0.0045166015625/0.0045166015625 [00:00<00:00,  1.02s/it]"
     ]
    },
    {
     "name": "stdout",
     "output_type": "stream",
     "text": [
      "fcd49e34-f07b-441c-b2ac-cb8c462ec5ac\n"
     ]
    },
    {
     "name": "stderr",
     "output_type": "stream",
     "text": [
      "\n"
     ]
    },
    {
     "name": "stdout",
     "output_type": "stream",
     "text": [
      "Downloading: /home/maria/Downloads/ONE/openalyx.internationalbrainlab.org/zadorlab/Subjects/CSH_ZAD_029/2020-09-14/001/alf/probe01/pykilosort/channels.mlapdv.98e3d155-dcc9-4643-821d-d6040a86acbf.npy Bytes: 4736\n"
     ]
    },
    {
     "name": "stderr",
     "output_type": "stream",
     "text": [
      "100%|█████████████████| 0.0045166015625/0.0045166015625 [00:00<00:00,  1.48s/it]"
     ]
    },
    {
     "name": "stdout",
     "output_type": "stream",
     "text": [
      "c3d9b6fb-7fa9-4413-a364-92a54df0fc5d\n"
     ]
    },
    {
     "name": "stderr",
     "output_type": "stream",
     "text": [
      "\n"
     ]
    },
    {
     "name": "stdout",
     "output_type": "stream",
     "text": [
      "Downloading: /home/maria/Downloads/ONE/openalyx.internationalbrainlab.org/danlab/Subjects/DY_016/2020-09-13/001/alf/probe01/pykilosort/channels.mlapdv.8eeec8ee-f64a-43ed-98e8-93525138173e.npy Bytes: 4736\n"
     ]
    },
    {
     "name": "stderr",
     "output_type": "stream",
     "text": [
      "100%|█████████████████| 0.0045166015625/0.0045166015625 [00:00<00:00,  1.30s/it]"
     ]
    },
    {
     "name": "stdout",
     "output_type": "stream",
     "text": [
      "1ec23a70-b94b-4e9c-a0df-8c2151da3761\n"
     ]
    },
    {
     "name": "stderr",
     "output_type": "stream",
     "text": [
      "\n"
     ]
    },
    {
     "name": "stdout",
     "output_type": "stream",
     "text": [
      "Downloading: /home/maria/Downloads/ONE/openalyx.internationalbrainlab.org/zadorlab/Subjects/CSH_ZAD_029/2020-09-13/001/alf/probe01/pykilosort/channels.mlapdv.62ac3b57-4958-4c89-b70b-fc00bc640e64.npy Bytes: 4736\n"
     ]
    },
    {
     "name": "stderr",
     "output_type": "stream",
     "text": [
      "100%|█████████████████| 0.0045166015625/0.0045166015625 [00:00<00:00,  1.09s/it]"
     ]
    },
    {
     "name": "stdout",
     "output_type": "stream",
     "text": [
      "d23a44ef-1402-4ed7-97f5-47e9a7a504d9\n"
     ]
    },
    {
     "name": "stderr",
     "output_type": "stream",
     "text": [
      "\n"
     ]
    },
    {
     "name": "stdout",
     "output_type": "stream",
     "text": [
      "Downloading: /home/maria/Downloads/ONE/openalyx.internationalbrainlab.org/danlab/Subjects/DY_016/2020-09-12/001/alf/probe01/pykilosort/channels.mlapdv.23614cb4-7080-4512-9dce-96cea68a66b0.npy Bytes: 4736\n"
     ]
    },
    {
     "name": "stderr",
     "output_type": "stream",
     "text": [
      "100%|█████████████████| 0.0045166015625/0.0045166015625 [00:00<00:00,  1.20it/s]"
     ]
    },
    {
     "name": "stdout",
     "output_type": "stream",
     "text": [
      "5339812f-8b91-40ba-9d8f-a559563cc46b\n"
     ]
    },
    {
     "name": "stderr",
     "output_type": "stream",
     "text": [
      "\n"
     ]
    },
    {
     "name": "stdout",
     "output_type": "stream",
     "text": [
      "Downloading: /home/maria/Downloads/ONE/openalyx.internationalbrainlab.org/danlab/Subjects/DY_016/2020-09-11/001/alf/probe01/pykilosort/channels.mlapdv.f68a9658-08b4-4b6e-9847-c524e94e5e78.npy Bytes: 4736\n"
     ]
    },
    {
     "name": "stderr",
     "output_type": "stream",
     "text": [
      "100%|█████████████████| 0.0045166015625/0.0045166015625 [00:00<00:00,  2.09it/s]"
     ]
    },
    {
     "name": "stdout",
     "output_type": "stream",
     "text": [
      "e349a2e7-50a3-47ca-bc45-20d1899854ec\n",
      "768a371d-7e88-47f8-bf21-4a6a6570dd6e\n"
     ]
    },
    {
     "name": "stderr",
     "output_type": "stream",
     "text": [
      "\n"
     ]
    },
    {
     "name": "stdout",
     "output_type": "stream",
     "text": [
      "Downloading: /home/maria/Downloads/ONE/openalyx.internationalbrainlab.org/mrsicflogellab/Subjects/SWC_039/2020-09-10/001/alf/probe01/pykilosort/channels.mlapdv.385ad0da-f078-4aad-933b-14a729416388.npy Bytes: 4736\n"
     ]
    },
    {
     "name": "stderr",
     "output_type": "stream",
     "text": [
      "100%|█████████████████| 0.0045166015625/0.0045166015625 [00:00<00:00,  1.26it/s]"
     ]
    },
    {
     "name": "stdout",
     "output_type": "stream",
     "text": [
      "064a7252-8e10-4ad6-b3fd-7a88a2db5463\n",
      "15763234-d21e-491f-a01b-1238eb96d389\n",
      "a7763417-e0d6-4f2a-aa55-e382fd9b5fb8\n",
      "4ef13091-1bc8-4f32-9619-107bdf48540c\n",
      "cae5cd75-55e5-4277-8db3-cf4d6c5ff918\n",
      "ebe2efe3-e8a1-451a-8947-76ef42427cc9\n"
     ]
    },
    {
     "name": "stderr",
     "output_type": "stream",
     "text": [
      "\n"
     ]
    },
    {
     "name": "stdout",
     "output_type": "stream",
     "text": [
      "Downloading: /home/maria/Downloads/ONE/openalyx.internationalbrainlab.org/angelakilab/Subjects/NYU-21/2020-08-19/001/alf/probe01/pykilosort/channels.mlapdv.b62788fd-caf6-46ee-9b98-1868c37f1908.npy Bytes: 4736\n"
     ]
    },
    {
     "name": "stderr",
     "output_type": "stream",
     "text": [
      "100%|█████████████████| 0.0045166015625/0.0045166015625 [00:00<00:00,  1.12s/it]"
     ]
    },
    {
     "name": "stdout",
     "output_type": "stream",
     "text": [
      "b69b86be-af7d-4ecf-8cbf-0cd356afa1bd\n"
     ]
    },
    {
     "name": "stderr",
     "output_type": "stream",
     "text": [
      "\n"
     ]
    },
    {
     "name": "stdout",
     "output_type": "stream",
     "text": [
      "Downloading: /home/maria/Downloads/ONE/openalyx.internationalbrainlab.org/zadorlab/Subjects/CSH_ZAD_026/2020-08-19/001/alf/probe01/pykilosort/channels.mlapdv.020e7d5d-f5d5-4341-a185-21455c6011d6.npy Bytes: 4736\n"
     ]
    },
    {
     "name": "stderr",
     "output_type": "stream",
     "text": [
      "100%|█████████████████| 0.0045166015625/0.0045166015625 [00:00<00:00,  2.11it/s]"
     ]
    },
    {
     "name": "stdout",
     "output_type": "stream",
     "text": [
      "edd22318-216c-44ff-bc24-49ce8be78374\n"
     ]
    },
    {
     "name": "stderr",
     "output_type": "stream",
     "text": [
      "\n"
     ]
    },
    {
     "name": "stdout",
     "output_type": "stream",
     "text": [
      "Downloading: /home/maria/Downloads/ONE/openalyx.internationalbrainlab.org/zadorlab/Subjects/CSH_ZAD_019/2020-08-19/001/alf/probe01/pykilosort/channels.mlapdv.3f6c25bd-e303-4a90-9689-e410d43d6702.npy Bytes: 4736\n"
     ]
    },
    {
     "name": "stderr",
     "output_type": "stream",
     "text": [
      "100%|█████████████████| 0.0045166015625/0.0045166015625 [00:00<00:00,  2.41it/s]"
     ]
    },
    {
     "name": "stdout",
     "output_type": "stream",
     "text": [
      "71e55bfe-5a3a-4cba-bdc7-f085140d798e\n",
      "626126d5-eecf-4e9b-900e-ec29a17ece07\n"
     ]
    },
    {
     "name": "stderr",
     "output_type": "stream",
     "text": [
      "\n"
     ]
    },
    {
     "name": "stdout",
     "output_type": "stream",
     "text": [
      "Downloading: /home/maria/Downloads/ONE/openalyx.internationalbrainlab.org/zadorlab/Subjects/CSH_ZAD_026/2020-08-18/001/alf/probe01/pykilosort/channels.mlapdv.67a3bfbc-a613-428f-83ba-fd148ab2c097.npy Bytes: 4736\n"
     ]
    },
    {
     "name": "stderr",
     "output_type": "stream",
     "text": [
      "100%|█████████████████| 0.0045166015625/0.0045166015625 [00:00<00:00,  1.01s/it]"
     ]
    },
    {
     "name": "stdout",
     "output_type": "stream",
     "text": [
      "49e0ab27-827a-4c91-bcaa-97eea27a1b8d\n"
     ]
    },
    {
     "name": "stderr",
     "output_type": "stream",
     "text": [
      "\n"
     ]
    },
    {
     "name": "stdout",
     "output_type": "stream",
     "text": [
      "Downloading: /home/maria/Downloads/ONE/openalyx.internationalbrainlab.org/zadorlab/Subjects/CSH_ZAD_019/2020-08-18/001/alf/probe01/pykilosort/channels.mlapdv.dff99a18-5915-4781-82f6-9f173eb2dc1e.npy Bytes: 4736\n"
     ]
    },
    {
     "name": "stderr",
     "output_type": "stream",
     "text": [
      "100%|█████████████████| 0.0045166015625/0.0045166015625 [00:00<00:00,  1.15s/it]"
     ]
    },
    {
     "name": "stdout",
     "output_type": "stream",
     "text": [
      "81a78eac-9d36-4f90-a73a-7eb3ad7f770b\n"
     ]
    },
    {
     "name": "stderr",
     "output_type": "stream",
     "text": [
      "\n"
     ]
    },
    {
     "name": "stdout",
     "output_type": "stream",
     "text": [
      "Downloading: /home/maria/Downloads/ONE/openalyx.internationalbrainlab.org/zadorlab/Subjects/CSH_ZAD_026/2020-08-17/001/alf/probe01/pykilosort/channels.mlapdv.aa7e0cfd-d14b-4a96-b1cf-9b5b7d4232ba.npy Bytes: 4736\n"
     ]
    },
    {
     "name": "stderr",
     "output_type": "stream",
     "text": [
      "100%|█████████████████| 0.0045166015625/0.0045166015625 [00:00<00:00,  1.12s/it]"
     ]
    },
    {
     "name": "stdout",
     "output_type": "stream",
     "text": [
      "5adab0b7-dfd0-467d-b09d-43cb7ca5d59c\n"
     ]
    },
    {
     "name": "stderr",
     "output_type": "stream",
     "text": [
      "\n"
     ]
    },
    {
     "name": "stdout",
     "output_type": "stream",
     "text": [
      "Downloading: /home/maria/Downloads/ONE/openalyx.internationalbrainlab.org/zadorlab/Subjects/CSH_ZAD_019/2020-08-16/001/alf/probe01/pykilosort/channels.mlapdv.327ec54a-82d3-4c78-8362-9a2d1bd7c4d1.npy Bytes: 4736\n"
     ]
    },
    {
     "name": "stderr",
     "output_type": "stream",
     "text": [
      "100%|█████████████████| 0.0045166015625/0.0045166015625 [00:00<00:00,  1.23s/it]"
     ]
    },
    {
     "name": "stdout",
     "output_type": "stream",
     "text": [
      "e56541a5-a6d5-4750-b1fe-f6b5257bfe7c\n",
      "5d01d14e-aced-4465-8f8e-9a1c674f62ec\n"
     ]
    },
    {
     "name": "stderr",
     "output_type": "stream",
     "text": [
      "\n"
     ]
    },
    {
     "name": "stdout",
     "output_type": "stream",
     "text": [
      "Downloading: /home/maria/Downloads/ONE/openalyx.internationalbrainlab.org/zadorlab/Subjects/CSH_ZAD_026/2020-08-14/002/alf/probe01/pykilosort/channels.mlapdv.23a39401-3442-4562-af6b-d73c02e230b4.npy Bytes: 4736\n"
     ]
    },
    {
     "name": "stderr",
     "output_type": "stream",
     "text": [
      "100%|█████████████████| 0.0045166015625/0.0045166015625 [00:00<00:00,  1.71it/s]"
     ]
    },
    {
     "name": "stdout",
     "output_type": "stream",
     "text": [
      "7f6b86f9-879a-4ea2-8531-294a221af5d0\n"
     ]
    },
    {
     "name": "stderr",
     "output_type": "stream",
     "text": [
      "\n"
     ]
    },
    {
     "name": "stdout",
     "output_type": "stream",
     "text": [
      "Downloading: /home/maria/Downloads/ONE/openalyx.internationalbrainlab.org/zadorlab/Subjects/CSH_ZAD_019/2020-08-14/001/alf/probe01/pykilosort/channels.mlapdv.01e0360f-0a9f-4a8e-8366-780dbffd2a04.npy Bytes: 4736\n"
     ]
    },
    {
     "name": "stderr",
     "output_type": "stream",
     "text": [
      "100%|█████████████████| 0.0045166015625/0.0045166015625 [00:00<00:00,  2.69it/s]"
     ]
    },
    {
     "name": "stdout",
     "output_type": "stream",
     "text": [
      "8c33abef-3d3e-4d42-9f27-445e9def08f9\n"
     ]
    },
    {
     "name": "stderr",
     "output_type": "stream",
     "text": [
      "\n"
     ]
    },
    {
     "name": "stdout",
     "output_type": "stream",
     "text": [
      "Downloading: /home/maria/Downloads/ONE/openalyx.internationalbrainlab.org/angelakilab/Subjects/NYU-21/2020-08-13/002/alf/probe01/pykilosort/channels.mlapdv.7aa877d7-ebe1-4994-8e97-80d1d9fee889.npy Bytes: 4736\n"
     ]
    },
    {
     "name": "stderr",
     "output_type": "stream",
     "text": [
      "100%|█████████████████| 0.0045166015625/0.0045166015625 [00:00<00:00,  1.39it/s]"
     ]
    },
    {
     "name": "stdout",
     "output_type": "stream",
     "text": [
      "c557324b-b95d-414c-888f-6ee1329a2329\n"
     ]
    },
    {
     "name": "stderr",
     "output_type": "stream",
     "text": [
      "\n"
     ]
    },
    {
     "name": "stdout",
     "output_type": "stream",
     "text": [
      "Downloading: /home/maria/Downloads/ONE/openalyx.internationalbrainlab.org/zadorlab/Subjects/CSH_ZAD_025/2020-08-12/001/alf/probe01/pykilosort/channels.mlapdv.df9f6f99-5ba2-4a09-a95a-c2fa86c87a9d.npy Bytes: 4736\n"
     ]
    },
    {
     "name": "stderr",
     "output_type": "stream",
     "text": [
      "100%|█████████████████| 0.0045166015625/0.0045166015625 [00:00<00:00,  3.16it/s]"
     ]
    },
    {
     "name": "stdout",
     "output_type": "stream",
     "text": [
      "61e11a11-ab65-48fb-ae08-3cb80662e5d6\n",
      "c7248e09-8c0d-40f2-9eb4-700a8973d8c8\n",
      "280ee768-f7b8-4c6c-9ea0-48ca75d6b6f3\n"
     ]
    },
    {
     "name": "stderr",
     "output_type": "stream",
     "text": [
      "\n"
     ]
    },
    {
     "name": "stdout",
     "output_type": "stream",
     "text": [
      "Downloading: /home/maria/Downloads/ONE/openalyx.internationalbrainlab.org/zadorlab/Subjects/CSH_ZAD_025/2020-08-04/002/alf/probe01/pykilosort/channels.mlapdv.4bce14e8-cf53-4f95-85ab-cb291260b3b9.npy Bytes: 4736\n"
     ]
    },
    {
     "name": "stderr",
     "output_type": "stream",
     "text": [
      "100%|█████████████████| 0.0045166015625/0.0045166015625 [00:00<00:00,  1.04it/s]"
     ]
    },
    {
     "name": "stdout",
     "output_type": "stream",
     "text": [
      "ff48aa1d-ef30-4903-ac34-8c41b738c1b9\n"
     ]
    },
    {
     "name": "stderr",
     "output_type": "stream",
     "text": [
      "\n"
     ]
    },
    {
     "name": "stdout",
     "output_type": "stream",
     "text": [
      "Downloading: /home/maria/Downloads/ONE/openalyx.internationalbrainlab.org/zadorlab/Subjects/CSH_ZAD_025/2020-08-03/001/alf/probe01/pykilosort/channels.mlapdv.774c6348-93d4-4e6d-be2d-7d6f29fb9efe.npy Bytes: 4736\n"
     ]
    },
    {
     "name": "stderr",
     "output_type": "stream",
     "text": [
      "100%|█████████████████| 0.0045166015625/0.0045166015625 [00:00<00:00,  1.11s/it]"
     ]
    },
    {
     "name": "stdout",
     "output_type": "stream",
     "text": [
      "03063955-2523-47bd-ae57-f7489dd40f15\n"
     ]
    },
    {
     "name": "stderr",
     "output_type": "stream",
     "text": [
      "\n"
     ]
    },
    {
     "name": "stdout",
     "output_type": "stream",
     "text": [
      "Downloading: /home/maria/Downloads/ONE/openalyx.internationalbrainlab.org/mrsicflogellab/Subjects/SWC_038/2020-08-01/001/alf/probe01/pykilosort/channels.mlapdv.e13e7919-499b-41e7-a3bc-aefd62ba267f.npy Bytes: 4736\n"
     ]
    },
    {
     "name": "stderr",
     "output_type": "stream",
     "text": [
      "100%|█████████████████| 0.0045166015625/0.0045166015625 [00:00<00:00,  1.04it/s]"
     ]
    },
    {
     "name": "stdout",
     "output_type": "stream",
     "text": [
      "1e45d992-c356-40e1-9be1-a506d944896f\n"
     ]
    },
    {
     "name": "stderr",
     "output_type": "stream",
     "text": [
      "\n"
     ]
    },
    {
     "name": "stdout",
     "output_type": "stream",
     "text": [
      "Downloading: /home/maria/Downloads/ONE/openalyx.internationalbrainlab.org/mrsicflogellab/Subjects/SWC_038/2020-07-31/001/alf/probe01/pykilosort/channels.mlapdv.90c77cf2-625c-4e1c-a283-79e72d11c4d5.npy Bytes: 4736\n"
     ]
    },
    {
     "name": "stderr",
     "output_type": "stream",
     "text": [
      "100%|█████████████████| 0.0045166015625/0.0045166015625 [00:00<00:00,  1.13it/s]"
     ]
    },
    {
     "name": "stdout",
     "output_type": "stream",
     "text": [
      "4d8c7767-981c-4347-8e5e-5d5fffe38534\n"
     ]
    },
    {
     "name": "stderr",
     "output_type": "stream",
     "text": [
      "\n"
     ]
    },
    {
     "name": "stdout",
     "output_type": "stream",
     "text": [
      "Downloading: /home/maria/Downloads/ONE/openalyx.internationalbrainlab.org/mrsicflogellab/Subjects/SWC_038/2020-07-30/001/alf/probe01/pykilosort/channels.mlapdv.ecee4ed0-c867-437d-a5b3-cd912c3805c7.npy Bytes: 4736\n"
     ]
    },
    {
     "name": "stderr",
     "output_type": "stream",
     "text": [
      "100%|█████████████████| 0.0045166015625/0.0045166015625 [00:00<00:00,  1.34s/it]"
     ]
    },
    {
     "name": "stdout",
     "output_type": "stream",
     "text": [
      "6274dda8-3a59-4aa1-95f8-a8a549c46a26\n"
     ]
    },
    {
     "name": "stderr",
     "output_type": "stream",
     "text": [
      "\n"
     ]
    },
    {
     "name": "stdout",
     "output_type": "stream",
     "text": [
      "Downloading: /home/maria/Downloads/ONE/openalyx.internationalbrainlab.org/zadorlab/Subjects/CSH_ZAD_025/2020-07-30/001/alf/probe01/pykilosort/channels.mlapdv.22b38d20-92cd-4817-8f7e-7ee91e8c29a3.npy Bytes: 4736\n"
     ]
    },
    {
     "name": "stderr",
     "output_type": "stream",
     "text": [
      "100%|█████████████████| 0.0045166015625/0.0045166015625 [00:00<00:00,  1.10s/it]"
     ]
    },
    {
     "name": "stdout",
     "output_type": "stream",
     "text": [
      "41872d7f-75cb-4445-bb1a-132b354c44f0\n"
     ]
    },
    {
     "name": "stderr",
     "output_type": "stream",
     "text": [
      "\n"
     ]
    },
    {
     "name": "stdout",
     "output_type": "stream",
     "text": [
      "Downloading: /home/maria/Downloads/ONE/openalyx.internationalbrainlab.org/mrsicflogellab/Subjects/SWC_038/2020-07-29/001/alf/probe01/pykilosort/channels.mlapdv.67f4763f-a4e6-4840-b70d-565b7f7409e1.npy Bytes: 4736\n"
     ]
    },
    {
     "name": "stderr",
     "output_type": "stream",
     "text": [
      "100%|█████████████████| 0.0045166015625/0.0045166015625 [00:00<00:00,  1.09it/s]"
     ]
    },
    {
     "name": "stdout",
     "output_type": "stream",
     "text": [
      "fe1fd79f-b051-411f-a0a9-2530a02cc78d\n"
     ]
    },
    {
     "name": "stderr",
     "output_type": "stream",
     "text": [
      "\n"
     ]
    },
    {
     "name": "stdout",
     "output_type": "stream",
     "text": [
      "Downloading: /home/maria/Downloads/ONE/openalyx.internationalbrainlab.org/mainenlab/Subjects/ZM_3003/2020-07-28/001/alf/probe01/pykilosort/channels.mlapdv.e06d64f5-19c1-466f-8be0-048ad61d430d.npy Bytes: 4736\n"
     ]
    },
    {
     "name": "stderr",
     "output_type": "stream",
     "text": [
      "100%|█████████████████| 0.0045166015625/0.0045166015625 [00:00<00:00,  1.14s/it]"
     ]
    },
    {
     "name": "stdout",
     "output_type": "stream",
     "text": [
      "934dd7a4-fbdc-459c-8830-04fe9033bc28\n"
     ]
    },
    {
     "name": "stderr",
     "output_type": "stream",
     "text": [
      "\n"
     ]
    },
    {
     "name": "stdout",
     "output_type": "stream",
     "text": [
      "Downloading: /home/maria/Downloads/ONE/openalyx.internationalbrainlab.org/mainenlab/Subjects/ZM_3003/2020-07-27/001/alf/probe01/pykilosort/channels.mlapdv.935c5da2-680b-4eeb-9090-1ebdbb108e6d.npy Bytes: 4736\n"
     ]
    },
    {
     "name": "stderr",
     "output_type": "stream",
     "text": [
      "100%|█████████████████| 0.0045166015625/0.0045166015625 [00:00<00:00,  1.29it/s]"
     ]
    },
    {
     "name": "stdout",
     "output_type": "stream",
     "text": [
      "549caacc-3bd7-40f1-913d-e94141816547\n"
     ]
    },
    {
     "name": "stderr",
     "output_type": "stream",
     "text": [
      "\n"
     ]
    },
    {
     "name": "stdout",
     "output_type": "stream",
     "text": [
      "Downloading: /home/maria/Downloads/ONE/openalyx.internationalbrainlab.org/zadorlab/Subjects/CSH_ZAD_025/2020-07-27/001/alf/probe01/pykilosort/channels.mlapdv.27da136d-27f9-467f-ada1-0fc0f9c333d4.npy Bytes: 4736\n"
     ]
    },
    {
     "name": "stderr",
     "output_type": "stream",
     "text": [
      "100%|█████████████████| 0.0045166015625/0.0045166015625 [00:00<00:00,  1.27s/it]"
     ]
    },
    {
     "name": "stdout",
     "output_type": "stream",
     "text": [
      "20c112a1-8a42-44e0-a4cd-e5b932f7bda9\n"
     ]
    },
    {
     "name": "stderr",
     "output_type": "stream",
     "text": [
      "\n"
     ]
    },
    {
     "name": "stdout",
     "output_type": "stream",
     "text": [
      "Downloading: /home/maria/Downloads/ONE/openalyx.internationalbrainlab.org/zadorlab/Subjects/CSH_ZAD_025/2020-07-26/001/alf/probe01/pykilosort/channels.mlapdv.1f570bc5-332c-49bd-9c7f-b58421559128.npy Bytes: 4736\n"
     ]
    },
    {
     "name": "stderr",
     "output_type": "stream",
     "text": [
      "100%|█████████████████| 0.0045166015625/0.0045166015625 [00:00<00:00,  1.01it/s]"
     ]
    },
    {
     "name": "stdout",
     "output_type": "stream",
     "text": [
      "65f5c9b4-4440-48b9-b914-c593a5184a18\n",
      "dcceebe5-4589-44df-a1c1-9fa33e779727\n",
      "f8041c1e-5ef4-4ae6-afec-ed82d7a74dc1\n"
     ]
    },
    {
     "name": "stderr",
     "output_type": "stream",
     "text": [
      "\n"
     ]
    },
    {
     "name": "stdout",
     "output_type": "stream",
     "text": [
      "Downloading: /home/maria/Downloads/ONE/openalyx.internationalbrainlab.org/wittenlab/Subjects/ibl_witten_19/2020-07-22/001/alf/probe01/pykilosort/channels.mlapdv.608bfbcb-71cb-4dac-a8f3-aa771ef5210c.npy Bytes: 4736\n"
     ]
    },
    {
     "name": "stderr",
     "output_type": "stream",
     "text": [
      "100%|█████████████████| 0.0045166015625/0.0045166015625 [00:00<00:00,  1.21it/s]"
     ]
    },
    {
     "name": "stdout",
     "output_type": "stream",
     "text": [
      "d832d9f7-c96a-4f63-8921-516ba4a7b61f\n"
     ]
    },
    {
     "name": "stderr",
     "output_type": "stream",
     "text": [
      "\n"
     ]
    },
    {
     "name": "stdout",
     "output_type": "stream",
     "text": [
      "Downloading: /home/maria/Downloads/ONE/openalyx.internationalbrainlab.org/wittenlab/Subjects/ibl_witten_17/2020-07-22/003/alf/probe01/pykilosort/channels.mlapdv.0c99e25c-7793-4530-a975-d308e01e077b.npy Bytes: 4736\n"
     ]
    },
    {
     "name": "stderr",
     "output_type": "stream",
     "text": [
      "100%|█████████████████| 0.0045166015625/0.0045166015625 [00:00<00:00,  1.12it/s]"
     ]
    },
    {
     "name": "stdout",
     "output_type": "stream",
     "text": [
      "4ddb8a95-788b-48d0-8a0a-66c7c796da96\n"
     ]
    },
    {
     "name": "stderr",
     "output_type": "stream",
     "text": [
      "\n"
     ]
    },
    {
     "name": "stdout",
     "output_type": "stream",
     "text": [
      "Downloading: /home/maria/Downloads/ONE/openalyx.internationalbrainlab.org/wittenlab/Subjects/ibl_witten_19/2020-07-21/001/alf/probe01/pykilosort/channels.mlapdv.c9231527-9b1f-4a12-9307-d2f2437e98eb.npy Bytes: 4736\n"
     ]
    },
    {
     "name": "stderr",
     "output_type": "stream",
     "text": [
      "100%|█████████████████| 0.0045166015625/0.0045166015625 [00:00<00:00,  1.07it/s]"
     ]
    },
    {
     "name": "stdout",
     "output_type": "stream",
     "text": [
      "b39752db-abdb-47ab-ae78-e8608bbf50ed\n"
     ]
    },
    {
     "name": "stderr",
     "output_type": "stream",
     "text": [
      "\n"
     ]
    },
    {
     "name": "stdout",
     "output_type": "stream",
     "text": [
      "Downloading: /home/maria/Downloads/ONE/openalyx.internationalbrainlab.org/danlab/Subjects/DY_014/2020-07-19/001/alf/probe01/pykilosort/channels.mlapdv.d4c015db-0959-4c76-bf62-4d83a5140500.npy Bytes: 4736\n"
     ]
    },
    {
     "name": "stderr",
     "output_type": "stream",
     "text": [
      "100%|█████████████████| 0.0045166015625/0.0045166015625 [00:00<00:00,  1.03it/s]"
     ]
    },
    {
     "name": "stdout",
     "output_type": "stream",
     "text": [
      "ee8b36de-779f-4dea-901f-e0141c95722b\n"
     ]
    },
    {
     "name": "stderr",
     "output_type": "stream",
     "text": [
      "\n"
     ]
    },
    {
     "name": "stdout",
     "output_type": "stream",
     "text": [
      "Downloading: /home/maria/Downloads/ONE/openalyx.internationalbrainlab.org/danlab/Subjects/DY_014/2020-07-18/001/alf/probe01/pykilosort/channels.mlapdv.14b14fc1-4cfa-49a8-b2d5-c40b39b2d3bd.npy Bytes: 4736\n"
     ]
    },
    {
     "name": "stderr",
     "output_type": "stream",
     "text": [
      "100%|█████████████████| 0.0045166015625/0.0045166015625 [00:00<00:00,  1.94it/s]"
     ]
    },
    {
     "name": "stdout",
     "output_type": "stream",
     "text": [
      "f9860a11-24d3-452e-ab95-39e199f20a93\n"
     ]
    },
    {
     "name": "stderr",
     "output_type": "stream",
     "text": [
      "\n"
     ]
    },
    {
     "name": "stdout",
     "output_type": "stream",
     "text": [
      "Downloading: /home/maria/Downloads/ONE/openalyx.internationalbrainlab.org/hoferlab/Subjects/SWC_042/2020-07-17/001/alf/probe01/pykilosort/channels.mlapdv.3b12d5a4-0150-4fee-9f1d-de68015d63e4.npy Bytes: 4736\n"
     ]
    },
    {
     "name": "stderr",
     "output_type": "stream",
     "text": [
      "100%|█████████████████| 0.0045166015625/0.0045166015625 [00:00<00:00,  1.03it/s]"
     ]
    },
    {
     "name": "stdout",
     "output_type": "stream",
     "text": [
      "bd456d8f-d36e-434a-8051-ff3997253802\n"
     ]
    },
    {
     "name": "stderr",
     "output_type": "stream",
     "text": [
      "\n"
     ]
    },
    {
     "name": "stdout",
     "output_type": "stream",
     "text": [
      "Downloading: /home/maria/Downloads/ONE/openalyx.internationalbrainlab.org/danlab/Subjects/DY_014/2020-07-17/001/alf/probe01/pykilosort/channels.mlapdv.c9ecaf09-bb8a-4674-ba30-99ce9fbc2cc6.npy Bytes: 4736\n"
     ]
    },
    {
     "name": "stderr",
     "output_type": "stream",
     "text": [
      "100%|█████████████████| 0.0045166015625/0.0045166015625 [00:00<00:00,  1.71it/s]"
     ]
    },
    {
     "name": "stdout",
     "output_type": "stream",
     "text": [
      "b658bc7d-07cd-4203-8a25-7b16b549851b\n"
     ]
    },
    {
     "name": "stderr",
     "output_type": "stream",
     "text": [
      "\n"
     ]
    },
    {
     "name": "stdout",
     "output_type": "stream",
     "text": [
      "Downloading: /home/maria/Downloads/ONE/openalyx.internationalbrainlab.org/danlab/Subjects/DY_014/2020-07-16/001/alf/probe01/pykilosort/channels.mlapdv.ad54c9d6-88e8-4747-9c2c-f50e555c5522.npy Bytes: 4736\n"
     ]
    },
    {
     "name": "stderr",
     "output_type": "stream",
     "text": [
      "100%|█████████████████| 0.0045166015625/0.0045166015625 [00:00<00:00,  1.01s/it]"
     ]
    },
    {
     "name": "stdout",
     "output_type": "stream",
     "text": [
      "862ade13-53cd-4221-a3fa-dda8643641f2\n"
     ]
    },
    {
     "name": "stderr",
     "output_type": "stream",
     "text": [
      "\n"
     ]
    },
    {
     "name": "stdout",
     "output_type": "stream",
     "text": [
      "Downloading: /home/maria/Downloads/ONE/openalyx.internationalbrainlab.org/hoferlab/Subjects/SWC_042/2020-07-15/001/alf/probe01/pykilosort/channels.mlapdv.1fcab0b3-a01e-4237-b767-99b8a34d223c.npy Bytes: 4736\n"
     ]
    },
    {
     "name": "stderr",
     "output_type": "stream",
     "text": [
      "100%|█████████████████| 0.0045166015625/0.0045166015625 [00:00<00:00,  1.11s/it]"
     ]
    },
    {
     "name": "stdout",
     "output_type": "stream",
     "text": [
      "7622da34-51b6-4661-98ae-a57d40806008\n"
     ]
    },
    {
     "name": "stderr",
     "output_type": "stream",
     "text": [
      "\n"
     ]
    },
    {
     "name": "stdout",
     "output_type": "stream",
     "text": [
      "Downloading: /home/maria/Downloads/ONE/openalyx.internationalbrainlab.org/danlab/Subjects/DY_014/2020-07-15/001/alf/probe01/pykilosort/channels.mlapdv.5f694008-f511-420e-9ce0-a9d98d69f086.npy Bytes: 4736\n"
     ]
    },
    {
     "name": "stderr",
     "output_type": "stream",
     "text": [
      "100%|█████████████████| 0.0045166015625/0.0045166015625 [00:00<00:00,  1.91it/s]"
     ]
    },
    {
     "name": "stdout",
     "output_type": "stream",
     "text": [
      "4720c98a-a305-4fba-affb-bbfa00a724a4\n"
     ]
    },
    {
     "name": "stderr",
     "output_type": "stream",
     "text": [
      "\n"
     ]
    },
    {
     "name": "stdout",
     "output_type": "stream",
     "text": [
      "Downloading: /home/maria/Downloads/ONE/openalyx.internationalbrainlab.org/danlab/Subjects/DY_014/2020-07-14/001/alf/probe01/pykilosort/channels.mlapdv.e90d3a14-8db1-4ebb-bdbc-7a83365738e5.npy Bytes: 4736\n"
     ]
    },
    {
     "name": "stderr",
     "output_type": "stream",
     "text": [
      "100%|█████████████████| 0.0045166015625/0.0045166015625 [00:00<00:00,  1.00it/s]"
     ]
    },
    {
     "name": "stdout",
     "output_type": "stream",
     "text": [
      "66d98e6e-bcd9-4e78-8fbb-636f7e808b29\n",
      "f25642c6-27a5-4a97-9ea0-06652db79fbd\n"
     ]
    },
    {
     "name": "stderr",
     "output_type": "stream",
     "text": [
      "\n"
     ]
    },
    {
     "name": "stdout",
     "output_type": "stream",
     "text": [
      "Downloading: /home/maria/Downloads/ONE/openalyx.internationalbrainlab.org/danlab/Subjects/DY_014/2020-07-13/001/alf/probe01/pykilosort/channels.mlapdv.e6aff41c-f4d9-458a-894f-a9a6c16e4348.npy Bytes: 4736\n"
     ]
    },
    {
     "name": "stderr",
     "output_type": "stream",
     "text": [
      "100%|█████████████████| 0.0045166015625/0.0045166015625 [00:00<00:00,  1.06it/s]"
     ]
    },
    {
     "name": "stdout",
     "output_type": "stream",
     "text": [
      "28741f91-c837-4147-939e-918d38d849f2\n"
     ]
    },
    {
     "name": "stderr",
     "output_type": "stream",
     "text": [
      "\n"
     ]
    },
    {
     "name": "stdout",
     "output_type": "stream",
     "text": [
      "Downloading: /home/maria/Downloads/ONE/openalyx.internationalbrainlab.org/churchlandlab/Subjects/CSHL058/2020-07-11/003/alf/probe01/pykilosort/channels.mlapdv.50a54789-7d10-445b-ae77-ab87d1071d34.npy Bytes: 4736\n"
     ]
    },
    {
     "name": "stderr",
     "output_type": "stream",
     "text": [
      "100%|█████████████████| 0.0045166015625/0.0045166015625 [00:00<00:00,  1.05it/s]"
     ]
    },
    {
     "name": "stdout",
     "output_type": "stream",
     "text": [
      "fb70ebf7-8175-42b0-9b7a-7c6e8612226e\n"
     ]
    },
    {
     "name": "stderr",
     "output_type": "stream",
     "text": [
      "\n"
     ]
    },
    {
     "name": "stdout",
     "output_type": "stream",
     "text": [
      "Downloading: /home/maria/Downloads/ONE/openalyx.internationalbrainlab.org/churchlandlab/Subjects/CSHL058/2020-07-08/001/alf/probe01/pykilosort/channels.mlapdv.5cb9ea81-f0c4-401f-a990-590f7018a105.npy Bytes: 4736\n"
     ]
    },
    {
     "name": "stderr",
     "output_type": "stream",
     "text": [
      "100%|█████████████████| 0.0045166015625/0.0045166015625 [00:00<00:00,  1.23s/it]"
     ]
    },
    {
     "name": "stdout",
     "output_type": "stream",
     "text": [
      "f312aaec-3b6f-44b3-86b4-3a0c119c0438\n"
     ]
    },
    {
     "name": "stderr",
     "output_type": "stream",
     "text": [
      "\n"
     ]
    },
    {
     "name": "stdout",
     "output_type": "stream",
     "text": [
      "Downloading: /home/maria/Downloads/ONE/openalyx.internationalbrainlab.org/churchlandlab/Subjects/CSHL058/2020-07-07/001/alf/probe01/pykilosort/channels.mlapdv.7c8d3117-c726-444c-8494-d33b09cadcfa.npy Bytes: 4736\n"
     ]
    },
    {
     "name": "stderr",
     "output_type": "stream",
     "text": [
      "100%|█████████████████| 0.0045166015625/0.0045166015625 [00:00<00:00,  1.30it/s]"
     ]
    },
    {
     "name": "stdout",
     "output_type": "stream",
     "text": [
      "8207abc6-6b23-4762-92b4-82e05bed5143\n"
     ]
    },
    {
     "name": "stderr",
     "output_type": "stream",
     "text": [
      "\n"
     ]
    },
    {
     "name": "stdout",
     "output_type": "stream",
     "text": [
      "Downloading: /home/maria/Downloads/ONE/openalyx.internationalbrainlab.org/zadorlab/Subjects/CSH_ZAD_024/2020-06-08/001/alf/probe01/pykilosort/channels.mlapdv.93dd2585-80bf-461c-8262-88e4274b5762.npy Bytes: 4736\n"
     ]
    },
    {
     "name": "stderr",
     "output_type": "stream",
     "text": [
      "100%|█████████████████| 0.0045166015625/0.0045166015625 [00:00<00:00,  2.79it/s]"
     ]
    },
    {
     "name": "stdout",
     "output_type": "stream",
     "text": [
      "b81e3e11-9a60-4114-b894-09f85074d9c3\n",
      "90e74228-fd1a-482f-bd56-05dbad132861\n",
      "6a601cc5-7b79-4c75-b0e8-552246532f82\n"
     ]
    },
    {
     "name": "stderr",
     "output_type": "stream",
     "text": [
      "\n"
     ]
    },
    {
     "name": "stdout",
     "output_type": "stream",
     "text": [
      "Downloading: /home/maria/Downloads/ONE/openalyx.internationalbrainlab.org/zadorlab/Subjects/CSH_ZAD_022/2020-05-25/002/alf/probe01/pykilosort/channels.mlapdv.06f0958e-fd0b-490b-9b12-47ee61c65810.npy Bytes: 4736\n"
     ]
    },
    {
     "name": "stderr",
     "output_type": "stream",
     "text": [
      "100%|█████████████████| 0.0045166015625/0.0045166015625 [00:00<00:00,  1.89it/s]"
     ]
    },
    {
     "name": "stdout",
     "output_type": "stream",
     "text": [
      "a82800ce-f4e3-4464-9b80-4c3d6fade333\n"
     ]
    },
    {
     "name": "stderr",
     "output_type": "stream",
     "text": [
      "\n"
     ]
    },
    {
     "name": "stdout",
     "output_type": "stream",
     "text": [
      "Downloading: /home/maria/Downloads/ONE/openalyx.internationalbrainlab.org/zadorlab/Subjects/CSH_ZAD_022/2020-05-24/001/alf/probe01/pykilosort/channels.mlapdv.67c8abf9-885d-4e05-9096-5562621a9826.npy Bytes: 4736\n"
     ]
    },
    {
     "name": "stderr",
     "output_type": "stream",
     "text": [
      "100%|█████████████████| 0.0045166015625/0.0045166015625 [00:00<00:00,  3.18it/s]"
     ]
    },
    {
     "name": "stdout",
     "output_type": "stream",
     "text": [
      "a66f1593-dafd-4982-9b66-f9554b6c86b5\n"
     ]
    },
    {
     "name": "stderr",
     "output_type": "stream",
     "text": [
      "\n"
     ]
    },
    {
     "name": "stdout",
     "output_type": "stream",
     "text": [
      "Downloading: /home/maria/Downloads/ONE/openalyx.internationalbrainlab.org/zadorlab/Subjects/CSH_ZAD_022/2020-05-23/001/alf/probe01/pykilosort/channels.mlapdv.b145924a-8cd0-451c-9d68-965362a8f5c2.npy Bytes: 4736\n"
     ]
    },
    {
     "name": "stderr",
     "output_type": "stream",
     "text": [
      "100%|█████████████████| 0.0045166015625/0.0045166015625 [00:00<00:00,  2.04it/s]"
     ]
    },
    {
     "name": "stdout",
     "output_type": "stream",
     "text": [
      "41431f53-69fd-4e3b-80ce-ea62e03bf9c7\n"
     ]
    },
    {
     "name": "stderr",
     "output_type": "stream",
     "text": [
      "\n"
     ]
    },
    {
     "name": "stdout",
     "output_type": "stream",
     "text": [
      "Downloading: /home/maria/Downloads/ONE/openalyx.internationalbrainlab.org/zadorlab/Subjects/CSH_ZAD_022/2020-05-21/001/alf/probe01/pykilosort/channels.mlapdv.d53b9d0b-6c1a-4649-9415-ee3157c6c1ee.npy Bytes: 4736\n"
     ]
    },
    {
     "name": "stderr",
     "output_type": "stream",
     "text": [
      "100%|█████████████████| 0.0045166015625/0.0045166015625 [00:00<00:00,  1.19it/s]"
     ]
    },
    {
     "name": "stdout",
     "output_type": "stream",
     "text": [
      "1eac875c-feaa-4a30-b148-059b954b11d8\n"
     ]
    },
    {
     "name": "stderr",
     "output_type": "stream",
     "text": [
      "\n"
     ]
    },
    {
     "name": "stdout",
     "output_type": "stream",
     "text": [
      "Downloading: /home/maria/Downloads/ONE/openalyx.internationalbrainlab.org/zadorlab/Subjects/CSH_ZAD_022/2020-05-20/001/alf/probe01/pykilosort/channels.mlapdv.4c6f3ee6-6ff9-4b22-b6f6-1231c8fee804.npy Bytes: 4736\n"
     ]
    },
    {
     "name": "stderr",
     "output_type": "stream",
     "text": [
      "100%|█████████████████| 0.0045166015625/0.0045166015625 [00:00<00:00,  1.69it/s]"
     ]
    },
    {
     "name": "stdout",
     "output_type": "stream",
     "text": [
      "8db36de1-8f17-4446-b527-b5d91909b45a\n"
     ]
    },
    {
     "name": "stderr",
     "output_type": "stream",
     "text": [
      "\n"
     ]
    },
    {
     "name": "stdout",
     "output_type": "stream",
     "text": [
      "Downloading: /home/maria/Downloads/ONE/openalyx.internationalbrainlab.org/zadorlab/Subjects/CSH_ZAD_022/2020-05-19/001/alf/probe01/pykilosort/channels.mlapdv.1370e52f-c449-405c-be9b-2fa801a27f75.npy Bytes: 4736\n"
     ]
    },
    {
     "name": "stderr",
     "output_type": "stream",
     "text": [
      "100%|█████████████████| 0.0045166015625/0.0045166015625 [00:00<00:00,  1.01it/s]"
     ]
    },
    {
     "name": "stdout",
     "output_type": "stream",
     "text": [
      "da188f2c-553c-4e04-879b-c9ea2d1b9a93\n"
     ]
    },
    {
     "name": "stderr",
     "output_type": "stream",
     "text": [
      "\n"
     ]
    },
    {
     "name": "stdout",
     "output_type": "stream",
     "text": [
      "Downloading: /home/maria/Downloads/ONE/openalyx.internationalbrainlab.org/zadorlab/Subjects/CSH_ZAD_011/2020-03-23/001/alf/probe01/pykilosort/channels.mlapdv.83e9c792-f568-4651-bb3d-47d858aae7a6.npy Bytes: 4736\n"
     ]
    },
    {
     "name": "stderr",
     "output_type": "stream",
     "text": [
      "100%|█████████████████| 0.0045166015625/0.0045166015625 [00:00<00:00,  1.07s/it]"
     ]
    },
    {
     "name": "stdout",
     "output_type": "stream",
     "text": [
      "03cf52f6-fba6-4743-a42e-dd1ac3072343\n"
     ]
    },
    {
     "name": "stderr",
     "output_type": "stream",
     "text": [
      "\n"
     ]
    },
    {
     "name": "stdout",
     "output_type": "stream",
     "text": [
      "Downloading: /home/maria/Downloads/ONE/openalyx.internationalbrainlab.org/zadorlab/Subjects/CSH_ZAD_011/2020-03-22/001/alf/probe01/pykilosort/channels.mlapdv.8d9037cd-940f-4975-b70b-a71442c7494e.npy Bytes: 4736\n"
     ]
    },
    {
     "name": "stderr",
     "output_type": "stream",
     "text": [
      "100%|█████████████████| 0.0045166015625/0.0045166015625 [00:00<00:00,  1.16s/it]"
     ]
    },
    {
     "name": "stdout",
     "output_type": "stream",
     "text": [
      "5b44c40f-80f4-44fb-abfb-c7f19e27a6ca\n"
     ]
    },
    {
     "name": "stderr",
     "output_type": "stream",
     "text": [
      "\n"
     ]
    },
    {
     "name": "stdout",
     "output_type": "stream",
     "text": [
      "Downloading: /home/maria/Downloads/ONE/openalyx.internationalbrainlab.org/zadorlab/Subjects/CSH_ZAD_011/2020-03-21/001/alf/probe01/pykilosort/channels.mlapdv.49572b03-f8ed-4878-9446-e5c39ba11667.npy Bytes: 4736\n"
     ]
    },
    {
     "name": "stderr",
     "output_type": "stream",
     "text": [
      "100%|█████████████████| 0.0045166015625/0.0045166015625 [00:00<00:00,  1.06it/s]"
     ]
    },
    {
     "name": "stdout",
     "output_type": "stream",
     "text": [
      "7be8fec4-406b-4e74-8548-d2885dcc3d5e\n"
     ]
    },
    {
     "name": "stderr",
     "output_type": "stream",
     "text": [
      "\n"
     ]
    },
    {
     "name": "stdout",
     "output_type": "stream",
     "text": [
      "Downloading: /home/maria/Downloads/ONE/openalyx.internationalbrainlab.org/churchlandlab/Subjects/CSHL060/2020-03-15/001/alf/probe01/pykilosort/channels.mlapdv.b7be7bfa-7d70-49ba-b701-5ab348bfbd16.npy Bytes: 4736\n"
     ]
    },
    {
     "name": "stderr",
     "output_type": "stream",
     "text": [
      "100%|█████████████████| 0.0045166015625/0.0045166015625 [00:00<00:00,  1.03it/s]"
     ]
    },
    {
     "name": "stdout",
     "output_type": "stream",
     "text": [
      "6364ff7f-6471-415a-ab9e-632a12052690\n"
     ]
    },
    {
     "name": "stderr",
     "output_type": "stream",
     "text": [
      "\n"
     ]
    },
    {
     "name": "stdout",
     "output_type": "stream",
     "text": [
      "Downloading: /home/maria/Downloads/ONE/openalyx.internationalbrainlab.org/churchlandlab/Subjects/CSHL060/2020-03-14/003/alf/probe01/pykilosort/channels.mlapdv.33960cef-4438-46fb-9d88-f319eed20ee7.npy Bytes: 4736\n"
     ]
    },
    {
     "name": "stderr",
     "output_type": "stream",
     "text": [
      "100%|█████████████████| 0.0045166015625/0.0045166015625 [00:00<00:00,  1.10it/s]"
     ]
    },
    {
     "name": "stdout",
     "output_type": "stream",
     "text": [
      "e535fb62-e245-4a48-b119-88ce62a6fe67\n"
     ]
    },
    {
     "name": "stderr",
     "output_type": "stream",
     "text": [
      "\n"
     ]
    },
    {
     "name": "stdout",
     "output_type": "stream",
     "text": [
      "Downloading: /home/maria/Downloads/ONE/openalyx.internationalbrainlab.org/danlab/Subjects/DY_013/2020-03-12/001/alf/probe01/pykilosort/channels.mlapdv.321b3deb-e598-47c8-9bf7-864c1cc365f7.npy Bytes: 4736\n"
     ]
    },
    {
     "name": "stderr",
     "output_type": "stream",
     "text": [
      "100%|█████████████████| 0.0045166015625/0.0045166015625 [00:00<00:00,  1.01it/s]"
     ]
    },
    {
     "name": "stdout",
     "output_type": "stream",
     "text": [
      "f10efe41-0dc0-44d0-8f26-5ff68dca23e9\n"
     ]
    },
    {
     "name": "stderr",
     "output_type": "stream",
     "text": [
      "\n"
     ]
    },
    {
     "name": "stdout",
     "output_type": "stream",
     "text": [
      "Downloading: /home/maria/Downloads/ONE/openalyx.internationalbrainlab.org/churchlandlab/Subjects/CSHL060/2020-03-12/001/alf/probe01/pykilosort/channels.mlapdv.edc57f90-1fed-4960-aa14-8ac76ce90e2d.npy Bytes: 4736\n"
     ]
    },
    {
     "name": "stderr",
     "output_type": "stream",
     "text": [
      "100%|█████████████████| 0.0045166015625/0.0045166015625 [00:00<00:00,  1.09s/it]"
     ]
    },
    {
     "name": "stdout",
     "output_type": "stream",
     "text": [
      "1191f865-b10a-45c8-9c48-24a980fd9402\n"
     ]
    },
    {
     "name": "stderr",
     "output_type": "stream",
     "text": [
      "\n"
     ]
    },
    {
     "name": "stdout",
     "output_type": "stream",
     "text": [
      "Downloading: /home/maria/Downloads/ONE/openalyx.internationalbrainlab.org/churchlandlab/Subjects/CSHL060/2020-03-11/004/alf/probe01/pykilosort/channels.mlapdv.0814132c-7bfa-4707-be4f-87f4c6878790.npy Bytes: 4736\n"
     ]
    },
    {
     "name": "stderr",
     "output_type": "stream",
     "text": [
      "100%|█████████████████| 0.0045166015625/0.0045166015625 [00:00<00:00,  1.17s/it]"
     ]
    },
    {
     "name": "stdout",
     "output_type": "stream",
     "text": [
      "6668c4a0-70a4-4012-a7da-709660971d7a\n",
      "2e6e179c-fccc-4e8f-9448-ce5b6858a183\n"
     ]
    },
    {
     "name": "stderr",
     "output_type": "stream",
     "text": [
      "\n"
     ]
    },
    {
     "name": "stdout",
     "output_type": "stream",
     "text": [
      "Downloading: /home/maria/Downloads/ONE/openalyx.internationalbrainlab.org/churchlandlab/Subjects/CSHL060/2020-03-09/002/alf/probe01/pykilosort/channels.mlapdv.802ca3f1-6e00-41d0-a58d-da8f255860ca.npy Bytes: 4736\n"
     ]
    },
    {
     "name": "stderr",
     "output_type": "stream",
     "text": [
      "100%|█████████████████| 0.0045166015625/0.0045166015625 [00:00<00:00,  1.75it/s]"
     ]
    },
    {
     "name": "stdout",
     "output_type": "stream",
     "text": [
      "37e96d0b-5b4b-4c6e-9b29-7edbdc94bbd0\n"
     ]
    },
    {
     "name": "stderr",
     "output_type": "stream",
     "text": [
      "\n"
     ]
    },
    {
     "name": "stdout",
     "output_type": "stream",
     "text": [
      "Downloading: /home/maria/Downloads/ONE/openalyx.internationalbrainlab.org/churchlandlab/Subjects/CSHL059/2020-03-08/001/alf/probe01/pykilosort/channels.mlapdv.20c53095-4309-4ac7-9d2b-d3527b51d77d.npy Bytes: 4736\n"
     ]
    },
    {
     "name": "stderr",
     "output_type": "stream",
     "text": [
      "100%|█████████████████| 0.0045166015625/0.0045166015625 [00:00<00:00,  3.10it/s]"
     ]
    },
    {
     "name": "stdout",
     "output_type": "stream",
     "text": [
      "9a629642-3a9c-42ed-b70a-532db0e86199\n",
      "e5c772cd-9c92-47ab-9525-d618b66a9b5d\n",
      "d16a9a8d-5f42-4b49-ba58-1746f807fcc1\n"
     ]
    },
    {
     "name": "stderr",
     "output_type": "stream",
     "text": [
      "\n"
     ]
    },
    {
     "name": "stdout",
     "output_type": "stream",
     "text": [
      "Downloading: /home/maria/Downloads/ONE/openalyx.internationalbrainlab.org/churchlandlab/Subjects/CSHL059/2020-03-07/002/alf/probe01/pykilosort/channels.mlapdv.f2a97aa6-e607-4ede-a271-38ceef5e23af.npy Bytes: 4736\n"
     ]
    },
    {
     "name": "stderr",
     "output_type": "stream",
     "text": [
      "100%|█████████████████| 0.0045166015625/0.0045166015625 [00:00<00:00,  2.45it/s]"
     ]
    },
    {
     "name": "stdout",
     "output_type": "stream",
     "text": [
      "2f63c555-eb74-4d8d-ada5-5c3ecf3b46be\n",
      "a19c7a3a-7261-42ce-95d5-1f4ca46007ed\n",
      "dda5fc59-f09a-4256-9fb5-66c67667a466\n"
     ]
    },
    {
     "name": "stderr",
     "output_type": "stream",
     "text": [
      "\n"
     ]
    },
    {
     "name": "stdout",
     "output_type": "stream",
     "text": [
      "Downloading: /home/maria/Downloads/ONE/openalyx.internationalbrainlab.org/churchlandlab/Subjects/CSHL059/2020-03-06/001/alf/probe01/pykilosort/channels.mlapdv.fcbc3c7e-22a0-4831-aae8-900e1ca0cddf.npy Bytes: 4736\n"
     ]
    },
    {
     "name": "stderr",
     "output_type": "stream",
     "text": [
      "100%|█████████████████| 0.0045166015625/0.0045166015625 [00:00<00:00,  1.91it/s]"
     ]
    },
    {
     "name": "stdout",
     "output_type": "stream",
     "text": [
      "413a6825-2144-4a50-b3fc-cf38ddd6fd1a\n",
      "57b5ae8f-d446-4161-b439-b191c5e3e77b\n"
     ]
    },
    {
     "name": "stderr",
     "output_type": "stream",
     "text": [
      "\n"
     ]
    },
    {
     "name": "stdout",
     "output_type": "stream",
     "text": [
      "Downloading: /home/maria/Downloads/ONE/openalyx.internationalbrainlab.org/churchlandlab/Subjects/CSHL059/2020-03-05/001/alf/probe01/pykilosort/channels.mlapdv.3c5bba24-ea84-4a51-a906-4f7b4b0e19fb.npy Bytes: 4736\n"
     ]
    },
    {
     "name": "stderr",
     "output_type": "stream",
     "text": [
      "100%|█████████████████| 0.0045166015625/0.0045166015625 [00:00<00:00,  1.02s/it]"
     ]
    },
    {
     "name": "stdout",
     "output_type": "stream",
     "text": [
      "30e5937e-e86a-47e6-93ae-d2ae3877ff8e\n",
      "ee13c19e-2790-4418-97ca-48f02e8013bb\n",
      "158d5d35-a2ab-4a76-87b0-51048c5d5283\n",
      "0f25376f-2b78-4ddc-8c39-b6cdbe7bf5b9\n",
      "d2f5a130-b981-4546-8858-c94ae1da75ff\n"
     ]
    },
    {
     "name": "stderr",
     "output_type": "stream",
     "text": [
      "\n"
     ]
    },
    {
     "name": "stdout",
     "output_type": "stream",
     "text": [
      "Downloading: /home/maria/Downloads/ONE/openalyx.internationalbrainlab.org/churchlandlab/Subjects/CSHL059/2020-03-03/001/alf/probe01/pykilosort/channels.mlapdv.6851a9d7-1e18-493c-8152-c42c61661404.npy Bytes: 4736\n"
     ]
    },
    {
     "name": "stderr",
     "output_type": "stream",
     "text": [
      "100%|█████████████████| 0.0045166015625/0.0045166015625 [00:00<00:00,  2.35it/s]"
     ]
    },
    {
     "name": "stdout",
     "output_type": "stream",
     "text": [
      "3c851386-e92d-4533-8d55-89a46f0e7384\n",
      "3dd347df-f14e-40d5-9ff2-9c49f84d2157\n",
      "7939711b-8b4d-4251-b698-b97c1eaa846e\n"
     ]
    },
    {
     "name": "stderr",
     "output_type": "stream",
     "text": [
      "\n"
     ]
    },
    {
     "name": "stdout",
     "output_type": "stream",
     "text": [
      "Downloading: /home/maria/Downloads/ONE/openalyx.internationalbrainlab.org/churchlandlab/Subjects/CSHL045/2020-02-28/001/alf/probe01/pykilosort/channels.mlapdv.885daa7e-bc97-4c53-a758-b61e430371aa.npy Bytes: 4736\n"
     ]
    },
    {
     "name": "stderr",
     "output_type": "stream",
     "text": [
      "100%|█████████████████| 0.0045166015625/0.0045166015625 [00:00<00:00,  1.36it/s]"
     ]
    },
    {
     "name": "stdout",
     "output_type": "stream",
     "text": [
      "db4df448-e449-4a6f-a0e7-288711e7a75a\n",
      "46794e05-3f6a-4d35-afb3-9165091a5a74\n"
     ]
    },
    {
     "name": "stderr",
     "output_type": "stream",
     "text": [
      "\n"
     ]
    },
    {
     "name": "stdout",
     "output_type": "stream",
     "text": [
      "Downloading: /home/maria/Downloads/ONE/openalyx.internationalbrainlab.org/churchlandlab/Subjects/CSHL045/2020-02-27/001/alf/probe01/pykilosort/channels.mlapdv.d18f6cfc-7bb4-4331-8616-2301be559443.npy Bytes: 4736\n"
     ]
    },
    {
     "name": "stderr",
     "output_type": "stream",
     "text": [
      "100%|█████████████████| 0.0045166015625/0.0045166015625 [00:00<00:00,  1.01s/it]"
     ]
    },
    {
     "name": "stdout",
     "output_type": "stream",
     "text": [
      "fa704052-147e-46f6-b190-a65b837e605e\n"
     ]
    },
    {
     "name": "stderr",
     "output_type": "stream",
     "text": [
      "\n"
     ]
    },
    {
     "name": "stdout",
     "output_type": "stream",
     "text": [
      "Downloading: /home/maria/Downloads/ONE/openalyx.internationalbrainlab.org/churchlandlab/Subjects/CSHL045/2020-02-26/001/alf/probe01/pykilosort/channels.mlapdv.c84ffdc0-c89b-4ad7-abf1-f122fe1a468b.npy Bytes: 4736\n"
     ]
    },
    {
     "name": "stderr",
     "output_type": "stream",
     "text": [
      "100%|█████████████████| 0.0045166015625/0.0045166015625 [00:00<00:00,  1.12s/it]"
     ]
    },
    {
     "name": "stdout",
     "output_type": "stream",
     "text": [
      "dfd8e7df-dc51-4589-b6ca-7baccfeb94b4\n"
     ]
    },
    {
     "name": "stderr",
     "output_type": "stream",
     "text": [
      "\n"
     ]
    },
    {
     "name": "stdout",
     "output_type": "stream",
     "text": [
      "Downloading: /home/maria/Downloads/ONE/openalyx.internationalbrainlab.org/churchlandlab/Subjects/CSHL045/2020-02-25/002/alf/probe01/pykilosort/channels.mlapdv.1b69d8c9-2c9a-472f-b2cd-2d196a06356f.npy Bytes: 4736\n"
     ]
    },
    {
     "name": "stderr",
     "output_type": "stream",
     "text": [
      "100%|█████████████████| 0.0045166015625/0.0045166015625 [00:00<00:00,  2.03it/s]"
     ]
    },
    {
     "name": "stdout",
     "output_type": "stream",
     "text": [
      "034e726f-b35f-41e0-8d6c-a22cc32391fb\n"
     ]
    },
    {
     "name": "stderr",
     "output_type": "stream",
     "text": [
      "\n"
     ]
    },
    {
     "name": "stdout",
     "output_type": "stream",
     "text": [
      "Downloading: /home/maria/Downloads/ONE/openalyx.internationalbrainlab.org/churchlandlab/Subjects/CSHL045/2020-02-24/001/alf/probe01/pykilosort/channels.mlapdv.5b457fd7-5820-4290-ad69-9f4fc99a75ef.npy Bytes: 4736\n"
     ]
    },
    {
     "name": "stderr",
     "output_type": "stream",
     "text": [
      "100%|█████████████████| 0.0045166015625/0.0045166015625 [00:00<00:00,  1.16s/it]"
     ]
    },
    {
     "name": "stdout",
     "output_type": "stream",
     "text": [
      "56956777-dca5-468c-87cb-78150432cc57\n"
     ]
    },
    {
     "name": "stderr",
     "output_type": "stream",
     "text": [
      "\n"
     ]
    },
    {
     "name": "stdout",
     "output_type": "stream",
     "text": [
      "Downloading: /home/maria/Downloads/ONE/openalyx.internationalbrainlab.org/angelakilab/Subjects/NYU-11/2020-02-21/001/alf/probe01/pykilosort/channels.mlapdv.3b3ac3de-9f30-4f96-aef7-104e2ecde4e0.npy Bytes: 4736\n"
     ]
    },
    {
     "name": "stderr",
     "output_type": "stream",
     "text": [
      "100%|█████████████████| 0.0045166015625/0.0045166015625 [00:00<00:00,  1.18s/it]"
     ]
    },
    {
     "name": "stdout",
     "output_type": "stream",
     "text": [
      "4b00df29-3769-43be-bb40-128b1cba6d35\n"
     ]
    },
    {
     "name": "stderr",
     "output_type": "stream",
     "text": [
      "\n"
     ]
    },
    {
     "name": "stdout",
     "output_type": "stream",
     "text": [
      "Downloading: /home/maria/Downloads/ONE/openalyx.internationalbrainlab.org/churchlandlab/Subjects/CSHL052/2020-02-21/001/alf/probe01/pykilosort/channels.mlapdv.4ac0f4ea-29fe-41cc-8b46-0d51776f9852.npy Bytes: 4736\n"
     ]
    },
    {
     "name": "stderr",
     "output_type": "stream",
     "text": [
      "100%|█████████████████| 0.0045166015625/0.0045166015625 [00:00<00:00,  1.10s/it]"
     ]
    },
    {
     "name": "stdout",
     "output_type": "stream",
     "text": [
      "83e77b4b-dfa0-4af9-968b-7ea0c7a0c7e4\n"
     ]
    },
    {
     "name": "stderr",
     "output_type": "stream",
     "text": [
      "\n"
     ]
    },
    {
     "name": "stdout",
     "output_type": "stream",
     "text": [
      "Downloading: /home/maria/Downloads/ONE/openalyx.internationalbrainlab.org/churchlandlab/Subjects/CSHL052/2020-02-20/001/alf/probe01/pykilosort/channels.mlapdv.9176ba59-e2c2-409e-b817-c5ee8fe2927e.npy Bytes: 4736\n"
     ]
    },
    {
     "name": "stderr",
     "output_type": "stream",
     "text": [
      "100%|█████████████████| 0.0045166015625/0.0045166015625 [00:00<00:00,  1.18s/it]"
     ]
    },
    {
     "name": "stdout",
     "output_type": "stream",
     "text": [
      "5386aba9-9b97-4557-abcd-abc2da66b863\n",
      "6713a4a7-faed-4df2-acab-ee4e63326f8d\n",
      "0cbeae00-e229-4b7d-bdcc-1b0569d7e0c3\n"
     ]
    },
    {
     "name": "stderr",
     "output_type": "stream",
     "text": [
      "\n"
     ]
    },
    {
     "name": "stdout",
     "output_type": "stream",
     "text": [
      "Downloading: /home/maria/Downloads/ONE/openalyx.internationalbrainlab.org/churchlandlab/Subjects/CSHL055/2020-02-17/001/alf/probe01/pykilosort/channels.mlapdv.2f8a7551-c003-4b60-888e-d443627fd47b.npy Bytes: 4736\n"
     ]
    },
    {
     "name": "stderr",
     "output_type": "stream",
     "text": [
      "100%|█████████████████| 0.0045166015625/0.0045166015625 [00:00<00:00,  1.05s/it]"
     ]
    },
    {
     "name": "stdout",
     "output_type": "stream",
     "text": [
      "3663d82b-f197-4e8b-b299-7b803a155b84\n"
     ]
    },
    {
     "name": "stderr",
     "output_type": "stream",
     "text": [
      "\n"
     ]
    },
    {
     "name": "stdout",
     "output_type": "stream",
     "text": [
      "Downloading: /home/maria/Downloads/ONE/openalyx.internationalbrainlab.org/churchlandlab/Subjects/CSHL052/2020-02-17/003/alf/probe01/pykilosort/channels.mlapdv.64064632-7224-45c2-a34b-f6611f5a7fc5.npy Bytes: 4736\n"
     ]
    },
    {
     "name": "stderr",
     "output_type": "stream",
     "text": [
      "100%|█████████████████| 0.0045166015625/0.0045166015625 [00:00<00:00,  1.05it/s]"
     ]
    },
    {
     "name": "stdout",
     "output_type": "stream",
     "text": [
      "38d95489-2e82-412a-8c1a-c5377b5f1555\n"
     ]
    },
    {
     "name": "stderr",
     "output_type": "stream",
     "text": [
      "\n"
     ]
    },
    {
     "name": "stdout",
     "output_type": "stream",
     "text": [
      "Downloading: /home/maria/Downloads/ONE/openalyx.internationalbrainlab.org/mrsicflogellab/Subjects/SWC_023/2020-02-13/001/alf/probe01/pykilosort/channels.mlapdv.257f0c6a-ceda-457d-9b36-3f31a8c7e1b8.npy Bytes: 4736\n"
     ]
    },
    {
     "name": "stderr",
     "output_type": "stream",
     "text": [
      "100%|█████████████████| 0.0045166015625/0.0045166015625 [00:00<00:00,  1.01s/it]"
     ]
    },
    {
     "name": "stdout",
     "output_type": "stream",
     "text": [
      "57fd2325-67f4-4d45-9907-29e77d3043d7\n",
      "a71175be-d1fd-47a3-aa93-b830ea3634a1\n"
     ]
    },
    {
     "name": "stderr",
     "output_type": "stream",
     "text": [
      "\n"
     ]
    },
    {
     "name": "stdout",
     "output_type": "stream",
     "text": [
      "Downloading: /home/maria/Downloads/ONE/openalyx.internationalbrainlab.org/churchlandlab/Subjects/CSHL054/2020-02-11/001/alf/probe01/pykilosort/channels.mlapdv.cab435a7-ce13-41cd-856a-447ca763d2bd.npy Bytes: 4736\n"
     ]
    },
    {
     "name": "stderr",
     "output_type": "stream",
     "text": [
      "100%|█████████████████| 0.0045166015625/0.0045166015625 [00:00<00:00,  1.01s/it]"
     ]
    },
    {
     "name": "stdout",
     "output_type": "stream",
     "text": [
      "cf43dbb1-6992-40ec-a5f9-e8e838d0f643\n",
      "572a95d1-39ca-42e1-8424-5c9ffcb2df87\n"
     ]
    },
    {
     "name": "stderr",
     "output_type": "stream",
     "text": [
      "\n"
     ]
    },
    {
     "name": "stdout",
     "output_type": "stream",
     "text": [
      "Downloading: /home/maria/Downloads/ONE/openalyx.internationalbrainlab.org/cortexlab/Subjects/KS020/2020-02-07/001/alf/probe01/pykilosort/channels.mlapdv.a4bc3d7e-ce0d-43aa-b701-82cd1593bfe1.npy Bytes: 4736\n"
     ]
    },
    {
     "name": "stderr",
     "output_type": "stream",
     "text": [
      "100%|█████████████████| 0.0045166015625/0.0045166015625 [00:00<00:00,  1.15s/it]"
     ]
    },
    {
     "name": "stdout",
     "output_type": "stream",
     "text": [
      "741979ce-3f10-443a-8526-2275620c8473\n",
      "ecb5520d-1358-434c-95ec-93687ecd1396\n"
     ]
    },
    {
     "name": "stderr",
     "output_type": "stream",
     "text": [
      "\n"
     ]
    },
    {
     "name": "stdout",
     "output_type": "stream",
     "text": [
      "Downloading: /home/maria/Downloads/ONE/openalyx.internationalbrainlab.org/churchlandlab/Subjects/CSHL051/2020-02-05/001/alf/probe01/pykilosort/channels.mlapdv.9a23949e-8741-4c87-95a3-509985c5acac.npy Bytes: 4736\n"
     ]
    },
    {
     "name": "stderr",
     "output_type": "stream",
     "text": [
      "100%|█████████████████| 0.0045166015625/0.0045166015625 [00:00<00:00,  1.06s/it]"
     ]
    },
    {
     "name": "stdout",
     "output_type": "stream",
     "text": [
      "810b1e07-009e-4ebe-930a-915e4cd8ece4\n"
     ]
    },
    {
     "name": "stderr",
     "output_type": "stream",
     "text": [
      "\n"
     ]
    },
    {
     "name": "stdout",
     "output_type": "stream",
     "text": [
      "Downloading: /home/maria/Downloads/ONE/openalyx.internationalbrainlab.org/churchlandlab/Subjects/CSHL053/2020-02-02/002/alf/probe01/pykilosort/channels.mlapdv.55b9d775-1fa7-4d45-b028-255db0649d41.npy Bytes: 4736\n"
     ]
    },
    {
     "name": "stderr",
     "output_type": "stream",
     "text": [
      "100%|█████████████████| 0.0045166015625/0.0045166015625 [00:00<00:00,  1.32s/it]"
     ]
    },
    {
     "name": "stdout",
     "output_type": "stream",
     "text": [
      "36280321-555b-446d-9b7d-c2e17991e090\n",
      "eef82e27-c20e-48da-b4b7-c443031649e3\n",
      "f8d5c8b0-b931-4151-b86c-c471e2e80e5d\n"
     ]
    },
    {
     "name": "stderr",
     "output_type": "stream",
     "text": [
      "\n"
     ]
    },
    {
     "name": "stdout",
     "output_type": "stream",
     "text": [
      "Downloading: /home/maria/Downloads/ONE/openalyx.internationalbrainlab.org/mainenlab/Subjects/ZM_2241/2020-01-31/001/alf/probe01/pykilosort/channels.mlapdv.bc0facba-a4fd-42f2-b3d0-dd25db8e5312.npy Bytes: 4736\n"
     ]
    },
    {
     "name": "stderr",
     "output_type": "stream",
     "text": [
      "100%|█████████████████| 0.0045166015625/0.0045166015625 [00:00<00:00,  1.14s/it]"
     ]
    },
    {
     "name": "stdout",
     "output_type": "stream",
     "text": [
      "7bee9f09-a238-42cf-b499-f51f765c6ded\n",
      "ee40aece-cffd-4edb-a4b6-155f158c666a\n"
     ]
    },
    {
     "name": "stderr",
     "output_type": "stream",
     "text": [
      "\n"
     ]
    },
    {
     "name": "stdout",
     "output_type": "stream",
     "text": [
      "Downloading: /home/maria/Downloads/ONE/openalyx.internationalbrainlab.org/mainenlab/Subjects/ZM_2241/2020-01-30/001/alf/probe01/pykilosort/channels.mlapdv.3c36ec5c-3635-43f3-87aa-3ce1f7fc88ba.npy Bytes: 4736\n"
     ]
    },
    {
     "name": "stderr",
     "output_type": "stream",
     "text": [
      "100%|█████████████████| 0.0045166015625/0.0045166015625 [00:00<00:00,  1.12s/it]"
     ]
    },
    {
     "name": "stdout",
     "output_type": "stream",
     "text": [
      "0deb75fb-9088-42d9-b744-012fb8fc4afb\n",
      "e49d8ee7-24b9-416a-9d04-9be33b655f40\n",
      "02fbb6da-3034-47d6-a61b-7d06c796a830\n",
      "12dc8b34-b18e-4cdd-90a9-da134a9be79c\n",
      "465c44bd-2e67-4112-977b-36e1ac7e3f8c\n"
     ]
    },
    {
     "name": "stderr",
     "output_type": "stream",
     "text": [
      "\n"
     ]
    },
    {
     "name": "stdout",
     "output_type": "stream",
     "text": [
      "Downloading: /home/maria/Downloads/ONE/openalyx.internationalbrainlab.org/mainenlab/Subjects/ZM_2241/2020-01-28/001/alf/probe01/pykilosort/channels.mlapdv.1ddd73a2-d2d8-4a1a-a6f0-740715e3dcd3.npy Bytes: 4736\n"
     ]
    },
    {
     "name": "stderr",
     "output_type": "stream",
     "text": [
      "100%|█████████████████| 0.0045166015625/0.0045166015625 [00:00<00:00,  1.22it/s]"
     ]
    },
    {
     "name": "stdout",
     "output_type": "stream",
     "text": [
      "931a70ae-90ee-448e-bedb-9d41f3eda647\n",
      "ff4187b5-4176-4e39-8894-53a24b7cf36b\n"
     ]
    },
    {
     "name": "stderr",
     "output_type": "stream",
     "text": [
      "\n"
     ]
    },
    {
     "name": "stdout",
     "output_type": "stream",
     "text": [
      "Downloading: /home/maria/Downloads/ONE/openalyx.internationalbrainlab.org/mainenlab/Subjects/ZM_2241/2020-01-27/001/alf/probe01/pykilosort/channels.mlapdv.5691c2b6-6fae-45c8-855b-bdce57a4e827.npy Bytes: 4736\n"
     ]
    },
    {
     "name": "stderr",
     "output_type": "stream",
     "text": [
      "100%|█████████████████| 0.0045166015625/0.0045166015625 [00:00<00:00,  1.07it/s]"
     ]
    },
    {
     "name": "stdout",
     "output_type": "stream",
     "text": [
      "b03fbc44-3d8e-4a6c-8a50-5ea3498568e0\n",
      "193fe7a8-4eb5-4f3e-815a-0c45864ddd77\n",
      "bb6a5aae-2431-401d-8f6a-9fdd6de655a9\n",
      "510b1a50-825d-44ce-86f6-9678f5396e02\n",
      "032ffcdf-7692-40b3-b9ff-8def1fc18b2e\n"
     ]
    },
    {
     "name": "stderr",
     "output_type": "stream",
     "text": [
      "\n"
     ]
    },
    {
     "name": "stdout",
     "output_type": "stream",
     "text": [
      "Downloading: /home/maria/Downloads/ONE/openalyx.internationalbrainlab.org/angelakilab/Subjects/NYU-12/2020-01-23/001/alf/probe01/pykilosort/channels.mlapdv.c5c514bc-651b-4284-aa8a-7e4f1e13a59a.npy Bytes: 4736\n"
     ]
    },
    {
     "name": "stderr",
     "output_type": "stream",
     "text": [
      "100%|█████████████████| 0.0045166015625/0.0045166015625 [00:00<00:00,  1.27s/it]"
     ]
    },
    {
     "name": "stdout",
     "output_type": "stream",
     "text": [
      "90d1e82c-c96f-496c-ad4e-ee3f02067f25\n",
      "259927fd-7563-4b03-bc5d-17b4d0fa7a55\n"
     ]
    },
    {
     "name": "stderr",
     "output_type": "stream",
     "text": [
      "\n"
     ]
    },
    {
     "name": "stdout",
     "output_type": "stream",
     "text": [
      "Downloading: /home/maria/Downloads/ONE/openalyx.internationalbrainlab.org/mainenlab/Subjects/ZM_2240/2020-01-22/001/alf/probe01/pykilosort/channels.mlapdv.17756ebb-3d98-495c-ae5e-0b8745b7eec7.npy Bytes: 4736\n"
     ]
    },
    {
     "name": "stderr",
     "output_type": "stream",
     "text": [
      "100%|█████████████████| 0.0045166015625/0.0045166015625 [00:00<00:00,  2.92it/s]"
     ]
    },
    {
     "name": "stdout",
     "output_type": "stream",
     "text": [
      "a8a8af78-16de-4841-ab07-fde4b5281a03\n"
     ]
    },
    {
     "name": "stderr",
     "output_type": "stream",
     "text": [
      "\n"
     ]
    },
    {
     "name": "stdout",
     "output_type": "stream",
     "text": [
      "Downloading: /home/maria/Downloads/ONE/openalyx.internationalbrainlab.org/angelakilab/Subjects/NYU-12/2020-01-22/001/alf/probe01/pykilosort/channels.mlapdv.a3cdf278-a4a3-4330-a51e-3dbf6ba14afa.npy Bytes: 4736\n"
     ]
    },
    {
     "name": "stderr",
     "output_type": "stream",
     "text": [
      "100%|█████████████████| 0.0045166015625/0.0045166015625 [00:00<00:00,  1.10s/it]"
     ]
    },
    {
     "name": "stdout",
     "output_type": "stream",
     "text": [
      "2d5f6d81-38c4-4bdc-ac3c-302ea4d5f46e\n"
     ]
    },
    {
     "name": "stderr",
     "output_type": "stream",
     "text": [
      "\n"
     ]
    },
    {
     "name": "stdout",
     "output_type": "stream",
     "text": [
      "Downloading: /home/maria/Downloads/ONE/openalyx.internationalbrainlab.org/churchlandlab/Subjects/CSHL047/2020-01-22/002/alf/probe01/pykilosort/channels.mlapdv.80518b8b-cf08-47f3-86c2-a238dcfe141f.npy Bytes: 4736\n"
     ]
    },
    {
     "name": "stderr",
     "output_type": "stream",
     "text": [
      "100%|█████████████████| 0.0045166015625/0.0045166015625 [00:00<00:00,  1.20s/it]"
     ]
    },
    {
     "name": "stdout",
     "output_type": "stream",
     "text": [
      "cb2ad999-a6cb-42ff-bf71-1774c57e5308\n"
     ]
    },
    {
     "name": "stderr",
     "output_type": "stream",
     "text": [
      "\n"
     ]
    },
    {
     "name": "stdout",
     "output_type": "stream",
     "text": [
      "Downloading: /home/maria/Downloads/ONE/openalyx.internationalbrainlab.org/mainenlab/Subjects/ZM_2245/2020-01-21/002/alf/probe01/pykilosort/channels.mlapdv.5aec0ae0-c641-42cb-9a94-3c3f6bd12983.npy Bytes: 4736\n"
     ]
    },
    {
     "name": "stderr",
     "output_type": "stream",
     "text": [
      "100%|█████████████████| 0.0045166015625/0.0045166015625 [00:00<00:00,  1.16s/it]"
     ]
    },
    {
     "name": "stdout",
     "output_type": "stream",
     "text": [
      "d33baf74-263c-4b37-a0d0-b79dcb80a764\n"
     ]
    },
    {
     "name": "stderr",
     "output_type": "stream",
     "text": [
      "\n"
     ]
    },
    {
     "name": "stdout",
     "output_type": "stream",
     "text": [
      "Downloading: /home/maria/Downloads/ONE/openalyx.internationalbrainlab.org/mainenlab/Subjects/ZM_2240/2020-01-21/001/alf/probe01/pykilosort/channels.mlapdv.dba8ae56-5480-4b43-8027-f0fbd577906b.npy Bytes: 4736\n"
     ]
    },
    {
     "name": "stderr",
     "output_type": "stream",
     "text": [
      "100%|█████████████████| 0.0045166015625/0.0045166015625 [00:00<00:00,  1.05s/it]"
     ]
    },
    {
     "name": "stdout",
     "output_type": "stream",
     "text": [
      "4fa70097-8101-4f10-b585-db39429c5ed0\n",
      "b52182e7-39f6-4914-9717-136db589706e\n",
      "89f0d6ff-69f4-45bc-b89e-72868abb042a\n",
      "3e7ae7c0-fe8b-487c-9354-036236fa1010\n",
      "e9b57a5a-b06d-476d-ad20-7ec42a16f5f5\n",
      "d839491f-55d8-4cbe-a298-7839208ba12b\n"
     ]
    },
    {
     "name": "stderr",
     "output_type": "stream",
     "text": [
      "\n"
     ]
    },
    {
     "name": "stdout",
     "output_type": "stream",
     "text": [
      "Downloading: /home/maria/Downloads/ONE/openalyx.internationalbrainlab.org/churchlandlab/Subjects/CSHL049/2020-01-11/001/alf/probe01/pykilosort/channels.mlapdv.0b2258b3-75dc-4eb1-8990-696f655bf7cc.npy Bytes: 4736\n"
     ]
    },
    {
     "name": "stderr",
     "output_type": "stream",
     "text": [
      "100%|█████████████████| 0.0045166015625/0.0045166015625 [00:00<00:00,  1.07s/it]"
     ]
    },
    {
     "name": "stdout",
     "output_type": "stream",
     "text": [
      "c99d53e6-c317-4c53-99ba-070b26673ac4\n",
      "4b7fbad4-f6de-43b4-9b15-c7c7ef44db4b\n"
     ]
    },
    {
     "name": "stderr",
     "output_type": "stream",
     "text": [
      "\n"
     ]
    },
    {
     "name": "stdout",
     "output_type": "stream",
     "text": [
      "53738f95-bd08-4d9d-9133-483fdb19e8da\n",
      "21e16736-fd59-44c7-b938-9b1333d25da8\n",
      "614e1937-4b24-4ad3-9055-c8253d089919\n",
      "Downloading: /home/maria/Downloads/ONE/openalyx.internationalbrainlab.org/hoferlab/Subjects/SWC_014/2019-12-10/001/alf/probe01/pykilosort/channels.mlapdv.9ccc3305-3f3d-4b84-b164-01f07e3cade2.npy Bytes: 4736\n"
     ]
    },
    {
     "name": "stderr",
     "output_type": "stream",
     "text": [
      "100%|█████████████████| 0.0045166015625/0.0045166015625 [00:00<00:00,  1.15s/it]"
     ]
    },
    {
     "name": "stdout",
     "output_type": "stream",
     "text": [
      "aad23144-0e52-4eac-80c5-c4ee2decb198\n"
     ]
    },
    {
     "name": "stderr",
     "output_type": "stream",
     "text": [
      "\n"
     ]
    },
    {
     "name": "stdout",
     "output_type": "stream",
     "text": [
      "Downloading: /home/maria/Downloads/ONE/openalyx.internationalbrainlab.org/cortexlab/Subjects/KS023/2019-12-10/001/alf/probe01/pykilosort/channels.mlapdv.0d7886ab-4257-4ecd-98a0-2300df5a443a.npy Bytes: 4736\n"
     ]
    },
    {
     "name": "stderr",
     "output_type": "stream",
     "text": [
      "100%|█████████████████| 0.0045166015625/0.0045166015625 [00:00<00:00,  1.27s/it]"
     ]
    },
    {
     "name": "stdout",
     "output_type": "stream",
     "text": [
      "15f742e1-1043-45c9-9504-f1e8a53c1744\n"
     ]
    },
    {
     "name": "stderr",
     "output_type": "stream",
     "text": [
      "\n"
     ]
    },
    {
     "name": "stdout",
     "output_type": "stream",
     "text": [
      "dd87e278-999d-478b-8cbd-b5bf92b84763\n",
      "Downloading: /home/maria/Downloads/ONE/openalyx.internationalbrainlab.org/cortexlab/Subjects/KS016/2019-12-09/001/alf/probe01/pykilosort/channels.mlapdv.b19542b6-0d76-4ce8-befa-61fcc30a4ba0.npy Bytes: 4736\n"
     ]
    },
    {
     "name": "stderr",
     "output_type": "stream",
     "text": [
      "100%|█████████████████| 0.0045166015625/0.0045166015625 [00:00<00:00,  1.09s/it]"
     ]
    },
    {
     "name": "stdout",
     "output_type": "stream",
     "text": [
      "a92c4b1d-46bd-457e-a1f4-414265f0e2d4\n"
     ]
    },
    {
     "name": "stderr",
     "output_type": "stream",
     "text": [
      "\n"
     ]
    },
    {
     "name": "stdout",
     "output_type": "stream",
     "text": [
      "16c3667b-e0ea-43fb-9ad4-8dcd1e6c40e1\n",
      "Downloading: /home/maria/Downloads/ONE/openalyx.internationalbrainlab.org/cortexlab/Subjects/KS016/2019-12-08/001/alf/probe01/pykilosort/channels.mlapdv.93081156-0180-4769-b44b-4f26cd3e0891.npy Bytes: 4736\n"
     ]
    },
    {
     "name": "stderr",
     "output_type": "stream",
     "text": [
      "100%|█████████████████| 0.0045166015625/0.0045166015625 [00:00<00:00,  1.06s/it]"
     ]
    },
    {
     "name": "stdout",
     "output_type": "stream",
     "text": [
      "cc45c568-c3b9-4f74-836e-c87762e898c8\n"
     ]
    },
    {
     "name": "stderr",
     "output_type": "stream",
     "text": [
      "\n"
     ]
    },
    {
     "name": "stdout",
     "output_type": "stream",
     "text": [
      "Downloading: /home/maria/Downloads/ONE/openalyx.internationalbrainlab.org/cortexlab/Subjects/KS023/2019-12-07/001/alf/probe01/pykilosort/channels.mlapdv.5853d142-8463-44d2-9cf4-1251d872ed69.npy Bytes: 4736\n"
     ]
    },
    {
     "name": "stderr",
     "output_type": "stream",
     "text": [
      "100%|█████████████████| 0.0045166015625/0.0045166015625 [00:00<00:00,  1.04it/s]"
     ]
    },
    {
     "name": "stdout",
     "output_type": "stream",
     "text": [
      "b9c205c3-feac-485b-a89d-afc96d9cb280\n",
      "e5fae088-ed96-4d9b-82f9-dfd13c259d52\n",
      "a4000c2f-fa75-4b3e-8f06-a7cf599b87ad\n"
     ]
    },
    {
     "name": "stderr",
     "output_type": "stream",
     "text": [
      "\n"
     ]
    },
    {
     "name": "stdout",
     "output_type": "stream",
     "text": [
      "Downloading: /home/maria/Downloads/ONE/openalyx.internationalbrainlab.org/cortexlab/Subjects/KS023/2019-12-06/001/alf/probe01/pykilosort/channels.mlapdv.7911bfb7-c899-4d0a-964f-3a21aefb059d.npy Bytes: 4736\n"
     ]
    },
    {
     "name": "stderr",
     "output_type": "stream",
     "text": [
      "100%|█████████████████| 0.0045166015625/0.0045166015625 [00:00<00:00,  1.12it/s]"
     ]
    },
    {
     "name": "stdout",
     "output_type": "stream",
     "text": [
      "6cf2a88a-515b-4f7f-89a2-7d53eab9b5f4\n"
     ]
    },
    {
     "name": "stderr",
     "output_type": "stream",
     "text": [
      "\n"
     ]
    },
    {
     "name": "stdout",
     "output_type": "stream",
     "text": [
      "Downloading: /home/maria/Downloads/ONE/openalyx.internationalbrainlab.org/cortexlab/Subjects/KS016/2019-12-05/001/alf/probe01/pykilosort/channels.mlapdv.bfd513d0-5412-4e7b-af65-33095b7c5577.npy Bytes: 4736\n"
     ]
    },
    {
     "name": "stderr",
     "output_type": "stream",
     "text": [
      "100%|█████████████████| 0.0045166015625/0.0045166015625 [00:00<00:00,  1.02it/s]"
     ]
    },
    {
     "name": "stdout",
     "output_type": "stream",
     "text": [
      "e1931de1-cf7b-49af-af33-2ade15e8abe7\n"
     ]
    },
    {
     "name": "stderr",
     "output_type": "stream",
     "text": [
      "\n"
     ]
    },
    {
     "name": "stdout",
     "output_type": "stream",
     "text": [
      "Downloading: /home/maria/Downloads/ONE/openalyx.internationalbrainlab.org/cortexlab/Subjects/KS014/2019-12-05/001/alf/probe01/pykilosort/channels.mlapdv.c707b621-6d3f-4414-aa83-faf3eee9fd65.npy Bytes: 4736\n"
     ]
    },
    {
     "name": "stderr",
     "output_type": "stream",
     "text": [
      "100%|█████████████████| 0.0045166015625/0.0045166015625 [00:00<00:00,  1.04it/s]"
     ]
    },
    {
     "name": "stdout",
     "output_type": "stream",
     "text": [
      "ebe090af-5922-4fcd-8fc6-17b8ba7bad6d\n"
     ]
    },
    {
     "name": "stderr",
     "output_type": "stream",
     "text": [
      "\n"
     ]
    },
    {
     "name": "stdout",
     "output_type": "stream",
     "text": [
      "Downloading: /home/maria/Downloads/ONE/openalyx.internationalbrainlab.org/wittenlab/Subjects/ibl_witten_13/2019-12-03/001/alf/probe01/pykilosort/channels.mlapdv.76a695d4-ff76-4f85-b73a-0310389c23e6.npy Bytes: 4736\n"
     ]
    },
    {
     "name": "stderr",
     "output_type": "stream",
     "text": [
      "100%|█████████████████| 0.0045166015625/0.0045166015625 [00:00<00:00,  1.46s/it]"
     ]
    },
    {
     "name": "stdout",
     "output_type": "stream",
     "text": [
      "16693458-0801-4d35-a3f1-9115c7e5acfd\n"
     ]
    },
    {
     "name": "stderr",
     "output_type": "stream",
     "text": [
      "\n"
     ]
    },
    {
     "name": "stdout",
     "output_type": "stream",
     "text": [
      "Downloading: /home/maria/Downloads/ONE/openalyx.internationalbrainlab.org/cortexlab/Subjects/KS014/2019-12-03/001/alf/probe01/pykilosort/channels.mlapdv.8c611f15-d60b-4424-8b6e-5a9033deb90c.npy Bytes: 4736\n"
     ]
    },
    {
     "name": "stderr",
     "output_type": "stream",
     "text": [
      "100%|█████████████████| 0.0045166015625/0.0045166015625 [00:00<00:00,  1.36s/it]"
     ]
    },
    {
     "name": "stdout",
     "output_type": "stream",
     "text": [
      "dd4da095-4a99-4bf3-9727-f735077dba66\n"
     ]
    },
    {
     "name": "stderr",
     "output_type": "stream",
     "text": [
      "\n"
     ]
    },
    {
     "name": "stdout",
     "output_type": "stream",
     "text": [
      "Downloading: /home/maria/Downloads/ONE/openalyx.internationalbrainlab.org/mainenlab/Subjects/ZM_1897/2019-12-02/001/alf/probe01/pykilosort/channels.mlapdv.156549a2-5b7e-475f-a16d-2397309eb306.npy Bytes: 4736\n"
     ]
    },
    {
     "name": "stderr",
     "output_type": "stream",
     "text": [
      "100%|█████████████████| 0.0045166015625/0.0045166015625 [00:00<00:00,  1.33it/s]"
     ]
    },
    {
     "name": "stdout",
     "output_type": "stream",
     "text": [
      "49368f16-de69-4647-9a7a-761e94517821\n",
      "5139ce2c-7d52-44bf-8129-692d61dd6403\n"
     ]
    },
    {
     "name": "stderr",
     "output_type": "stream",
     "text": [
      "\n"
     ]
    },
    {
     "name": "stdout",
     "output_type": "stream",
     "text": [
      "Downloading: /home/maria/Downloads/ONE/openalyx.internationalbrainlab.org/wittenlab/Subjects/ibl_witten_13/2019-11-26/001/alf/probe01/pykilosort/channels.mlapdv.5f89b062-9477-445f-ae7d-663562c71109.npy Bytes: 4736\n"
     ]
    },
    {
     "name": "stderr",
     "output_type": "stream",
     "text": [
      "100%|█████████████████| 0.0045166015625/0.0045166015625 [00:00<00:00,  2.32it/s]\n"
     ]
    }
   ],
   "source": [
    "from one.api import ONE\n",
    "import numpy as np\n",
    "\n",
    "# Instantiate the ONE API\n",
    "one = ONE(base_url='https://openalyx.internationalbrainlab.org', password='international')\n",
    "\n",
    "# Search for all experiments with channels.mlapdv dataset\n",
    "eids = one.search(data='channels.mlapdv')\n",
    "\n",
    "# Concatenate all the mlapdv values from the probe00 collections\n",
    "mlapdv_concat = []\n",
    "probe00_eids = []\n",
    "for eid in eids:\n",
    "    print(eid)\n",
    "    try:\n",
    "        mlapdv = one.load_dataset(eid, 'channels.mlapdv.npy', collection='alf/probe00/pykilosort')\n",
    "        mlapdv_mean = np.mean(mlapdv, axis=0) # compute the mean of the mlpadv values\n",
    "        mlapdv_concat.append(mlapdv_mean)\n",
    "        probe00_eids.append((eid, 'probe00'))\n",
    "    except:\n",
    "        pass\n",
    "\n",
    "# Concatenate all the mlapdv values from the probe01 collections\n",
    "probe01_eids = []\n",
    "for eid in eids:\n",
    "    print(eid)\n",
    "    try:\n",
    "        mlapdv = one.load_dataset(eid, 'channels.mlapdv.npy', collection='alf/probe01/pykilosort')\n",
    "        mlapdv_mean = np.mean(mlapdv, axis=0) # compute the mean of the mlpadv values\n",
    "        mlapdv_concat.append(mlapdv_mean)\n",
    "        probe01_eids.append((eid, 'probe01'))\n",
    "    except:\n",
    "        pass\n",
    "\n",
    "# Concatenate all the mlapdv values together\n",
    "mlapdv_concat = np.stack(mlapdv_concat) # stack the mlpadv values into a single array\n",
    "eids = probe00_eids + probe01_eids # combine the eid and probe information into a single list"
   ]
  },
  {
   "cell_type": "code",
   "execution_count": 28,
   "id": "9688299e",
   "metadata": {},
   "outputs": [
    {
     "data": {
      "text/plain": [
       "(array([], dtype=int64), array([], dtype=int64))"
      ]
     },
     "execution_count": 28,
     "metadata": {},
     "output_type": "execute_result"
    }
   ],
   "source": [
    "np.where(np.isnan(mlapdv_concat)==True)"
   ]
  },
  {
   "cell_type": "code",
   "execution_count": null,
   "id": "52755d26",
   "metadata": {},
   "outputs": [],
   "source": []
  },
  {
   "cell_type": "code",
   "execution_count": 4,
   "id": "fda5d0a2",
   "metadata": {},
   "outputs": [
    {
     "name": "stdout",
     "output_type": "stream",
     "text": [
      "PROJ (384, 3)\n"
     ]
    }
   ],
   "source": [
    "from ibllib.atlas import atlas as at\n",
    "atlas=at.AllenAtlas()\n",
    "xyz=mlapdv\n",
    "fit=at.Trajectory.fit(xyz)\n",
    "proj=fit.project(xyz)\n",
    "print('PROJ', proj.shape)"
   ]
  },
  {
   "cell_type": "code",
   "execution_count": 7,
   "id": "85157581",
   "metadata": {},
   "outputs": [],
   "source": [
    "np.save('mlapdv_concat.npy',mlapdv_concat)\n",
    "np.save('mlapdv_eids.npy', eids)"
   ]
  },
  {
   "cell_type": "code",
   "execution_count": 10,
   "id": "86d16857",
   "metadata": {
    "scrolled": true
   },
   "outputs": [
    {
     "name": "stdout",
     "output_type": "stream",
     "text": [
      "(570, 2)\n"
     ]
    }
   ],
   "source": [
    "a=np.load('mlapdv_eids.npy')\n",
    "print(a.shape)"
   ]
  },
  {
   "cell_type": "code",
   "execution_count": 23,
   "id": "e640bc6c",
   "metadata": {},
   "outputs": [],
   "source": [
    "import matplotlib.pyplot as plt\n",
    "def generate_mlapdv_plots(eids):\n",
    "    atlas=at.AllenAtlas()\n",
    "    for i, eid in enumerate(eids):\n",
    "        # Load mlapdv.npy for probe00 if it exists\n",
    "        if eid[1]=='probe00':\n",
    "            mlapdv = one.load_dataset(eid[0], 'channels.mlapdv.npy', collection=f'alf/probe00/pykilosort')\n",
    "\n",
    "        # Load mlapdv.npy for probe01 if it exists\n",
    "        if eid[1]=='probe01':\n",
    "            mlapdv = one.load_dataset(eid[0], 'channels.mlapdv.npy', collection=f'alf/probe01/pykilosort')\n",
    "\n",
    "\n",
    "        # Create the xyz array\n",
    "        xyz = np.c_[mlapdv[:, 0].astype(np.float64) / 1e6, mlapdv[:, 1].astype(np.float64) / 1e6, mlapdv[:, 2].astype(np.float64) / 1e6]\n",
    "\n",
    "        fit=at.Trajectory.fit(xyz)\n",
    "        proj=fit.project(xyz)\n",
    "\n",
    "        # Create a figure with subplots\n",
    "        fig, axs = plt.subplots(1, 2, figsize=(12, 6),gridspec_kw={'wspace': 0.5})\n",
    "\n",
    "        # Render the first image\n",
    "        ax0 = atlas.plot_tilted_slice(xyz, 0, ax=axs[0])\n",
    "        ax0[0].scatter(proj[:, 1]*1e6, proj[:, 2]*1e6, c='pink', s=5)\n",
    "\n",
    "        # Render the second image\n",
    "        ax1 = atlas.plot_tilted_slice(xyz, 1, ax=axs[1])\n",
    "        ax1[0].scatter(proj[:, 0]*1e6, proj[:, 2]*1e6, c='pink', s=5)\n",
    "\n",
    "        # Save the plot to a file with a unique name\n",
    "        filename = f'static/mlapdv_plot_{i}.png'\n",
    "        fig.savefig(filename, bbox_inches='tight')\n",
    "\n",
    "        # Return the path to the saved file\n",
    "        yield eid, filename"
   ]
  },
  {
   "cell_type": "code",
   "execution_count": 24,
   "id": "5a1d5f6b",
   "metadata": {},
   "outputs": [
    {
     "data": {
      "text/plain": [
       "(('ae8787b1-4229-4d56-b0c2-566b61a25b77', 'probe00'),\n",
       " 'static/mlapdv_plot_0.png')"
      ]
     },
     "execution_count": 24,
     "metadata": {},
     "output_type": "execute_result"
    },
    {
     "data": {
      "image/png": "[encoded data removed]",
      "text/plain": [
       "<Figure size 1200x600 with 2 Axes>"
      ]
     },
     "metadata": {},
     "output_type": "display_data"
    }
   ],
   "source": [
    "next(generate_mlapdv_plots(eids))"
   ]
  },
  {
   "cell_type": "code",
   "execution_count": 18,
   "id": "e1b74be3",
   "metadata": {
    "scrolled": false
   },
   "outputs": [
    {
     "name": "stdout",
     "output_type": "stream",
     "text": [
      "[('ae8787b1-4229-4d56-b0c2-566b61a25b77', 'probe00'), ('0f77ca5d-73c2-45bd-aa4c-4c5ed275dbde', 'probe00'), ('6c6b0d06-6039-4525-a74b-58cfaa1d3a60', 'probe00'), ('1d4a7bd6-296a-48b9-b20e-bd0ac80750a5', 'probe00'), ('e0928e11-2b86-4387-a203-80c77fab5d52', 'probe00'), ('196a2adf-ff83-49b2-823a-33f990049c2e', 'probe00'), ('78b4fff5-c5ec-44d9-b5f9-d59493063f00', 'probe00'), ('1ca83b26-30fc-4350-a616-c38b7d00d240', 'probe00'), ('27ef44c0-acb2-4220-b776-477d0d5abd35', 'probe00'), ('a2701b93-d8e1-47e9-a819-f1063046f3e7', 'probe00'), ('446f4724-1690-49f9-819a-2bd8e2ea88ce', 'probe00'), ('c8d46ee6-eb68-4535-8756-7c9aa32f10e4', 'probe00'), ('8928f98a-b411-497e-aa4b-aa752434686d', 'probe00'), ('3f859b5c-e73a-4044-b49e-34bb81e96715', 'probe00'), ('f819d499-8bf7-4da0-a431-15377a8319d5', 'probe00'), ('752456f3-9f47-4fbf-bd44-9d131c0f41aa', 'probe00'), ('1b9e349e-93f2-41cc-a4b5-b212d7ddc8df', 'probe00'), ('6b0b5d24-bcda-4053-a59c-beaa1fe03b8f', 'probe00'), ('d901aff5-2250-467a-b4a1-0cb9729df9e2', 'probe00'), ('eacc49a9-f3a1-49f1-b87f-0972f90ee837', 'probe00'), ('3e6a97d3-3991-49e2-b346-6948cb4580fb', 'probe00'), ('63c70ae8-4dfb-418b-b21b-f0b1e5fba6c9', 'probe00'), ('9b528ad0-4599-4a55-9148-96cc1d93fb24', 'probe00'), ('a4747ac8-6a75-444f-b99b-696fff0243fd', 'probe00'), ('0c828385-6dd6-4842-a702-c5075f5f5e81', 'probe00'), ('e6043c7d-8f6e-4b66-8309-2ec0abac0f79', 'probe00'), ('ffef0311-8ffa-49e3-a857-b3adf6d86e12', 'probe00'), ('e45481fa-be22-4365-972c-e7404ed8ab5a', 'probe00'), ('e2b845a1-e313-4a08-bc61-a5f662ed295e', 'probe00'), ('f99ac31f-171b-4208-a55d-5644c0ad51c3', 'probe00'), ('32d27583-56aa-4510-bc03-669036edad20', 'probe00'), ('90e524a2-aa63-47ce-b5b8-1b1941a1223a', 'probe00'), ('09156021-9a1d-4e1d-ae59-48cbde3c5d42', 'probe00'), ('9a6e127b-bb07-4be2-92e2-53dd858c2762', 'probe00'), ('64977c74-9c04-437a-9ea1-50386c4996db', 'probe00'), ('6f36868f-5cc1-450c-82fa-6b9829ce0cfe', 'probe00'), ('5455a21c-1be7-4cae-ae8e-8853a8d5f55e', 'probe00'), ('111c1762-7908-47e0-9f40-2f2ee55b6505', 'probe00'), ('bda2faf5-9563-4940-a80f-ce444259e47b', 'probe00'), ('8d316998-28c3-4265-b029-e2ca82375b2f', 'probe00'), ('fa8ad50d-76f2-45fa-a52f-08fe3d942345', 'probe00'), ('2bdf206a-820f-402f-920a-9e86cd5388a4', 'probe00'), ('1b715600-0cbc-442c-bd00-5b0ac2865de1', 'probe00'), ('3537d970-f515-4786-853f-23de525e110f', 'probe00'), ('19b44992-d527-4a12-8bda-aa11379cb08c', 'probe00'), ('ebc9392c-1ecb-4b4b-a545-4e3d70d23611', 'probe00'), ('8a3a0197-b40a-449f-be55-c00b23253bbf', 'probe00'), ('58c4bf97-ec3b-45b4-9db4-d5d9515d5b00', 'probe00'), ('5dcee0eb-b34d-4652-acc3-d10afc6eae68', 'probe00'), ('19e66dc9-bf9f-430b-9d6a-acfa85de6fb7', 'probe00'), ('30af8629-7b96-45b7-8778-374720ddbc5e', 'probe00'), ('cea755db-4eee-4138-bdd6-fc23a572f5a1', 'probe00'), ('1b61b7f2-a599-4e40-abd6-3e758d2c9e25', 'probe00'), ('c7bf2d49-4937-4597-b307-9f39cb1c7b16', 'probe00'), ('bb099402-fb31-4cfd-824e-1c97530a0875', 'probe00'), ('f27e6cd6-cdd3-4524-b8e3-8146046e2a7d', 'probe00'), ('68775ca0-b056-48d5-b6ae-a4c2a76ae48f', 'probe00'), ('8b1f4024-3d96-4ee7-95f9-8a1dfd4ce4ef', 'probe00'), ('10fac7a1-919d-4ca7-83c4-4675bd8d9416', 'probe00'), ('03d9a098-07bf-4765-88b7-85f8d8f620cc', 'probe00'), ('d57df551-6dcb-4242-9c72-b806cff5613a', 'probe00'), ('5bcafa14-71cb-42fa-8265-ce5cda1b89e0', 'probe00'), ('824cf03d-4012-4ab1-b499-c83a92c5589e', 'probe00'), ('537677fe-1e24-4755-948c-fa4a4e8ecce5', 'probe00'), ('51e53aff-1d5d-4182-a684-aba783d50ae5', 'probe00'), ('93ad879a-aa42-4150-83e1-38773c9785e4', 'probe00'), ('a405053a-eb13-4aa4-850c-5a337e5dc7fd', 'probe00'), ('c51f34d8-42f6-4c9c-bb5b-669fd9c42cd9', 'probe00'), ('288bfbf3-3700-4abe-b6e4-130b5c541e61', 'probe00'), ('6434f2f5-6bce-42b8-8563-d93d493613a2', 'probe00'), ('0802ced5-33a3-405e-8336-b65ebc5cb07c', 'probe00'), ('72982282-e493-45ee-87ce-aa45cb3a3ec1', 'probe00'), ('15948667-747b-4702-9d53-354ac70e9119', 'probe00'), ('d32876dd-8303-4720-8e7e-20678dc2fd71', 'probe00'), ('f140a2ec-fd49-4814-994a-fe3476f14e66', 'probe00'), ('58b1e920-cfc8-467e-b28b-7654a55d0977', 'probe00'), ('86b6ba67-c1db-4333-add0-f8105ea6e363', 'probe00'), ('69a0e953-a643-4f0e-bb26-dc65af3ea7d7', 'probe00'), ('821f1883-27f3-411d-afd3-fb8241bbc39a', 'probe00'), ('af55d16f-0e31-4073-bdb5-26da54914aa2', 'probe00'), ('e9fc0a2d-c69d-44d1-9fa3-314782387cae', 'probe00'), ('0cc486c3-8c7b-494d-aa04-b70e2690bcba', 'probe00'), ('d2832a38-27f6-452d-91d6-af72d794136c', 'probe00'), ('7cec9792-b8f9-4878-be7e-f08103dc0323', 'probe00'), ('88224abb-5746-431f-9c17-17d7ef806e6a', 'probe00'), ('a4a74102-2af5-45dc-9e41-ef7f5aed88be', 'probe00'), ('72cb5550-43b4-4ef0-add5-e4adfdfb5e02', 'probe00'), ('91a3353a-2da1-420d-8c7c-fad2fedfdd18', 'probe00'), ('ee212778-3903-4f5b-ac4b-a72f22debf03', 'probe00'), ('ac7d3064-7f09-48a3-88d2-e86a4eb86461', 'probe00'), ('7082d8ff-255a-47d7-a839-bf093483ec30', 'probe00'), ('fa1f26a1-eb49-4b24-917e-19f02a18ac61', 'probe00'), ('35ed605c-1a1a-47b1-86ff-2b56144f55af', 'probe00'), ('0a018f12-ee06-4b11-97aa-bbbff5448e9f', 'probe00'), ('6ed57216-498d-48a6-b48b-a243a34710ea', 'probe00'), ('872ce8ff-9fb3-485c-be00-bc5479e0095b', 'probe00'), ('b22f694e-4a34-4142-ab9d-2556c3487086', 'probe00'), ('30c4e2ab-dffc-499d-aae4-e51d6b3218c2', 'probe00'), ('6f6d2c8e-28be-49f4-ae4d-06be2d3148c1', 'probe00'), ('d0c91c3c-8cbb-4929-8657-31f18bffc294', 'probe00'), ('71855308-7e54-41d7-a7a4-b042e78e3b4f', 'probe00'), ('8ca740c5-e7fe-430a-aa10-e74e9c3cbbe8', 'probe00'), ('5157810e-0fff-4bcf-b19d-32d4e39c7dfc', 'probe00'), ('0b7ee1b6-42db-46cd-a465-08f531366187', 'probe00'), ('113c5b6c-940e-4b21-b462-789b4c2be0e5', 'probe00'), ('71e03be6-b497-4991-a121-9416dcc1a6e7', 'probe00'), ('ab8a0899-a59f-42e4-8807-95b14056104b', 'probe00'), ('f5591ac5-311d-4fa8-9bad-029d7be9c491', 'probe00'), ('1a507308-c63a-4e02-8f32-3239a07dc578', 'probe00'), ('21d21fc3-4201-4edc-802a-c67b61952548', 'probe00'), ('dc21e80d-97d7-44ca-a729-a8e3f9b14305', 'probe00'), ('09394481-8dd2-4d5c-9327-f2753ede92d7', 'probe00'), ('aec5d3cc-4bb2-4349-80a9-0395b76f04e2', 'probe00'), ('ff96bfe1-d925-4553-94b5-bf8297adf259', 'probe00'), ('83d85891-bd75-4557-91b4-1cbb5f8bfc9d', 'probe00'), ('7af49c00-63dd-4fed-b2e0-1b3bd945b20b', 'probe00'), ('3f6e25ae-c007-4dc3-aa77-450fd5705046', 'probe00'), ('2c44a360-5a56-4971-8009-f469fb59de98', 'probe00'), ('9b5a1754-ac99-4d53-97d3-35c2f6638507', 'probe00'), ('73918ae1-e4fd-4c18-b132-00cb555b1ad2', 'probe00'), ('f304211a-81b1-446f-a435-25e589fe3a5a', 'probe00'), ('4aa1d525-5c7d-4c50-a147-ec53a9014812', 'probe00'), ('952870e5-f2a7-4518-9e6d-71585460f6fe', 'probe00'), ('d0ea3148-948d-4817-94f8-dcaf2342bbbe', 'probe00'), ('c728f6fd-58e2-448d-aefb-a72c637b604c', 'probe00'), ('25d1920e-a2af-4b6c-9f2e-fc6c65576544', 'probe00'), ('9545aa05-3945-4054-a5c3-a259f7209d61', 'probe00'), ('d3a2b25e-46d3-4f0b-ade6-4e32255f4c35', 'probe00'), ('781b35fd-e1f0-4d14-b2bb-95b7263082bb', 'probe00'), ('5285c561-80da-4563-8694-739da92e5dd0', 'probe00'), ('f1db6257-85ef-4385-b415-2d078ec75df2', 'probe00'), ('a6fe44a8-07ab-49b8-81f9-e18575aa85cc', 'probe00'), ('e5c75b62-6871-4135-b3d0-f6464c2d90c0', 'probe00'), ('571d3ffe-54a5-473d-a265-5dc373eb7efc', 'probe00'), ('9468fa93-21ae-4984-955c-e8402e280c83', 'probe00'), ('aa3432cd-62bd-40bc-bc1c-a12d53bcbdcf', 'probe00'), ('dfbe628d-365b-461c-a07f-8b9911ba83aa', 'probe00'), ('9e9c6fc0-4769-4d83-9ea4-b59a1230510e', 'probe00'), ('69c9a415-f7fa-4208-887b-1417c1479b48', 'probe00'), ('0ac8d013-b91e-4732-bc7b-a1164ff3e445', 'probe00'), ('c4432264-e1ae-446f-8a07-6280abade813', 'probe00'), ('d7e60cc3-6020-429e-a654-636c6cc677ea', 'probe00'), ('360eac0c-7d2d-4cc1-9dcf-79fc7afc56e7', 'probe00'), ('81a1dca0-cc90-47c5-afe3-c277319c47c8', 'probe00'), ('875c1e5c-f7ec-45ac-ab82-ecfe7276a707', 'probe00'), ('dac3a4c1-b666-4de0-87e8-8c514483cacf', 'probe00'), ('07dc4b76-5b93-4a03-82a0-b3d9cc73f412', 'probe00'), ('493170a6-fd94-4ee4-884f-cc018c17eeb9', 'probe00'), ('8c552ddc-813e-4035-81cc-3971b57efe65', 'probe00'), ('032452e9-1886-449d-9c13-0f192572e19f', 'probe00'), ('75b6b132-d998-4fba-8482-961418ac957d', 'probe00'), ('239cdbb1-68e2-4eb0-91d8-ae5ae4001c7a', 'probe00'), ('63f3dbc1-1a5f-44e5-98dd-ce25cd2b7871', 'probe00'), ('5d6aa933-4b00-4e99-ae2d-5003657592e9', 'probe00'), ('09b2c4d1-058d-4c84-9fd4-97530f85baf6', 'probe00'), ('56bc129c-6265-407a-a208-cc16d20a6c01', 'probe00'), ('f84045b0-ce09-4ace-9d11-5ea491620707', 'probe00'), ('7cb81727-2097-4b52-b480-c89867b5b34c', 'probe00'), ('5b609f9b-75cb-43d3-9c39-b5b4b7a0db67', 'probe00'), ('5569f363-0934-464e-9a5b-77c8e67791a1', 'probe00'), ('746d1902-fa59-4cab-b0aa-013be36060d5', 'probe00'), ('1928bf72-2002-46a6-8930-728420402e01', 'probe00'), ('77e6dc6a-66ed-433c-b1a2-778c914f523c', 'probe00'), ('cde63527-7f5a-4cc3-8ac2-215d82e7da26', 'probe00'), ('7416f387-b302-4ca3-8daf-03b585a1b7ec', 'probe00'), ('7691eeb3-715b-4571-8fda-6bb57aab8253', 'probe00'), ('fc14c0d6-51cf-48ba-b326-56ed5a9420c3', 'probe00'), ('45ef6691-7b80-4a43-bd1a-85fc00851ae8', 'probe00'), ('e8b4fda3-7fe4-4706-8ec2-91036cfee6bd', 'probe00'), ('54238fd6-d2d0-4408-b1a9-d19d24fd29ce', 'probe00'), ('6bb5da8f-6858-4fdd-96d9-c34b3b841593', 'probe00'), ('671c7ea7-6726-4fbe-adeb-f89c2c8e489b', 'probe00'), ('eebacd5a-7dcd-4ba6-9dff-ec2a4d2f19e0', 'probe00'), ('6c6983ef-7383-4989-9183-32b1a300d17a', 'probe00'), ('2e22c1fc-eec6-4856-85a0-7dba8668f646', 'probe00'), ('56b57c38-2699-4091-90a8-aba35103155e', 'probe00'), ('e26c6001-defe-42a9-9ded-368e3f03ac61', 'probe00'), ('948fd27b-507b-41b3-bdf8-f9f5f0af8e0b', 'probe00'), ('e012d3e3-fdbc-4661-9ffa-5fa284e4e706', 'probe00'), ('26aa51ff-968c-42e4-85c8-8ff47d19254d', 'probe00'), ('9fe512b8-92a8-4642-83b6-01158ab66c3c', 'probe00'), ('9eec761e-9762-4897-b308-a3a08c311e69', 'probe00'), ('f7335a49-4a98-46d2-a8ce-d041d2eac1d6', 'probe00'), ('4a45c8ba-db6f-4f11-9403-56e06a33dfa4', 'probe00'), ('7b26ce84-07f9-43d1-957f-bc72aeb730a3', 'probe00'), ('4ecb5d24-f5cc-402c-be28-9d0f7cb14b3a', 'probe00'), ('754b74d5-7a06-4004-ae0c-72a10b6ed2e6', 'probe00'), ('c6db3304-c906-400c-aa0f-45dd3945b2ea', 'probe00'), ('88d24c31-52e4-49cc-9f32-6adbeb9eba87', 'probe00'), ('c7bd79c9-c47e-4ea5-aea3-74dda991b48e', 'probe00'), ('6fb1e12c-883b-46d1-a745-473cde3232c8', 'probe00'), ('695a6073-eae0-49e0-bb0f-e9e57a9275b9', 'probe00'), ('fece187f-b47f-4870-a1d6-619afe942a7d', 'probe00'), ('6f09ba7e-e3ce-44b0-932b-c003fb44fb89', 'probe00'), ('993c7024-0abc-4028-ad30-d397ad55b084', 'probe00'), ('251ece37-7798-477c-8a06-2845d4aa270c', 'probe00'), ('5522ac4b-0e41-4c53-836a-aaa17e82b9eb', 'probe00'), ('aa20388b-9ea3-4506-92f1-3c2be84b85db', 'probe00'), ('fcd49e34-f07b-441c-b2ac-cb8c462ec5ac', 'probe00'), ('c3d9b6fb-7fa9-4413-a364-92a54df0fc5d', 'probe00'), ('1ec23a70-b94b-4e9c-a0df-8c2151da3761', 'probe00'), ('d23a44ef-1402-4ed7-97f5-47e9a7a504d9', 'probe00'), ('5339812f-8b91-40ba-9d8f-a559563cc46b', 'probe00'), ('e349a2e7-50a3-47ca-bc45-20d1899854ec', 'probe00'), ('768a371d-7e88-47f8-bf21-4a6a6570dd6e', 'probe00'), ('064a7252-8e10-4ad6-b3fd-7a88a2db5463', 'probe00'), ('15763234-d21e-491f-a01b-1238eb96d389', 'probe00'), ('a7763417-e0d6-4f2a-aa55-e382fd9b5fb8', 'probe00'), ('4ef13091-1bc8-4f32-9619-107bdf48540c', 'probe00'), ('cae5cd75-55e5-4277-8db3-cf4d6c5ff918', 'probe00'), ('ebe2efe3-e8a1-451a-8947-76ef42427cc9', 'probe00'), ('b69b86be-af7d-4ecf-8cbf-0cd356afa1bd', 'probe00'), ('edd22318-216c-44ff-bc24-49ce8be78374', 'probe00'), ('71e55bfe-5a3a-4cba-bdc7-f085140d798e', 'probe00'), ('626126d5-eecf-4e9b-900e-ec29a17ece07', 'probe00'), ('49e0ab27-827a-4c91-bcaa-97eea27a1b8d', 'probe00'), ('81a78eac-9d36-4f90-a73a-7eb3ad7f770b', 'probe00'), ('5adab0b7-dfd0-467d-b09d-43cb7ca5d59c', 'probe00'), ('e56541a5-a6d5-4750-b1fe-f6b5257bfe7c', 'probe00'), ('5d01d14e-aced-4465-8f8e-9a1c674f62ec', 'probe00'), ('7f6b86f9-879a-4ea2-8531-294a221af5d0', 'probe00'), ('c557324b-b95d-414c-888f-6ee1329a2329', 'probe00'), ('61e11a11-ab65-48fb-ae08-3cb80662e5d6', 'probe00'), ('c7248e09-8c0d-40f2-9eb4-700a8973d8c8', 'probe00'), ('280ee768-f7b8-4c6c-9ea0-48ca75d6b6f3', 'probe00'), ('1e45d992-c356-40e1-9be1-a506d944896f', 'probe00'), ('4d8c7767-981c-4347-8e5e-5d5fffe38534', 'probe00'), ('6274dda8-3a59-4aa1-95f8-a8a549c46a26', 'probe00'), ('fe1fd79f-b051-411f-a0a9-2530a02cc78d', 'probe00'), ('549caacc-3bd7-40f1-913d-e94141816547', 'probe00'), ('20c112a1-8a42-44e0-a4cd-e5b932f7bda9', 'probe00'), ('65f5c9b4-4440-48b9-b914-c593a5184a18', 'probe00'), ('dcceebe5-4589-44df-a1c1-9fa33e779727', 'probe00'), ('4ddb8a95-788b-48d0-8a0a-66c7c796da96', 'probe00'), ('b39752db-abdb-47ab-ae78-e8608bbf50ed', 'probe00'), ('ee8b36de-779f-4dea-901f-e0141c95722b', 'probe00'), ('f9860a11-24d3-452e-ab95-39e199f20a93', 'probe00'), ('bd456d8f-d36e-434a-8051-ff3997253802', 'probe00'), ('b658bc7d-07cd-4203-8a25-7b16b549851b', 'probe00'), ('7622da34-51b6-4661-98ae-a57d40806008', 'probe00'), ('4720c98a-a305-4fba-affb-bbfa00a724a4', 'probe00'), ('66d98e6e-bcd9-4e78-8fbb-636f7e808b29', 'probe00'), ('f25642c6-27a5-4a97-9ea0-06652db79fbd', 'probe00'), ('28741f91-c837-4147-939e-918d38d849f2', 'probe00'), ('fb70ebf7-8175-42b0-9b7a-7c6e8612226e', 'probe00'), ('f312aaec-3b6f-44b3-86b4-3a0c119c0438', 'probe00'), ('b81e3e11-9a60-4114-b894-09f85074d9c3', 'probe00'), ('90e74228-fd1a-482f-bd56-05dbad132861', 'probe00'), ('6a601cc5-7b79-4c75-b0e8-552246532f82', 'probe00'), ('a82800ce-f4e3-4464-9b80-4c3d6fade333', 'probe00'), ('a66f1593-dafd-4982-9b66-f9554b6c86b5', 'probe00'), ('41431f53-69fd-4e3b-80ce-ea62e03bf9c7', 'probe00'), ('da188f2c-553c-4e04-879b-c9ea2d1b9a93', 'probe00'), ('03cf52f6-fba6-4743-a42e-dd1ac3072343', 'probe00'), ('5b44c40f-80f4-44fb-abfb-c7f19e27a6ca', 'probe00'), ('7be8fec4-406b-4e74-8548-d2885dcc3d5e', 'probe00'), ('e535fb62-e245-4a48-b119-88ce62a6fe67', 'probe00'), ('f10efe41-0dc0-44d0-8f26-5ff68dca23e9', 'probe00'), ('1191f865-b10a-45c8-9c48-24a980fd9402', 'probe00'), ('6668c4a0-70a4-4012-a7da-709660971d7a', 'probe00'), ('2e6e179c-fccc-4e8f-9448-ce5b6858a183', 'probe00'), ('37e96d0b-5b4b-4c6e-9b29-7edbdc94bbd0', 'probe00'), ('9a629642-3a9c-42ed-b70a-532db0e86199', 'probe00'), ('e5c772cd-9c92-47ab-9525-d618b66a9b5d', 'probe00'), ('2f63c555-eb74-4d8d-ada5-5c3ecf3b46be', 'probe00'), ('a19c7a3a-7261-42ce-95d5-1f4ca46007ed', 'probe00'), ('dda5fc59-f09a-4256-9fb5-66c67667a466', 'probe00'), ('413a6825-2144-4a50-b3fc-cf38ddd6fd1a', 'probe00'), ('57b5ae8f-d446-4161-b439-b191c5e3e77b', 'probe00'), ('30e5937e-e86a-47e6-93ae-d2ae3877ff8e', 'probe00'), ('ee13c19e-2790-4418-97ca-48f02e8013bb', 'probe00'), ('158d5d35-a2ab-4a76-87b0-51048c5d5283', 'probe00'), ('0f25376f-2b78-4ddc-8c39-b6cdbe7bf5b9', 'probe00'), ('d2f5a130-b981-4546-8858-c94ae1da75ff', 'probe00'), ('3c851386-e92d-4533-8d55-89a46f0e7384', 'probe00'), ('3dd347df-f14e-40d5-9ff2-9c49f84d2157', 'probe00'), ('db4df448-e449-4a6f-a0e7-288711e7a75a', 'probe00'), ('fa704052-147e-46f6-b190-a65b837e605e', 'probe00'), ('dfd8e7df-dc51-4589-b6ca-7baccfeb94b4', 'probe00'), ('034e726f-b35f-41e0-8d6c-a22cc32391fb', 'probe00'), ('56956777-dca5-468c-87cb-78150432cc57', 'probe00'), ('4b00df29-3769-43be-bb40-128b1cba6d35', 'probe00'), ('83e77b4b-dfa0-4af9-968b-7ea0c7a0c7e4', 'probe00'), ('5386aba9-9b97-4557-abcd-abc2da66b863', 'probe00'), ('6713a4a7-faed-4df2-acab-ee4e63326f8d', 'probe00'), ('0cbeae00-e229-4b7d-bdcc-1b0569d7e0c3', 'probe00'), ('3663d82b-f197-4e8b-b299-7b803a155b84', 'probe00'), ('57fd2325-67f4-4d45-9907-29e77d3043d7', 'probe00'), ('cf43dbb1-6992-40ec-a5f9-e8e838d0f643', 'probe00'), ('741979ce-3f10-443a-8526-2275620c8473', 'probe00'), ('ecb5520d-1358-434c-95ec-93687ecd1396', 'probe00'), ('36280321-555b-446d-9b7d-c2e17991e090', 'probe00'), ('f8d5c8b0-b931-4151-b86c-c471e2e80e5d', 'probe00'), ('7bee9f09-a238-42cf-b499-f51f765c6ded', 'probe00'), ('ee40aece-cffd-4edb-a4b6-155f158c666a', 'probe00'), ('e49d8ee7-24b9-416a-9d04-9be33b655f40', 'probe00'), ('02fbb6da-3034-47d6-a61b-7d06c796a830', 'probe00'), ('12dc8b34-b18e-4cdd-90a9-da134a9be79c', 'probe00'), ('465c44bd-2e67-4112-977b-36e1ac7e3f8c', 'probe00'), ('931a70ae-90ee-448e-bedb-9d41f3eda647', 'probe00'), ('ff4187b5-4176-4e39-8894-53a24b7cf36b', 'probe00'), ('b03fbc44-3d8e-4a6c-8a50-5ea3498568e0', 'probe00'), ('193fe7a8-4eb5-4f3e-815a-0c45864ddd77', 'probe00'), ('bb6a5aae-2431-401d-8f6a-9fdd6de655a9', 'probe00'), ('510b1a50-825d-44ce-86f6-9678f5396e02', 'probe00'), ('032ffcdf-7692-40b3-b9ff-8def1fc18b2e', 'probe00'), ('90d1e82c-c96f-496c-ad4e-ee3f02067f25', 'probe00'), ('259927fd-7563-4b03-bc5d-17b4d0fa7a55', 'probe00'), ('a8a8af78-16de-4841-ab07-fde4b5281a03', 'probe00'), ('2d5f6d81-38c4-4bdc-ac3c-302ea4d5f46e', 'probe00'), ('cb2ad999-a6cb-42ff-bf71-1774c57e5308', 'probe00'), ('4fa70097-8101-4f10-b585-db39429c5ed0', 'probe00'), ('89f0d6ff-69f4-45bc-b89e-72868abb042a', 'probe00'), ('3e7ae7c0-fe8b-487c-9354-036236fa1010', 'probe00'), ('e9b57a5a-b06d-476d-ad20-7ec42a16f5f5', 'probe00'), ('d839491f-55d8-4cbe-a298-7839208ba12b', 'probe00'), ('c99d53e6-c317-4c53-99ba-070b26673ac4', 'probe00'), ('4b7fbad4-f6de-43b4-9b15-c7c7ef44db4b', 'probe00'), ('53738f95-bd08-4d9d-9133-483fdb19e8da', 'probe00'), ('21e16736-fd59-44c7-b938-9b1333d25da8', 'probe00'), ('aad23144-0e52-4eac-80c5-c4ee2decb198', 'probe00'), ('15f742e1-1043-45c9-9504-f1e8a53c1744', 'probe00'), ('dd87e278-999d-478b-8cbd-b5bf92b84763', 'probe00'), ('a92c4b1d-46bd-457e-a1f4-414265f0e2d4', 'probe00'), ('16c3667b-e0ea-43fb-9ad4-8dcd1e6c40e1', 'probe00'), ('cc45c568-c3b9-4f74-836e-c87762e898c8', 'probe00'), ('b9c205c3-feac-485b-a89d-afc96d9cb280', 'probe00'), ('e5fae088-ed96-4d9b-82f9-dfd13c259d52', 'probe00'), ('a4000c2f-fa75-4b3e-8f06-a7cf599b87ad', 'probe00'), ('6cf2a88a-515b-4f7f-89a2-7d53eab9b5f4', 'probe00'), ('e1931de1-cf7b-49af-af33-2ade15e8abe7', 'probe00'), ('16693458-0801-4d35-a3f1-9115c7e5acfd', 'probe00'), ('dd4da095-4a99-4bf3-9727-f735077dba66', 'probe00'), ('49368f16-de69-4647-9a7a-761e94517821', 'probe00'), ('5139ce2c-7d52-44bf-8129-692d61dd6403', 'probe00'), ('0f77ca5d-73c2-45bd-aa4c-4c5ed275dbde', 'probe01'), ('6c6b0d06-6039-4525-a74b-58cfaa1d3a60', 'probe01'), ('e0928e11-2b86-4387-a203-80c77fab5d52', 'probe01'), ('196a2adf-ff83-49b2-823a-33f990049c2e', 'probe01'), ('78b4fff5-c5ec-44d9-b5f9-d59493063f00', 'probe01'), ('1ca83b26-30fc-4350-a616-c38b7d00d240', 'probe01'), ('27ef44c0-acb2-4220-b776-477d0d5abd35', 'probe01'), ('8928f98a-b411-497e-aa4b-aa752434686d', 'probe01'), ('3f859b5c-e73a-4044-b49e-34bb81e96715', 'probe01'), ('f819d499-8bf7-4da0-a431-15377a8319d5', 'probe01'), ('752456f3-9f47-4fbf-bd44-9d131c0f41aa', 'probe01'), ('1b9e349e-93f2-41cc-a4b5-b212d7ddc8df', 'probe01'), ('6b0b5d24-bcda-4053-a59c-beaa1fe03b8f', 'probe01'), ('5b49aca6-a6f4-4075-931a-617ad64c219c', 'probe01'), ('eacc49a9-f3a1-49f1-b87f-0972f90ee837', 'probe01'), ('3e6a97d3-3991-49e2-b346-6948cb4580fb', 'probe01'), ('1425bd6f-c625-4f6a-b237-dc5bcfc42c87', 'probe01'), ('63c70ae8-4dfb-418b-b21b-f0b1e5fba6c9', 'probe01'), ('f4ffb731-8349-4fe4-806e-0232a84e52dd', 'probe01'), ('e45481fa-be22-4365-972c-e7404ed8ab5a', 'probe01'), ('e2b845a1-e313-4a08-bc61-a5f662ed295e', 'probe01'), ('6f36868f-5cc1-450c-82fa-6b9829ce0cfe', 'probe01'), ('111c1762-7908-47e0-9f40-2f2ee55b6505', 'probe01'), ('2bdf206a-820f-402f-920a-9e86cd5388a4', 'probe01'), ('1b715600-0cbc-442c-bd00-5b0ac2865de1', 'probe01'), ('19b44992-d527-4a12-8bda-aa11379cb08c', 'probe01'), ('8a3a0197-b40a-449f-be55-c00b23253bbf', 'probe01'), ('5bcafa14-71cb-42fa-8265-ce5cda1b89e0', 'probe01'), ('7502ae93-7437-4bcd-9e14-d73b51193656', 'probe01'), ('537677fe-1e24-4755-948c-fa4a4e8ecce5', 'probe01'), ('51e53aff-1d5d-4182-a684-aba783d50ae5', 'probe01'), ('1f095590-6669-46c9-986b-ccaf0620c5e9', 'probe01'), ('3d59aa1a-b4ba-47fe-b9cf-741b5fdb0c7b', 'probe01'), ('fc43390d-457e-463a-9fd4-b94a0a8b48f5', 'probe01'), ('64e3fb86-928c-4079-865c-b364205b502e', 'probe01'), ('288bfbf3-3700-4abe-b6e4-130b5c541e61', 'probe01'), ('0802ced5-33a3-405e-8336-b65ebc5cb07c', 'probe01'), ('72982282-e493-45ee-87ce-aa45cb3a3ec1', 'probe01'), ('15948667-747b-4702-9d53-354ac70e9119', 'probe01'), ('86b6ba67-c1db-4333-add0-f8105ea6e363', 'probe01'), ('88224abb-5746-431f-9c17-17d7ef806e6a', 'probe01'), ('a4a74102-2af5-45dc-9e41-ef7f5aed88be', 'probe01'), ('72cb5550-43b4-4ef0-add5-e4adfdfb5e02', 'probe01'), ('91a3353a-2da1-420d-8c7c-fad2fedfdd18', 'probe01'), ('ee212778-3903-4f5b-ac4b-a72f22debf03', 'probe01'), ('ac7d3064-7f09-48a3-88d2-e86a4eb86461', 'probe01'), ('7082d8ff-255a-47d7-a839-bf093483ec30', 'probe01'), ('fa1f26a1-eb49-4b24-917e-19f02a18ac61', 'probe01'), ('4503697e-af44-47d9-898d-4924be990240', 'probe01'), ('6ed57216-498d-48a6-b48b-a243a34710ea', 'probe01'), ('872ce8ff-9fb3-485c-be00-bc5479e0095b', 'probe01'), ('b22f694e-4a34-4142-ab9d-2556c3487086', 'probe01'), ('f359281f-6941-4bfd-90d4-940be22ed3c3', 'probe01'), ('71855308-7e54-41d7-a7a4-b042e78e3b4f', 'probe01'), ('5157810e-0fff-4bcf-b19d-32d4e39c7dfc', 'probe01'), ('1a507308-c63a-4e02-8f32-3239a07dc578', 'probe01'), ('09394481-8dd2-4d5c-9327-f2753ede92d7', 'probe01'), ('aec5d3cc-4bb2-4349-80a9-0395b76f04e2', 'probe01'), ('a9138924-4395-4981-83d1-530f6ff7c8fc', 'probe01'), ('ff96bfe1-d925-4553-94b5-bf8297adf259', 'probe01'), ('83d85891-bd75-4557-91b4-1cbb5f8bfc9d', 'probe01'), ('f88d4dd4-ccd7-400e-9035-fa00be3bcfa8', 'probe01'), ('7af49c00-63dd-4fed-b2e0-1b3bd945b20b', 'probe01'), ('2c44a360-5a56-4971-8009-f469fb59de98', 'probe01'), ('73918ae1-e4fd-4c18-b132-00cb555b1ad2', 'probe01'), ('f304211a-81b1-446f-a435-25e589fe3a5a', 'probe01'), ('952870e5-f2a7-4518-9e6d-71585460f6fe', 'probe01'), ('c728f6fd-58e2-448d-aefb-a72c637b604c', 'probe01'), ('25d1920e-a2af-4b6c-9f2e-fc6c65576544', 'probe01'), ('9545aa05-3945-4054-a5c3-a259f7209d61', 'probe01'), ('d3a2b25e-46d3-4f0b-ade6-4e32255f4c35', 'probe01'), ('0cad7ea8-8e6c-4ad1-a5c5-53fbb2df1a63', 'probe01'), ('781b35fd-e1f0-4d14-b2bb-95b7263082bb', 'probe01'), ('5285c561-80da-4563-8694-739da92e5dd0', 'probe01'), ('f1db6257-85ef-4385-b415-2d078ec75df2', 'probe01'), ('d9f0c293-df4c-410a-846d-842e47c6b502', 'probe01'), ('3638d102-e8b6-4230-8742-e548cd87a949', 'probe01'), ('a6fe44a8-07ab-49b8-81f9-e18575aa85cc', 'probe01'), ('e5c75b62-6871-4135-b3d0-f6464c2d90c0', 'probe01'), ('571d3ffe-54a5-473d-a265-5dc373eb7efc', 'probe01'), ('9468fa93-21ae-4984-955c-e8402e280c83', 'probe01'), ('aa3432cd-62bd-40bc-bc1c-a12d53bcbdcf', 'probe01'), ('dfbe628d-365b-461c-a07f-8b9911ba83aa', 'probe01'), ('69c9a415-f7fa-4208-887b-1417c1479b48', 'probe01'), ('0ac8d013-b91e-4732-bc7b-a1164ff3e445', 'probe01'), ('c4432264-e1ae-446f-8a07-6280abade813', 'probe01'), ('d7e60cc3-6020-429e-a654-636c6cc677ea', 'probe01'), ('360eac0c-7d2d-4cc1-9dcf-79fc7afc56e7', 'probe01'), ('81a1dca0-cc90-47c5-afe3-c277319c47c8', 'probe01'), ('875c1e5c-f7ec-45ac-ab82-ecfe7276a707', 'probe01'), ('dac3a4c1-b666-4de0-87e8-8c514483cacf', 'probe01'), ('07dc4b76-5b93-4a03-82a0-b3d9cc73f412', 'probe01'), ('493170a6-fd94-4ee4-884f-cc018c17eeb9', 'probe01'), ('8c552ddc-813e-4035-81cc-3971b57efe65', 'probe01'), ('75b6b132-d998-4fba-8482-961418ac957d', 'probe01'), ('239cdbb1-68e2-4eb0-91d8-ae5ae4001c7a', 'probe01'), ('5d6aa933-4b00-4e99-ae2d-5003657592e9', 'probe01'), ('09b2c4d1-058d-4c84-9fd4-97530f85baf6', 'probe01'), ('f84045b0-ce09-4ace-9d11-5ea491620707', 'probe01'), ('7cb81727-2097-4b52-b480-c89867b5b34c', 'probe01'), ('5b609f9b-75cb-43d3-9c39-b5b4b7a0db67', 'probe01'), ('22e04698-b974-4805-b241-3b547dbf37bf', 'probe01'), ('746d1902-fa59-4cab-b0aa-013be36060d5', 'probe01'), ('1928bf72-2002-46a6-8930-728420402e01', 'probe01'), ('7416f387-b302-4ca3-8daf-03b585a1b7ec', 'probe01'), ('45ef6691-7b80-4a43-bd1a-85fc00851ae8', 'probe01'), ('e8b4fda3-7fe4-4706-8ec2-91036cfee6bd', 'probe01'), ('671c7ea7-6726-4fbe-adeb-f89c2c8e489b', 'probe01'), ('eebacd5a-7dcd-4ba6-9dff-ec2a4d2f19e0', 'probe01'), ('6c6983ef-7383-4989-9183-32b1a300d17a', 'probe01'), ('91796ceb-e314-4859-9a1f-092f85cc846a', 'probe01'), ('2e22c1fc-eec6-4856-85a0-7dba8668f646', 'probe01'), ('56b57c38-2699-4091-90a8-aba35103155e', 'probe01'), ('948fd27b-507b-41b3-bdf8-f9f5f0af8e0b', 'probe01'), ('e012d3e3-fdbc-4661-9ffa-5fa284e4e706', 'probe01'), ('26aa51ff-968c-42e4-85c8-8ff47d19254d', 'probe01'), ('9fe512b8-92a8-4642-83b6-01158ab66c3c', 'probe01'), ('a52f5a1b-7f45-4f2c-89a9-fb199d2a0d63', 'probe01'), ('9eec761e-9762-4897-b308-a3a08c311e69', 'probe01'), ('f7335a49-4a98-46d2-a8ce-d041d2eac1d6', 'probe01'), ('4a45c8ba-db6f-4f11-9403-56e06a33dfa4', 'probe01'), ('4ecb5d24-f5cc-402c-be28-9d0f7cb14b3a', 'probe01'), ('c7bd79c9-c47e-4ea5-aea3-74dda991b48e', 'probe01'), ('fece187f-b47f-4870-a1d6-619afe942a7d', 'probe01'), ('6f09ba7e-e3ce-44b0-932b-c003fb44fb89', 'probe01'), ('993c7024-0abc-4028-ad30-d397ad55b084', 'probe01'), ('f3ce3197-d534-4618-bf81-b687555d1883', 'probe01'), ('251ece37-7798-477c-8a06-2845d4aa270c', 'probe01'), ('5522ac4b-0e41-4c53-836a-aaa17e82b9eb', 'probe01'), ('aa20388b-9ea3-4506-92f1-3c2be84b85db', 'probe01'), ('fcd49e34-f07b-441c-b2ac-cb8c462ec5ac', 'probe01'), ('c3d9b6fb-7fa9-4413-a364-92a54df0fc5d', 'probe01'), ('1ec23a70-b94b-4e9c-a0df-8c2151da3761', 'probe01'), ('d23a44ef-1402-4ed7-97f5-47e9a7a504d9', 'probe01'), ('5339812f-8b91-40ba-9d8f-a559563cc46b', 'probe01'), ('768a371d-7e88-47f8-bf21-4a6a6570dd6e', 'probe01'), ('ebe2efe3-e8a1-451a-8947-76ef42427cc9', 'probe01'), ('b69b86be-af7d-4ecf-8cbf-0cd356afa1bd', 'probe01'), ('edd22318-216c-44ff-bc24-49ce8be78374', 'probe01'), ('626126d5-eecf-4e9b-900e-ec29a17ece07', 'probe01'), ('49e0ab27-827a-4c91-bcaa-97eea27a1b8d', 'probe01'), ('81a78eac-9d36-4f90-a73a-7eb3ad7f770b', 'probe01'), ('5adab0b7-dfd0-467d-b09d-43cb7ca5d59c', 'probe01'), ('5d01d14e-aced-4465-8f8e-9a1c674f62ec', 'probe01'), ('7f6b86f9-879a-4ea2-8531-294a221af5d0', 'probe01'), ('8c33abef-3d3e-4d42-9f27-445e9def08f9', 'probe01'), ('c557324b-b95d-414c-888f-6ee1329a2329', 'probe01'), ('280ee768-f7b8-4c6c-9ea0-48ca75d6b6f3', 'probe01'), ('ff48aa1d-ef30-4903-ac34-8c41b738c1b9', 'probe01'), ('03063955-2523-47bd-ae57-f7489dd40f15', 'probe01'), ('1e45d992-c356-40e1-9be1-a506d944896f', 'probe01'), ('4d8c7767-981c-4347-8e5e-5d5fffe38534', 'probe01'), ('6274dda8-3a59-4aa1-95f8-a8a549c46a26', 'probe01'), ('41872d7f-75cb-4445-bb1a-132b354c44f0', 'probe01'), ('fe1fd79f-b051-411f-a0a9-2530a02cc78d', 'probe01'), ('934dd7a4-fbdc-459c-8830-04fe9033bc28', 'probe01'), ('549caacc-3bd7-40f1-913d-e94141816547', 'probe01'), ('20c112a1-8a42-44e0-a4cd-e5b932f7bda9', 'probe01'), ('f8041c1e-5ef4-4ae6-afec-ed82d7a74dc1', 'probe01'), ('d832d9f7-c96a-4f63-8921-516ba4a7b61f', 'probe01'), ('4ddb8a95-788b-48d0-8a0a-66c7c796da96', 'probe01'), ('b39752db-abdb-47ab-ae78-e8608bbf50ed', 'probe01'), ('ee8b36de-779f-4dea-901f-e0141c95722b', 'probe01'), ('f9860a11-24d3-452e-ab95-39e199f20a93', 'probe01'), ('bd456d8f-d36e-434a-8051-ff3997253802', 'probe01'), ('b658bc7d-07cd-4203-8a25-7b16b549851b', 'probe01'), ('862ade13-53cd-4221-a3fa-dda8643641f2', 'probe01'), ('7622da34-51b6-4661-98ae-a57d40806008', 'probe01'), ('4720c98a-a305-4fba-affb-bbfa00a724a4', 'probe01'), ('f25642c6-27a5-4a97-9ea0-06652db79fbd', 'probe01'), ('28741f91-c837-4147-939e-918d38d849f2', 'probe01'), ('fb70ebf7-8175-42b0-9b7a-7c6e8612226e', 'probe01'), ('f312aaec-3b6f-44b3-86b4-3a0c119c0438', 'probe01'), ('8207abc6-6b23-4762-92b4-82e05bed5143', 'probe01'), ('6a601cc5-7b79-4c75-b0e8-552246532f82', 'probe01'), ('a82800ce-f4e3-4464-9b80-4c3d6fade333', 'probe01'), ('a66f1593-dafd-4982-9b66-f9554b6c86b5', 'probe01'), ('41431f53-69fd-4e3b-80ce-ea62e03bf9c7', 'probe01'), ('1eac875c-feaa-4a30-b148-059b954b11d8', 'probe01'), ('8db36de1-8f17-4446-b527-b5d91909b45a', 'probe01'), ('da188f2c-553c-4e04-879b-c9ea2d1b9a93', 'probe01'), ('03cf52f6-fba6-4743-a42e-dd1ac3072343', 'probe01'), ('5b44c40f-80f4-44fb-abfb-c7f19e27a6ca', 'probe01'), ('7be8fec4-406b-4e74-8548-d2885dcc3d5e', 'probe01'), ('6364ff7f-6471-415a-ab9e-632a12052690', 'probe01'), ('e535fb62-e245-4a48-b119-88ce62a6fe67', 'probe01'), ('f10efe41-0dc0-44d0-8f26-5ff68dca23e9', 'probe01'), ('1191f865-b10a-45c8-9c48-24a980fd9402', 'probe01'), ('2e6e179c-fccc-4e8f-9448-ce5b6858a183', 'probe01'), ('37e96d0b-5b4b-4c6e-9b29-7edbdc94bbd0', 'probe01'), ('d16a9a8d-5f42-4b49-ba58-1746f807fcc1', 'probe01'), ('dda5fc59-f09a-4256-9fb5-66c67667a466', 'probe01'), ('57b5ae8f-d446-4161-b439-b191c5e3e77b', 'probe01'), ('d2f5a130-b981-4546-8858-c94ae1da75ff', 'probe01'), ('7939711b-8b4d-4251-b698-b97c1eaa846e', 'probe01'), ('46794e05-3f6a-4d35-afb3-9165091a5a74', 'probe01'), ('fa704052-147e-46f6-b190-a65b837e605e', 'probe01'), ('dfd8e7df-dc51-4589-b6ca-7baccfeb94b4', 'probe01'), ('034e726f-b35f-41e0-8d6c-a22cc32391fb', 'probe01'), ('56956777-dca5-468c-87cb-78150432cc57', 'probe01'), ('4b00df29-3769-43be-bb40-128b1cba6d35', 'probe01'), ('83e77b4b-dfa0-4af9-968b-7ea0c7a0c7e4', 'probe01'), ('0cbeae00-e229-4b7d-bdcc-1b0569d7e0c3', 'probe01'), ('3663d82b-f197-4e8b-b299-7b803a155b84', 'probe01'), ('38d95489-2e82-412a-8c1a-c5377b5f1555', 'probe01'), ('a71175be-d1fd-47a3-aa93-b830ea3634a1', 'probe01'), ('572a95d1-39ca-42e1-8424-5c9ffcb2df87', 'probe01'), ('ecb5520d-1358-434c-95ec-93687ecd1396', 'probe01'), ('810b1e07-009e-4ebe-930a-915e4cd8ece4', 'probe01'), ('f8d5c8b0-b931-4151-b86c-c471e2e80e5d', 'probe01'), ('ee40aece-cffd-4edb-a4b6-155f158c666a', 'probe01'), ('465c44bd-2e67-4112-977b-36e1ac7e3f8c', 'probe01'), ('ff4187b5-4176-4e39-8894-53a24b7cf36b', 'probe01'), ('032ffcdf-7692-40b3-b9ff-8def1fc18b2e', 'probe01'), ('259927fd-7563-4b03-bc5d-17b4d0fa7a55', 'probe01'), ('a8a8af78-16de-4841-ab07-fde4b5281a03', 'probe01'), ('2d5f6d81-38c4-4bdc-ac3c-302ea4d5f46e', 'probe01'), ('cb2ad999-a6cb-42ff-bf71-1774c57e5308', 'probe01'), ('d33baf74-263c-4b37-a0d0-b79dcb80a764', 'probe01'), ('d839491f-55d8-4cbe-a298-7839208ba12b', 'probe01'), ('4b7fbad4-f6de-43b4-9b15-c7c7ef44db4b', 'probe01'), ('614e1937-4b24-4ad3-9055-c8253d089919', 'probe01'), ('aad23144-0e52-4eac-80c5-c4ee2decb198', 'probe01'), ('15f742e1-1043-45c9-9504-f1e8a53c1744', 'probe01'), ('dd87e278-999d-478b-8cbd-b5bf92b84763', 'probe01'), ('a92c4b1d-46bd-457e-a1f4-414265f0e2d4', 'probe01'), ('16c3667b-e0ea-43fb-9ad4-8dcd1e6c40e1', 'probe01'), ('cc45c568-c3b9-4f74-836e-c87762e898c8', 'probe01'), ('a4000c2f-fa75-4b3e-8f06-a7cf599b87ad', 'probe01'), ('6cf2a88a-515b-4f7f-89a2-7d53eab9b5f4', 'probe01'), ('e1931de1-cf7b-49af-af33-2ade15e8abe7', 'probe01'), ('ebe090af-5922-4fcd-8fc6-17b8ba7bad6d', 'probe01'), ('16693458-0801-4d35-a3f1-9115c7e5acfd', 'probe01'), ('dd4da095-4a99-4bf3-9727-f735077dba66', 'probe01'), ('5139ce2c-7d52-44bf-8129-692d61dd6403', 'probe01')]\n"
     ]
    }
   ],
   "source": [
    "print(eids)"
   ]
  },
  {
   "cell_type": "code",
   "execution_count": 29,
   "id": "a28a409d",
   "metadata": {},
   "outputs": [],
   "source": [
    "mlapdv_arr=np.load('mlapdv_concat.npy')"
   ]
  },
  {
   "cell_type": "code",
   "execution_count": 30,
   "id": "19217da8",
   "metadata": {},
   "outputs": [
    {
     "name": "stdout",
     "output_type": "stream",
     "text": [
      "(570, 3)\n"
     ]
    }
   ],
   "source": [
    "print(mlapdv_arr.shape)"
   ]
  },
  {
   "cell_type": "code",
   "execution_count": 41,
   "id": "0836145c",
   "metadata": {},
   "outputs": [
    {
     "data": {
      "text/plain": [
       "(570, 2)"
      ]
     },
     "execution_count": 41,
     "metadata": {},
     "output_type": "execute_result"
    }
   ],
   "source": [
    " from sklearn.manifold import TSNE\n",
    "X_embedded = TSNE(n_components=2, learning_rate='auto', init='random', perplexity=20).fit_transform(mlapdv_arr)\n",
    "X_embedded.shape"
   ]
  },
  {
   "cell_type": "code",
   "execution_count": 42,
   "id": "faf951b1",
   "metadata": {
    "scrolled": true
   },
   "outputs": [
    {
     "data": {
      "text/plain": [
       "<matplotlib.collections.PathCollection at 0x7f344df64460>"
      ]
     },
     "execution_count": 42,
     "metadata": {},
     "output_type": "execute_result"
    },
    {
     "data": {
      "image/png": "[encoded data removed]",
      "text/plain": [
       "<Figure size 640x480 with 1 Axes>"
      ]
     },
     "metadata": {},
     "output_type": "display_data"
    }
   ],
   "source": [
    "plt.scatter(X_embedded[:,0],X_embedded[:,1])"
   ]
  },
  {
   "cell_type": "code",
   "execution_count": 71,
   "id": "324bb9f5",
   "metadata": {},
   "outputs": [
    {
     "name": "stdout",
     "output_type": "stream",
     "text": [
      "     Unnamed: 0          x          y\n",
      "0             0   2.601706  28.310337\n",
      "1             1  10.368959  34.017273\n",
      "2             2  11.625181  -5.732035\n",
      "3             3  23.132694  24.187487\n",
      "4             4   7.784159 -15.410160\n",
      "..          ...        ...        ...\n",
      "565         565  -6.723525 -21.601269\n",
      "566         566  17.607590   2.106455\n",
      "567         567   9.406892 -17.577390\n",
      "568         568   7.536542  36.849636\n",
      "569         569  15.424816 -19.987366\n",
      "\n",
      "[570 rows x 3 columns]\n",
      "0       2.601706\n",
      "1      10.368959\n",
      "2      11.625181\n",
      "3      23.132694\n",
      "4       7.784159\n",
      "         ...    \n",
      "565    -6.723525\n",
      "566    17.607590\n",
      "567     9.406892\n",
      "568     7.536542\n",
      "569    15.424816\n",
      "Name: x, Length: 570, dtype: float64\n",
      "[[  0.          2.6017058  28.310337 ]\n",
      " [  1.         10.368959   34.017273 ]\n",
      " [  2.         11.625181   -5.732035 ]\n",
      " ...\n",
      " [567.          9.406892  -17.57739  ]\n",
      " [568.          7.5365424  36.849636 ]\n",
      " [569.         15.424816  -19.987366 ]]\n"
     ]
    }
   ],
   "source": [
    "import pandas as pd\n",
    "\n",
    "X_embedded=pd.read_csv('probe_insertion_embeddings.csv')\n",
    "print(X_embedded)\n",
    "X_embedded.drop(columns='Unnamed: 0',inplace=True)\n",
    "print(X_embedded.iloc[:,0])\n",
    "X_embedded=np.hstack((np.arange(0,X_embedded.shape[0]).reshape(-1,1),X_embedded))\n",
    "print(X_embedded)\n",
    "\n",
    "emb_df=pd.DataFrame(X_embedded,columns=['index','x','y'])"
   ]
  },
  {
   "cell_type": "code",
   "execution_count": 73,
   "id": "ec1de3d0",
   "metadata": {
    "scrolled": true
   },
   "outputs": [
    {
     "data": {
      "text/html": [
       "<div>\n",
       "<style scoped>\n",
       "    .dataframe tbody tr th:only-of-type {\n",
       "        vertical-align: middle;\n",
       "    }\n",
       "\n",
       "    .dataframe tbody tr th {\n",
       "        vertical-align: top;\n",
       "    }\n",
       "\n",
       "    .dataframe thead th {\n",
       "        text-align: right;\n",
       "    }\n",
       "</style>\n",
       "<table border=\"1\" class=\"dataframe\">\n",
       "  <thead>\n",
       "    <tr style=\"text-align: right;\">\n",
       "      <th></th>\n",
       "      <th>index</th>\n",
       "      <th>x</th>\n",
       "      <th>y</th>\n",
       "    </tr>\n",
       "  </thead>\n",
       "  <tbody>\n",
       "    <tr>\n",
       "      <th>0</th>\n",
       "      <td>0.0</td>\n",
       "      <td>2.601706</td>\n",
       "      <td>28.310337</td>\n",
       "    </tr>\n",
       "    <tr>\n",
       "      <th>1</th>\n",
       "      <td>1.0</td>\n",
       "      <td>10.368959</td>\n",
       "      <td>34.017273</td>\n",
       "    </tr>\n",
       "    <tr>\n",
       "      <th>2</th>\n",
       "      <td>2.0</td>\n",
       "      <td>11.625181</td>\n",
       "      <td>-5.732035</td>\n",
       "    </tr>\n",
       "    <tr>\n",
       "      <th>3</th>\n",
       "      <td>3.0</td>\n",
       "      <td>23.132694</td>\n",
       "      <td>24.187487</td>\n",
       "    </tr>\n",
       "    <tr>\n",
       "      <th>4</th>\n",
       "      <td>4.0</td>\n",
       "      <td>7.784159</td>\n",
       "      <td>-15.410160</td>\n",
       "    </tr>\n",
       "    <tr>\n",
       "      <th>...</th>\n",
       "      <td>...</td>\n",
       "      <td>...</td>\n",
       "      <td>...</td>\n",
       "    </tr>\n",
       "    <tr>\n",
       "      <th>565</th>\n",
       "      <td>565.0</td>\n",
       "      <td>-6.723525</td>\n",
       "      <td>-21.601269</td>\n",
       "    </tr>\n",
       "    <tr>\n",
       "      <th>566</th>\n",
       "      <td>566.0</td>\n",
       "      <td>17.607590</td>\n",
       "      <td>2.106455</td>\n",
       "    </tr>\n",
       "    <tr>\n",
       "      <th>567</th>\n",
       "      <td>567.0</td>\n",
       "      <td>9.406892</td>\n",
       "      <td>-17.577390</td>\n",
       "    </tr>\n",
       "    <tr>\n",
       "      <th>568</th>\n",
       "      <td>568.0</td>\n",
       "      <td>7.536542</td>\n",
       "      <td>36.849636</td>\n",
       "    </tr>\n",
       "    <tr>\n",
       "      <th>569</th>\n",
       "      <td>569.0</td>\n",
       "      <td>15.424816</td>\n",
       "      <td>-19.987366</td>\n",
       "    </tr>\n",
       "  </tbody>\n",
       "</table>\n",
       "<p>570 rows × 3 columns</p>\n",
       "</div>"
      ],
      "text/plain": [
       "     index          x          y\n",
       "0      0.0   2.601706  28.310337\n",
       "1      1.0  10.368959  34.017273\n",
       "2      2.0  11.625181  -5.732035\n",
       "3      3.0  23.132694  24.187487\n",
       "4      4.0   7.784159 -15.410160\n",
       "..     ...        ...        ...\n",
       "565  565.0  -6.723525 -21.601269\n",
       "566  566.0  17.607590   2.106455\n",
       "567  567.0   9.406892 -17.577390\n",
       "568  568.0   7.536542  36.849636\n",
       "569  569.0  15.424816 -19.987366\n",
       "\n",
       "[570 rows x 3 columns]"
      ]
     },
     "execution_count": 73,
     "metadata": {},
     "output_type": "execute_result"
    }
   ],
   "source": [
    "emb_df"
   ]
  },
  {
   "cell_type": "code",
   "execution_count": 72,
   "id": "4be99a17",
   "metadata": {},
   "outputs": [],
   "source": [
    "emb_df.to_csv('probe_insertion_embeddings_index.csv')"
   ]
  },
  {
   "cell_type": "code",
   "execution_count": null,
   "id": "a04234e5",
   "metadata": {},
   "outputs": [],
   "source": []
  }
 ],
 "metadata": {
  "kernelspec": {
   "display_name": "Python 3 (ipykernel)",
   "language": "python",
   "name": "python3"
  },
  "language_info": {
   "codemirror_mode": {
    "name": "ipython",
    "version": 3
   },
   "file_extension": ".py",
   "mimetype": "text/x-python",
   "name": "python",
   "nbconvert_exporter": "python",
   "pygments_lexer": "ipython3",
   "version": "3.9.13"
  }
 },
 "nbformat": 4,
 "nbformat_minor": 5
}
